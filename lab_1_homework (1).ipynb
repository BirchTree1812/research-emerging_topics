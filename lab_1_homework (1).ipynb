{
  "cells": [
    {
      "cell_type": "markdown",
      "metadata": {
        "id": "5cTEfHh0tP-J"
      },
      "source": [
        "# Geospatial Data Analysis Lab: Steel Plants Dataset\n",
        "\n",
        "\n",
        "**(15/10/2025) Learning Objectives:**\n",
        "- Perform exploratory data analysis (EDA) on geospatial datasets\n",
        "- Visualize geospatial data using interactive maps with Plotly\n",
        "- Merge environmental data with asset locations\n",
        "- Aggregate data at the company level\n",
        "- Integrate geospatial visualizations into a Streamlit dashboard\n",
        "\n",
        "---\n"
      ]
    },
    {
      "cell_type": "markdown",
      "metadata": {
        "id": "ytdidfSptP-N"
      },
      "source": [
        "## Part 1: Setup and Data Loading\n",
        "\n",
        "Import the necessary libraries and load the steel plants dataset.\n"
      ]
    },
    {
      "cell_type": "code",
      "execution_count": 33,
      "metadata": {
        "id": "bXm0vzIqtP-O"
      },
      "outputs": [],
      "source": [
        "# Import required libraries\n",
        "# - pandas for data manipulation\n",
        "# - numpy for numerical operations\n",
        "# - plotly.express and plotly.graph_objects for interactive visualizations\n",
        "# - Any other libraries you might need\n",
        "\n",
        "import pandas as pd\n",
        "import numpy as np\n",
        "import plotly.express as px\n",
        "import plotly.graph_objects as go\n",
        "import geopandas as gpd\n",
        "from shapely.geometry import Point\n",
        "from geopy.distance import great_circle\n",
        "import folium\n",
        "import streamlit as st"
      ]
    },
    {
      "cell_type": "code",
      "execution_count": 2,
      "metadata": {
        "id": "ZuSq6o5jtP-P"
      },
      "outputs": [],
      "source": [
        "# Load the steel plants dataset\n",
        "# Expected columns: plant_id, plant_name, company, latitude, longitude, capacity, year_built, etc.\n",
        "\n",
        "# Download the global iron and steel plant tracker dataset"
      ]
    },
    {
      "cell_type": "markdown",
      "metadata": {
        "id": "9CcQxQ_mtP-P"
      },
      "source": [
        "---\n",
        "## Part 2: Exploratory Data Analysis (15 minutes)\n",
        "\n",
        "Answer the following questions through your analysis:\n"
      ]
    },
    {
      "cell_type": "markdown",
      "metadata": {
        "id": "_llba8FItP-P"
      },
      "source": [
        "### Question 1: Data Overview\n",
        "**Task:** Display basic information about the dataset.\n",
        "- How many steel plants are in the dataset?\n",
        "- What are the column names and data types?\n",
        "- Are there any missing values?\n"
      ]
    },
    {
      "cell_type": "code",
      "execution_count": 3,
      "metadata": {
        "colab": {
          "base_uri": "https://localhost:8080/",
          "height": 585
        },
        "id": "8mMQTc9itP-P",
        "outputId": "9453a2f1-1421-425c-df60-ff44d97424a4"
      },
      "outputs": [
        {
          "data": {
            "text/html": [
              "<div>\n",
              "<style scoped>\n",
              "    .dataframe tbody tr th:only-of-type {\n",
              "        vertical-align: middle;\n",
              "    }\n",
              "\n",
              "    .dataframe tbody tr th {\n",
              "        vertical-align: top;\n",
              "    }\n",
              "\n",
              "    .dataframe thead th {\n",
              "        text-align: right;\n",
              "    }\n",
              "</style>\n",
              "<table border=\"1\" class=\"dataframe\">\n",
              "  <thead>\n",
              "    <tr style=\"text-align: right;\">\n",
              "      <th></th>\n",
              "      <th>Plant ID</th>\n",
              "      <th>Plant name (English)</th>\n",
              "      <th>Plant name (other language)</th>\n",
              "      <th>Other plant names (English)</th>\n",
              "      <th>Other plant names (other language)</th>\n",
              "      <th>Owner</th>\n",
              "      <th>Owner (other language)</th>\n",
              "      <th>Owner GEM ID</th>\n",
              "      <th>Owner PermID</th>\n",
              "      <th>SOE Status</th>\n",
              "      <th>...</th>\n",
              "      <th>Steel products</th>\n",
              "      <th>Steel sector end users</th>\n",
              "      <th>Workforce size</th>\n",
              "      <th>ISO 14001</th>\n",
              "      <th>ISO 50001</th>\n",
              "      <th>ResponsibleSteel Certification</th>\n",
              "      <th>Main production equipment</th>\n",
              "      <th>Power source</th>\n",
              "      <th>Iron ore source</th>\n",
              "      <th>Met coal source</th>\n",
              "    </tr>\n",
              "  </thead>\n",
              "  <tbody>\n",
              "    <tr>\n",
              "      <th>0</th>\n",
              "      <td>P100000120004</td>\n",
              "      <td>Kurum International Elbasan steel plant</td>\n",
              "      <td>Kurum Kombinati metalurgjik</td>\n",
              "      <td>NaN</td>\n",
              "      <td>NaN</td>\n",
              "      <td>Kurum International ShA</td>\n",
              "      <td>NaN</td>\n",
              "      <td>E100000130992</td>\n",
              "      <td>5037939021</td>\n",
              "      <td>NaN</td>\n",
              "      <td>...</td>\n",
              "      <td>billet, wire rod, rebar</td>\n",
              "      <td>unknown</td>\n",
              "      <td>1000</td>\n",
              "      <td>Yes</td>\n",
              "      <td>unknown</td>\n",
              "      <td>No</td>\n",
              "      <td>EAF</td>\n",
              "      <td>Hydraulic, integrated plants; Four hydropower ...</td>\n",
              "      <td>unknown</td>\n",
              "      <td>unknown</td>\n",
              "    </tr>\n",
              "    <tr>\n",
              "      <th>1</th>\n",
              "      <td>P100000120439</td>\n",
              "      <td>Algerian Qatari Steel Jijel plant</td>\n",
              "      <td>الجزائرية القطرية للصلب</td>\n",
              "      <td>AQS</td>\n",
              "      <td>NaN</td>\n",
              "      <td>Algerian Qatari Steel</td>\n",
              "      <td>NaN</td>\n",
              "      <td>E100001000957</td>\n",
              "      <td>5076384326</td>\n",
              "      <td>Partial</td>\n",
              "      <td>...</td>\n",
              "      <td>billet, wire rod, rebar</td>\n",
              "      <td>unknown</td>\n",
              "      <td>2400</td>\n",
              "      <td>Yes</td>\n",
              "      <td>unknown</td>\n",
              "      <td>No</td>\n",
              "      <td>EAF; DRI</td>\n",
              "      <td>unknown</td>\n",
              "      <td>unknown</td>\n",
              "      <td>unknown</td>\n",
              "    </tr>\n",
              "    <tr>\n",
              "      <th>2</th>\n",
              "      <td>P100000120442</td>\n",
              "      <td>ETRHB Annaba steel plant</td>\n",
              "      <td>NaN</td>\n",
              "      <td>NaN</td>\n",
              "      <td>NaN</td>\n",
              "      <td>ETRHB Industrie SpA</td>\n",
              "      <td>NaN</td>\n",
              "      <td>E100001010275</td>\n",
              "      <td>5074513855</td>\n",
              "      <td>NaN</td>\n",
              "      <td>...</td>\n",
              "      <td>unknown</td>\n",
              "      <td>unknown</td>\n",
              "      <td>2000</td>\n",
              "      <td>unknown</td>\n",
              "      <td>unknown</td>\n",
              "      <td>No</td>\n",
              "      <td>EAF</td>\n",
              "      <td>unknown</td>\n",
              "      <td>unknown</td>\n",
              "      <td>unknown</td>\n",
              "    </tr>\n",
              "    <tr>\n",
              "      <th>3</th>\n",
              "      <td>P100000121198</td>\n",
              "      <td>Ozmert Algeria steel plant</td>\n",
              "      <td>NaN</td>\n",
              "      <td>NaN</td>\n",
              "      <td>NaN</td>\n",
              "      <td>Ozmert Algeria SARL</td>\n",
              "      <td>NaN</td>\n",
              "      <td>E100001012196</td>\n",
              "      <td>unknown</td>\n",
              "      <td>NaN</td>\n",
              "      <td>...</td>\n",
              "      <td>unknown</td>\n",
              "      <td>unknown</td>\n",
              "      <td>unknown</td>\n",
              "      <td>unknown</td>\n",
              "      <td>unknown</td>\n",
              "      <td>No</td>\n",
              "      <td>EAF; DRI</td>\n",
              "      <td>unknown</td>\n",
              "      <td>Alwaznah and Bu Khadhrah mines</td>\n",
              "      <td>Bechar</td>\n",
              "    </tr>\n",
              "    <tr>\n",
              "      <th>4</th>\n",
              "      <td>P100000120440</td>\n",
              "      <td>Sider El Hadjar Annaba steel plant</td>\n",
              "      <td>مركب الحجار للحديد والصلب</td>\n",
              "      <td>ArcelorMittal Annaba (predecessor), El Hadjar ...</td>\n",
              "      <td>NaN</td>\n",
              "      <td>Groupe Industriel Sider SpA</td>\n",
              "      <td>NaN</td>\n",
              "      <td>E100001000960</td>\n",
              "      <td>5000941519</td>\n",
              "      <td>Full</td>\n",
              "      <td>...</td>\n",
              "      <td>coil, rebar, sheet</td>\n",
              "      <td>unknown</td>\n",
              "      <td>5748</td>\n",
              "      <td>unknown</td>\n",
              "      <td>unknown</td>\n",
              "      <td>No</td>\n",
              "      <td>BF; BOF; EAF; DRI</td>\n",
              "      <td>unknown</td>\n",
              "      <td>unknown</td>\n",
              "      <td>unknown</td>\n",
              "    </tr>\n",
              "  </tbody>\n",
              "</table>\n",
              "<p>5 rows × 44 columns</p>\n",
              "</div>"
            ],
            "text/plain": [
              "        Plant ID                     Plant name (English)  \\\n",
              "0  P100000120004  Kurum International Elbasan steel plant   \n",
              "1  P100000120439        Algerian Qatari Steel Jijel plant   \n",
              "2  P100000120442                 ETRHB Annaba steel plant   \n",
              "3  P100000121198               Ozmert Algeria steel plant   \n",
              "4  P100000120440       Sider El Hadjar Annaba steel plant   \n",
              "\n",
              "   Plant name (other language)  \\\n",
              "0  Kurum Kombinati metalurgjik   \n",
              "1      الجزائرية القطرية للصلب   \n",
              "2                          NaN   \n",
              "3                          NaN   \n",
              "4    مركب الحجار للحديد والصلب   \n",
              "\n",
              "                         Other plant names (English)  \\\n",
              "0                                                NaN   \n",
              "1                                                AQS   \n",
              "2                                                NaN   \n",
              "3                                                NaN   \n",
              "4  ArcelorMittal Annaba (predecessor), El Hadjar ...   \n",
              "\n",
              "  Other plant names (other language)                        Owner  \\\n",
              "0                                NaN      Kurum International ShA   \n",
              "1                                NaN        Algerian Qatari Steel   \n",
              "2                                NaN          ETRHB Industrie SpA   \n",
              "3                                NaN          Ozmert Algeria SARL   \n",
              "4                                NaN  Groupe Industriel Sider SpA   \n",
              "\n",
              "  Owner (other language)   Owner GEM ID Owner PermID SOE Status  ...  \\\n",
              "0                    NaN  E100000130992   5037939021        NaN  ...   \n",
              "1                    NaN  E100001000957   5076384326    Partial  ...   \n",
              "2                    NaN  E100001010275   5074513855        NaN  ...   \n",
              "3                    NaN  E100001012196      unknown        NaN  ...   \n",
              "4                    NaN  E100001000960   5000941519       Full  ...   \n",
              "\n",
              "            Steel products Steel sector end users Workforce size ISO 14001  \\\n",
              "0  billet, wire rod, rebar                unknown           1000       Yes   \n",
              "1  billet, wire rod, rebar                unknown           2400       Yes   \n",
              "2                  unknown                unknown           2000   unknown   \n",
              "3                  unknown                unknown        unknown   unknown   \n",
              "4       coil, rebar, sheet                unknown           5748   unknown   \n",
              "\n",
              "  ISO 50001 ResponsibleSteel Certification Main production equipment  \\\n",
              "0   unknown                             No                       EAF   \n",
              "1   unknown                             No                  EAF; DRI   \n",
              "2   unknown                             No                       EAF   \n",
              "3   unknown                             No                  EAF; DRI   \n",
              "4   unknown                             No         BF; BOF; EAF; DRI   \n",
              "\n",
              "                                        Power source  \\\n",
              "0  Hydraulic, integrated plants; Four hydropower ...   \n",
              "1                                            unknown   \n",
              "2                                            unknown   \n",
              "3                                            unknown   \n",
              "4                                            unknown   \n",
              "\n",
              "                  Iron ore source Met coal source  \n",
              "0                         unknown         unknown  \n",
              "1                         unknown         unknown  \n",
              "2                         unknown         unknown  \n",
              "3  Alwaznah and Bu Khadhrah mines          Bechar  \n",
              "4                         unknown         unknown  \n",
              "\n",
              "[5 rows x 44 columns]"
            ]
          },
          "execution_count": 3,
          "metadata": {},
          "output_type": "execute_result"
        }
      ],
      "source": [
        "# Display dataset shape\n",
        "\n",
        "# Define the file path\n",
        "file_path = \"data/Plant-level-data-Global-Iron-and-Steel-Tracker-September-2025-V1.xlsx\"\n",
        "\n",
        "# Read the sheet named \"Plant data\"\n",
        "df = pd.read_excel(file_path, sheet_name=\"Plant data\")\n",
        "\n",
        "# Display the first few rows\n",
        "df.head()\n"
      ]
    },
    {
      "cell_type": "code",
      "execution_count": 4,
      "metadata": {
        "colab": {
          "base_uri": "https://localhost:8080/"
        },
        "id": "83INQXGWtP-P",
        "outputId": "5c5ce177-9dbd-4357-ad55-64e4e89f9fd6"
      },
      "outputs": [
        {
          "name": "stdout",
          "output_type": "stream",
          "text": [
            "<class 'pandas.core.frame.DataFrame'>\n",
            "RangeIndex: 1209 entries, 0 to 1208\n",
            "Data columns (total 44 columns):\n",
            " #   Column                              Non-Null Count  Dtype \n",
            "---  ------                              --------------  ----- \n",
            " 0   Plant ID                            1209 non-null   object\n",
            " 1   Plant name (English)                1209 non-null   object\n",
            " 2   Plant name (other language)         697 non-null    object\n",
            " 3   Other plant names (English)         702 non-null    object\n",
            " 4   Other plant names (other language)  287 non-null    object\n",
            " 5   Owner                               1209 non-null   object\n",
            " 6   Owner (other language)              554 non-null    object\n",
            " 7   Owner GEM ID                        1209 non-null   object\n",
            " 8   Owner PermID                        1209 non-null   object\n",
            " 9   SOE Status                          202 non-null    object\n",
            " 10  Parent                              1209 non-null   object\n",
            " 11  Parent GEM ID                       1209 non-null   object\n",
            " 12  Parent PermID                       1209 non-null   object\n",
            " 13  Location address                    1209 non-null   object\n",
            " 14  Municipality                        1209 non-null   object\n",
            " 15  Subnational unit (province/state)   1209 non-null   object\n",
            " 16  Country/Area                        1209 non-null   object\n",
            " 17  Region                              1209 non-null   object\n",
            " 18  Other language location address     445 non-null    object\n",
            " 19  Coordinates                         1209 non-null   object\n",
            " 20  Coordinate accuracy                 1208 non-null   object\n",
            " 21  GEM wiki page                       1209 non-null   object\n",
            " 22  Plant age (years)                   1142 non-null   object\n",
            " 23  Announced date                      1209 non-null   object\n",
            " 24  Construction date                   1209 non-null   object\n",
            " 25  Start date                          1209 non-null   object\n",
            " 26  Pre-retirement announcement date    1209 non-null   object\n",
            " 27  Idled date                          1209 non-null   object\n",
            " 28  Retired date                        1209 non-null   object\n",
            " 29  Ferronickel capacity (ttpa)         584 non-null    object\n",
            " 30  Sinter plant capacity (ttpa)        725 non-null    object\n",
            " 31  Coking plant capacity (ttpa)        594 non-null    object\n",
            " 32  Pelletizing plant capacity (ttpa)   718 non-null    object\n",
            " 33  Category steel product              1209 non-null   object\n",
            " 34  Steel products                      1209 non-null   object\n",
            " 35  Steel sector end users              1209 non-null   object\n",
            " 36  Workforce size                      1209 non-null   object\n",
            " 37  ISO 14001                           1209 non-null   object\n",
            " 38  ISO 50001                           1209 non-null   object\n",
            " 39  ResponsibleSteel Certification      1209 non-null   object\n",
            " 40  Main production equipment           1209 non-null   object\n",
            " 41  Power source                        1209 non-null   object\n",
            " 42  Iron ore source                     1208 non-null   object\n",
            " 43  Met coal source                     1209 non-null   object\n",
            "dtypes: object(44)\n",
            "memory usage: 415.7+ KB\n"
          ]
        }
      ],
      "source": [
        "# Display column information and data types\n",
        "df.info()"
      ]
    },
    {
      "cell_type": "code",
      "execution_count": 5,
      "metadata": {
        "colab": {
          "base_uri": "https://localhost:8080/"
        },
        "id": "tWTQykwxtP-P",
        "outputId": "9debe89e-256a-429a-fd1d-95079bbeb2cb"
      },
      "outputs": [
        {
          "name": "stdout",
          "output_type": "stream",
          "text": [
            "Missing values per column: SOE Status                            1007\n",
            "Other plant names (other language)     922\n",
            "Other language location address        764\n",
            "Owner (other language)                 655\n",
            "Ferronickel capacity (ttpa)            625\n",
            "Coking plant capacity (ttpa)           615\n",
            "Plant name (other language)            512\n",
            "Other plant names (English)            507\n",
            "Pelletizing plant capacity (ttpa)      491\n",
            "Sinter plant capacity (ttpa)           484\n",
            "Plant age (years)                       67\n",
            "Coordinate accuracy                      1\n",
            "Iron ore source                          1\n",
            "Parent GEM ID                            0\n",
            "Owner PermID                             0\n",
            "Parent                                   0\n",
            "Owner                                    0\n",
            "Plant ID                                 0\n",
            "Plant name (English)                     0\n",
            "Owner GEM ID                             0\n",
            "Coordinates                              0\n",
            "Region                                   0\n",
            "GEM wiki page                            0\n",
            "Parent PermID                            0\n",
            "Subnational unit (province/state)        0\n",
            "Country/Area                             0\n",
            "Municipality                             0\n",
            "Location address                         0\n",
            "Idled date                               0\n",
            "Pre-retirement announcement date         0\n",
            "Start date                               0\n",
            "Construction date                        0\n",
            "Announced date                           0\n",
            "Retired date                             0\n",
            "Steel products                           0\n",
            "Category steel product                   0\n",
            "Steel sector end users                   0\n",
            "Workforce size                           0\n",
            "ISO 50001                                0\n",
            "ISO 14001                                0\n",
            "ResponsibleSteel Certification           0\n",
            "Main production equipment                0\n",
            "Power source                             0\n",
            "Met coal source                          0\n",
            "dtype: int64\n"
          ]
        }
      ],
      "source": [
        "# Check for missing values\n",
        "\n",
        "missing_values = df.isnull().sum().sort_values(ascending=False)\n",
        "print(\"Missing values per column:\" , missing_values)\n"
      ]
    },
    {
      "cell_type": "markdown",
      "metadata": {
        "id": "zsy7dgCntP-Q"
      },
      "source": [
        "### Question 2: Statistical Summary\n",
        "**Task:** Generate descriptive statistics for numerical columns.\n",
        "- What is the average plant capacity?\n",
        "- What is the range of latitudes and longitudes?\n",
        "- What is the distribution of plant ages?\n"
      ]
    },
    {
      "cell_type": "code",
      "execution_count": 6,
      "metadata": {
        "colab": {
          "base_uri": "https://localhost:8080/",
          "height": 346
        },
        "id": "iZ7Y9vkKtP-Q",
        "outputId": "a26f7e8c-3e4b-4bd8-c7d3-96556131d9d0"
      },
      "outputs": [
        {
          "data": {
            "text/html": [
              "<div>\n",
              "<style scoped>\n",
              "    .dataframe tbody tr th:only-of-type {\n",
              "        vertical-align: middle;\n",
              "    }\n",
              "\n",
              "    .dataframe tbody tr th {\n",
              "        vertical-align: top;\n",
              "    }\n",
              "\n",
              "    .dataframe thead th {\n",
              "        text-align: right;\n",
              "    }\n",
              "</style>\n",
              "<table border=\"1\" class=\"dataframe\">\n",
              "  <thead>\n",
              "    <tr style=\"text-align: right;\">\n",
              "      <th></th>\n",
              "      <th>Plant ID</th>\n",
              "      <th>Plant name (English)</th>\n",
              "      <th>Plant name (other language)</th>\n",
              "      <th>Other plant names (English)</th>\n",
              "      <th>Other plant names (other language)</th>\n",
              "      <th>Owner</th>\n",
              "      <th>Owner (other language)</th>\n",
              "      <th>Owner GEM ID</th>\n",
              "      <th>Owner PermID</th>\n",
              "      <th>SOE Status</th>\n",
              "      <th>...</th>\n",
              "      <th>Steel products</th>\n",
              "      <th>Steel sector end users</th>\n",
              "      <th>Workforce size</th>\n",
              "      <th>ISO 14001</th>\n",
              "      <th>ISO 50001</th>\n",
              "      <th>ResponsibleSteel Certification</th>\n",
              "      <th>Main production equipment</th>\n",
              "      <th>Power source</th>\n",
              "      <th>Iron ore source</th>\n",
              "      <th>Met coal source</th>\n",
              "    </tr>\n",
              "  </thead>\n",
              "  <tbody>\n",
              "    <tr>\n",
              "      <th>count</th>\n",
              "      <td>1209</td>\n",
              "      <td>1209</td>\n",
              "      <td>697</td>\n",
              "      <td>702</td>\n",
              "      <td>287</td>\n",
              "      <td>1209</td>\n",
              "      <td>554</td>\n",
              "      <td>1209</td>\n",
              "      <td>1209</td>\n",
              "      <td>202</td>\n",
              "      <td>...</td>\n",
              "      <td>1209</td>\n",
              "      <td>1209</td>\n",
              "      <td>1209</td>\n",
              "      <td>1209</td>\n",
              "      <td>1209</td>\n",
              "      <td>1209</td>\n",
              "      <td>1209</td>\n",
              "      <td>1209</td>\n",
              "      <td>1208</td>\n",
              "      <td>1209</td>\n",
              "    </tr>\n",
              "    <tr>\n",
              "      <th>unique</th>\n",
              "      <td>1209</td>\n",
              "      <td>1209</td>\n",
              "      <td>688</td>\n",
              "      <td>697</td>\n",
              "      <td>284</td>\n",
              "      <td>988</td>\n",
              "      <td>506</td>\n",
              "      <td>988</td>\n",
              "      <td>525</td>\n",
              "      <td>2</td>\n",
              "      <td>...</td>\n",
              "      <td>679</td>\n",
              "      <td>48</td>\n",
              "      <td>648</td>\n",
              "      <td>329</td>\n",
              "      <td>238</td>\n",
              "      <td>24</td>\n",
              "      <td>40</td>\n",
              "      <td>373</td>\n",
              "      <td>145</td>\n",
              "      <td>74</td>\n",
              "    </tr>\n",
              "    <tr>\n",
              "      <th>top</th>\n",
              "      <td>P100000120004</td>\n",
              "      <td>Kurum International Elbasan steel plant</td>\n",
              "      <td>包头市大安钢铁有限责任公司</td>\n",
              "      <td>Meijin Steel Company</td>\n",
              "      <td>新兴铸管新疆有限公司</td>\n",
              "      <td>Nucor Corp</td>\n",
              "      <td>日本製鉄株式会社</td>\n",
              "      <td>E100001010181</td>\n",
              "      <td>unknown</td>\n",
              "      <td>Partial</td>\n",
              "      <td>...</td>\n",
              "      <td>unknown</td>\n",
              "      <td>unknown</td>\n",
              "      <td>unknown</td>\n",
              "      <td>unknown</td>\n",
              "      <td>unknown</td>\n",
              "      <td>No</td>\n",
              "      <td>EAF</td>\n",
              "      <td>unknown</td>\n",
              "      <td>unknown</td>\n",
              "      <td>unknown</td>\n",
              "    </tr>\n",
              "    <tr>\n",
              "      <th>freq</th>\n",
              "      <td>1</td>\n",
              "      <td>1</td>\n",
              "      <td>2</td>\n",
              "      <td>2</td>\n",
              "      <td>2</td>\n",
              "      <td>13</td>\n",
              "      <td>10</td>\n",
              "      <td>13</td>\n",
              "      <td>485</td>\n",
              "      <td>149</td>\n",
              "      <td>...</td>\n",
              "      <td>132</td>\n",
              "      <td>558</td>\n",
              "      <td>242</td>\n",
              "      <td>416</td>\n",
              "      <td>725</td>\n",
              "      <td>1173</td>\n",
              "      <td>469</td>\n",
              "      <td>779</td>\n",
              "      <td>1048</td>\n",
              "      <td>1121</td>\n",
              "    </tr>\n",
              "  </tbody>\n",
              "</table>\n",
              "<p>4 rows × 44 columns</p>\n",
              "</div>"
            ],
            "text/plain": [
              "             Plant ID                     Plant name (English)  \\\n",
              "count            1209                                     1209   \n",
              "unique           1209                                     1209   \n",
              "top     P100000120004  Kurum International Elbasan steel plant   \n",
              "freq                1                                        1   \n",
              "\n",
              "       Plant name (other language) Other plant names (English)  \\\n",
              "count                          697                         702   \n",
              "unique                         688                         697   \n",
              "top                  包头市大安钢铁有限责任公司        Meijin Steel Company   \n",
              "freq                             2                           2   \n",
              "\n",
              "       Other plant names (other language)       Owner Owner (other language)  \\\n",
              "count                                 287        1209                    554   \n",
              "unique                                284         988                    506   \n",
              "top                            新兴铸管新疆有限公司  Nucor Corp               日本製鉄株式会社   \n",
              "freq                                    2          13                     10   \n",
              "\n",
              "         Owner GEM ID Owner PermID SOE Status  ... Steel products  \\\n",
              "count            1209         1209        202  ...           1209   \n",
              "unique            988          525          2  ...            679   \n",
              "top     E100001010181      unknown    Partial  ...        unknown   \n",
              "freq               13          485        149  ...            132   \n",
              "\n",
              "       Steel sector end users Workforce size ISO 14001 ISO 50001  \\\n",
              "count                    1209           1209      1209      1209   \n",
              "unique                     48            648       329       238   \n",
              "top                   unknown        unknown   unknown   unknown   \n",
              "freq                      558            242       416       725   \n",
              "\n",
              "       ResponsibleSteel Certification Main production equipment Power source  \\\n",
              "count                            1209                      1209         1209   \n",
              "unique                             24                        40          373   \n",
              "top                                No                       EAF      unknown   \n",
              "freq                             1173                       469          779   \n",
              "\n",
              "       Iron ore source Met coal source  \n",
              "count             1208            1209  \n",
              "unique             145              74  \n",
              "top            unknown         unknown  \n",
              "freq              1048            1121  \n",
              "\n",
              "[4 rows x 44 columns]"
            ]
          },
          "execution_count": 6,
          "metadata": {},
          "output_type": "execute_result"
        }
      ],
      "source": [
        "# Display descriptive statistics\n",
        "df.describe()\n"
      ]
    },
    {
      "cell_type": "code",
      "execution_count": 7,
      "metadata": {
        "colab": {
          "base_uri": "https://localhost:8080/"
        },
        "id": "KpMq6VRI1LL0",
        "outputId": "eed6060e-7d29-44a2-b08f-33433624bdab"
      },
      "outputs": [
        {
          "name": "stdout",
          "output_type": "stream",
          "text": [
            "Latitude range: (np.float64(-37.831379), np.float64(67.189096))\n",
            "Longitude range: (np.float64(-123.163599), np.float64(174.728098))\n",
            "Average plant age: 39.53 years\n"
          ]
        }
      ],
      "source": [
        "df[['Latitude', 'Longitude']] = df['Coordinates'].str.split(',', expand=True)\n",
        "df['Latitude'] = pd.to_numeric(df['Latitude'], errors='coerce')\n",
        "df['Longitude'] = pd.to_numeric(df['Longitude'], errors='coerce')\n",
        "numeric_cols = ['Plant age (years)', 'Workforce size']\n",
        "for col in numeric_cols:\n",
        "    if col in df.columns:\n",
        "        df[col] = pd.to_numeric(df[col], errors='coerce')\n",
        "\n",
        "# Range of latitudes and longitudes\n",
        "lat_range = (df['Latitude'].min(), df['Latitude'].max())\n",
        "lon_range = (df['Longitude'].min(), df['Longitude'].max())\n",
        "print(f\"Latitude range: {lat_range}\")\n",
        "print(f\"Longitude range: {lon_range}\")\n",
        "\n",
        "# Average plant age\n",
        "if 'Plant age (years)' in df.columns:\n",
        "    avg_age = df['Plant age (years)'].mean()\n",
        "    print(f\"Average plant age: {avg_age:.2f} years\")"
      ]
    },
    {
      "cell_type": "markdown",
      "metadata": {
        "id": "zehOWcaNtP-Q"
      },
      "source": [
        "\n",
        "### Question 3: Geographic Distribution\n",
        "**Task:** Analyze the geographic distribution of steel plants.\n",
        "- Which countries/regions have the most steel plants?\n",
        "- What is the distribution of plants by company?\n"
      ]
    },
    {
      "cell_type": "code",
      "execution_count": 8,
      "metadata": {
        "colab": {
          "base_uri": "https://localhost:8080/"
        },
        "id": "sqqRb99mtP-Q",
        "outputId": "b04e5d5e-4a70-4473-a401-27a6cafae8f3"
      },
      "outputs": [
        {
          "name": "stdout",
          "output_type": "stream",
          "text": [
            "Country/Area\n",
            "China            404\n",
            "India            108\n",
            "United States     87\n",
            "Iran              47\n",
            "Japan             42\n",
            "                ... \n",
            "Qatar              1\n",
            "Sri Lanka          1\n",
            "Slovenia           1\n",
            "Singapore          1\n",
            "Uganda             1\n",
            "Name: count, Length: 89, dtype: int64\n"
          ]
        }
      ],
      "source": [
        "# Count plants by country/region\n",
        "\n",
        "if 'Country/Area' in df.columns:\n",
        "    plants_by_country = df['Country/Area'].value_counts()\n",
        "    print(plants_by_country)\n"
      ]
    },
    {
      "cell_type": "code",
      "execution_count": 9,
      "metadata": {
        "colab": {
          "base_uri": "https://localhost:8080/"
        },
        "id": "HQkPLAVrtP-Q",
        "outputId": "8a316677-0666-487a-f629-8c7624f5986b"
      },
      "outputs": [
        {
          "name": "stdout",
          "output_type": "stream",
          "text": [
            "Parent\n",
            "Nucor Corp [100.0%]              20\n",
            "ArcelorMittal SA [100.0%]        19\n",
            "Nippon Steel Corp [100.0%]       18\n",
            "Cleveland-Cliffs Inc [100.0%]    12\n",
            "JSW Steel Ltd [100.0%]           11\n",
            "GFG Alliance Ltd                 11\n",
            "Gerdau SA [98.2%]                 8\n",
            "JFE Holdings Inc [100.0%]         8\n",
            "Commercial Metals Co [100.0%]     8\n",
            "Riva Forni Elettrici SpA          8\n",
            "Name: count, dtype: int64\n"
          ]
        }
      ],
      "source": [
        "# Count plants by company\n",
        "\n",
        "if 'Parent' in df.columns:\n",
        "    plants_by_companies = df['Parent'].value_counts().head(10)\n",
        "    print(plants_by_companies)"
      ]
    },
    {
      "cell_type": "markdown",
      "metadata": {
        "id": "XPhxKCcbtP-Q"
      },
      "source": [
        "### Question 4: Capacity Analysis\n",
        "**Task:** Analyze the capacity distribution.\n",
        "- What is the total global steel production capacity?\n",
        "- Which companies have the highest total capacity?\n",
        "- How does capacity vary by region?\n"
      ]
    },
    {
      "cell_type": "code",
      "execution_count": 10,
      "metadata": {
        "colab": {
          "base_uri": "https://localhost:8080/"
        },
        "id": "Lkx85MdctP-Q",
        "outputId": "1745af25-7034-4160-e8e1-8d07096f7d20"
      },
      "outputs": [
        {
          "name": "stdout",
          "output_type": "stream",
          "text": [
            "Total Ferronickel capacity (ttpa): 9634.00\n",
            "Total Sinter plant capacity (ttpa): 785142.00\n",
            "Total Coking plant capacity (ttpa): 229667.00\n",
            "Total Pelletizing plant capacity (ttpa): 379800.00\n"
          ]
        }
      ],
      "source": [
        "# Calculate total capacity\n",
        "\n",
        "# Convert capacity columns if they exist\n",
        "capacity_cols = [col for col in df.columns if 'capacity' in col.lower()]\n",
        "for col in capacity_cols:\n",
        "    df[col] = pd.to_numeric(df[col], errors='coerce')\n",
        "\n",
        "# Calculate total capacities (if available)\n",
        "for col in capacity_cols:\n",
        "    total = df[col].sum(skipna=True)\n",
        "    print(f\"Total {col}: {total:.2f}\")\n"
      ]
    },
    {
      "cell_type": "code",
      "execution_count": 11,
      "metadata": {
        "colab": {
          "base_uri": "https://localhost:8080/"
        },
        "id": "oIt2WeGptP-Q",
        "outputId": "a1175b0e-5c9d-4035-8650-75990ab37660"
      },
      "outputs": [
        {
          "name": "stdout",
          "output_type": "stream",
          "text": [
            "Parents by Capacity: Parent\n",
            "Guangxi Beibu Gulf International Port Group Co Ltd [100.0%]                                                                                                                                                       3400.0\n",
            "Baobab Steel Ltd [100.0%]                                                                                                                                                                                         2500.0\n",
            "Jiangsu Delong Nickel Industry Co Ltd [100.0%]                                                                                                                                                                    1000.0\n",
            "Shanghai Decent Investment (Group) Co Ltd [34.7%]; TSINGSHAN Holding Group Co Ltd [30.5%]; unknown [26.1%]; Zhejiang Qingshan Business Management Co Ltd [8.7%]                                                   1000.0\n",
            "MSP Steel & Power Ltd [100.0%]                                                                                                                                                                                     300.0\n",
            "Guangdong Guangxin Holdings Group Ltd [48.9%]; Shanghai Decent Investment (Group) Co Ltd [17.0%]; unknown [16.9%]; TSINGSHAN Holding Group Co Ltd [13.4%]; Zhejiang Qingshan Business Management Co Ltd [3.8%]     300.0\n",
            "Shanghai Decent Investment (Group) Co Ltd [36.4%]; unknown [20.4%]; TSINGSHAN Holding Group Co Ltd [19.8%]; Zhejiang Qingshan Business Management Co Ltd [15.6%]; DELIXI Group Limited Co [7.8%]                   300.0\n",
            "Jindal Stainless Ltd [100.0%]                                                                                                                                                                                      250.0\n",
            "JSW Ispat Special Products Ltd [100.0%]                                                                                                                                                                            220.0\n",
            "West Alborz Steel Co [100.0%]                                                                                                                                                                                      150.0\n",
            "Guangxi Liuzhou Iron and Steel Group Co Ltd [100.0%]                                                                                                                                                               100.0\n",
            "Jindal Steel & Power Ltd [100.0%]                                                                                                                                                                                   60.0\n",
            "POSCO Holdings Inc [100.0%]                                                                                                                                                                                         54.0\n",
            "Premium Steel and Mines Ltd [100.0%]                                                                                                                                                                                 0.0\n",
            "QazSpetsSteel LLC [100.0%]                                                                                                                                                                                           0.0\n",
            "Name: Ferronickel capacity (ttpa), dtype: float64\n"
          ]
        }
      ],
      "source": [
        "# Group by company and sum capacity\n",
        "if capacity_cols:\n",
        "    main_cap_col = capacity_cols[0]\n",
        "    capacity_by_parent = df.groupby('Parent')[main_cap_col].sum().sort_values(ascending=False).head(15)\n",
        "    print(\"Parents by Capacity:\", capacity_by_parent)"
      ]
    },
    {
      "cell_type": "markdown",
      "metadata": {
        "id": "V5efm_iOtP-Q"
      },
      "source": [
        "---\n",
        "## Part 3: Geospatial Visualization with Plotly (15 minutes)\n",
        "\n",
        "Create interactive maps to visualize the steel plants' locations and characteristics.\n"
      ]
    },
    {
      "cell_type": "markdown",
      "metadata": {
        "id": "yiEfYy0gtP-Q"
      },
      "source": [
        "### Exercise 1: Basic Scatter Map\n",
        "**Task:** Create a scatter map showing all steel plant locations.\n",
        "- Use latitude and longitude for positioning\n",
        "- Color points by country or region\n",
        "- Add hover information showing plant name, company, and capacity\n"
      ]
    },
    {
      "cell_type": "code",
      "execution_count": 12,
      "metadata": {
        "colab": {
          "base_uri": "https://localhost:8080/",
          "height": 542
        },
        "id": "koVKBDIftP-Q",
        "outputId": "be4d7581-9d99-4477-ab69-ae52f57e450a"
      },
      "outputs": [
        {
          "data": {
            "application/vnd.plotly.v1+json": {
              "config": {
                "plotlyServerURL": "https://plot.ly"
              },
              "data": [
                {
                  "customdata": [
                    [
                      "Kurum International ShA",
                      27
                    ]
                  ],
                  "geo": "geo",
                  "hovertemplate": "<b>%{hovertext}</b><br><br>Country/Area=Albania<br>Latitude=%{lat}<br>Longitude=%{lon}<br>Owner=%{customdata[0]}<br>Plant age (years)=%{customdata[1]}<extra></extra>",
                  "hovertext": [
                    "Kurum International Elbasan steel plant"
                  ],
                  "lat": {
                    "bdata": "wmuXNhyMREA=",
                    "dtype": "f8"
                  },
                  "legendgroup": "Albania",
                  "lon": {
                    "bdata": "oN6Mmq8GNEA=",
                    "dtype": "f8"
                  },
                  "marker": {
                    "color": "#000001",
                    "symbol": "circle"
                  },
                  "mode": "markers",
                  "name": "Albania",
                  "showlegend": true,
                  "type": "scattergeo"
                },
                {
                  "customdata": [
                    [
                      "Algerian Qatari Steel",
                      8
                    ],
                    [
                      "ETRHB Industrie SpA",
                      null
                    ],
                    [
                      "Ozmert Algeria SARL",
                      null
                    ],
                    [
                      "Groupe Industriel Sider SpA",
                      56
                    ],
                    [
                      "Tosyali Ironsteel Industry Algerie SpA",
                      12
                    ]
                  ],
                  "geo": "geo",
                  "hovertemplate": "<b>%{hovertext}</b><br><br>Country/Area=Algeria<br>Latitude=%{lat}<br>Longitude=%{lon}<br>Owner=%{customdata[0]}<br>Plant age (years)=%{customdata[1]}<extra></extra>",
                  "hovertext": [
                    "Algerian Qatari Steel Jijel plant",
                    "ETRHB Annaba steel plant",
                    "Ozmert Algeria steel plant",
                    "Sider El Hadjar Annaba steel plant",
                    "Tosyali Algerie Oran steel plant"
                  ],
                  "lat": {
                    "bdata": "z7pGy4FgQkDqsS0DzmpCQIVCBBxCvUFA/gxv1uBlQkAHDJI+reJBQA==",
                    "dtype": "f8"
                  },
                  "legendgroup": "Algeria",
                  "lon": {
                    "bdata": "CvSJPEn6GECnkZbK29EdQFH3AUht4uO/D0jCvp3UHkAkY7X5f9XQvw==",
                    "dtype": "f8"
                  },
                  "marker": {
                    "color": "#000002",
                    "symbol": "circle"
                  },
                  "mode": "markers",
                  "name": "Algeria",
                  "showlegend": true,
                  "type": "scattergeo"
                },
                {
                  "customdata": [
                    [
                      "Ada - Aceria De Angola SA",
                      10
                    ],
                    [
                      "Companhia Siderurgica do Cuchi SA",
                      2.03
                    ],
                    [
                      "Sonangol EP; Tosyali Iron and Steel Angola SA",
                      null
                    ]
                  ],
                  "geo": "geo",
                  "hovertemplate": "<b>%{hovertext}</b><br><br>Country/Area=Angola<br>Latitude=%{lat}<br>Longitude=%{lon}<br>Owner=%{customdata[0]}<br>Plant age (years)=%{customdata[1]}<extra></extra>",
                  "hovertext": [
                    "Aceria Angola Bengo steel plant",
                    "Companhia Siderurgica do Cuchi pig iron plant",
                    "Tosyali Sonangol Kassinga Iron and Steel Plant"
                  ],
                  "lat": {
                    "bdata": "fGEyVTAqIcA58dWO4kwtwA0Zj1IJhy7A",
                    "dtype": "f8"
                  },
                  "legendgroup": "Angola",
                  "lon": {
                    "bdata": "0Qg2rn/PKkA7+8qD9OwwQJAV/DbEEDBA",
                    "dtype": "f8"
                  },
                  "marker": {
                    "color": "#000003",
                    "symbol": "circle"
                  },
                  "mode": "markers",
                  "name": "Angola",
                  "showlegend": true,
                  "type": "scattergeo"
                },
                {
                  "customdata": [
                    [
                      "Acindar Industria Argentina de Aceros SA",
                      79
                    ],
                    [
                      "Sipar Aceros SA",
                      8
                    ],
                    [
                      "Siderca SAIC",
                      65.13
                    ],
                    [
                      "Ternium Argentina SA",
                      65
                    ]
                  ],
                  "geo": "geo",
                  "hovertemplate": "<b>%{hovertext}</b><br><br>Country/Area=Argentina<br>Latitude=%{lat}<br>Longitude=%{lon}<br>Owner=%{customdata[0]}<br>Plant age (years)=%{customdata[1]}<extra></extra>",
                  "hovertext": [
                    "ArcelorMittal Acindar Villa Constitución steel plant",
                    "Gerdau Sipar Pérez steel plant",
                    "TenarisSiderca Campana steel plant",
                    "Ternium Siderar San Nicolás steel plant"
                  ],
                  "lat": {
                    "bdata": "6Qsh5/2fQMAiWRu+4H5AwN9vtOOGE0HAQBNhw9OvQMA=",
                    "dtype": "f8"
                  },
                  "legendgroup": "Argentina",
                  "lon": {
                    "bdata": "Kh2s/3MmTsBfp6LCImFOwF3AywwbfU3A04bD0sARTsA=",
                    "dtype": "f8"
                  },
                  "marker": {
                    "color": "#000004",
                    "symbol": "circle"
                  },
                  "mode": "markers",
                  "name": "Argentina",
                  "showlegend": true,
                  "type": "scattergeo"
                },
                {
                  "customdata": [
                    [
                      "BlueScope Steel Ltd",
                      97
                    ],
                    [
                      "Fortescue Ltd",
                      0
                    ],
                    [
                      "Infrabuild Australia Pty Ltd",
                      33
                    ],
                    [
                      "GFG Alliance Ltd",
                      84
                    ],
                    [
                      "Infrabuild Australia Pty Ltd",
                      43
                    ],
                    [
                      "Green Steel of WA Pty Ltd",
                      null
                    ],
                    [
                      "Green Steel of WA Pty Ltd",
                      null
                    ],
                    [
                      "H2gs AB",
                      null
                    ],
                    [
                      "Port Hedland Iron Pty Ltd",
                      null
                    ]
                  ],
                  "geo": "geo",
                  "hovertemplate": "<b>%{hovertext}</b><br><br>Country/Area=Australia<br>Latitude=%{lat}<br>Longitude=%{lon}<br>Owner=%{customdata[0]}<br>Plant age (years)=%{customdata[1]}<extra></extra>",
                  "hovertext": [
                    "BlueScope Port Kembla steel plant",
                    "Fortescue Christmas Creek Green Metal Project",
                    "GFG Liberty Laverton Steel Mill",
                    "GFG Liberty Steel Australia Whyalla steel plant",
                    "GFG Liberty Sydney Steel Mill",
                    "Green Steel of WA Collie Steel plant",
                    "Green Steel of WA Geraldton Steel plant",
                    "GreenSteel Australia New South Wales Steel Plant",
                    "POSCO Port Hedland Iron Project"
                  ],
                  "lat": {
                    "bdata": "7WKa6V47QcC7KeW1EmY2wGTKh6Bq6kLAFRqIZTOBQMBZNJ2dDOJAwBGmKJfGq0DADK1OzlDEPMBsBrggWztBwNS19j5VZTTA",
                    "dtype": "f8"
                  },
                  "legendgroup": "Australia",
                  "lon": {
                    "bdata": "TmA6rVvcYkAGE38Ude5dQBPXMa44GWJAK21xjc8yYUCfkJ23MdtiQHLdlPJaD11ARbjJqDKzXEBWIpqKXtxiQDPEsS5uol1A",
                    "dtype": "f8"
                  },
                  "marker": {
                    "color": "#000005",
                    "symbol": "circle"
                  },
                  "mode": "markers",
                  "name": "Australia",
                  "showlegend": true,
                  "type": "scattergeo"
                },
                {
                  "customdata": [
                    [
                      "Voestalpine Stahl Donawitz GmbH",
                      147
                    ],
                    [
                      "Voestalpine Stahl GmbH",
                      85
                    ]
                  ],
                  "geo": "geo",
                  "hovertemplate": "<b>%{hovertext}</b><br><br>Country/Area=Austria<br>Latitude=%{lat}<br>Longitude=%{lon}<br>Owner=%{customdata[0]}<br>Plant age (years)=%{customdata[1]}<extra></extra>",
                  "hovertext": [
                    "Voestalpine Stahl Donawitz steel plant",
                    "Voestalpine Stahl Linz steel plant"
                  ],
                  "lat": {
                    "bdata": "wkzbv7KwR0AIrYcvEyNIQA==",
                    "dtype": "f8"
                  },
                  "legendgroup": "Austria",
                  "lon": {
                    "bdata": "ZJP8iF8hLkBBfcucLqssQA==",
                    "dtype": "f8"
                  },
                  "marker": {
                    "color": "#000006",
                    "symbol": "circle"
                  },
                  "mode": "markers",
                  "name": "Austria",
                  "showlegend": true,
                  "type": "scattergeo"
                },
                {
                  "customdata": [
                    [
                      "Azerbaijan Integrated Steel Mill Complex",
                      null
                    ],
                    [
                      "Baku Steel Company QSC",
                      24
                    ]
                  ],
                  "geo": "geo",
                  "hovertemplate": "<b>%{hovertext}</b><br><br>Country/Area=Azerbaijan<br>Latitude=%{lat}<br>Longitude=%{lon}<br>Owner=%{customdata[0]}<br>Plant age (years)=%{customdata[1]}<extra></extra>",
                  "hovertext": [
                    "Azerbaijan Integrated Steel Mill Complex",
                    "Baku Steel Company steel plant"
                  ],
                  "lat": {
                    "bdata": "Qlw5e2dcREC6ZvLNNjdEQA==",
                    "dtype": "f8"
                  },
                  "legendgroup": "Azerbaijan",
                  "lon": {
                    "bdata": "c58cBYguR0Bpc5zbhPFIQA==",
                    "dtype": "f8"
                  },
                  "marker": {
                    "color": "#000007",
                    "symbol": "circle"
                  },
                  "mode": "markers",
                  "name": "Azerbaijan",
                  "showlegend": true,
                  "type": "scattergeo"
                },
                {
                  "customdata": [
                    [
                      "Sulb Company BSCC",
                      13
                    ]
                  ],
                  "geo": "geo",
                  "hovertemplate": "<b>%{hovertext}</b><br><br>Country/Area=Bahrain<br>Latitude=%{lat}<br>Longitude=%{lon}<br>Owner=%{customdata[0]}<br>Plant age (years)=%{customdata[1]}<extra></extra>",
                  "hovertext": [
                    "Sulb Bahrain Al Hidd steel plant"
                  ],
                  "lat": {
                    "bdata": "EqPnFroyOkA=",
                    "dtype": "f8"
                  },
                  "legendgroup": "Bahrain",
                  "lon": {
                    "bdata": "wePbuwZXSUA=",
                    "dtype": "f8"
                  },
                  "marker": {
                    "color": "#000008",
                    "symbol": "circle"
                  },
                  "mode": "markers",
                  "name": "Bahrain",
                  "showlegend": true,
                  "type": "scattergeo"
                },
                {
                  "customdata": [
                    [
                      "Abul Khair Steel Ltd",
                      10
                    ],
                    [
                      "Bashundhara Multi Steel Industries Ltd",
                      null
                    ],
                    [
                      "Bangladesh Steel Re-Rolling Mills Ltd",
                      9.28
                    ],
                    [
                      "BSRM Steels Ltd",
                      6
                    ],
                    [
                      "GPH Ispat Ltd",
                      17.05
                    ],
                    [
                      "KSRM Steel Plant Ltd",
                      41
                    ],
                    [
                      "Meghna Re-rolling and Steel Mills Ltd",
                      null
                    ],
                    [
                      "Star Infrastructure Development Corp",
                      2
                    ],
                    [
                      "Unitex Steel Mills Ltd",
                      null
                    ]
                  ],
                  "geo": "geo",
                  "hovertemplate": "<b>%{hovertext}</b><br><br>Country/Area=Bangladesh<br>Latitude=%{lat}<br>Longitude=%{lon}<br>Owner=%{customdata[0]}<br>Plant age (years)=%{customdata[1]}<extra></extra>",
                  "hovertext": [
                    "Abul Khair Steel Sitakunda plant",
                    "Bashundhara Steel Mirsarai plant",
                    "BSRM Ltd Mirsarai plant",
                    "BSRM Steels Mirsarai plant",
                    "GPH Steel Sitakunda plant",
                    "KSRM Sitakunda steel plant",
                    "Megnha Re-rolling and Steel Mills steel plant",
                    "Star Consortium steel plant",
                    "Unitex Steel Mills Feni steel plant"
                  ],
                  "lat": {
                    "bdata": "S3MrhNV4NkB3u16aIrg2QD/iV6zh3jZAWRgip6/fNkAkDAOWXIk2QMpt+x71fzZAsDvdeeKVN0CH26FhMcY2QJPEknL38TZA",
                    "dtype": "f8"
                  },
                  "legendgroup": "Bangladesh",
                  "lon": {
                    "bdata": "8E3TZwfvVkAiqBq9Gt5WQESIK2fv4lZAL/zgfOriVkD2lnK+2OxWQJBMh07P7VZASgwCK4epVkDuz0VDxuRWQFH51/LK4FZA",
                    "dtype": "f8"
                  },
                  "marker": {
                    "color": "#000009",
                    "symbol": "circle"
                  },
                  "mode": "markers",
                  "name": "Bangladesh",
                  "showlegend": true,
                  "type": "scattergeo"
                },
                {
                  "customdata": [
                    [
                      "BMZ-Upravlyayushchaya Kompaniya Kholdinga BMK JSC",
                      41
                    ]
                  ],
                  "geo": "geo",
                  "hovertemplate": "<b>%{hovertext}</b><br><br>Country/Area=Belarus<br>Latitude=%{lat}<br>Longitude=%{lon}<br>Owner=%{customdata[0]}<br>Plant age (years)=%{customdata[1]}<extra></extra>",
                  "hovertext": [
                    "Byelorussian Steel Works"
                  ],
                  "lat": {
                    "bdata": "LGfvjLZsSkA=",
                    "dtype": "f8"
                  },
                  "legendgroup": "Belarus",
                  "lon": {
                    "bdata": "DDz3Hi79PUA=",
                    "dtype": "f8"
                  },
                  "marker": {
                    "color": "#000010",
                    "symbol": "circle"
                  },
                  "mode": "markers",
                  "name": "Belarus",
                  "showlegend": true,
                  "type": "scattergeo"
                },
                {
                  "customdata": [
                    [
                      "Aperam Stainless Belgium NV",
                      49
                    ],
                    [
                      "Aperam Stainless Belgium NV",
                      55
                    ],
                    [
                      "ArcelorMittal SA",
                      59
                    ],
                    [
                      "Thy-Marcinelle SA",
                      36
                    ]
                  ],
                  "geo": "geo",
                  "hovertemplate": "<b>%{hovertext}</b><br><br>Country/Area=Belgium<br>Latitude=%{lat}<br>Longitude=%{lon}<br>Owner=%{customdata[0]}<br>Plant age (years)=%{customdata[1]}<extra></extra>",
                  "hovertext": [
                    "Aperam Stainless Belgium Châtelet steel plant",
                    "Aperam Stainless Belgium Genk steel plant",
                    "ArcelorMittal Gent steel plant",
                    "Thy Marcinelle Charleroi steel plant"
                  ],
                  "lat": {
                    "bdata": "5POKpx41SUBrLGFtjHdJQC3SxDvAlUlAvLN224U0SUA=",
                    "dtype": "f8"
                  },
                  "legendgroup": "Belgium",
                  "lon": {
                    "bdata": "v+/fvDghEkChZkgVxQsWQH7/5sWJbw5A0EcZcQG4EUA=",
                    "dtype": "f8"
                  },
                  "marker": {
                    "color": "#000001",
                    "symbol": "circle"
                  },
                  "mode": "markers",
                  "name": "Belgium",
                  "showlegend": true,
                  "type": "scattergeo"
                },
                {
                  "customdata": [
                    [
                      "Empresa Siderúrgica del Mutún",
                      0.53
                    ]
                  ],
                  "geo": "geo",
                  "hovertemplate": "<b>%{hovertext}</b><br><br>Country/Area=Bolivia<br>Latitude=%{lat}<br>Longitude=%{lon}<br>Owner=%{customdata[0]}<br>Plant age (years)=%{customdata[1]}<extra></extra>",
                  "hovertext": [
                    "ESM Mutún steel plant"
                  ],
                  "lat": {
                    "bdata": "V+wvuycjM8A=",
                    "dtype": "f8"
                  },
                  "legendgroup": "Bolivia",
                  "lon": {
                    "bdata": "2NglqrfwTMA=",
                    "dtype": "f8"
                  },
                  "marker": {
                    "color": "#000002",
                    "symbol": "circle"
                  },
                  "mode": "markers",
                  "name": "Bolivia",
                  "showlegend": true,
                  "type": "scattergeo"
                },
                {
                  "customdata": [
                    [
                      "Pavgord doo",
                      133
                    ]
                  ],
                  "geo": "geo",
                  "hovertemplate": "<b>%{hovertext}</b><br><br>Country/Area=Bosnia and Herzegovina<br>Latitude=%{lat}<br>Longitude=%{lon}<br>Owner=%{customdata[0]}<br>Plant age (years)=%{customdata[1]}<extra></extra>",
                  "hovertext": [
                    "Pavgord Zenica steel plant"
                  ],
                  "lat": {
                    "bdata": "6NuCpbocRkA=",
                    "dtype": "f8"
                  },
                  "legendgroup": "Bosnia and Herzegovina",
                  "lon": {
                    "bdata": "Q3OdRlrmMUA=",
                    "dtype": "f8"
                  },
                  "marker": {
                    "color": "#000003",
                    "symbol": "circle"
                  },
                  "mode": "markers",
                  "name": "Bosnia and Herzegovina",
                  "showlegend": true,
                  "type": "scattergeo"
                },
                {
                  "customdata": [
                    [
                      "Aperam Inox America do Sul SA",
                      76
                    ],
                    [
                      "ArcelorMittal Brasil SA",
                      88
                    ],
                    [
                      "ArcelorMittal Brasil SA",
                      41
                    ],
                    [
                      "ArcelorMittal Brasil SA",
                      88
                    ],
                    [
                      "ArcelorMittal Brasil SA",
                      9
                    ],
                    [
                      "ArcelorMittal Brasil SA",
                      70
                    ],
                    [
                      "ArcelorMittal Brasil SA",
                      16
                    ],
                    [
                      "ArcelorMittal Tubarão Comercial SA",
                      42
                    ],
                    [
                      "Aco Verde do Brasil SA",
                      10
                    ],
                    [
                      "Companhia Siderúrgica Nacional SA",
                      79
                    ],
                    [
                      "Gerdau Acominas SA",
                      39
                    ],
                    [
                      "Gerdau Acos Longos SA",
                      54
                    ],
                    [
                      "Gerdau Acos Longos SA",
                      72
                    ],
                    [
                      "Gerdau Acos Longos SA",
                      43
                    ],
                    [
                      "Gerdau SA",
                      45
                    ],
                    [
                      "Gerdau Acos Longos SA",
                      19
                    ],
                    [
                      "GV do Brasil Industria e Comercio de Aço Ltda",
                      83
                    ],
                    [
                      "GV do Brasil Industria e Comercio de Aço Ltda",
                      10
                    ],
                    [
                      "Siderurgica Norte Brasil SA",
                      18
                    ],
                    [
                      "Ternium Brasil Ltda",
                      15
                    ],
                    [
                      "Usinas Siderurgicas de Minas Gerais SA",
                      62
                    ],
                    [
                      "Usinas Siderurgicas de Minas Gerais SA",
                      63
                    ],
                    [
                      "Vale SA",
                      0
                    ],
                    [
                      "Vallourec Soluções Tubulares do Brasil SA",
                      14
                    ],
                    [
                      "Andrade Valladares Engenharia e Construcao Ltda",
                      37
                    ]
                  ],
                  "geo": "geo",
                  "hovertemplate": "<b>%{hovertext}</b><br><br>Country/Area=Brazil<br>Latitude=%{lat}<br>Longitude=%{lon}<br>Owner=%{customdata[0]}<br>Plant age (years)=%{customdata[1]}<extra></extra>",
                  "hovertext": [
                    "Aperam Timóteo steel plant",
                    "ArcelorMittal Barra Mansa steel plant",
                    "ArcelorMittal Juiz de Fora steel plant",
                    "ArcelorMittal Monlevade steel plant",
                    "ArcelorMittal Pecém steel plant",
                    "ArcelorMittal Piracicaba steel plant",
                    "ArcelorMittal Resende steel plant",
                    "ArcelorMittal Tubarão steel plant",
                    "AVB Açailândia steel plant",
                    "CSN Volta Redonda steel plant",
                    "Gerdau Açominas Ouro Branco steel plant",
                    "Gerdau Cosigua Santa Cruz steel plant",
                    "Gerdau Divinópolis steel plant",
                    "Gerdau Guaíra Araucária steel plant",
                    "Gerdau Pindamonhangaba steel plant",
                    "Gerdau São Paulo Araçariguama steel plant",
                    "Simec Cariacica steel plant",
                    "Simec Pindamonhangaba steel plant",
                    "Sinobras Marabá steel plant",
                    "Ternium Brasil Santa Cruz steel plant",
                    "Usiminas Cubatão steel plant",
                    "Usiminas Ipatinga steel plant",
                    "Vale Tecnored Marabá iron plant",
                    "Vallourec Jeceaba steel plant",
                    "Viena Açailândia iron works"
                  ],
                  "lat": {
                    "bdata": "0EcZcQGIM8BjCtY4m4Y2wFPNrKWAoDXAnQ35ZwbVM8ALXYlA9a8MwFOSdTi6sjbAWmd8X1x+NsDyRBDn4UA0wIoFvqJbfxPAcOoDyTuDNsCnJVZGI4s0wJ5BQ/8E5zbAMNeiBWgnNMBnmrD9ZJA5wKA3Fakw5jbAqrcGtkpwN8CreCPzyFc0wDrKwWwC7DbAvqHw2TqoFcBc/67PnOk2wHJw6Zjz3DfA6UZYVMR9M8CyhLUxdqIVwGfvjLYqlTTAfHvXoC+NE8A=",
                    "dtype": "f8"
                  },
                  "legendgroup": "Brazil",
                  "lon": {
                    "bdata": "OpD11OpRRcAjLCridBhGwBL5LqUuu0XA647FNqmQRcBzvth78W1DwD5ZMVwd1EfAx4FXy51BRsBv8fCeAx9EwCm8uhkktEfAilkvhnIORsD4wmSqYOBFwL6iW6/p30XAfCx96IJwRsAsY0M3+7VIwAX8GkmCrEbAnu+nxkuLR8DhJqPKMC5EwDLMCdrktEbAKgDGM2iKSMC8ICI17d5FwCzX22YqMEfA/N8RFapFRcAmbhXEQI1IwPWhC+pb/EXA4PJYMzKyR8A=",
                    "dtype": "f8"
                  },
                  "marker": {
                    "color": "#000004",
                    "symbol": "circle"
                  },
                  "mode": "markers",
                  "name": "Brazil",
                  "showlegend": true,
                  "type": "scattergeo"
                },
                {
                  "customdata": [
                    [
                      "Stomana Industry AD",
                      67
                    ]
                  ],
                  "geo": "geo",
                  "hovertemplate": "<b>%{hovertext}</b><br><br>Country/Area=Bulgaria<br>Latitude=%{lat}<br>Longitude=%{lon}<br>Owner=%{customdata[0]}<br>Plant age (years)=%{customdata[1]}<extra></extra>",
                  "hovertext": [
                    "Stomana Industry Pernik steel plant"
                  ],
                  "lat": {
                    "bdata": "TMYxkj1MRUA=",
                    "dtype": "f8"
                  },
                  "legendgroup": "Bulgaria",
                  "lon": {
                    "bdata": "z2vsEtUXN0A=",
                    "dtype": "f8"
                  },
                  "marker": {
                    "color": "#000005",
                    "symbol": "circle"
                  },
                  "mode": "markers",
                  "name": "Bulgaria",
                  "showlegend": true,
                  "type": "scattergeo"
                },
                {
                  "customdata": [
                    [
                      "Cambodia Iron & Steel Mining Industry Group Co Ltd",
                      null
                    ],
                    [
                      "Xinjiang Bayi Steel Southern Xinjiang Steel Baicheng Co Ltd",
                      null
                    ]
                  ],
                  "geo": "geo",
                  "hovertemplate": "<b>%{hovertext}</b><br><br>Country/Area=Cambodia<br>Latitude=%{lat}<br>Longitude=%{lon}<br>Owner=%{customdata[0]}<br>Plant age (years)=%{customdata[1]}<extra></extra>",
                  "hovertext": [
                    "Cambodia Iron and Steel Preah Vihear Plant",
                    "China Baowu Phnom Penh steel plant"
                  ],
                  "lat": {
                    "bdata": "Ga4OgLi7KkCns5PBUSInQA==",
                    "dtype": "f8"
                  },
                  "legendgroup": "Cambodia",
                  "lon": {
                    "bdata": "Y+3vbI9HWkCTj90FSjdaQA==",
                    "dtype": "f8"
                  },
                  "marker": {
                    "color": "#000006",
                    "symbol": "circle"
                  },
                  "mode": "markers",
                  "name": "Cambodia",
                  "showlegend": true,
                  "type": "scattergeo"
                },
                {
                  "customdata": [
                    [
                      "Algoma Steel Group Inc",
                      124
                    ],
                    [
                      "ArcelorMittal Dofasco GP",
                      113
                    ],
                    [
                      "ArcelorMittal Long Products Canada GP",
                      111
                    ],
                    [
                      "Cleveland-Cliffs Inc",
                      45
                    ],
                    [
                      "Evraz North America PLC",
                      64
                    ],
                    [
                      "Gerdau Ameristeel Corp",
                      61
                    ],
                    [
                      "Ivaco Rolling Mills 2004 LP",
                      54
                    ],
                    [
                      "Rio Tinto Iron and Titanium Canada Inc",
                      75
                    ]
                  ],
                  "geo": "geo",
                  "hovertemplate": "<b>%{hovertext}</b><br><br>Country/Area=Canada<br>Latitude=%{lat}<br>Longitude=%{lon}<br>Owner=%{customdata[0]}<br>Plant age (years)=%{customdata[1]}<extra></extra>",
                  "hovertext": [
                    "Algoma steel plant",
                    "ArcelorMittal Dofasco steel plant",
                    "ArcelorMittal Montreal steel plant",
                    "Cleveland-Cliffs Lake Erie steel plant",
                    "Evraz Regina Steel plant",
                    "Gerdau Whitby Steel Mill",
                    "Ivaco Rolling Mills steel plant",
                    "Rio Tinto Fer et Titane steel plant"
                  ],
                  "lat": {
                    "bdata": "2pJVEW5CR0BqpKXydqJFQO+oMSHm6kZAdlCJ6xhnRUAu4jsx60FJQFWmmIOg7UVANlZinpXORkDFAl/RrQVHQA==",
                    "dtype": "f8"
                  },
                  "legendgroup": "Canada",
                  "lon": {
                    "bdata": "up7ouvAXVcAi+yDLgvNTwLk4KjdRUFLAjniymxkGVMDpDfeRWyhawGDKwAEtulPA/x8nTBitUsAqVg3C3EhSwA==",
                    "dtype": "f8"
                  },
                  "marker": {
                    "color": "#000007",
                    "symbol": "circle"
                  },
                  "mode": "markers",
                  "name": "Canada",
                  "showlegend": true,
                  "type": "scattergeo"
                },
                {
                  "customdata": [
                    [
                      "Aceros AZA SA",
                      26.24
                    ],
                    [
                      "Compania Siderurgica Huachipato SA",
                      75
                    ]
                  ],
                  "geo": "geo",
                  "hovertemplate": "<b>%{hovertext}</b><br><br>Country/Area=Chile<br>Latitude=%{lat}<br>Longitude=%{lon}<br>Owner=%{customdata[0]}<br>Plant age (years)=%{customdata[1]}<extra></extra>",
                  "hovertext": [
                    "AZA Colina steel plant",
                    "CAP Acero Huachipato steel plant"
                  ],
                  "lat": {
                    "bdata": "ZRcMrrmlQMAYBiy5il9CwA==",
                    "dtype": "f8"
                  },
                  "legendgroup": "Chile",
                  "lon": {
                    "bdata": "TpgwmpWuUcDdJXFWREhSwA==",
                    "dtype": "f8"
                  },
                  "marker": {
                    "color": "#000008",
                    "symbol": "circle"
                  },
                  "mode": "markers",
                  "name": "Chile",
                  "showlegend": true,
                  "type": "scattergeo"
                },
                {
                  "customdata": [
                    [
                      "Xinyang Iron & Steel Co.,ltd of Angang Group",
                      54
                    ],
                    [
                      "Angang Lianzhong Stainless Steel Corp",
                      24
                    ],
                    [
                      "Angang Steel Co Ltd",
                      26.99
                    ],
                    [
                      "Angang Steel Co Ltd",
                      19
                    ],
                    [
                      "Anhui Changjiang Steel Co Ltd",
                      22
                    ],
                    [
                      "Anhui Guihang Special Steel Co Ltd",
                      15.44
                    ],
                    [
                      "Anhui Jin'an Stainless Steel Foundry Co Ltd",
                      3
                    ],
                    [
                      "Anhui Jingxian Longxin Iron and Steel Co Ltd",
                      17
                    ],
                    [
                      "Anhui Langxi County Fuhang Steel Co Ltd",
                      23
                    ],
                    [
                      "Guangde Xinyuanda Metal Products Co., Ltd. Co Ltd",
                      13.79
                    ],
                    [
                      "Anhui Shoukuang Dachang Metal Material Co Ltd",
                      15
                    ],
                    [
                      "Anshan Baode Iron & Steel Co Ltd",
                      26.29
                    ],
                    [
                      "Angang Steel Co Ltd",
                      18.15
                    ],
                    [
                      "Anyang Huixin Special Steel Co Ltd",
                      21
                    ],
                    [
                      "Anyang Iron & Steel Co Ltd",
                      67
                    ],
                    [
                      "Anyang Xinpu Steel Co Ltd",
                      20
                    ],
                    [
                      "Baicheng Fuda Bar Rolling Co Ltd",
                      15.87
                    ],
                    [
                      "Baoshan Iron & Steel Co Ltd",
                      48
                    ],
                    [
                      "Baosteel Desheng Stainless Steel Co Ltd",
                      14
                    ],
                    [
                      "Baosteel Group Xinjiang Bayi Iron & Steel Co Ltd",
                      29.89
                    ],
                    [
                      "Baosteel Special Metals Co Ltd",
                      65.41
                    ],
                    [
                      "Baosteel Zhanjiang Iron & Steel Co Ltd",
                      14
                    ],
                    [
                      "Baotou Baoxin Special Steel Co Ltd",
                      18.17
                    ],
                    [
                      "Baotou DA AN IRON&STEEL Co Ltd",
                      null
                    ],
                    [
                      "Baotou DA AN IRON&STEEL Co Ltd",
                      22.81
                    ],
                    [
                      "Baotou Deshun Spec. Steel Co Ltd",
                      18.46
                    ],
                    [
                      "Baowu Group Echeng Iron & Steel Co Ltd",
                      67
                    ],
                    [
                      "Bengang Steel Plates Co Ltd",
                      28.21
                    ],
                    [
                      "Benxi Beiying Iron & Steel (GROUP) Co Ltd",
                      23.43
                    ],
                    [
                      "Cangzhou China Railway Equipment Manufacturing Materials Co Ltd",
                      19
                    ],
                    [
                      "Cangzhou Lingang Sanling Metal Co Ltd",
                      30
                    ],
                    [
                      "Changshu Longteng Special Steel Co Ltd",
                      31.3
                    ],
                    [
                      "Lucheng Xingbao Iron & Steel Co Ltd",
                      22.41
                    ],
                    [
                      "Changzhou Dongfang Special Steel Co Ltd",
                      15.64
                    ],
                    [
                      "Chengde Street Ltd",
                      71
                    ],
                    [
                      "Chengde Jianlong SPECIAL Steel Co Ltd",
                      24
                    ],
                    [
                      "Chengde Shengfeng Iron & Steel Co Ltd",
                      17
                    ],
                    [
                      "Chengde Zhaofeng Steel Group Co Ltd",
                      19
                    ],
                    [
                      "Chengdu Changfeng Steel Group Co Ltd",
                      55
                    ],
                    [
                      "Chengyu Vanadium & Titanium Technology Co Ltd",
                      19.02
                    ],
                    [
                      "Chifeng Yuanlian Steel Co Ltd",
                      23.09
                    ],
                    [
                      "Chifeng Zhongtang Special Steel Co Ltd",
                      3
                    ],
                    [
                      "Chizhou Guichi Guihang Metal Products Co Ltd",
                      25
                    ],
                    [
                      "Chongli Steel Manufacturing Co Ltd",
                      14
                    ],
                    [
                      "Chongqing Iron & Steel Co Ltd",
                      28
                    ],
                    [
                      "Chongqing Yonghang Steel Group Co Ltd",
                      22
                    ],
                    [
                      "Chongqing Zuhang Steel Co Ltd",
                      17
                    ],
                    [
                      "Danyang Longjiang Steel Co Ltd",
                      22.15
                    ],
                    [
                      "Daye Huaxin Industrial Co Ltd",
                      22
                    ],
                    [
                      "Daye SPECIAL Steel Co Ltd",
                      18
                    ],
                    [
                      "Hubei Xinxin Steel Group Co Ltd; natural person(s)",
                      25
                    ],
                    [
                      "DELONG Steel Ltd",
                      25
                    ],
                    [
                      "Dongbei Special Steel Group Dalian Special Steel Co Ltd",
                      56
                    ],
                    [
                      "Ezhou Hongtai Steel Co Ltd",
                      22
                    ],
                    [
                      "Fangchenggang Jinxi Steel Technology Co Ltd",
                      null
                    ],
                    [
                      "Fangda Special Steel Technology Co Ltd",
                      67.11
                    ],
                    [
                      "Fujian Great Dong Hai Industrial Group Co Ltd",
                      7
                    ],
                    [
                      "Fujian Dingsheng Steel Co Ltd",
                      7
                    ],
                    [
                      "Fujian Dingxin Industry Co Ltd",
                      17
                    ],
                    [
                      "Mindong Saiqi Economic Development Zone Fuhua Steel Rolling Co Ltd",
                      26
                    ],
                    [
                      "Fujian Fuxin Special Steel Co Ltd",
                      18
                    ],
                    [
                      "Fujian Longgang New Materials Co Ltd",
                      null
                    ],
                    [
                      "Fujian Luoyuan Minguang Iron & Steel Co Ltd",
                      11
                    ],
                    [
                      "Fujian Qingtuo New Material Co Ltd",
                      2
                    ],
                    [
                      "Fujian San'an Iron & Steel Co Ltd",
                      24
                    ],
                    [
                      "Fujian Sanbao Steel Co Ltd",
                      26
                    ],
                    [
                      "Fujian Tsingtuo Nickel Industry Co Ltd",
                      14
                    ],
                    [
                      "Fujian Wuhang Stainless Steel Products Co Ltd",
                      32
                    ],
                    [
                      "Fujian Yixin Steel & Iron Co Ltd",
                      19
                    ],
                    [
                      "Fushun HANWANG Direct Reduced Iron Co Ltd",
                      23.06
                    ],
                    [
                      "Fushun New Steel Corp Ltd",
                      19.91
                    ],
                    [
                      "Fushun Special Steel Co Ltd",
                      88
                    ],
                    [
                      "Fuzhou Wuhang Steel Products Co Ltd",
                      4
                    ],
                    [
                      "Gansu Jiu Steel Group Hongxing Iron and Steel Co Ltd",
                      26
                    ],
                    [
                      "Guangdong Guangqing METAL Technology Co Ltd",
                      15
                    ],
                    [
                      "Guangdong Jingye Iron and Steel Co Ltd",
                      5
                    ],
                    [
                      "Guangdong Jinshenglan Metallurgical Technology Co Ltd",
                      4
                    ],
                    [
                      "Guangdong Nanfang Donghai Iron and Steel Co Ltd",
                      2
                    ],
                    [
                      "GuangDong Xinxing Ductile Iron Pipes Co Ltd",
                      10
                    ],
                    [
                      "Guangdong Yuebei United Steel Co Ltd",
                      15
                    ],
                    [
                      "Guangshui Huaxin Smelt Industry Co Ltd",
                      17
                    ],
                    [
                      "Guangxi BG New Materials Co Ltd",
                      16
                    ],
                    [
                      "Guangxi Chiji Iron and Steel Co Ltd",
                      6
                    ],
                    [
                      "Guangxi Deyuan Metallurgy Co Ltd",
                      35
                    ],
                    [
                      "Guangxi Deyuan Metallurgy Co Ltd",
                      2
                    ],
                    [
                      "Guangxi Longzhou Zhongheng Wanhua Industrial Co Ltd",
                      23
                    ],
                    [
                      "Guangxi Guigang Iron and Steel Group Co Ltd",
                      22
                    ],
                    [
                      "Guangxi Guigang Iron and Steel Group Guigang Guibao SPECIAL Steel Co Ltd",
                      7
                    ],
                    [
                      "Guangxi Guixin Steel Group Co Ltd",
                      32
                    ],
                    [
                      "Hezhou Zhaoxin Hardware Products Co Ltd",
                      25
                    ],
                    [
                      "Guangxi Hezhou Kexinda Metal Products Co Ltd",
                      21
                    ],
                    [
                      "Guangxi Iron and Steel Group Co Ltd",
                      5
                    ],
                    [
                      "Guangxi Liugang Zhongjin Stainless Steel Co Ltd",
                      12
                    ],
                    [
                      "Guangxi Longzhou Zhongheng Wanhua Industrial Co Ltd",
                      10
                    ],
                    [
                      "Guangxi Shenglong Metallurgical Co Ltd",
                      22
                    ],
                    [
                      "Guangxi Wuzhou Jinhai Stainless Steel Co Ltd",
                      15
                    ],
                    [
                      "Guilin Pinggang Iron and Steel Co Ltd",
                      28
                    ],
                    [
                      "Guizhou Ganglian Industrial Group Co Ltd",
                      11
                    ],
                    [
                      "Guizhou Hexing Metal Products Co Ltd",
                      13
                    ],
                    [
                      "Qianxinan Prefecture Juxin Industry & Trade General Co",
                      32
                    ],
                    [
                      "Guizhou United Steel (Group) Co Ltd",
                      11
                    ],
                    [
                      "Handan Iron and Steel Group Co Ltd",
                      64.91
                    ],
                    [
                      "Hanshan Iron and Steel Co Ltd",
                      3
                    ],
                    [
                      "Dazhou Hangda Steel Co Ltd",
                      21.86
                    ],
                    [
                      "HBIS Laoting Steel Co Ltd",
                      5
                    ],
                    [
                      "Hebei Anfeng Iron & Steel Co Ltd",
                      23
                    ],
                    [
                      "Hebei Baoxin Iron and Steel Group Co Ltd",
                      19
                    ],
                    [
                      "Inner Mongolia (Naiman) Jingan Non-ferrous Metal Materials Co Ltd",
                      0.02
                    ],
                    [
                      "Hebei Donghai SPECIAL Steel Group Co Ltd",
                      16
                    ],
                    [
                      "Luannan Huarui Steel Co Ltd",
                      19
                    ],
                    [
                      "Hebei Huaxi Special Steel Co Ltd",
                      4
                    ],
                    [
                      "Hebei Huaxin Special Steel Co Ltd",
                      4
                    ],
                    [
                      "Hebei Jinxi Iron & Steel Group Co Ltd",
                      39
                    ],
                    [
                      "Hebei PROVINCE Longfengshan Casting Industry Co Ltd",
                      26
                    ],
                    [
                      "Hebei New Wuan Steel Group Wenan IRON&STEEL Co Ltd",
                      null
                    ],
                    [
                      "Hebei Puyang Iron and Steel Co Ltd",
                      33
                    ],
                    [
                      "Hebei Rongxin Iron & Steel Co Ltd",
                      23
                    ],
                    [
                      "Hebei Taihang Iron and Steel Group Co Ltd",
                      4
                    ],
                    [
                      "Hebei Tangyin IRON&STEEL Co Ltd",
                      14
                    ],
                    [
                      "Hebei Tangyin IRON&STEEL Co Ltd",
                      19
                    ],
                    [
                      "Hebei Tianzhu Iron and Steel Group Special Steel Co Ltd",
                      3
                    ],
                    [
                      "Hebei Tianzhu IRON&STEEL (GROUP) Co Ltd",
                      19.5
                    ],
                    [
                      "Hebei Wenfeng STEEL&IRON Co Ltd",
                      20
                    ],
                    [
                      "Hebei New Wuan Lron and Steel Group Hong Rong Lron and Steel Co Ltd",
                      41
                    ],
                    [
                      "Hebei New Wuan Steel Group Wenan IRON&STEEL Co Ltd",
                      20
                    ],
                    [
                      "Hebei Xinda Iron and Steel Co Ltd",
                      23
                    ],
                    [
                      "Hebei Xinghua Iron and Steel Co Ltd",
                      23
                    ],
                    [
                      "Hebei Xinjin Iron and Steel Co Ltd",
                      32
                    ],
                    [
                      "Hebei New Wuan Iron and Steel Group Xin Hui Metallurgy Co Ltd",
                      25
                    ],
                    [
                      "Hebei Xinxing Ductile Iron Pipes Co Ltd",
                      32
                    ],
                    [
                      "Hebei Yanshan Iron and Steel Group Co Ltd",
                      23
                    ],
                    [
                      "Hebei YongYang Special Steel Group Co Ltd",
                      32
                    ],
                    [
                      "Hbzx HIGH Tech Co Ltd",
                      2
                    ],
                    [
                      "Hebei Zongheng Group Fengnan Iron & Steel Co Ltd",
                      6
                    ],
                    [
                      "Heilongjiang Jianlong Iron and Steel Co Ltd",
                      22
                    ],
                    [
                      "Henan Angang Zhoukou Iron and Steel Co Ltd",
                      4
                    ],
                    [
                      "Henan Changtai Stainless Steel Plate Co Ltd",
                      14
                    ],
                    [
                      "Henan Fengbao SPECIAL Steel Co Ltd",
                      24
                    ],
                    [
                      "Henan Xinjinhui Stainless Steel Industry Co Ltd",
                      20
                    ],
                    [
                      "Henan Jiyuan Iron & Steel (Group) Co Ltd",
                      67
                    ],
                    [
                      "Henan YAXIN Steel Industry Co Ltd",
                      22
                    ],
                    [
                      "Hengyang Valin Steel Tube Co Ltd",
                      67
                    ],
                    [
                      "Heping Yueshen Steel Industrial Co Ltd",
                      14
                    ],
                    [
                      "Heyuan Derun Steel Co Ltd",
                      49
                    ],
                    [
                      "Heyuan Derun Steel Co Ltd",
                      2
                    ],
                    [
                      "Hezhou Xindu Sanyuan Casting Co Ltd",
                      9
                    ],
                    [
                      "Houying Group Haicheng Iron and Steel Co Ltd",
                      19.13
                    ],
                    [
                      "Huainan Hongtai Steel Limited Liability Co",
                      24
                    ],
                    [
                      "Huangshi Xingang Heavy Industry Technology Co Ltd",
                      1
                    ],
                    [
                      "Hubei Dazhan Steel & Iron Co Ltd",
                      32
                    ],
                    [
                      "Hubei Jinshenglan Metallurgical Technology Co Ltd",
                      9
                    ],
                    [
                      "Hubei Lijin Steel Group Co Ltd",
                      23
                    ],
                    [
                      "Hubei Shunle Iron and Steel Co Ltd",
                      2
                    ],
                    [
                      "Hubei Wucheng Iron and Steel Group Co Ltd",
                      26
                    ],
                    [
                      "Hunan Valin Lianyuan Iron and Steel Co Ltd",
                      67
                    ],
                    [
                      "Hunan Valin Lianyuan Iron and Steel Co Ltd",
                      67
                    ],
                    [
                      "Baotou Jiyu Steel Co Ltd",
                      21.79
                    ],
                    [
                      "Inner Mongolia BaoTou Steel Union Co Ltd",
                      26.2
                    ],
                    [
                      "Inner Mongolia Desheng Metal Products Co Ltd",
                      13.85
                    ],
                    [
                      "Inner Mongolia Mingtuo Ferrite New Material Co Ltd",
                      2
                    ],
                    [
                      "Inner Mongolia Wanzhou Special Steel Co Ltd",
                      null
                    ],
                    [
                      "Inner Mongolia Yaxinlongshun Special Steel Co Ltd",
                      19.85
                    ],
                    [
                      "Jianglong Acheng Iron & Steel Co Ltd",
                      24
                    ],
                    [
                      "Jiangsu Province Binxin Steel Group Co Ltd",
                      17.6
                    ],
                    [
                      "Jiangsu Changqiang Iron & Steel Co Ltd",
                      21.98
                    ],
                    [
                      "Jiangsu Delong Nickel Industry Co Ltd",
                      15.11
                    ],
                    [
                      "Jiangsu HONGTAI Metals Ware Co Ltd",
                      25.24
                    ],
                    [
                      "Jiangsu Longyuan Steel Co Ltd",
                      15.77
                    ],
                    [
                      "Jiangsu Shagang Group Huaigang SPECIAL Steel Co Ltd",
                      55
                    ],
                    [
                      "Jiangsu Shente Steel Corp",
                      17.42
                    ],
                    [
                      "Jiangsu Suxin Special Steel Co Ltd",
                      65
                    ],
                    [
                      "Jiangsu Xingda Steel Group Co Ltd",
                      20.22
                    ],
                    [
                      "Jiangsu Xusteel Group Co Ltd",
                      22.02
                    ],
                    [
                      "Jiangxi Taixin Iron & Steel Co Ltd",
                      22.18
                    ],
                    [
                      "Jiangxi Yuanxing Iron and Steel Co Ltd",
                      18.21
                    ],
                    [
                      "Jiangyin Huaxi Steel Co Ltd",
                      22.95
                    ],
                    [
                      "Jiangyin Xicheng Steel Co Ltd",
                      27.93
                    ],
                    [
                      "Jiangyin Xingcheng SPECIAL Steel Works Co Ltd",
                      32
                    ],
                    [
                      "Jianlong Beiman SPECIAL Steel Co Ltd",
                      68
                    ],
                    [
                      "Jianlong Xilin Iron and Steel Co Ltd",
                      59
                    ],
                    [
                      "Jilin Jianlong Steel Co Ltd",
                      24.36
                    ],
                    [
                      "Jilin Jingang Lron and Steel Co Ltd",
                      46
                    ],
                    [
                      "Fugang METAL Manufacturing Co.ltd.,jilinjigang Steel Group",
                      17.15
                    ],
                    [
                      "Jilin Steel Group Taihua Metal Equipment Manufacture Co Ltd",
                      17.13
                    ],
                    [
                      "JiLin Province Xinda Steel Co Ltd",
                      17.82
                    ],
                    [
                      "Jinan Iron & Steel Group Co Ltd",
                      3
                    ],
                    [
                      "Jincheng FUSHENG Iron & Steel Co Ltd",
                      22.75
                    ],
                    [
                      "Jinding Heavy Industries Co Ltd",
                      30
                    ],
                    [
                      "Jingye Iron and Steel Co Ltd",
                      29
                    ],
                    [
                      "Jingzhou Qunli Metal Products Co Ltd",
                      26
                    ],
                    [
                      "Jinye Steel Group Co Ltd",
                      22.34
                    ],
                    [
                      "Jinzhou Jinxing Special Steel Co Ltd",
                      24.65
                    ],
                    [
                      "Jishan Mingfu Steel Products Co Ltd",
                      11.99
                    ],
                    [
                      "Jiugang Group Yuzhong Iron & Steel Co Ltd",
                      22
                    ],
                    [
                      "JiuJiang PXSteel Co Ltd",
                      13.65
                    ],
                    [
                      "Laiwu Steel Yinshan Section Co Ltd",
                      21.71
                    ],
                    [
                      "Langfang Guangyuan Metalwork Co Ltd",
                      11
                    ],
                    [
                      "Gaolan County Lanxin Steel Co Ltd",
                      24
                    ],
                    [
                      "Lengshuijiang Iron and Steel Co Ltd",
                      67
                    ],
                    [
                      "Lianfeng Steel (Zhangjiagang) Co Ltd",
                      23.21
                    ],
                    [
                      "Lianyungang Huale Alloy Group Co Ltd",
                      15.5
                    ],
                    [
                      "Lianyungang Xingxin Iron and Steel Co Ltd",
                      21.87
                    ],
                    [
                      "Lianyungang Yaxin Iron and Steel Co Ltd",
                      16.06
                    ],
                    [
                      "Liaoyang United Steel Co Ltd",
                      5.73
                    ],
                    [
                      "Liaoyang Xinyi Special Steel Co Ltd",
                      16.76
                    ],
                    [
                      "Licheng Taihang Iron & Steel Co Ltd",
                      25.24
                    ],
                    [
                      "Lingyuan Iron & Steel Co Ltd",
                      31.35
                    ],
                    [
                      "Linyi Iron and Steel Investment Group Co Ltd",
                      6.48
                    ],
                    [
                      "Linyi Jiangxin Steel Co Ltd",
                      18.58
                    ],
                    [
                      "Huahong Iron and Steel Products Co Ltd",
                      22.95
                    ],
                    [
                      "Liuzhou IRON&STEEL Co Ltd",
                      25
                    ],
                    [
                      "Liyang Baorun Steel Co Ltd",
                      2
                    ],
                    [
                      "Longnan Fuxin Steel Co Ltd",
                      20.47
                    ],
                    [
                      "Luoyang Luogang Group of Steel and Iron Co Ltd",
                      19
                    ],
                    [
                      "Luzhou Xinyang Vanadium Titanium Steel Co Ltd",
                      5.67
                    ],
                    [
                      "Lvliang Jianlong Industrial Co Ltd",
                      40
                    ],
                    [
                      "Maanshan Iron & Steel Co Ltd",
                      72
                    ],
                    [
                      "Mintal Group Co Ltd",
                      4.44
                    ],
                    [
                      "Minyuan Iron and Steel Group Co Ltd",
                      22
                    ],
                    [
                      "Nanjing Iron & Steel Co Ltd",
                      67
                    ],
                    [
                      "Nanyang Hanye SPECIAL STREET Co Ltd",
                      22
                    ],
                    [
                      "Ningbo Haoyang New MATERIALS Techonology Co Ltd",
                      13.67
                    ],
                    [
                      "Ningbo Iron & Steel Co Ltd",
                      22.66
                    ],
                    [
                      "Ningxia Boyu Hongxing Special Steel Group Co Ltd",
                      19.14
                    ],
                    [
                      "Ningxia Iron and Steel (Group) Co Ltd",
                      67
                    ],
                    [
                      "Ningxia Jianlong Special Steel Co Ltd",
                      13.4
                    ],
                    [
                      "Ningxia Xinghua Iron and Steel Co Ltd",
                      null
                    ],
                    [
                      "Pan Gang Group Sichuan Changcheng Special Steel Co Ltd",
                      36.31
                    ],
                    [
                      "Panzhihua Steel Group Panzhihua Steel Vanadium Co Ltd",
                      60
                    ],
                    [
                      "Pangang Group Xichang Steel and Vanadium Co Ltd",
                      14.22
                    ],
                    [
                      "Jilinheng Precision Casting Technology Co Ltd",
                      15.52
                    ],
                    [
                      "Anyuan Iron & Steel Co Ltd",
                      71
                    ],
                    [
                      "Posco (Zhangjiagang) Stainless Steel Co Ltd",
                      29.72
                    ],
                    [
                      "Qian'an City Jiujiang Wire Co Ltd",
                      23
                    ],
                    [
                      "Qian'an Zhayi Steel Group Co Ltd",
                      21
                    ],
                    [
                      "Qingdao Special Iron and Steel Co Ltd",
                      12
                    ],
                    [
                      "Qinhuangdao Baigong Steel Co Ltd",
                      19
                    ],
                    [
                      "Qinhuangdao Hongxing Iron & Steel Co Ltd",
                      23
                    ],
                    [
                      "Quzhou Yuanli METAL Products Co Ltd",
                      34
                    ],
                    [
                      "Rizhao Steel Holding Group Co Ltd",
                      22.33
                    ],
                    [
                      "Rizhao Steel Yingkou Medium Plate Co Ltd",
                      23.22
                    ],
                    [
                      "Sansteel Minguang Co Ltd Fujian",
                      24
                    ],
                    [
                      "SGIS Songshan Co Ltd",
                      28
                    ],
                    [
                      "Shaanxi Hanzhong Iron & Steel Group Co",
                      24.89
                    ],
                    [
                      "Shaanxi Huaxin Special Steel Group Co Ltd",
                      24.1
                    ],
                    [
                      "Shaanxi LONG MEN IRON&STEEL Co Ltd",
                      18.22
                    ],
                    [
                      "Shaanxi Lueyang Iron and Steel Co Ltd",
                      21.85
                    ],
                    [
                      "Shangang Group Hanzhong Iron & Steel Co Ltd",
                      16.21
                    ],
                    [
                      "Shagang Group Anyang Yongxing Iron & Steel Co Ltd",
                      32
                    ],
                    [
                      "Shandong Chuanyang Group Co Ltd",
                      19.69
                    ],
                    [
                      "Fulun Iron & Steel Co Ltd",
                      22.19
                    ],
                    [
                      "Shandong Guangfu Group Co Ltd",
                      39
                    ],
                    [
                      "Shandong Iron and Steel Co Ltd",
                      4
                    ],
                    [
                      "Shandong Iron and Steel Co Ltd",
                      9.75
                    ],
                    [
                      "Shandong IRON&STEEL Group Rizhao Co Ltd",
                      16.56
                    ],
                    [
                      "Shandong Iron & Steel Group Yongfeng Lingang Corp",
                      4.24
                    ],
                    [
                      "Shandong Iron Steel Group Yongfeng Zibo Co Ltd",
                      4.74
                    ],
                    [
                      "Shandong Laigang Yongfeng Steel Corp",
                      19.55
                    ],
                    [
                      "Shandong Longsheng Iron and Steel Co Ltd",
                      18.07
                    ],
                    [
                      "Shandong Luli Steel Co Ltd",
                      32
                    ],
                    [
                      "Shandong Minyuan Steel & Iron Co Ltd",
                      19.7
                    ],
                    [
                      "Shandong Shouguang Juneng SPECIAL Steel Co Ltd",
                      22.77
                    ],
                    [
                      "Shandong Taishan Steel Group Co Ltd",
                      56
                    ],
                    [
                      "Shandong Xinhua Special Steel Group Co Ltd",
                      18.47
                    ],
                    [
                      "Shanghai Meishan Iron & Steel Co Ltd",
                      56
                    ],
                    [
                      "Shanxi Changxin Industry Co Ltd",
                      36
                    ],
                    [
                      "Shanxi Dongfang Hengliu Precision Casting Co",
                      16.04
                    ],
                    [
                      "Shanxi Gaoyi Steel Co Ltd",
                      28
                    ],
                    [
                      "Shanxi HONGDA Iron and Steel Group Co Ltd",
                      26.37
                    ],
                    [
                      "Shanxi HUAQIANG Iron and Steel Co Ltd",
                      22.4
                    ],
                    [
                      "Hejin Huaxinyuan Steel & Iron Co Ltd",
                      22.67
                    ],
                    [
                      "Shanxi Jianlong Industrial Co Ltd",
                      25.47
                    ],
                    [
                      "Shanxi Jinnan Iron and Steel Group Co Ltd",
                      11.55
                    ],
                    [
                      "Shanxi Liheng Iron and Steel Co Ltd",
                      17
                    ],
                    [
                      "Shanxi Meijin Iron and Steel Co Ltd",
                      21.88
                    ],
                    [
                      "Shanxi Meijin Iron and Steel Co Ltd",
                      null
                    ],
                    [
                      "Shanxi Taigang Stainless Steel Co Ltd",
                      27.25
                    ],
                    [
                      "ShanXi TongCai Industry and Trade Co Ltd",
                      23
                    ],
                    [
                      "Shanxi Tongde Xinghua Special Steel Co Ltd",
                      19.76
                    ],
                    [
                      "Shanxi Xintai Iron & Steel Co Ltd",
                      20.28
                    ],
                    [
                      "Shanxi Zhongsheng Iron and Steel Co Ltd",
                      18.87
                    ],
                    [
                      "Shanxi Zhongyang Iron & Steel Co Ltd",
                      19.83
                    ],
                    [
                      "Shiheng SPECIAL Steel Group Co Ltd",
                      24.7
                    ],
                    [
                      "Shijiazhuang Iron and Steel Co Ltd",
                      63
                    ],
                    [
                      "Shijiazhuang Iron and Steel Co Ltd",
                      5
                    ],
                    [
                      "Shiyan Fuyan Iron and Steel Co Ltd",
                      22
                    ],
                    [
                      "Yun County Rongfeng Rolling Mill Factory",
                      14
                    ],
                    [
                      "Shougang Changzhi IRON& Steel Co Ltd",
                      29.49
                    ],
                    [
                      "Shougang Guiyang SPECIAL Steel Co Ltd",
                      67
                    ],
                    [
                      "Shougang Jingtang United Iron & Steel Co Ltd",
                      20
                    ],
                    [
                      "Beijing Shougang Co Ltd",
                      23
                    ],
                    [
                      "Shougang Shuicheng Iron & Steel (Group) Co Ltd",
                      59
                    ],
                    [
                      "Sichuan Dazhou Iron & Steel Group Co Ltd",
                      28.44
                    ],
                    [
                      "Sichuan De Sheng Group, Vanadium and Titanium Co Ltd",
                      28
                    ],
                    [
                      "Sichuan Gangchen Stainless Steel Co Ltd",
                      5.78
                    ],
                    [
                      "Sichuan Shehong Chuanzhong Construction Materials Co Ltd",
                      25.45
                    ],
                    [
                      "Sichuan Shengquan Iron and Steel Group Co Ltd",
                      7.01
                    ],
                    [
                      "Sichuan Ya'an Anshan Iron and Steel Co Ltd",
                      4.47
                    ],
                    [
                      "Tangshan Chunxing Special Steel Co Ltd",
                      20.58
                    ],
                    [
                      "Tangshan DELONG Steel Co Ltd",
                      23.67
                    ],
                    [
                      "Tangshan Donghai Iron and Steel Group Co Ltd",
                      22
                    ],
                    [
                      "Tangshan Donghua Iron & Steel Enterprise Group Co Ltd",
                      16
                    ],
                    [
                      "Tangshan Fengnan District Jing'an Iron and Steel Co Ltd",
                      23
                    ],
                    [
                      "Tangshan Ganglu Iron & Steel Co Ltd",
                      23
                    ],
                    [
                      "Tangshan Guotang Steel Co Ltd",
                      3
                    ],
                    [
                      "Tangshan GUOYI SPECIAL Steel Co Ltd",
                      16
                    ],
                    [
                      "TANG Shan Iron and Steel Group Co Ltd",
                      77
                    ],
                    [
                      "Tangshan Jianlong Steel SPECIAL Steel Co Ltd",
                      20
                    ],
                    [
                      "Tangshan Jinma Iron & Steel Group Co Ltd",
                      12
                    ],
                    [
                      "Tangshan Heavy Plate Co Ltd",
                      19
                    ],
                    [
                      "Tangshan RUIFENG Steel and Iron (GROUP) Co Ltd",
                      23
                    ],
                    [
                      "Tangshan Songting IRON&STEEL Co Ltd",
                      56
                    ],
                    [
                      "Tangshan Stainless Steel Co Ltd",
                      null
                    ],
                    [
                      "Tangshan Stainless Steel Co Ltd",
                      22
                    ],
                    [
                      "Tangshan Wenfeng Special Steel Co Ltd",
                      18.03
                    ],
                    [
                      "Tangshan Xinbaotai Iron & Steel Co Ltd",
                      19
                    ],
                    [
                      "Tangshan Xinglong Steel Co Ltd",
                      24
                    ],
                    [
                      "Tangshan Yutian Jinzhou Industry Co Ltd",
                      14
                    ],
                    [
                      "Tangshan Zhengfeng Steel Co Ltd",
                      21
                    ],
                    [
                      "Tianjin Iron and Steel Group Co Ltd",
                      90
                    ],
                    [
                      "Tianjin Iron PLANT Co Ltd",
                      56
                    ],
                    [
                      "Tianjin Metallurgy Group Zhasan Steel Co Ltd",
                      11.3
                    ],
                    [
                      "Tianjin Tiangang UNITED SPECIAL Steel Co Ltd",
                      16.21
                    ],
                    [
                      "Tianjin Pipe Corp",
                      14.75
                    ],
                    [
                      "Rockcheck Steel Group Co Ltd",
                      22.64
                    ],
                    [
                      "Tianjin Rongcheng Group Tangshan Special Steel Co Ltd; Tangshan Zhengfeng Steel Co Ltd",
                      1.76
                    ],
                    [
                      "Tianjin Rongcheng Group Tangshan Special Steel Co Ltd",
                      21
                    ],
                    [
                      "Tianjin Tianfeng Steel Co Ltd",
                      19.12
                    ],
                    [
                      "Tianjin Tianzhong Giant Heavy Industry Co Ltd",
                      20.51
                    ],
                    [
                      "Tonghua Iron & Steel Co Ltd",
                      19.08
                    ],
                    [
                      "Tongling Fuxin Iron & Steel Co Ltd",
                      55
                    ],
                    [
                      "Tongling City Xuanli Special Steel Co Ltd",
                      16
                    ],
                    [
                      "Tongshan Liguo Iron and Steel Co Ltd",
                      19.58
                    ],
                    [
                      "Weifang SPECIAL Steel Group Co Ltd",
                      31.84
                    ],
                    [
                      "WISCO Group Kunming Steel Co Ltd",
                      9.71
                    ],
                    [
                      "Honghe Iron and Steel Co Ltd",
                      21.61
                    ],
                    [
                      "WISCO Group Kunming Steel Co Ltd",
                      13.38
                    ],
                    [
                      "Yuxi Xinxing Iron & Steel Co Ltd",
                      21.62
                    ],
                    [
                      "WISCO Group Xiangyang Heavy Equipment MATERIALS Co Ltd",
                      26
                    ],
                    [
                      "Wuan Mingfang Iron & Steel Co Ltd",
                      37
                    ],
                    [
                      "Wuan Yuhua Steel Co Ltd",
                      37
                    ],
                    [
                      "Wu'an Yongcheng Zhuye Co Ltd",
                      19
                    ],
                    [
                      "Wugang Zhongjia Iron & Steel Co Ltd",
                      23
                    ],
                    [
                      "Wuhai Baogang Wanteng Iron and Steel Co Ltd",
                      14
                    ],
                    [
                      "Wuhan Iron and Steel Co Ltd",
                      66.99
                    ],
                    [
                      "Wuhan Shunle Stainless Steel Co Ltd",
                      31
                    ],
                    [
                      "Wuhu Fuxin Iron & Steel Co Ltd",
                      22
                    ],
                    [
                      "Wuhu Xinxing Ductile Iron Pipes Co Ltd",
                      22
                    ],
                    [
                      "Wulanhot Iron & Steel Co Ltd",
                      26.19
                    ],
                    [
                      "Wuxi Xinsanzhou Special Steel Co Ltd",
                      39
                    ],
                    [
                      "Wuyang Iron and Steel Co Ltd",
                      55
                    ],
                    [
                      "Wuzhou Yongda Steel Works Co Ltd",
                      16
                    ],
                    [
                      "Wuzhou Yongda Special Steel Co Ltd",
                      14
                    ],
                    [
                      "Xiangfen County Xingyuan Steel Group Co Ltd",
                      20.2
                    ],
                    [
                      "Xiangfen County XinJinShan Special Steel Co Ltd",
                      22.62
                    ],
                    [
                      "Xingtai Iron and Steel Co Ltd",
                      67
                    ],
                    [
                      "Xingtai Iron and Steel Co Ltd",
                      null
                    ],
                    [
                      "Xining Special Steel Co Ltd",
                      27.92
                    ],
                    [
                      "Xinji AOSEN Steel Group Co Ltd",
                      23
                    ],
                    [
                      "Xinjiang Da'an Special Steel Co Ltd",
                      14.42
                    ],
                    [
                      "Xinjiang Ka Steel Group Co",
                      3.81
                    ],
                    [
                      "Xinjiang KingTec Steel Co Ltd",
                      21.83
                    ],
                    [
                      "Xinjiang Kunyu Lron & Steel Co Ltd",
                      15.41
                    ],
                    [
                      "Xinjiang Minxin Iron and Steel (Group) Minhang Special Steel Co Ltd",
                      14.35
                    ],
                    [
                      "Xinxing Ductile Iron Pipes Xinjiang Co Ltd",
                      15.01
                    ],
                    [
                      "Xinjiang Xin'an Special Steel Co Ltd",
                      13.85
                    ],
                    [
                      "Xinjiang Yili Iron and Steel Co Ltd",
                      67
                    ],
                    [
                      "Xinyu Iron & Steel Corp Ltd",
                      67
                    ],
                    [
                      "Xiwang METAL Science Technology Co Ltd",
                      14.01
                    ],
                    [
                      "Xuanhua Iron and Steel Group Co Ltd",
                      102
                    ],
                    [
                      "Xuzhou Baofeng Special Steel Co Ltd",
                      11.94
                    ],
                    [
                      "Xuzhou Jinhong Iron and Steel Group Co Ltd",
                      25.14
                    ],
                    [
                      "Xuzhou TaiFa Special Steel Technology Co Ltd",
                      16
                    ],
                    [
                      "Yancheng Lianxin Steel Co Ltd",
                      67
                    ],
                    [
                      "Yangchun New Iron & Steel Co Ltd",
                      18
                    ],
                    [
                      "Yangzhou Hengrun Ocean Heavy Industry Co Ltd",
                      12.92
                    ],
                    [
                      "Yangzhou Qinyou Special Metal Materials Co Ltd",
                      24.26
                    ],
                    [
                      "Yantai Walsin Stainless Steel Co Ltd",
                      18.48
                    ],
                    [
                      "Yichang Fulong Iron & Steel Co Ltd",
                      null
                    ],
                    [
                      "Yingkou Iron & Steel Co Ltd",
                      14.79
                    ],
                    [
                      "Yunnan Desheng Steel Co Ltd",
                      25.02
                    ],
                    [
                      "Yunnan Jingye Steel Co",
                      2.5
                    ],
                    [
                      "Yunnan Qujing Iron and Steel Group Chenggang Iron and Steel Co Ltd",
                      12.06
                    ],
                    [
                      "Yunnan Qujing Iron and Steel Group Co Ltd",
                      12.11
                    ],
                    [
                      "Yunnan Qujing Iron and Steel Group Yanggang Iron and Steel Co Ltd",
                      4.44
                    ],
                    [
                      "YunNan Province Tiangao Nickel Alloy Co Ltd",
                      15.72
                    ],
                    [
                      "Yunnan Yuxi Iron and Steel Group Yukun Iron and Steel Co Ltd",
                      11.65
                    ],
                    [
                      "Yunnan Yuxi Xianfu Iron and Steel (Group) Co Ltd",
                      24.09
                    ],
                    [
                      "Zenith Steel Group Co Ltd",
                      23.95
                    ],
                    [
                      "Zenith Steel Group (Nantong) Co Ltd",
                      3
                    ],
                    [
                      "Zhangjiagang Hongchang Steel Co Ltd",
                      23.16
                    ],
                    [
                      "Zhangjiagang Rongsheng Steel-Making Co Ltd",
                      22.69
                    ],
                    [
                      "Zhejiang TSINGSHAN IRON&STEEL Co Ltd",
                      22.77
                    ],
                    [
                      "Zhejiang Wantai Special Steel Co Ltd",
                      22.09
                    ],
                    [
                      "Zhejiang Yuxin Industrial Co Ltd",
                      24.79
                    ],
                    [
                      "Zhengzhou YONGTONG SPECIAL Steel Co Ltd",
                      29
                    ],
                    [
                      "Zhenshi Group EASTERN SPECIAL Steel Co Ltd",
                      53
                    ],
                    [
                      "Zhongpu (Handan) Iron and Steel Co Ltd",
                      22
                    ],
                    [
                      "Zhongxin Iron and Steel Group Co Ltd",
                      21.9
                    ],
                    [
                      "BERIS Jiangsu Heavy Industry Co Ltd",
                      15.89
                    ],
                    [
                      "Zhuhai Yueyufeng IRON&STEEL Co Ltd",
                      23
                    ],
                    [
                      "Zibo Qilin Fushan Steel Co Ltd",
                      18.33
                    ],
                    [
                      "Zunyi Changling Special Steel Co Ltd",
                      21
                    ],
                    [
                      "Zunyi County Fuxin Iron & Steel Product Co Ltd",
                      32
                    ]
                  ],
                  "geo": "geo",
                  "hovertemplate": "<b>%{hovertext}</b><br><br>Country/Area=China<br>Latitude=%{lat}<br>Longitude=%{lon}<br>Owner=%{customdata[0]}<br>Plant age (years)=%{customdata[1]}<extra></extra>",
                  "hovertext": [
                    "Angang Group Xinyang Iron and Steel Co Ltd",
                    "Angang Lianzhong Stainless Steel Co Ltd",
                    "Angang Steel Co Ltd",
                    "Angang Steel Co Ltd Bayuquan branch",
                    "Anhui Changjiang Steel Co Ltd",
                    "Anhui Guihang Special Steel Co Ltd",
                    "Anhui Jin an Stainless Steel Casting Co Ltd",
                    "Anhui Jingxian Longxin Iron and Steel Co Ltd",
                    "Anhui Langxi Hongtai Iron and Steel Co Ltd",
                    "Anhui Lixin Special Steel Co Ltd",
                    "Anhui Shoukuang Dachang Metal Material Co Ltd",
                    "Anshan Baode Iron and Steel Co Ltd",
                    "Ansteel Group Chaoyang Steel and Iron Co Ltd",
                    "Anyang Huixin Special Steel Co Ltd",
                    "Anyang Iron and Steel Co Ltd",
                    "Anyang Xinpu Steel Co Ltd",
                    "Baicheng Fuda Bar Rolling Co Ltd",
                    "Baoshan Iron and Steel Co Ltd Headquarters",
                    "Baosteel Desheng Stainless Steel Co Ltd",
                    "Baosteel Group Xinjiang Bayi Iron and Steel Co Ltd",
                    "Baosteel Special Steel Co Ltd",
                    "Baosteel Zhanjiang Iron and Steel Co Ltd",
                    "Baotou Baoxin Special Steel Co Ltd",
                    "Baotou Da'an Iron and Steel Co Ltd Kundulun District",
                    "Baotou Daan Iron and Steel Co Ltd Hondlon District",
                    "Baotou Deshun Special Steel Co Ltd",
                    "Baowu Group Echeng Iron and Steel Co Ltd",
                    "Bengang Steel Plates Co Ltd",
                    "Benxi Beiying Iron and Steel Group Co Ltd Beitai Town",
                    "Cangzhou China Railway Equipment Manufacture Material Co Ltd",
                    "Cangzhou Lingang Sanling Metal Co Ltd",
                    "Changshu Longteng Special Steel Co Ltd",
                    "Changzhi Xingbao Steel Co Ltd",
                    "Changzhou Eastern Special Steel Co Ltd",
                    "Chengde Iron and Steel Group Co Ltd",
                    "Chengde Jianlong Special Steel Co Ltd",
                    "Chengde Shengfeng Iron and Steel Co Ltd",
                    "Chengde Zhaofeng Steel Group Co Ltd",
                    "Chengdu Changfeng Iron and Steel Group Co Ltd",
                    "Chengyu Vanadium and Titanium Technology Co Ltd",
                    "Chifeng Yuanlian Steel Co Ltd",
                    "Chifeng Zhongtang Special Steel Co Ltd",
                    "Chizhou Guichi Guihang Metal Products Co Ltd",
                    "Chongli Steel Manufacturing Co Ltd",
                    "Chongqing Iron and Steel Co Ltd",
                    "Chongqing Yonghang Steel Group Co Ltd",
                    "Chongqing Zuhang Iron and Steel Co Ltd",
                    "Danyang Longjiang Steel Co Ltd",
                    "Daye Huaxin Industrial Co Ltd",
                    "Daye Special Steel Co Ltd",
                    "Daye Xinye Special Steel Co Ltd",
                    "Delong Steel Co Ltd",
                    "Dongbei Special Steel Group Dalian Special Steel Co Ltd",
                    "Ezhou Hongtai Steel Co Ltd",
                    "Fangchenggang Jinxi Steel Technology Co Ltd",
                    "Fangda Special Steel Technology Co Ltd",
                    "Fujian Dadonghai Industrial Group Co Ltd plant",
                    "Fujian Dingsheng Iron and Steel Co Ltd",
                    "Fujian Dingxin Industrial Co Ltd",
                    "Fujian Fuhua New Materials Group Co Ltd",
                    "Fujian Fuxin Special Steel Co Ltd",
                    "Fujian Longgang New Materials Co Ltd",
                    "Fujian Luoyuan Minguang Iron and Steel Co Ltd",
                    "Fujian Qingtuo New Material Co Ltd",
                    "Fujian Quanzhou Minguang Iron and Steel Co Ltd",
                    "Fujian Sanbao Steel Co Ltd",
                    "Fujian Tsingtuo Nickel Industry Co Ltd",
                    "Fujian Wuhang Stainless Steel Products Co Ltd",
                    "Fujian Yixin Steel Co Ltd",
                    "Fushun Hanking Direct Reduced Iron Co Ltd",
                    "Fushun New Steel Co Ltd",
                    "Fushun Special Steel Co Ltd",
                    "Fuzhou Wuhang Steel Products Co Ltd",
                    "Gansu Jiu Steel Group Hongxing Iron and Steel Co Ltd",
                    "Guangdong Guangqing Metal Technology Co Ltd",
                    "Guangdong Jingye Iron and Steel Co Ltd",
                    "Guangdong Jinshenglan Metallurgical Technology Co Ltd",
                    "Guangdong Nanfang Donghai Iron and Steel Co Ltd",
                    "GuangDong Xinxing Ductile Iron Pipes Co Ltd",
                    "Guangdong Yuebei United Steel Co Ltd",
                    "Guangshui Huaxin Metallurgical Industry Co Ltd",
                    "Guangxi Beigang New Material Co Ltd",
                    "Guangxi Chiji Iron and Steel Co Ltd",
                    "Guangxi Deyuan Metallurgy Co Ltd Heng County",
                    "Guangxi Deyuan Metallurgy Co Ltd Liujing Industrial Park",
                    "Guangxi Guifeng Special Steel Co Ltd",
                    "Guangxi Guigang Iron and Steel Group Co Ltd",
                    "Guangxi Guigang Iron and Steel Group Guigang Guibao Special Steel Co Ltd",
                    "Guangxi Guixin Iron and Steel Group Co Ltd",
                    "Guangxi Guixin Steel Manufacturing Co Ltd",
                    "Guangxi Hezhou Kexinda Metal Products Co Ltd",
                    "Guangxi Iron and Steel Group Co Ltd",
                    "Guangxi Liugang Zhongjin Stainless Steel Co Ltd",
                    "Guangxi Longzhou Zhongheng Wanhua Industrial Co Ltd",
                    "Guangxi Shenglong Metallurgical Co Ltd",
                    "Guangxi Wuzhou Jinhai Stainless Steel Co Ltd",
                    "Guilin Pinggang Iron and Steel Co Ltd",
                    "Guizhou Ganglian Industrial Group Co Ltd",
                    "Guizhou Hexing Steel Co Ltd",
                    "Guizhou Juxin Iron and Steel Group Co Ltd",
                    "Guizhou United Iron and Steel Group Co Ltd",
                    "Handan Iron and Steel Group Co Ltd",
                    "Hangang Longshan Iron and Steel Co Ltd",
                    "Hangda Steel Co Ltd",
                    "Hbis Laoting Steel Co Ltd",
                    "Hebei Anfeng Iron and Steel Co Ltd",
                    "Hebei Baoxin Iron and Steel Group Co Ltd",
                    "Hebei Bishi Inner Mongolia iron and steel plant",
                    "Hebei Donghai Special Steel Co Ltd",
                    "Hebei Huaxi Iron and Steel Co Ltd",
                    "Hebei Huaxi Special Steel Co Ltd",
                    "Hebei Huaxin Special Steel Co Ltd",
                    "Hebei Jinxi Iron and Steel Group Co Ltd",
                    "Hebei Longfengshan Casting Co Ltd",
                    "Hebei Mingbin Iron and Steel Co Ltd",
                    "Hebei Puyang Iron and Steel Co Ltd",
                    "Hebei Rongxin Steel Co Ltd",
                    "Hebei Taihang Iron and Steel Group Co Ltd",
                    "Hebei Tangyin Iron and Steel Co Ltd",
                    "Hebei Tangyin Iron and Steel Co Ltd Caofeidian base",
                    "Hebei Tianzhu Iron and Steel Group Co Ltd",
                    "Hebei Tianzhu Iron and Steel Group Co Ltd Fengrun Plant",
                    "Hebei Wenfeng Iron and Steel Co Ltd",
                    "Hebei Xin Wuan Steel Group Hongrong Iron and Steel Co Ltd",
                    "Hebei Xin Wuan Steel Group Wenan Iron and Steel Co Ltd",
                    "Hebei Xinda Iron and Steel Group Co Ltd",
                    "Hebei Xinghua Iron and Steel Co Ltd",
                    "Hebei Xinjin Iron and Steel Co Ltd",
                    "Hebei Xinwuan Iron and Steel Group Xinhui Metallurgy Co Ltd",
                    "Hebei Xinxing Ductile Iron Pipes Co Ltd",
                    "Hebei Yanshan Iron and Steel Group Co Ltd",
                    "Hebei Yongyang Special Steel Group Co Ltd",
                    "Hebei Zhangxuan High Tech Co Ltd",
                    "Hebei Zongheng Group Fengnan Iron and Steel Co Ltd",
                    "Heilongjiang Jianlong Iron and Steel Co Ltd",
                    "Henan Angang Zhoukou Iron and Steel Co Ltd",
                    "Henan Changtai Stainless Steel Plate Co Ltd",
                    "Henan Fengbao Special Steel Co Ltd",
                    "Henan Jinhui Industrial Group",
                    "Henan Jiyuan Iron and Steel Group Co Ltd",
                    "Henan Yaxin Iron and Steel Group Co Ltd",
                    "Hengyang Valin Steel Tube Co Ltd",
                    "Heping Yueshen Steel Industry Co Ltd",
                    "Heyuan Derun Steel Co Ltd Dongjiang Jinzhu Industrial Park",
                    "Heyuan Derun Steel Co Ltd LanTang Industrial Park",
                    "Hezhou Xindu Sanyuan Casting Co Ltd",
                    "Houying Group Haicheng Iron and Steel Co Ltd Datun Branch",
                    "Huainan Hongtai Iron and Steel Co Ltd",
                    "Huangshi Xingang Heavy Industry Technology Co Ltd",
                    "Hubei Dazhan Iron and Steel Co Ltd",
                    "Hubei Jinshenglan Metallurgical Technology Co Ltd",
                    "Hubei Lijin Steel Group Co Ltd",
                    "Hubei Shunle Steel Co Ltd plant",
                    "Hubei Wucheng Iron and Steel Group Co Ltd",
                    "Hunan Valin Lianyuan Iron and Steel Co Ltd",
                    "Hunan Valin Xiangtan Iron and Steel Co Ltd",
                    "Inner Mongolia Baotou Jiyu Iron and Steel Co Ltd Hondlon District",
                    "Inner Mongolia BaoTou Steel Union Co Ltd",
                    "Inner Mongolia Desheng Metal Products Co Ltd",
                    "Inner Mongolia Mingtuo Ferrite New Material Co Ltd",
                    "Inner Mongolia Wanzhou Special Steel Co Ltd",
                    "Inner Mongolia Yaxin Longshun Special Steel Co Ltd",
                    "Jianglong Acheng Iron and Steel Co Ltd",
                    "Jiangsu Binxin Steel Group Co Ltd",
                    "Jiangsu Changqiang Iron and Steel Co Ltd",
                    "Jiangsu Delong Nickel Industry Co Ltd",
                    "Jiangsu Hongtai Iron and Steel Co Ltd",
                    "Jiangsu Longyuan Steel Co",
                    "Jiangsu Shagang Group Huaigang Special Steel Co Ltd",
                    "Jiangsu Shente Steel Co Ltd",
                    "Jiangsu Suxin Special Steel Group Co Ltd",
                    "Jiangsu Xingda Steel Group",
                    "Jiangsu Xugang Iron and Steel Group Co Ltd",
                    "Jiangxi Taixin Iron and Steel Co Ltd",
                    "Jiangxi Yuanxing Iron and Steel Co Ltd",
                    "Jiangyin Huaxi Iron and Steel Co Ltd",
                    "Jiangyin Xicheng Steel Co Ltd",
                    "Jiangyin Xingcheng Special Steel Works Co Ltd",
                    "Jianlong Beiman Special Steel Co Ltd",
                    "Jianlong Xilin Iron and Steel Co Ltd",
                    "Jilin Jianlong Steel Co Ltd",
                    "Jilin Jingang Iron and Steel Co Ltd",
                    "Jilin Steel Group Fugang Metal Manufacturing Co Ltd",
                    "Jilin Steel Group Taihua Metal Equipment Manufacture Co Ltd",
                    "Jilin Xinda Iron and Steel Co Ltd",
                    "Jinan Iron and Steel Group Co Ltd",
                    "Jincheng Fusheng Iron and Steel Co Ltd",
                    "Jinding Heavy Industry Co Ltd",
                    "Jingye Iron and Steel Co Ltd",
                    "Jingzhou Qunli Metal Products Co Ltd",
                    "Jinye Iron and Steel Group Co Ltd",
                    "Jinzhou Jinxing Special Steel Company",
                    "Jishan Mingfu Steel Products Co Ltd",
                    "Jiugang Group Yuzhong Iron and Steel Co Ltd",
                    "Jiujiang Pinggang Iron and Steel Co Ltd",
                    "Laiwu Iron and Steel Group Yinshan Section Steel Co Ltd",
                    "Langfang Guangyuan Metalwork Co Ltd",
                    "Lanxin Steel Group Co Ltd plant",
                    "Lengshuijiang Steel Co Ltd",
                    "Lianfeng Steel Zhangjiagang Co Ltd",
                    "Lianyungang Huale Alloy Group Co Ltd",
                    "Lianyungang Xingxin Iron and Steel Co Ltd",
                    "Lianyungang Yaxin Iron and Steel Co Ltd",
                    "Liaoyang United Steel Co Ltd",
                    "Liaoyang Xinyi Special Steel Co Ltd",
                    "Licheng Taihang Iron and Steel Co Ltd",
                    "Lingyuan Iron and Steel Co Ltd",
                    "Linyi Iron and Steel Investment Group Co Ltd",
                    "Linyi Jiangxin Iron and Steel Co Ltd",
                    "Lishui Huahong Iron and Steel Products Co Ltd",
                    "Liuzhou Iron and Steel Co Ltd Liuzhou Base",
                    "Liyang Baorun Steel Co Ltd",
                    "Longnan Fuxin Iron and Steel Co Ltd",
                    "Luoyang Luogang Group of Steel and Iron Co Ltd",
                    "Luzhou Xinyang Vanadium Titanium Steel Co Ltd",
                    "Lvliang Jianlong Industrial Co Ltd",
                    "Maanshan Iron and Steel Co Ltd",
                    "Mintal Group DRI plant",
                    "Minyuan Iron and Steel Group Co Ltd",
                    "Nanjing Iron and Steel Co Ltd",
                    "Nanyang Hanye Special Steel Co Ltd",
                    "Ningbo Haoyang New Materials Techonology Co Ltd",
                    "Ningbo Iron and Steel Co Ltd",
                    "Ningxia Boyu Hongxing Special Steel Group Co",
                    "Ningxia Iron and Steel Group Co Ltd",
                    "Ningxia Jianlong Special Steel Co Ltd",
                    "Ningxia Xinghua Iron and Steel Co Ltd",
                    "Pangang Group Jiangyou Changcheng Special Steel Co Ltd",
                    "Pangang Group Panzhihua Steel Vanadium Co Ltd",
                    "Pangang Group Xichang Steel and Vanadium Co Ltd",
                    "Panshi Jianlong Iron and Steel Co Ltd",
                    "Pingxiang Pinggang Anyuan Iron and Steel Co Ltd",
                    "Posco Zhangjiagang Stainless Steel Co Ltd",
                    "Qian an Jiujiang Wire Co Ltd",
                    "Qian an Zhayi Steel Group Co Ltd",
                    "Qingdao Special Iron and Steel Co Ltd",
                    "Qinhuangdao Baigong Steel Co Ltd",
                    "Qinhuangdao Hongxing Iron and Steel Co Ltd",
                    "Quzhou Yuanli Metal Products Co Ltd",
                    "Rizhao Steel Holding Group Co Ltd",
                    "Rizhao Steel Yingkou Medium Plate Co Ltd",
                    "Sansteel Minguang Co Ltd Fujian plant",
                    "SGIS Songshan Co Ltd",
                    "Shaanxi Hanzhong Iron & Steel Group Company",
                    "Shaanxi Huaxin Special Steel Group Co Ltd",
                    "Shaanxi Longmen Steel Co Ltd",
                    "Shaanxi Lueyang Iron and Steel Co Ltd",
                    "Shaanxi Steel Group Hanzhong Iron and Steel Co Ltd",
                    "Shagang Group Anyang Yongxing Special Steel Co Ltd",
                    "Shandong Chuanyang Group Co Ltd",
                    "Shandong Fulun Iron and Steel Co Ltd",
                    "Shandong Guangfu Group Co Ltd",
                    "Shandong Iron and Steel Co Ltd Laiwu Branch Aishan Street",
                    "Shandong Iron and Steel Co Ltd Laiwu Branch Xinxing Road",
                    "Shandong Iron and Steel Group Rizhao Co Ltd",
                    "Shandong Iron and Steel Group Yongfeng Lingang Co Ltd",
                    "Shandong Iron and Steel Group Yongfeng Zibo Co Ltd",
                    "Shandong Laigang Yongfeng Steel Co Ltd",
                    "Shandong Longsheng Iron and Steel Co Ltd",
                    "Shandong Luli Steel Co Ltd",
                    "Shandong Minyuan Iron and Steel Co Ltd",
                    "Shandong Shouguang Juneng Special Steel Co Ltd",
                    "Shandong Taishan Steel Group Co Ltd",
                    "Shandong Xinhua Special Steel Group Co Ltd",
                    "Shanghai Meishan Iron and Steel Co Ltd",
                    "Shanxi Changxin Industrial Co Ltd",
                    "Shanxi Dongfang Hengliu Precision Casting Co",
                    "Shanxi Gaoyi Steel Co Ltd",
                    "Shanxi Hongda Iron and Steel Group Co Ltd",
                    "Shanxi Huaqiang Iron and Steel Co Ltd",
                    "Shanxi Huaxinyuan Steel and Iron Group Co Ltd",
                    "Shanxi Jianlong Industrial Co Ltd",
                    "Shanxi Jinnan Iron and Steel Group Co Ltd",
                    "Shanxi Liheng Steel Co Ltd",
                    "Shanxi Meijin Iron and Steel Co Ltd Dongyu Town",
                    "Shanxi Meijin Iron and Steel Co Ltd Yuanping City",
                    "Shanxi Taigang Stainless Steel Co Ltd",
                    "Shanxi Tongcai Industry and Trade Co Ltd",
                    "Shanxi Tongde Xinghua Special Steel Co Ltd",
                    "Shanxi Xintai Iron and Steel Co Ltd",
                    "Shanxi Zhongsheng Iron and Steel Co Ltd",
                    "Shanxi Zhongyang Iron and Steel Co Ltd",
                    "Shiheng Special Steel Group Co Ltd",
                    "Shijiazhuang Iron and Steel Co Ltd",
                    "Shijiazhuang Iron and Steel Co Ltd Special Steel Branch",
                    "Shiyan Fuyan Iron and Steel Co Ltd",
                    "Shiyan Yunyang District Rongfeng Iron and Steel Co Ltd",
                    "Shougang Changzhi Iron and Steel Co Ltd",
                    "Shougang Guiyang Special Steel Co Ltd",
                    "Shougang Jingtang United Iron and Steel Co Ltd",
                    "Shougang Qian an Iron and Steel Co Ltd",
                    "Shougang Shuicheng Iron and Steel Group Co Ltd",
                    "Sichuan Dazhou Iron and Steel Group Co Ltd",
                    "Sichuan Desheng Group Vanadium and Titanium Co Ltd",
                    "Sichuan Gangchen Stainless Steel Co Ltd",
                    "Sichuan Shehong Chuanzhong Construction Materials Co Ltd",
                    "Sichuan Shengquan Iron and Steel Group Co Ltd",
                    "Sichuan Yaan Anshan Iron and Steel Co Ltd",
                    "Tangshan Chunxing Special Steel Co Ltd",
                    "Tangshan Delong Iron and Steel Co Ltd",
                    "Tangshan Donghai Iron and Steel Group Co Ltd",
                    "Tangshan Donghua Iron and Steel Enterprise Group Co Ltd",
                    "Tangshan Fengnan District Jing an Iron and Steel Co Ltd",
                    "Tangshan Ganglu Iron and Steel Co Ltd",
                    "Tangshan Guotang Steel Co Ltd",
                    "Tangshan Guoyi Special Type Iron and Steel Co Ltd",
                    "Tangshan Iron and Steel Group Co Ltd",
                    "Tangshan Jianlong Special Steel Co Ltd",
                    "Tangshan Jinma Steel Group Co Ltd",
                    "Tangshan Medium Thick Plate Co Ltd",
                    "Tangshan Ruifeng Iron and Steel Group Co Ltd",
                    "Tangshan Songting Iron and Steel Co Ltd",
                    "Tangshan Stainless Steel Co Ltd",
                    "Tangshan Stainless Steel Co Ltd Guye District",
                    "Tangshan Wenfeng Special Steel Co Ltd",
                    "Tangshan Xinbaotai Iron and Steel Co Ltd",
                    "Tangshan Xinglong Iron and Steel Co Ltd",
                    "Tangshan Yutian Jinzhou Industrial Co Ltd",
                    "Tangshan Zhengfeng Steel Co Ltd",
                    "Tianjin Iron and Steel Group Co Ltd",
                    "Tianjin Iron Plant",
                    "Tianjin Metallurgy Group Zhasan Steel Co Ltd",
                    "Tianjin New Tiangang United Special Steel Co Ltd",
                    "Tianjin Pipe Corporation",
                    "Tianjin Rockcheck Steel Group Co Ltd",
                    "Tianjin Rongcheng Group Tangshan Fengrun Special Steel Co Ltd",
                    "Tianjin Rongcheng Group Tangshan Special Steel Co Ltd",
                    "Tianjin Tianfeng Steel Co Ltd",
                    "Tianjin Tianzhong Giant Heavy Industry Co Ltd",
                    "Tonghua Iron and Steel Co Ltd",
                    "Tongling Fuxin Iron and Steel Co Ltd",
                    "Tongling Xuanli Special Steel Co Ltd",
                    "Tongshan Liguo Iron and Steel Co Ltd",
                    "Weifang Special Steel Group Co Ltd",
                    "WISCO Group Kunming Steel Co Ltd Anning Branch",
                    "WISCO Group Kunming Steel Co Ltd Honghe Iron and Steel Company",
                    "WISCO Group Kunming Steel Co Ltd New District Branch",
                    "WISCO Group Kunming Steel Co Ltd Yuxi Xinxing Steel Company",
                    "WISCO Group Xiangyang Heavy Equipment Materials Co Ltd",
                    "Wu an Mingfang Iron and Steel Co Ltd",
                    "Wu an Yuhua Iron and Steel Co Ltd",
                    "Wu'an Yongcheng Zhuye Co Ltd",
                    "Wugang Zhongjia Iron and Steel Co Ltd",
                    "Wuhai Baogang Wanteng Iron and Steel Co Ltd",
                    "Wuhan Iron and Steel Co Ltd",
                    "Wuhan Shunle Stainless Steel Co Ltd",
                    "Wuhu Fuxin Iron and Steel Co Ltd",
                    "Wuhu Xinxing Ductile Iron Pipes Co Ltd",
                    "Wulanhot Steel Co Ltd",
                    "Wuxi Xinsanzhou Steel Co Ltd",
                    "Wuyang Iron and Steel Co Ltd",
                    "Wuzhou Yongda Iron and Steel Co Ltd",
                    "Wuzhou Yongda Special Steel Co Ltd",
                    "Xiangfen County Xingyuan Steel Group Co Ltd",
                    "Xiangfen County Xinjinshan Special Steel Co Ltd",
                    "Xingtai Iron and Steel Co Ltd",
                    "Xingtai Iron and Steel Co Ltd Weixian",
                    "Xining Special Steel Co Ltd",
                    "Xinji Aosen Iron and Steel Group Co Ltd",
                    "Xinjiang Daan Special Steel Co Ltd",
                    "Xinjiang Ka Steel Group Co",
                    "Xinjiang Kingtec Steel Co Ltd",
                    "Xinjiang Kunyu Iron and Steel Co Ltd",
                    "Xinjiang Minxin Iron and Steel Group Minhang Special Steel Co Ltd",
                    "Xinjiang Tianshan Iron and Steel Bazhou Co Ltd",
                    "Xinjiang Xinan Special Steel Co Ltd",
                    "Xinjiang Yili Iron and Steel Co Ltd",
                    "Xinyu Iron and Steel Group Co Ltd",
                    "Xiwang Metal Science Technology Co Ltd",
                    "Xuanhua Iron and Steel Group Co Ltd",
                    "Xuzhou Baofeng Special Steel Co Ltd",
                    "Xuzhou Jinhong Iron and Steel Group Co Ltd",
                    "Xuzhou Taifa Special Steel Group Co Ltd",
                    "Yancheng Lianxin Iron and Steel Co Ltd",
                    "Yangchun New Steel Co Ltd",
                    "Yangzhou Hengrun Ocean Heavy Industry Co Ltd",
                    "Yangzhou Qinyou Special Metal Materials Co Ltd",
                    "Yantai Walsin Stainless Steel Co Ltd",
                    "Yichang Fulong Iron and Steel Co Ltd",
                    "Yingkou Iron and Steel Co Ltd",
                    "Yunnan Desheng Iron and Steel Co Ltd",
                    "Yunnan Jingye Steel Co Ltd",
                    "Yunnan Qujing Iron and Steel Group Chenggang Iron and Steel Co Ltd",
                    "Yunnan Qujing Iron and Steel Group Fenghuang Steel Co Ltd",
                    "Yunnan Qujing Iron and Steel Group Yanggang Iron and Steel Co Ltd",
                    "Yunnan Tiangao Nickel Alloy Co Ltd",
                    "Yunnan Yuxi Iron and Steel Group Yukun Iron and Steel Co Ltd",
                    "Yunnan Yuxi Xianfu Iron and Steel Group Co Ltd",
                    "Zenith Steel Group Co Ltd",
                    "Zenith Steel Group Nantong Co Ltd",
                    "Zhangjiagang Hongchang Steel Co Ltd",
                    "Zhangjiagang Rongsheng Special Steel Co Ltd",
                    "Zhejiang Tsingshan Iron and Steel Co Ltd",
                    "Zhejiang Wantai Special Steel Co Ltd",
                    "Zhejiang Yuxin Industrial Co Ltd",
                    "Zhengzhou Yongtong Special Steel Co Ltd",
                    "Zhenshi Group Eastern Special Steel Co Ltd",
                    "Zhongpu Handan Iron and Steel Co Ltd",
                    "Zhongxin Iron and Steel Group Co Ltd",
                    "Zhongye Dongfang Jiangsu Heavy Industry Co Ltd",
                    "Zhuhai Yueyufeng Iron and Steel Co Ltd",
                    "Zibo Qilin Fushan Iron and Steel Co Ltd",
                    "Zunyi Changling Special Steel Co Ltd",
                    "Zunyi Fuxin Special Steel Equipment Manufacturing Co Ltd"
                  ],
                  "lat": {
                    "bdata": "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",
                    "dtype": "f8"
                  },
                  "legendgroup": "China",
                  "lon": {
                    "bdata": "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",
                    "dtype": "f8"
                  },
                  "marker": {
                    "color": "#000009",
                    "symbol": "circle"
                  },
                  "mode": "markers",
                  "name": "China",
                  "showlegend": true,
                  "type": "scattergeo"
                },
                {
                  "customdata": [
                    [
                      "Liberty Steel Group",
                      73
                    ],
                    [
                      "TRINECKÉ ZELEZÁRNY AS",
                      186
                    ]
                  ],
                  "geo": "geo",
                  "hovertemplate": "<b>%{hovertext}</b><br><br>Country/Area=Czech Republic<br>Latitude=%{lat}<br>Longitude=%{lon}<br>Owner=%{customdata[0]}<br>Plant age (years)=%{customdata[1]}<extra></extra>",
                  "hovertext": [
                    "GFG Liberty Ostrava steel plant",
                    "TZMS Třinecké železárny Trinec steel plant"
                  ],
                  "lat": {
                    "bdata": "bXGNz2TlSED4GoLjMthIQA==",
                    "dtype": "f8"
                  },
                  "legendgroup": "Czech Republic",
                  "lon": {
                    "bdata": "F9nO91NPMkAtXiwMkacyQA==",
                    "dtype": "f8"
                  },
                  "marker": {
                    "color": "#000010",
                    "symbol": "circle"
                  },
                  "mode": "markers",
                  "name": "Czech Republic",
                  "showlegend": true,
                  "type": "scattergeo"
                },
                {
                  "customdata": [
                    [
                      "AlGioshy Steel SAE",
                      10
                    ],
                    [
                      "Al Ezz Dekheila Steel Company Alexandria SAE",
                      39
                    ],
                    [
                      "Delta Steel Company Ltd",
                      78
                    ],
                    [
                      "Egyptian American Steel Rolling Company SAE",
                      27
                    ],
                    [
                      "Egyptian Iron & Steel Co",
                      64
                    ],
                    [
                      "Egyptian Sponge Iron & Steel Company SAE",
                      17
                    ],
                    [
                      "Egyptian Steel Group",
                      7
                    ],
                    [
                      "Egyptian Steel Group",
                      9
                    ],
                    [
                      "Al Ezz Flat Steel Company SAE",
                      27
                    ],
                    [
                      "Ezz Steel Co",
                      31
                    ],
                    [
                      "Hebei Xinfeng High-pressure Flange and Pipe Fitting Co Ltd",
                      null
                    ],
                    [
                      "SMS Group GmbH",
                      null
                    ],
                    [
                      "unknown",
                      0
                    ],
                    [
                      "Suez Steel Company SAE",
                      25
                    ]
                  ],
                  "geo": "geo",
                  "hovertemplate": "<b>%{hovertext}</b><br><br>Country/Area=Egypt<br>Latitude=%{lat}<br>Longitude=%{lon}<br>Owner=%{customdata[0]}<br>Plant age (years)=%{customdata[1]}<extra></extra>",
                  "hovertext": [
                    "Al Gioshy Steel Ain Sokhna plant",
                    "Al-Ezz Dekheila Steel Alexandria plant",
                    "Delta Steel Mill Al Qalyubia plant",
                    "Egyptian American Steel Rolling Company Sadat City plant",
                    "Egyptian Iron & Steel Company Cairo plant",
                    "Egyptian Sponge Iron and Steel Company Sadat City plant",
                    "Egyptian Steel Ain Sokhna plant",
                    "Egyptian Steel Beni Suef plant",
                    "Ezz Flat Steel Ain Sokhna plant",
                    "Ezz Steel Rebar Sadat City plant",
                    "Hebei Xinfeng Suez Canal Economic Zone",
                    "SMS Group DRI Plant",
                    "Suez Canal Economic Zone steel complex",
                    "Suez Steel Solb Misr Attaka plant"
                  ],
                  "lat": {
                    "bdata": "hDF9CtusPUCfIoeImx8/QIPdsG1RHj5AGXRC6KBjPkAlICbhQsY9QJC+SdOgZD5APfIHA8+lPUDl7QinBSc9QD5cctwpsT1Azjeie9ZhPkDmBdhHp7Y9QCJvufqxyTpAmPijqDO7PUC9cyhDVew9QA==",
                    "dtype": "f8"
                  },
                  "legendgroup": "Egypt",
                  "lon": {
                    "bdata": "Dpk8r8ImQEDzAuyjU889QMqK4eoASD9AVMcqpWeSPkBG7X4V4E8/QMrgKHl1lj5AXW3F/rIjQEBIG0esxT8/QCk+PiE7KUBAGLMlqyKQPkBWgsXhzCdAQHDP86eNkj5ADeGYZU8mQECP3nAfuTtAQA==",
                    "dtype": "f8"
                  },
                  "marker": {
                    "color": "#000001",
                    "symbol": "circle"
                  },
                  "mode": "markers",
                  "name": "Egypt",
                  "showlegend": true,
                  "type": "scattergeo"
                },
                {
                  "customdata": [
                    [
                      "Ekos Steel Mill PLC",
                      7
                    ]
                  ],
                  "geo": "geo",
                  "hovertemplate": "<b>%{hovertext}</b><br><br>Country/Area=Ethiopia<br>Latitude=%{lat}<br>Longitude=%{lon}<br>Owner=%{customdata[0]}<br>Plant age (years)=%{customdata[1]}<extra></extra>",
                  "hovertext": [
                    "Ekos Steel Dukem plant"
                  ],
                  "lat": {
                    "bdata": "uTZUjPOPIUA=",
                    "dtype": "f8"
                  },
                  "legendgroup": "Ethiopia",
                  "lon": {
                    "bdata": "hV/q5013Q0A=",
                    "dtype": "f8"
                  },
                  "marker": {
                    "color": "#000002",
                    "symbol": "circle"
                  },
                  "mode": "markers",
                  "name": "Ethiopia",
                  "showlegend": true,
                  "type": "scattergeo"
                },
                {
                  "customdata": [
                    [
                      "Blastr Green Steel AS",
                      null
                    ],
                    [
                      "GravitHy",
                      null
                    ],
                    [
                      "Outokumpu Stainless AB",
                      49
                    ],
                    [
                      "Ovako AB",
                      90
                    ],
                    [
                      "SSAB AB",
                      61
                    ]
                  ],
                  "geo": "geo",
                  "hovertemplate": "<b>%{hovertext}</b><br><br>Country/Area=Finland<br>Latitude=%{lat}<br>Longitude=%{lon}<br>Owner=%{customdata[0]}<br>Plant age (years)=%{customdata[1]}<extra></extra>",
                  "hovertext": [
                    "Blastr Inkoo steel plant",
                    "GravitHy Kristinestad iron plant",
                    "Outokumpu Tornio steel plant",
                    "Ovako Imatra steel plant",
                    "SSAB Raahe steel plant"
                  ],
                  "lat": {
                    "bdata": "CtejcD0CTkCHNgAbECNPQFlRg2kYcVBAle6usyGTTkA3xHjNqylQQA==",
                    "dtype": "f8"
                  },
                  "legendgroup": "Finland",
                  "lon": {
                    "bdata": "YVRSJ6DpN0CYio15HWE1QOOo3EQtLThAJuXuc3zMPEDh7xezJWs4QA==",
                    "dtype": "f8"
                  },
                  "marker": {
                    "color": "#000003",
                    "symbol": "circle"
                  },
                  "mode": "markers",
                  "name": "Finland",
                  "showlegend": true,
                  "type": "scattergeo"
                },
                {
                  "customdata": [
                    [
                      "ArcelorMittal Atlantique et Lorraine SAS",
                      62
                    ],
                    [
                      "ArcelorMittal Atlantique et Lorraine SAS",
                      112
                    ],
                    [
                      "ArcelorMittal Méditerranée SAS",
                      51
                    ],
                    [
                      "Ascometal France Holding SAS",
                      113
                    ],
                    [
                      "Celsa France SAS",
                      60
                    ],
                    [
                      "GravitHy",
                      null
                    ],
                    [
                      "Liberty Steel Group",
                      null
                    ],
                    [
                      "Lamines Marchands Europeens SA",
                      150
                    ],
                    [
                      "Marcegaglia Holding SpA",
                      52
                    ],
                    [
                      "ALPA - Aciéries et Laminoirs de Paris SAS",
                      51
                    ],
                    [
                      "Iton Seine SAS",
                      109
                    ],
                    [
                      "Sam Montereau SAS",
                      52
                    ],
                    [
                      "Societe des Aciers d'Armature pour le Beton SAS",
                      153
                    ],
                    [
                      "Saarstahl AG",
                      50
                    ]
                  ],
                  "geo": "geo",
                  "hovertemplate": "<b>%{hovertext}</b><br><br>Country/Area=France<br>Latitude=%{lat}<br>Longitude=%{lon}<br>Owner=%{customdata[0]}<br>Plant age (years)=%{customdata[1]}<extra></extra>",
                  "hovertext": [
                    "ArcelorMittal Dunkerque steel plant",
                    "ArcelorMittal Florange steel plant",
                    "ArcelorMittal Méditerranée Fos sur Mer steel plant",
                    "Ascometal Hagondange steel plant",
                    "Celsa France Boucau steel plant",
                    "GravitHy Fos sur Mer iron plant",
                    "Liberty Steel Dunkerque DRI plant",
                    "LME Trith-Saint-Léger steel plant",
                    "Marcegaglia Fos Sur Mer steel plant",
                    "Riva Alpa Gargenville steel plant",
                    "Riva Iton Seine Bonnieres Sur Seine steel plant",
                    "Riva Sam Montereau steel plant",
                    "Riva Sam Neuves-Maisons steel plant",
                    "Saarstahl Ascoval Saint-Saulve steel plant"
                  ],
                  "lat": {
                    "bdata": "ahZod0iFSUCOrtLddapIQCVdM/lmt0VAcR+5NemeSEDH9e/6zMNFQJOKxtrft0VAuRluwOd/SUDu68A5IypJQGpLHeT1uEVADhDM0eN9SEAfTIqPT4RIQGPTSiGQMUhA3QvMCkVOSECZm29E9zJJQA==",
                    "dtype": "f8"
                  },
                  "legendgroup": "France",
                  "lon": {
                    "bdata": "ym37HvVXAkCPUDOkipIYQBd+cD51jBNAUWwFTUucGEAh6dMq+gP4vwFr1a4JaRNAoG6gwDtZAUAyc4HLY+0LQGxblNkgYxNA+1xtxf4y/D9aYmU08vn4PxIz+zxG2QdAI2b2eYxyGECAKm7cYn4MQA==",
                    "dtype": "f8"
                  },
                  "marker": {
                    "color": "#000004",
                    "symbol": "circle"
                  },
                  "mode": "markers",
                  "name": "France",
                  "showlegend": true,
                  "type": "scattergeo"
                },
                {
                  "customdata": [
                    [
                      "AG der Dillinger Hüttenwerke AG",
                      56
                    ],
                    [
                      "ArcelorMittal Bremen GmbH",
                      68
                    ],
                    [
                      "ArcelorMittal Duisburg GmbH",
                      173
                    ],
                    [
                      "ArcelorMittal Eisenhüttenstadt GmbH",
                      75
                    ],
                    [
                      "ArcelorMittal Hamburg GmbH",
                      56
                    ],
                    [
                      "Benteler Steel/Tube GmbH",
                      51
                    ],
                    [
                      "Stahlwerk Thueringen GmbH",
                      147
                    ],
                    [
                      "Deutsche Edelstahlwerke GmbH",
                      98
                    ],
                    [
                      "ESF Elbe-Stahlwerke Feralpi GmbH",
                      33
                    ],
                    [
                      "Georgsmarienhuette GmbH",
                      169
                    ],
                    [
                      "Hüttenwerke Krupp Mannesmann GmbH",
                      116
                    ],
                    [
                      "Badische Stahlwerke GmbH",
                      70
                    ],
                    [
                      "Lech Stahlwerke GmbH",
                      55
                    ],
                    [
                      "BES Brandenburger Elektrostahlwerke GmbH",
                      113
                    ],
                    [
                      "HES Hennigsdorfer Elektrostahlwerke GmbH",
                      108
                    ],
                    [
                      "Saarstahl AG",
                      152
                    ],
                    [
                      "Salzgitter Flachstahl GmbH",
                      24
                    ],
                    [
                      "Peiner Traeger GmbH",
                      167
                    ],
                    [
                      "Thyssenkrupp Steel Europe AG",
                      134
                    ]
                  ],
                  "geo": "geo",
                  "hovertemplate": "<b>%{hovertext}</b><br><br>Country/Area=Germany<br>Latitude=%{lat}<br>Longitude=%{lon}<br>Owner=%{customdata[0]}<br>Plant age (years)=%{customdata[1]}<extra></extra>",
                  "hovertext": [
                    "AG der Dillinger Hüttenwerke Dillingen steel plant",
                    "ArcelorMittal Bremen steel plant",
                    "ArcelorMittal Duisburg steel plant",
                    "ArcelorMittal Eisenhüttenstadt steel plant",
                    "ArcelorMittal Hamburg steel plant",
                    "Benteler Steel Tube Lingen plant",
                    "CSN Stahlwerk Thüringen Unterwellenborn steel plant",
                    "Deutsche Edelstahlwerke steel plant",
                    "ESF Elbe Stahlwerke Feralpi Riesa plant",
                    "Georgsmarienhütte Osnabrück steel plant",
                    "Hüttenwerke Krupp Mannesmann (HKM) steel plant",
                    "Kehler Baden Steel Works",
                    "Lech Stahlwerke Meitingen steel plant",
                    "Riva Brandenburg Electric Steel Works",
                    "Riva Hennigsdorfer Electric Steel Works",
                    "Saarstahl Völklingen Steelmaking Plant",
                    "Salzgitter Flachstahl steel plant",
                    "Salzgitter Peiner Träger Peine steel plant",
                    "ThyssenKrupp Steel Duisburg steel plant"
                  ],
                  "lat": {
                    "bdata": "8UknEkytSEBXsmMjEJFKQJC8cyhDu0lAZsBZSpYVSkCv7e2W5MJKQO9xpgnbO0pA7GexFMlTSUCop4/AH3ZJQCsYldQJqElAOA/MdiobSkCGWP0Rhq9JQJGcTNwqTEhAKnEd44pBSEAl6C/0iDNKQCTvHMpQU0pAKCzxgLKfSEAyWHGqtRRKQO4IpwUvKEpAOQ68Wu6+SUA=",
                    "dtype": "f8"
                  },
                  "legendgroup": "Germany",
                  "lon": {
                    "bdata": "yGEwf4X8GkAZrDjVWmAhQCzWcJF7+hpAxuBh2jc/LUA1zxH5Ls0jQFg4SfPHRB1AOUVHcvnfJkDI0LGDSgwgQDSD+MCOjypA4yB8g4oVIECiemtgq+QaQOpBQSlaSR9AlQ9B1ei1JUBLzR5oBf4oQJHUQsnkbCpAi269pgdlG0CU3GETmdEkQJg1scBXhCRATDPd66TuGkA=",
                    "dtype": "f8"
                  },
                  "marker": {
                    "color": "#000005",
                    "symbol": "circle"
                  },
                  "mode": "markers",
                  "name": "Germany",
                  "showlegend": true,
                  "type": "scattergeo"
                },
                {
                  "customdata": [
                    [
                      "Sentuo Steel Ltd",
                      10
                    ]
                  ],
                  "geo": "geo",
                  "hovertemplate": "<b>%{hovertext}</b><br><br>Country/Area=Ghana<br>Latitude=%{lat}<br>Longitude=%{lon}<br>Owner=%{customdata[0]}<br>Plant age (years)=%{customdata[1]}<extra></extra>",
                  "hovertext": [
                    "Sentuo Steel Tema plant"
                  ],
                  "lat": {
                    "bdata": "g4IT3xyuFkA=",
                    "dtype": "f8"
                  },
                  "legendgroup": "Ghana",
                  "lon": {
                    "bdata": "jPzHbJo8kD8=",
                    "dtype": "f8"
                  },
                  "marker": {
                    "color": "#000006",
                    "symbol": "circle"
                  },
                  "mode": "markers",
                  "name": "Ghana",
                  "showlegend": true,
                  "type": "scattergeo"
                },
                {
                  "customdata": [
                    [
                      "Halyvourgiki SA",
                      91
                    ],
                    [
                      "Hellenic Halyvourgia SA",
                      62
                    ],
                    [
                      "Sidenor Steel Industry SA",
                      63
                    ],
                    [
                      "Sovel SA",
                      24
                    ]
                  ],
                  "geo": "geo",
                  "hovertemplate": "<b>%{hovertext}</b><br><br>Country/Area=Greece<br>Latitude=%{lat}<br>Longitude=%{lon}<br>Owner=%{customdata[0]}<br>Plant age (years)=%{customdata[1]}<extra></extra>",
                  "hovertext": [
                    "Halyvourgiki Eleusis steel plant",
                    "Hellenic Halyvourgia Velestino steel plant",
                    "Sidenor Steel Industry Thessaloniki plant",
                    "Sovel Almyros steel plant"
                  ],
                  "lat": {
                    "bdata": "tRZmoZ0FQ0AaFw6EZLFDQOqzA64rWkRAcy1agLaVQ0A=",
                    "dtype": "f8"
                  },
                  "legendgroup": "Greece",
                  "lon": {
                    "bdata": "UKc8uhGCN0C7Jw8Ltc42QHjPgeUI0TZAcZNRZRjXNkA=",
                    "dtype": "f8"
                  },
                  "marker": {
                    "color": "#000007",
                    "symbol": "circle"
                  },
                  "mode": "markers",
                  "name": "Greece",
                  "showlegend": true,
                  "type": "scattergeo"
                },
                {
                  "customdata": [
                    [
                      "Corporación AG SA",
                      31
                    ]
                  ],
                  "geo": "geo",
                  "hovertemplate": "<b>%{hovertext}</b><br><br>Country/Area=Guatemala<br>Latitude=%{lat}<br>Longitude=%{lon}<br>Owner=%{customdata[0]}<br>Plant age (years)=%{customdata[1]}<extra></extra>",
                  "hovertext": [
                    "AG Sidegua Masagua steel plant"
                  ],
                  "lat": {
                    "bdata": "2uIan8l2LEA=",
                    "dtype": "f8"
                  },
                  "legendgroup": "Guatemala",
                  "lon": {
                    "bdata": "C+4HPDC0VsA=",
                    "dtype": "f8"
                  },
                  "marker": {
                    "color": "#000008",
                    "symbol": "circle"
                  },
                  "mode": "markers",
                  "name": "Guatemala",
                  "showlegend": true,
                  "type": "scattergeo"
                },
                {
                  "customdata": [
                    [
                      "Shiu Wing Steel Ltd",
                      0
                    ]
                  ],
                  "geo": "geo",
                  "hovertemplate": "<b>%{hovertext}</b><br><br>Country/Area=Hong Kong<br>Latitude=%{lat}<br>Longitude=%{lon}<br>Owner=%{customdata[0]}<br>Plant age (years)=%{customdata[1]}<extra></extra>",
                  "hovertext": [
                    "Shiu Wing Tuen Mun Steel plant"
                  ],
                  "lat": {
                    "bdata": "+u/Ba5deNkA=",
                    "dtype": "f8"
                  },
                  "legendgroup": "Hong Kong",
                  "lon": {
                    "bdata": "Tn/2I0V7XEA=",
                    "dtype": "f8"
                  },
                  "marker": {
                    "color": "#000009",
                    "symbol": "circle"
                  },
                  "mode": "markers",
                  "name": "Hong Kong",
                  "showlegend": true,
                  "type": "scattergeo"
                },
                {
                  "customdata": [
                    [
                      "Liberty Steel Group",
                      71
                    ]
                  ],
                  "geo": "geo",
                  "hovertemplate": "<b>%{hovertext}</b><br><br>Country/Area=Hungary<br>Latitude=%{lat}<br>Longitude=%{lon}<br>Owner=%{customdata[0]}<br>Plant age (years)=%{customdata[1]}<extra></extra>",
                  "hovertext": [
                    "Liberty Steel Dunaferr Dunaújváros steel plant"
                  ],
                  "lat": {
                    "bdata": "AANBgAx5R0A=",
                    "dtype": "f8"
                  },
                  "legendgroup": "Hungary",
                  "lon": {
                    "bdata": "YwtBDkrwMkA=",
                    "dtype": "f8"
                  },
                  "marker": {
                    "color": "#000010",
                    "symbol": "circle"
                  },
                  "mode": "markers",
                  "name": "Hungary",
                  "showlegend": true,
                  "type": "scattergeo"
                },
                {
                  "customdata": [
                    [
                      "Action Ispat and Power Pvt Ltd",
                      null
                    ],
                    [
                      "Adhunik Metaliks Ltd",
                      22.36
                    ],
                    [
                      "ArcelorMittal SA",
                      null
                    ],
                    [
                      "ArcelorMittal Nippon Steel India Ltd",
                      null
                    ],
                    [
                      "ArcelorMittal Nippon Steel India Ltd",
                      null
                    ],
                    [
                      "ArcelorMittal Nippon Steel India Ltd",
                      30
                    ],
                    [
                      "ArcelorMittal Nippon Steel India Ltd",
                      null
                    ],
                    [
                      "ArcelorMittal Nippon Steel India Ltd",
                      null
                    ],
                    [
                      "Arjas Steel Pvt Ltd",
                      12.86
                    ],
                    [
                      "Atibir Industries Co Ltd",
                      16
                    ],
                    [
                      "Baldota Steel and Power Ltd",
                      null
                    ],
                    [
                      "BMM Ispat Ltd",
                      19
                    ],
                    [
                      "Captain Steel India Ltd",
                      null
                    ],
                    [
                      "Crest Steel and Power Pvt Ltd",
                      null
                    ],
                    [
                      "ESL Steel Ltd",
                      19
                    ],
                    [
                      "Electrosteel Castings Ltd",
                      31
                    ],
                    [
                      "Evonith Metallics Ltd",
                      31
                    ],
                    [
                      "Evonith Metallics Ltd",
                      55
                    ],
                    [
                      "Gallantt Ispat Ltd",
                      null
                    ],
                    [
                      "Godawari Power and Ispat Ltd",
                      null
                    ],
                    [
                      "Godawari Power and Ispat Ltd",
                      24
                    ],
                    [
                      "Hospet Steels Ltd",
                      27
                    ],
                    [
                      "Jai Balaji Industries Ltd",
                      16
                    ],
                    [
                      "Jai Balaji Jyoti Steels Ltd",
                      22
                    ],
                    [
                      "Jai Balaji Industries Ltd",
                      null
                    ],
                    [
                      "Jai Balaji Steels Purulia Ltd",
                      null
                    ],
                    [
                      "Jayaswal Neco Industries Ltd",
                      29
                    ],
                    [
                      "Jindal Stainless Ltd",
                      55
                    ],
                    [
                      "Jindal Stainless Ltd",
                      14
                    ],
                    [
                      "Jindal Steel Odisha Ltd",
                      0
                    ],
                    [
                      "Jindal Steel & Power Ltd",
                      12
                    ],
                    [
                      "Jindal Steel & Power Ltd",
                      null
                    ],
                    [
                      "Jindal Steel & Power Ltd",
                      null
                    ],
                    [
                      "Jindal Steel & Power Ltd",
                      null
                    ],
                    [
                      "Jindal Steel & Power Ltd",
                      36
                    ],
                    [
                      "JSW Bengal Steel Ltd",
                      null
                    ],
                    [
                      "Bhushan Power & Steel Ltd",
                      null
                    ],
                    [
                      "JSW Steel Ltd",
                      20
                    ],
                    [
                      "JSW Green Steel Ltd",
                      32
                    ],
                    [
                      "JSW JFE Electrical Steel Pvt Ltd",
                      null
                    ],
                    [
                      "JSW Steel Ltd",
                      null
                    ],
                    [
                      "POSCO Holdings Inc; JSW Steel Ltd",
                      null
                    ],
                    [
                      "JSW Steel Ltd",
                      31
                    ],
                    [
                      "JSW Steel Ltd",
                      null
                    ],
                    [
                      "JSW Jharkhand Steel Ltd",
                      null
                    ],
                    [
                      "JSW Ispat Special Products Ltd",
                      17
                    ],
                    [
                      "JSW Steel Ltd",
                      27
                    ],
                    [
                      "JSW Steel Ltd",
                      31
                    ],
                    [
                      "JSW Utkal Steel Ltd",
                      null
                    ],
                    [
                      "JSW Vijayanagar Metallics Ltd",
                      1
                    ],
                    [
                      "Kalyani Steels Ltd",
                      null
                    ],
                    [
                      "KIC Metaliks Ltd",
                      27.61
                    ],
                    [
                      "Lloyds Metals and Energy Ltd",
                      30
                    ],
                    [
                      "Lloyds Metals and Energy Ltd",
                      2
                    ],
                    [
                      "Mesco Kalinga Steel Ltd",
                      20
                    ],
                    [
                      "Mono Steel (India) Ltd",
                      35
                    ],
                    [
                      "MSP Steel & Power Ltd",
                      23
                    ],
                    [
                      "NR Ispat and Power Pvt Ltd",
                      17
                    ],
                    [
                      "Neelachal Ispat Nigam Ltd",
                      43
                    ],
                    [
                      "Nilachal Iron & Power Ltd",
                      23
                    ],
                    [
                      "NMDC Steel Ltd",
                      null
                    ],
                    [
                      "NMDC Steel Ltd",
                      2.03
                    ],
                    [
                      "Orissa Metallurgical Industry Pvt Ltd",
                      null
                    ],
                    [
                      "Orissa Metaliks Pvt Ltd",
                      4
                    ],
                    [
                      "Orissa Metaliks Pvt Ltd",
                      8
                    ],
                    [
                      "Orissa Metaliks Pvt Ltd",
                      17
                    ],
                    [
                      "Orissa Sponge Iron and Steel Ltd",
                      30
                    ],
                    [
                      "Orissa Steel & Power Pvt Ltd",
                      null
                    ],
                    [
                      "Prakash Industries Ltd",
                      32
                    ],
                    [
                      "Prakash Sponge Iron and Power Pvt Ltd",
                      null
                    ],
                    [
                      "Ramsarup Industries Ltd",
                      18
                    ],
                    [
                      "Rashmi Green Hydrogen Steel Pvt Ltd",
                      null
                    ],
                    [
                      "Rashmi Metaliks Ltd",
                      null
                    ],
                    [
                      "Rashmi Metaliks Ltd",
                      21
                    ],
                    [
                      "Rashtriya Ispat Nigam Ltd",
                      36
                    ],
                    [
                      "Rungta Mines Ltd",
                      null
                    ],
                    [
                      "Rungta Mines Ltd",
                      4
                    ],
                    [
                      "Rungta Mines Ltd",
                      null
                    ],
                    [
                      "Rungta Mines Ltd",
                      0
                    ],
                    [
                      "Rungta Mines Ltd",
                      19
                    ],
                    [
                      "Steel Authority of India Ltd",
                      60.69
                    ],
                    [
                      "Steel Authority of India Ltd",
                      66
                    ],
                    [
                      "Steel Authority of India Ltd",
                      53
                    ],
                    [
                      "Steel Authority of India Ltd",
                      66
                    ],
                    [
                      "Steel Authority of India Ltd",
                      107
                    ],
                    [
                      "Steel Authority of India Ltd",
                      0
                    ],
                    [
                      "Steel Authority of India Ltd",
                      66
                    ],
                    [
                      "Shakambhari Ispat & Power Ltd",
                      24
                    ],
                    [
                      "Shri Bajrang Power and Ispat Ltd",
                      12
                    ],
                    [
                      "Shyam Metalics and Energy Ltd",
                      12
                    ],
                    [
                      "Shyam Metalics and Energy Ltd",
                      19
                    ],
                    [
                      "Shyam Steel Manufacturing Ltd",
                      null
                    ],
                    [
                      "Shyam Steel Industries Ltd",
                      1
                    ],
                    [
                      "Sunflag Iron and Steel Co Ltd",
                      36
                    ],
                    [
                      "Surjagad Ispat Pvt Ltd",
                      null
                    ],
                    [
                      "Swadesh Metallics Pvt Ltd",
                      null
                    ],
                    [
                      "Tata Metaliks Ltd",
                      35
                    ],
                    [
                      "Tata Steel BSL Ltd",
                      18
                    ],
                    [
                      "Tata Steel Ltd",
                      113
                    ],
                    [
                      "Tata Steel Ltd",
                      9
                    ],
                    [
                      "Tata Steel Long Products Ltd",
                      54
                    ],
                    [
                      "Tata Steel Ltd",
                      null
                    ],
                    [
                      "Uttam Galva Ferous Ltd",
                      null
                    ],
                    [
                      "Vardhman Special Steels Limited",
                      null
                    ],
                    [
                      "Vedanta Iron and Steel Ltd",
                      33
                    ],
                    [
                      "Welspun Corp Ltd",
                      21
                    ],
                    [
                      "Xindia Steels Ltd",
                      null
                    ],
                    [
                      "Yazdani Steel and Power Ltd",
                      22
                    ]
                  ],
                  "geo": "geo",
                  "hovertemplate": "<b>%{hovertext}</b><br><br>Country/Area=India<br>Latitude=%{lat}<br>Longitude=%{lon}<br>Owner=%{customdata[0]}<br>Plant age (years)=%{customdata[1]}<extra></extra>",
                  "hovertext": [
                    "Action Ispat and Power Jharsuguda steel plant",
                    "Adhunik Metaliks Kuanrmunda steel plant",
                    "ArcelorMittal Bellary steel plant",
                    "ArcelorMittal Nippon Steel Anakapalle steel plant",
                    "ArcelorMittal Nippon Steel Gadchiroli steel plant",
                    "ArcelorMittal Nippon Steel Hazira Plant",
                    "ArcelorMittal Nippon Steel Kendrapara plant",
                    "ArcelorMittal Nippon Steel Paradip Steel Plant",
                    "Arjas Steel Tadipatri plant",
                    "Atibir Industries Bhorandiha steel plant",
                    "Baldota Koppal steel plant",
                    "BMM Ispat Danapur steel plant",
                    "Captain Steel Garbeta steel plant",
                    "Crest Steel and Power Mangatta Steel Plant",
                    "Electrosteel Bokaro steel plant",
                    "Electrosteel Castings Srikalahasthi Steel Plant",
                    "Evonith Metallics Wardha Steel Plant",
                    "Evonith Value Steel Wardha Steel Plant",
                    "Gallantt Ispat Gorakhpur steel plant",
                    "Godawari Power and Ispat Sarora Steel Plant",
                    "Godawari Power and Ispat Siltara steel plant",
                    "Hospet Steels Hospet plant",
                    "Jai Balaji Durgapur Unit IV steel plant",
                    "Jai Balaji Jyoti Steels Sundargarh plant",
                    "Jai Balaji Rajbandh Unit III steel plant",
                    "Jai Balaji Steels Raghunnathpur plant",
                    "Jayaswal Neco Industries Raipur steel plant",
                    "Jindal Stainless Hisar steel plant",
                    "Jindal Stainless Jajpur steel plant",
                    "JSOL Angul steel plant",
                    "JSPL Angul steel plant",
                    "JSPL Asanboni Steel Plant",
                    "JSPL Krishnapatnam steel plant",
                    "JSPL Patratu steel plant",
                    "JSPL Raigarh steel plant",
                    "JSW Bengal Steel Salboni plant",
                    "JSW BPSL Jharkhand steel plant",
                    "JSW BPSL Jharsuguda steel plant",
                    "JSW Green Steel Salav plant",
                    "JSW JFE Electrical Bellary Steel plant",
                    "JSW Kadapa steel plant",
                    "JSW POSCO Keonjhar steel plant",
                    "JSW Steel Dolvi steel plant",
                    "JSW Steel Gadchiroli steel plant",
                    "JSW Steel Jharkhand steel plant",
                    "JSW Steel Raigarh steel plant",
                    "JSW Steel Salem steel plant",
                    "JSW Steel Vijayanagar steel plant",
                    "JSW Utkal Steel Rajnagar plant",
                    "JSW Vijayanagar Metallics steel plant",
                    "Kalyani Steels Dhenkanal steel plant",
                    "KIC Metaliks Durgapur steel plant",
                    "Lloyds Metals and Energy Ltd Ghugus Steel Plant",
                    "Lloyds Metals and Energy Ltd Konsari Steel Plant",
                    "Mesco Steel Kalinganagar plant",
                    "Mono Steel Gandhidham plant",
                    "MSP Steel & Power Raigarh plant",
                    "N R Ispat and Power Raigarh steel plant",
                    "Neelachal Ispat Nigam steel plant",
                    "Nilachal Iron & Power Gamharia Steel Plant",
                    "NMDC Karnataka steel plant",
                    "NMDC Nagarnar steel plant",
                    "OMPL Jharsuguda Steel Plant",
                    "Orissa Alloy Steel Kharagpur Plant",
                    "Orissa Metaliks Kharagpur Steel Plant",
                    "Orissa Metaliks Markuta steel plant",
                    "Orissa Sponge Iron and Steel plant",
                    "Orissa Steel and Power Jhargram Steel Plant",
                    "Prakash Industries Janjgir steel plant",
                    "Prakash Sponge Iron and Power Challakere Steel Plant",
                    "Ramsarup Industries Kharagpur steel plant",
                    "Rashmi Green Hydrogen Steel Kharagpur steel plant",
                    "Rashmi Metaliks Jamuria steel plant",
                    "Rashmi Metaliks Kharagpur steel plant",
                    "RINL Vizag Steel plant",
                    "Rungta Mines Chaliyama steel plant",
                    "Rungta Mines Dhenkanal steel plant",
                    "Rungta Mines Kamanda steel plant",
                    "Rungta Mines Karakhendra Steel Plant",
                    "Rungta Mines Karakolha sponge iron plant",
                    "SAIL Alloy Steel Plant",
                    "SAIL Bhilai steel plant",
                    "SAIL Bokaro steel plant",
                    "SAIL Durgapur steel plant",
                    "SAIL IISCO steel plant",
                    "SAIL Paradip steel plant",
                    "SAIL Rourkela steel plant",
                    "Shakambhari Ispat and Power Purulia Steel Plant",
                    "Shri Bajrang Power & Ispat Tilda Steel Plant",
                    "Shyam Metalics Jamuria Steel Plant",
                    "Shyam Metalics Sambalpur Steel Plant",
                    "Shyam Steel Mejia Steel Plant",
                    "Shyam Steel Raghunathpur Steel Plant",
                    "Sunflag Iron and Steel plant",
                    "Surjagad Ispat Gadchiroli steel plant",
                    "Swadesh Metallics Simga Steel Plant",
                    "Tata Metaliks Kharagpur steel plant",
                    "Tata Steel BSL Meramandali steel plant",
                    "Tata Steel Jamshedpur steel plant",
                    "Tata Steel Kalinganagar steel plant",
                    "Tata Steel Long Products Gamharia steel plant",
                    "Tata Steel Ludhiana steel plant",
                    "Uttam Galva Ferrous Bellary Steel Plant",
                    "Vardhman Special Steels Ludhiana steel plant",
                    "Vedanta Sesa Goa Pig Iron Plant",
                    "Welspun Metallics Anjar Steel plant",
                    "Xindia Steels Koppal plant",
                    "Yazdani Steel and Power Kalinganagar steel plant"
                  ],
                  "lat": {
                    "bdata": "jIUhcvrWNUDqCOBm8U42QP62J0hsRy5Afhr35jdoMUB41QPmISs0QJXSM73EHDVAoGzKFd61NEBm2ZPA5kg0QEMCRpc3vy1AjxoTYi4lOECvQPSkTKouQEn0MorlVi5AvfxOkxnbNkDvAE9auDA1QNNocjEGojdA1Cr6QzNvK0AcmUf+YLQ0QL2KjA5IsjRAFceBV8vBOkCHMenvpZA1QB9Mio9PYDVALxfxnZitLkDkg57Nqns3QCYbD7bYFTZAgctjzch8N0Cl+PiE7FQ3QHSYLy/AWjVAYVERp5MgPUDJrN7hdvQ0QNRi8DDt3zRAeVxUi4jiNEDikA2kiyE4QLU3+MJkgixAj6m7sguiN0DM64hDNuw1QPd0dcdikzZAQKN06V+qNkD1gHnIlMM1QMb7cfvlhzJAtJCA0eUVLkB9rrZif4ktQDS9xFimPzRATgmISbiwMkCIv4EkRy80QLAdjNgnMDdA58dfWtT7NUBkPEolPKEnQHXkSGdgXC5AWB8PfXc3NEAIqkavBmguQIYcW88QmjRAznFuE+6BN0BanDHMCe4zQEiLM4Y5xTNARdYaSu35NEB5r1qZ8E83QA1slWBx4DVAFAmmmlkDNkDaccPvpv80QP96hQX33zZARUYHJGFfLkCcz29O2xczQHrE6LmF3jVAbk4lA0BdNkAwR4/f22A2QDTyecVT2zVAlpaRek/NNUBd/kP67Vs2QMh8QKAzATZA+FROe0pOLECal8PuO/o2QNf7jXbcVDZAL8IU5dK0N0A02NR5VFw2QAN8t3njnDFAqU4Hsp6WNkDSAUnYt8M0QOz5muWy7TVA3795ceIjNkC2+BQA4yE2QMWqQZjbhTdAH6D7cmYvNUCzeRwG86s3QDElkuhljDdAZ33KMVmsN0Ch8xq7RFE0QLHdPUD3NTZANEqX/iWdN0BqpKXydnw1QPmh0oiZsTdAowc+BiuuNUA6z9iXbJA3QO60NSIYlzdAPEolPKE7NUAYlGk0uXwzQDbptkQuoDVAVfoJZ7diNkD44SAhyss0QOaw+47hyTZAvK302mz4NED5FADjGdA2QJD5gEBn8j5AOdVamIVeLkBNEkvK3eM+QKm/XmHBDS9ANJwyN98cN0BT6/1GO5YuQAte9BWk7TRA",
                    "dtype": "f8"
                  },
                  "legendgroup": "India",
                  "lon": {
                    "bdata": "4o+iztz+VEDt72yP3jBVQMrFGFjHOlNAfIFZoUiuVECokCv1LP9TQHukwW1tKVJANEdWfhmSVUBmhLcHIapVQMPTK2UZg1NAVUyln3CVVUAR4srZOw1TQLX9KytNGFNAAaJgxhTWVUBiLT4FwExUQCcyc4HLklVAAVDFjVvoU0AEPGnhsqdTQEc7bvjdqFNA2sU0073MVEAFiIIZU29UQDvikA2ka1RALSKKyRsQU0CzQLtDitZVQJ6Y9WIoN1VAXoQpyqXXVUDUR+APP5dVQNRkxttKa1RAvJaQD3rxUkBkdha9U4NVQIGv6NZrPFVAWW3+X3U/VUC69ZoeFNxVQKDAO/n0BlRAJEil2NFUVUAB+RIqONZUQKLUXkTb01VAWoEhq1tpVUCLjXkdcQFVQIDVkSOdPFJA2hoRjIMcU0D1K50Pz5lTQI0kQbgCilVAGvfmN0xCUkD6AVmZuv9TQO8dNSbEbVVATMYxkj3PVEBSYWwhyHpTQGe3lslwKlNAMzMzMzOjVUC+hAoOLypTQPjddMsOZlVAb0bNV8nRVUBTPgRVo8dTQLtDigES9FNAjBTKwteCVUAQlUbM7IxRQOqymNh841RA5+CZ0CTVVEByUpj3OIFVQFwhrMYShFVAtTNMbak6U0B7FK5H4YpUQOPdkbHaAFVAU3sRbcfTVUBV+Z6RCNJVQDP9EvHW/VRAyol2FVJkVUDtgOuKGcFVQHP1Y5P8qlRAFTlE3JwqU0AvMgG/Rh1WQM0Bgjl62VVA1GUxsfnEVUDAdcWM8NJVQOFgb2JIzFRA88zLYfd5VUCqRq8GKFNVQJOsw9FVTlVAfhmMEYlaVUDDmsqisFpVQJg0Ruuo0VVArDb/rzpZVEAbu0T11oZVQEwceSCyz1VAfc9IhEa7VUDOjlTf+aZVQP32deCcN1VAxxNBnIeyVUD3WtB7Y3FUQAH3PH/ax1VAMdP2r6wCVUCm0k84u8VVQFjlQuVfrlVAkgN2NXnoU0CFYFW9/P1TQOJXrOEibVRARUYHJGHSVUDlnUMZqlBVQAYSFD/GjFVAhuKON/mAVUBAic+dYIVVQD/HR4sz/1JApFNXPss0U0CGcMyyJ/pSQFg6H54lf1JAHRzsTYyFUUDGUiRfCQ9TQMe5TbhXglVA",
                    "dtype": "f8"
                  },
                  "marker": {
                    "color": "#000001",
                    "symbol": "circle"
                  },
                  "mode": "markers",
                  "name": "India",
                  "showlegend": true,
                  "type": "scattergeo"
                },
                {
                  "customdata": [
                    [
                      "Anshan Iron and Steel Group Co Ltd",
                      null
                    ],
                    [
                      "PT Mandan Steel",
                      11
                    ],
                    [
                      "Dexin Steel Pte Ltd",
                      5
                    ],
                    [
                      "Fuhai Group New Energy Holding Co Ltd",
                      null
                    ],
                    [
                      "PT Gunung Raja Paksi Tbk",
                      null
                    ],
                    [
                      "PT Gunung Raja Paksi Tbk",
                      null
                    ],
                    [
                      "PT Gunung Raja Paksi Tbk",
                      39
                    ],
                    [
                      "Hebei Bishi Industry Group Co Ltd",
                      null
                    ],
                    [
                      "PT Jakarta Prima Steel Industries",
                      53
                    ],
                    [
                      "PT Krakatau Steel (Persero) Tbk",
                      48
                    ],
                    [
                      "PT Krakatau Posco",
                      11.7
                    ],
                    [
                      "PT The Master Steel MFG",
                      53
                    ],
                    [
                      "LNM Group",
                      49
                    ],
                    [
                      "Shaanxi Iron and Steel Group Co Ltd",
                      null
                    ],
                    [
                      "Wuhan Iron and Steel Co Ltd",
                      null
                    ]
                  ],
                  "geo": "geo",
                  "hovertemplate": "<b>%{hovertext}</b><br><br>Country/Area=Indonesia<br>Latitude=%{lat}<br>Longitude=%{lon}<br>Owner=%{customdata[0]}<br>Plant age (years)=%{customdata[1]}<extra></extra>",
                  "hovertext": [
                    "Anshan Iron and Steel Central Sulawesi steel plant",
                    "CNR Mandan Steel South Kalimantan plant",
                    "Dexin Steel Morowali plant",
                    "Fuhai Indonesia Steel Plant",
                    "Gunung Raja Paksi North Sumatra steel plant",
                    "Gunung Raja Paksi South Kalimantan steel plant",
                    "Gunung Raja Paksi West Java steel plant",
                    "Hebei Bishi Central Java steel plant",
                    "Jakarta Prima Steel Industries plant",
                    "Krakatau Steel Cilegon plant",
                    "KS Posco Cilegon steel plant",
                    "Master Steel Jakarta Steel plant",
                    "PT Ispat Indo steel plant",
                    "Shaanxi Iron and Steel Indonesia plant",
                    "Wuhan Indonesia Steel Plant"
                  ],
                  "lat": {
                    "bdata": "zH1yFCD6EMAWTz3S4LYKwNmXbDzYogbAi2t8Jvvn+L8bnl4py1ANQEVLHk/LrwvAos9HGXEhGcDqIoWy8JUbwHcwYp8AuhjAdopVgzAHGMCiKTv9oP4XwHhi1ouhvBjAdVLO1qZrHcCjAifbwI0QwLoyqDY48R7A",
                    "dtype": "f8"
                  },
                  "legendgroup": "Indonesia",
                  "lon": {
                    "bdata": "qaW5FcKXXkB1kxgEVvtcQOEM/n4xi15A6wCIu3rrWUBC7bd2oqpYQO4G0VrR/FxA5BJHHojHWkARcXMqGY5bQAKDpE+ru1pAqg8k7xyAWkCy9KEL6n9aQD/IsmDiulpAei4/6AktXEDej9svnz9aQAgDz72HFVxA",
                    "dtype": "f8"
                  },
                  "marker": {
                    "color": "#000002",
                    "symbol": "circle"
                  },
                  "mode": "markers",
                  "name": "Indonesia",
                  "showlegend": true,
                  "type": "scattergeo"
                },
                {
                  "customdata": [
                    [
                      "Ahya Steel Folad Baft Co",
                      6
                    ],
                    [
                      "Amir Kabir Arak Steel Co",
                      2
                    ],
                    [
                      "Ardakan Steel Complex Co",
                      13
                    ],
                    [
                      "Arfa Iron and Steel Co",
                      14.44
                    ],
                    [
                      "Arvand Jahanara Steel Co",
                      4
                    ],
                    [
                      "Arvand Kaveh Steel Co",
                      8
                    ],
                    [
                      "Azna Steel",
                      5.53
                    ],
                    [
                      "Bafgh Mineral Complex Iron & Steel Co",
                      12
                    ],
                    [
                      "Bonab Steel Complex",
                      17
                    ],
                    [
                      "Butia Iranian Steel Co",
                      14
                    ],
                    [
                      "Chadormalu Mining & Industrial Co",
                      8
                    ],
                    [
                      "Esfahan Steel Co",
                      54
                    ],
                    [
                      "Iranian Ghadir Iron & Steel Co",
                      14.39
                    ],
                    [
                      "Ghaenat Steel Complex",
                      3
                    ],
                    [
                      "Gohar Zamin Iron Ore Co",
                      10
                    ],
                    [
                      "Iran Alloy Steel Co",
                      26
                    ],
                    [
                      "Iranian Alborz Steel Co",
                      null
                    ],
                    [
                      "Isatis Sponge Iron Co",
                      null
                    ],
                    [
                      "Sirjan Jahan Steel Co",
                      16
                    ],
                    [
                      "Kaavian Steel Co",
                      null
                    ],
                    [
                      "Khorasan Steel Complex Co",
                      24
                    ],
                    [
                      "Khouzestan Oxin Steel Co",
                      0
                    ],
                    [
                      "Khouzestan Steel Co",
                      36
                    ],
                    [
                      "Kish South Kaveh Steel Co",
                      14
                    ],
                    [
                      "Kurdistan Steel Co",
                      null
                    ],
                    [
                      "Makran Steel Co",
                      null
                    ],
                    [
                      "Mianeh Steel",
                      8
                    ],
                    [
                      "Mobarakeh Steel Co",
                      19
                    ],
                    [
                      "Mobarakeh Steel Co",
                      34
                    ],
                    [
                      "Mobarakeh Steel Co",
                      14
                    ],
                    [
                      "Mobarakeh Steel Co",
                      9
                    ],
                    [
                      "Natanz Steel Co",
                      24
                    ],
                    [
                      "Neyriz Ghadir Steel Co",
                      7
                    ],
                    [
                      "Pasargad Steel Complex Co",
                      12
                    ],
                    [
                      "Persian Gulf Saba Steel",
                      8
                    ],
                    [
                      "Qeshm Steel Development Co",
                      null
                    ],
                    [
                      "Daric Investment Holding Co",
                      null
                    ],
                    [
                      "Sabzevar Pars Steel Complex",
                      7
                    ],
                    [
                      "Daric Investment Holding Co",
                      null
                    ],
                    [
                      "Sarmad Iron and Steel Complex Abarkouh",
                      null
                    ],
                    [
                      "Khouzestan Steel Co",
                      8
                    ],
                    [
                      "Daric Investment Holding Co",
                      null
                    ],
                    [
                      "Iranian Sirjan Steel Co",
                      12
                    ],
                    [
                      "Torbat Heydarieh Steel Co",
                      0
                    ],
                    [
                      "West Alborz Steel Co",
                      20
                    ],
                    [
                      "Zarand Iranian Steel Co",
                      17
                    ],
                    [
                      "Daric Investment Holding Co",
                      null
                    ]
                  ],
                  "geo": "geo",
                  "hovertemplate": "<b>%{hovertext}</b><br><br>Country/Area=Iran<br>Latitude=%{lat}<br>Longitude=%{lon}<br>Owner=%{customdata[0]}<br>Plant age (years)=%{customdata[1]}<extra></extra>",
                  "hovertext": [
                    "Ahya Steel Folad Baft Company DRI plant",
                    "Amirkabir Arak Steel plant",
                    "Ardakan Steel Yazd plant",
                    "Arfa Iron and Steel Yazd plant",
                    "Arvand Jahanara Steel Khouzestan plant",
                    "Arvand Kaveh Steel Khoramshahr plant",
                    "Azna Steel Lorestan plant",
                    "Bafgh Mineral Complex Iron and Steel Yazd plant",
                    "Bonab Steel Complex",
                    "Butia Steel Kerman plant",
                    "Chadormalu Mining and Industrial Company Yazd plant",
                    "Esfahan Steel Isfahan plant",
                    "Ghadir Iron and Steel plant Yazd",
                    "Ghaenat Steel Complex South Khorasan",
                    "Golgohar Iron and Steel Company Kerman",
                    "Iran Alloy Steel Company Yazd plant",
                    "Iranian Alborz Steel Mazandaran plant",
                    "Isatis Sponge Iron Company Yazd",
                    "Jahan Foolad Sirjan Steel Kerman plant",
                    "Kaavian Steel Khouzestan plant",
                    "Khorasan Steel Complex",
                    "Khouzestan Oxin Steel",
                    "Khouzestan Steel plant",
                    "Kish South Kaveh Steel Hormuzgan plant",
                    "Kurdistan Steel Kurdistan plant",
                    "Makran Steel Sistan and Baluchestan Complex",
                    "Miyaneh Steel East Azerbaijan steel plant",
                    "Mobarakeh Saba Steel Complex",
                    "Mobarakeh Steel Complex Isfahan",
                    "Mobarakeh Steel Hormuzgan Steel Company plant",
                    "Mobarakeh Steel Sefid Dasht Steel Complex",
                    "Natanz Steel Company Isfahan plant",
                    "Neyriz Ghadir Steel Company Fars plant",
                    "Pasargad Steel Complex Fars",
                    "Persian Gulf Saba Steel",
                    "Qeshm Steel Development Hormuzgan plant",
                    "Sabalan Iron and Steel Complex",
                    "Sabzevar Steel Complex Razavi Khorasan",
                    "Saeb Steel Complex",
                    "Sarmad Iron and Steel Complex Abarkouh",
                    "Shadegan Steel Complex",
                    "Shams Iron and Steel Complex",
                    "Sirjan Iranian Steel Kerman Plant",
                    "Torbat Heydarieh Steel Company Khorasan",
                    "West Alborz Ana Steel Zanjan plant",
                    "Zarand Iranian Steel Company Kerman plant",
                    "Zonouz Steel Complex"
                  ],
                  "lat": {
                    "bdata": "sfojDANKPUDzcW2oGJVCQOhM2lTdL0BAPDHrxVAyQED4+8VsyYI+QGeAC7JlgT5AVmZK62+7QEAn3ZbIBbM/QPeRW5NutUJAkst/SL99PkCcacL2kzFAQJvkR/yKNUBA/Bhz1xIyQEAdr0D0pPZAQHCVJxB2Ij1A/MVsyarwP0AdkloomU5CQEQX1LfMqT9AweJw5lcjPUBC0NGqlkg/QGq8dJMYLEJAG0ZB8PhGP0Cm8QuvJEU/QBNDcjJxKztAnMO12sMeQkAEGhExynI5QOqymNh8sEJAgIKLFTU0QECsHFpkOx9AQF653jZTKTtARpVh3A0UQECzJasi3LZAQPzh578HKz1AJeoFn+YwPUBgdeRIZzA7QBlXXByV0zpAVYfcDDdAQ0BBKzBkdUtCQAOy17s/ukJAJF6ezhU5P0AIOe//45A+QGx4eqUsuUJADamieJXtPUBSfecXJcxBQNi5aTNOD0JAmwDD8ue/PkAGSZ9W0UVDQA==",
                    "dtype": "f8"
                  },
                  "legendgroup": "Iran",
                  "lon": {
                    "bdata": "inWqfM8+TEDLZg5JLcxIQBefAmA84UpAqRPQRNjgSkDBWN/A5B5IQBLds67RIkhAysStghiySEDrjzAMWLhLQEn1nV+UBEdAmnecoiNpTEDxgojUtN9KQH1aRX9oqklAcoqO5PLfSkCmmllLAYFNQNEjRs8trktAle8ZidAES0Ampgux+p1KQEbQmEnUS0tAak5eZAKwS0DWAKWhRklIQHsUrkfhVk1AzCcrhqtfSEDFjVvMz11IQNasM74vDExAfQVpxqIjR0Am115VB1JOQFYpPdNL3kdA02pI3GOrSUB0JJf/kLZJQNtQMc7fDExAB5s6j4qZSUA1XyUfu/1JQNDx0eKMT0tA/G8lOzZsSkBuMNRhhQ1MQAyP/SyW+ktA4DDRIAXhR0A8wJMWLslMQFhyFYvf+EZAmxw+6USySkBio6zfTHhIQBprf2d7+kZAQZ3y6EZeTEDovwevXZpNQKSmXUwzp0hADuJe9HBVTEDEIRtIF99GQA==",
                    "dtype": "f8"
                  },
                  "marker": {
                    "color": "#000003",
                    "symbol": "circle"
                  },
                  "mode": "markers",
                  "name": "Iran",
                  "showlegend": true,
                  "type": "scattergeo"
                },
                {
                  "customdata": [
                    [
                      "Al Anmaa for Construction Materials Production Ltd",
                      13
                    ],
                    [
                      "F&F Steel",
                      12.02
                    ],
                    [
                      "Mass Iraq Iron and Steel Industry Co",
                      10
                    ],
                    [
                      "State Company for Iron and Steel (Iraq)",
                      null
                    ],
                    [
                      "Van Company for Industrial Investment and General Trading",
                      3
                    ]
                  ],
                  "geo": "geo",
                  "hovertemplate": "<b>%{hovertext}</b><br><br>Country/Area=Iraq<br>Latitude=%{lat}<br>Longitude=%{lon}<br>Owner=%{customdata[0]}<br>Plant age (years)=%{customdata[1]}<extra></extra>",
                  "hovertext": [
                    "Al Anmaa Basra steel plant",
                    "F&F Steel Erbil plant",
                    "Mass Iron and Steel Industry Co Sulaimaniya plant",
                    "State Company for Iron & Steel Basra plant",
                    "Van Steel Kurdistan plant"
                  ],
                  "lat": {
                    "bdata": "Qzo8hPE3PkDDnQsjvQ5CQNEi2/l+1EFAp8S/GUY/PkBdiqvKvgtCQA==",
                    "dtype": "f8"
                  },
                  "legendgroup": "Iraq",
                  "lon": {
                    "bdata": "Afp9/+bpR0DmPjkKEP1FQBhCzvv/hEZABU1LrIzqR0D/snvysPxFQA==",
                    "dtype": "f8"
                  },
                  "marker": {
                    "color": "#000004",
                    "symbol": "circle"
                  },
                  "mode": "markers",
                  "name": "Iraq",
                  "showlegend": true,
                  "type": "scattergeo"
                },
                {
                  "customdata": [
                    [
                      "Acciaierie d'italia SpA",
                      60
                    ],
                    [
                      "Acciaierie Venete SpA",
                      46
                    ],
                    [
                      "Acciaierie Venete SpA",
                      34
                    ],
                    [
                      "Acciaierie Venete SpA",
                      58
                    ],
                    [
                      "AFV Acciaierie Beltrame SpA",
                      49
                    ],
                    [
                      "Alfa Acciai SpA",
                      70
                    ],
                    [
                      "Acciaierie di Sicilia SpA",
                      27
                    ],
                    [
                      "Acciaierie Bertoli Safau SpA",
                      212
                    ],
                    [
                      "DRI d'Italia SpA",
                      null
                    ],
                    [
                      "Duferco Travi e Profilati SpA",
                      21
                    ],
                    [
                      "Acciaierie di Calvisano SpA",
                      53
                    ],
                    [
                      "Feralpi Siderurgica SpA",
                      57
                    ],
                    [
                      "Ferriera Valsabbia SpA",
                      57
                    ],
                    [
                      "Acciai Speciali Terni SpA",
                      141
                    ],
                    [
                      "Acciaieria Arvedi SpA",
                      33
                    ],
                    [
                      "Industrie Riunite Odolesi IRO SpA",
                      74
                    ],
                    [
                      "JSW Steel Italy Piombino SpA",
                      160
                    ],
                    [
                      "Metinvest Holding LLC",
                      null
                    ],
                    [
                      "ORI Martin - Acciaieria e Ferriera di Brescia SpA",
                      92
                    ],
                    [
                      "Acciaierie di Verona SpA",
                      123
                    ],
                    [
                      "Ferriere Nord SpA",
                      50
                    ],
                    [
                      "Siderpotenza SpA",
                      62
                    ],
                    [
                      "Riva Acciaio SpA",
                      68
                    ],
                    [
                      "Riva Acciaio SpA",
                      64
                    ],
                    [
                      "Dalmine SpA",
                      116
                    ]
                  ],
                  "geo": "geo",
                  "hovertemplate": "<b>%{hovertext}</b><br><br>Country/Area=Italy<br>Latitude=%{lat}<br>Longitude=%{lon}<br>Owner=%{customdata[0]}<br>Plant age (years)=%{customdata[1]}<extra></extra>",
                  "hovertext": [
                    "Acciaierie d'Italia Taranto steel plant",
                    "Acciaierie Venete Borgo Valsugana steel plant",
                    "Acciaierie Venete Padua steel plant",
                    "Acciaierie Venete Sarezzo steel plant",
                    "AFV Accaierie Beltrame Vicenza steel plant",
                    "Alfa Acciai Brescia steel plant",
                    "Alfa Acciai Catania steel plant",
                    "Danieli ABS Pozzuolo del Friuli steel plant",
                    "DRI d’Italia Taranto plant",
                    "Duferco Travi e Profilati San Zeno Naviglio steel plant",
                    "Feralpi Calvisano steel plant",
                    "Feralpi Siderurgica Lonato steel plant",
                    "Ferriera Valsabbia Odolo steel plant",
                    "Finarvedi Acciai Speciali Terni steel plant",
                    "Finarvedi Cremona steel plant",
                    "IRO Odolo steel plant",
                    "JSW Steel Piombino steel plant",
                    "Metinvest Piombino steel plant",
                    "Ori Martin Brescia steel plant",
                    "Pittini Acciaierie di Verona steel plant",
                    "Pittini Ferriere Nord Osoppo steel plant",
                    "Pittini Siderpotenza Potenza steel plant",
                    "Riva Acciaio Caronno Pertusella steel plant",
                    "Riva Acciaio Lesegno steel plant",
                    "Tenaris Dalmine steel plant"
                  ],
                  "lat": {
                    "bdata": "S3LAriZBRECkxoSYSwZHQM7DCUyntUZA0hqDTgjTRkB8KxIT1MJGQDPFHAQdwUZAkX9mEB+4QkA2yY/4FQFHQEtywK4mQURA6E6w/zq9RkBKQ41Ckq9GQCqQ2Vn0ukZAqrcGtkrSRkDgLCXLSUhFQCTx8nSukkZAt7WF56XSRkBkBirj33dFQGQGKuPfd0VAj+IcdXTIRkB07+GS47ZGQPuUY7K4HUdALUDbatZRREA58kBkkcxGQEOM17yqMUZALe4/Mh3SRkA=",
                    "dtype": "f8"
                  },
                  "legendgroup": "Italy",
                  "lon": {
                    "bdata": "ZAJ+jSQ1MUCRtYZSe+EmQNV46SYx0CdAgEV+/RBrJEDWHCCYo/8mQHl3ZKw2fyRA/wkuVtQQLkCpTgeynoIqQGQCfo0kNTFAK2wGuCBrJEDVsyCU96kkQN0Gtd/a6SRAnfF9canCJEBJgJpatlYpQDWzlgLS5iNAZHWr56S/JEBV+DO8WRMlQFX4M7xZEyVABOeMKO1tJEAIr13acAAmQC/3yVGAKCpAroIY6NqnL0CNe/MbJhIiQEIkQ46txx9AC19f61IzI0A=",
                    "dtype": "f8"
                  },
                  "marker": {
                    "color": "#000005",
                    "symbol": "circle"
                  },
                  "mode": "markers",
                  "name": "Italy",
                  "showlegend": true,
                  "type": "scattergeo"
                },
                {
                  "customdata": [
                    [
                      "Aichi Steel Corp",
                      82
                    ],
                    [
                      "Chubu Steel Plate Co Ltd",
                      66
                    ],
                    [
                      "Daido Steel Co Ltd",
                      63
                    ],
                    [
                      "Godo Steel Ltd",
                      null
                    ],
                    [
                      "Godo Steel Ltd",
                      47
                    ],
                    [
                      "Godo Steel Ltd",
                      88
                    ],
                    [
                      "JFE Bars & Shapes Corp",
                      88
                    ],
                    [
                      "JFE Bars & Shapes Corp",
                      92
                    ],
                    [
                      "JFE Bars & Shapes Corp",
                      58
                    ],
                    [
                      "JFE Steel Corp",
                      74
                    ],
                    [
                      "JFE Steel Corp",
                      65.66
                    ],
                    [
                      "JFE Steel Corp",
                      51.36
                    ],
                    [
                      "JFE Steel Corp",
                      60
                    ],
                    [
                      "JFE Steel Corp",
                      58
                    ],
                    [
                      "Kishiwada Steel Co Ltd",
                      68.77
                    ],
                    [
                      "Kobe Steel Ltd",
                      55
                    ],
                    [
                      "Kobe Steel Ltd",
                      58
                    ],
                    [
                      "Kyoei Steel Ltd",
                      63
                    ],
                    [
                      "Kyoei Steel Ltd",
                      41
                    ],
                    [
                      "Kyoei Steel Ltd",
                      53
                    ],
                    [
                      "Nakayama Steel Products Co Ltd",
                      75.36
                    ],
                    [
                      "Nakayama Steel Works Ltd",
                      96
                    ],
                    [
                      "Nippon Steel Corp",
                      57
                    ],
                    [
                      "Nippon Steel Corp",
                      60
                    ],
                    [
                      "Nippon Steel Corp",
                      83
                    ],
                    [
                      "Nippon Steel Corp",
                      54.28
                    ],
                    [
                      "Nippon Steel Corp",
                      68
                    ],
                    [
                      "Nippon Steel Corp",
                      124
                    ],
                    [
                      "Nippon Steel Corp",
                      64
                    ],
                    [
                      "Sanyo Special Steel Co Ltd",
                      90
                    ],
                    [
                      "Nippon Steel Corp",
                      86
                    ],
                    [
                      "Nippon Steel Corp",
                      72.74
                    ],
                    [
                      "Nippon Steel Stainless Steel Corp",
                      70
                    ],
                    [
                      "Nippon Steel Stainless Steel Corp",
                      67
                    ],
                    [
                      "Nippon Steel Corp",
                      116
                    ],
                    [
                      "Osaka Steel Co Ltd",
                      75
                    ],
                    [
                      "Tokyo Steel Manufacturing Co Ltd",
                      53.86
                    ],
                    [
                      "Tokyo Steel Manufacturing Co Ltd",
                      62.94
                    ],
                    [
                      "Tokyo Steel Manufacturing Co Ltd",
                      15.28
                    ],
                    [
                      "Tokyo Steel Manufacturing Co Ltd",
                      29.86
                    ],
                    [
                      "Topy Industries Ltd",
                      67
                    ],
                    [
                      "Yamato Steel Co Ltd",
                      64
                    ]
                  ],
                  "geo": "geo",
                  "hovertemplate": "<b>%{hovertext}</b><br><br>Country/Area=Japan<br>Latitude=%{lat}<br>Longitude=%{lon}<br>Owner=%{customdata[0]}<br>Plant age (years)=%{customdata[1]}<extra></extra>",
                  "hovertext": [
                    "Aichi Steel Chita Plant (Tokai)",
                    "Chubu Steel Plate Nagoya plant",
                    "Daido Steel Chita plant (Tokai)",
                    "Godo Steel Funabashi Works",
                    "Godo Steel Himeji Works",
                    "Godo Steel Osaka Works",
                    "JFE Bars & Shapes Himeji Works steel plant",
                    "JFE Bars & Shapes Kashima Works steel plant",
                    "JFE Bars & Shapes Mizushima Works steel plant",
                    "JFE East Japan Works (Chiba) steel plant",
                    "JFE East Japan Works (Keihin) steel plant",
                    "JFE Sendai Works steel plant",
                    "JFE West Japan Works (Fukuyama) steel plant",
                    "JFE West Japan Works (Kurashiki) steel plant",
                    "Kishiwada Steel Osaka Steel Plant",
                    "Kobe Kakogawa Works steel plant",
                    "Kobe Wire Rod and Bar steel plant",
                    "Kyoei Steel Hirakata Division (Osaka)",
                    "Kyoei Steel Nagoya Division (Tokai)",
                    "Kyoei Steel Yamaguchi Division (Yamaguchi)",
                    "Nakayama Steel Products Osaka plant",
                    "Nakayama Steel Works Osaka",
                    "Nippon East Japan Works (Kashima) steel plant",
                    "Nippon East Japan Works (Kimitsu) steel plant",
                    "Nippon Kansai Works (Wakayama Area, Wakayama) steel plant",
                    "Nippon Kyushu Works (Oita Area, Oita) steel plant",
                    "Nippon Kyushu Works (Yawata Area, Kokura) steel plant",
                    "Nippon Kyushu Works (Yawata Area, Tobata) steel plant",
                    "Nippon Nagoya steel plant",
                    "Nippon Sanyo Special Steel",
                    "Nippon Setouchi Works (Hirohata Area) steel plant",
                    "Nippon Setouchi Works (Kure Area) steel plant",
                    "Nippon Stainless Steel Yamaguchi Works (Hikari Area) steel plant",
                    "Nippon Stainless Steel Yamaguchi Works (Shunan Area) steel plant",
                    "North Nippon Muroran Works steel plant",
                    "Osaka Steel Sakai Works",
                    "Tokyo Steel Kyushu plant",
                    "Tokyo Steel Okayama plant",
                    "Tokyo Steel Tahara plant",
                    "Tokyo Steel Utsunomiya plant",
                    "Topy Industries Toyohashi steel plant",
                    "Yamato Steel Himeji Plant"
                  ],
                  "lat": {
                    "bdata": "OWOYE7SFQUAyy54ENo9BQAXDuYYZgkFAQE8DBknZQUCy8zY2O2RBQALU1LK1WEFAKa+V0F1kQUDvqDEh5vBBQFQB9zx/QEFAYFj+fFvKQUDTwfo/h71BQO0seqcCIkNAmrD9ZIw7QUAKaY1BJ0BBQG7DKAgePUFAey3ovTFcQUAhV+pZEFpBQN4E3zR9aEFAfLjkuFOIQUA2j8Ng/vxAQOV9HM2RWUFAhEvHnGdQQUCILqhvmfdBQPJdSl0yrkFAUP9Z8+MdQUCYbDzYYqFAQGWlSSno8kBAhbLw9bX0QED2l92Th4NBQPlp3JvfZEFAYHR5c7hkQUA9ZTVdTxxBQANd+wJ6+0BAuJVem40HQUBVMZV+witFQBToE3mSTEFAHVcju9LwQEDItDaN7UFBQCWzeofbWUFAbHh6pSxFQkCeYWpLHVxBQO+qB8xDZEFA",
                    "dtype": "f8"
                  },
                  "legendgroup": "Japan",
                  "lon": {
                    "bdata": "4STNH9McYUDYgt4bwxthQDHtm/urG2FAK76h8Nl+YUClEp7Qa9VgQAgEOpO27WBAo3TpXxLVYEAjaMwkapdhQMv2IW+5tmBA+IvZklWDYUBDjUKSWXdhQNyhYTFqoGFA5ZttbsytYEAQlrGhG7dgQOdu10tT62BAFNBE2HDaYED0iqce6edgQOMbCp+t9WBA0LUvoBcaYUA3xk54iWVgQGzM64jD7WBAo8ubw7XuYECMnlvoypVhQH5zf/U4fGFAHO+OjFXkYEDrNT0oqHRgQBA7U+g8XGBA4nK8AtFaYED1Lt6P2xthQAvtnGaB1WBA/yQ+dwLUYEALDi+ISJFgQJKyRdLufWBAdhiT/t54YEA5m44A7p9hQCS05VyK7mBA20/G+DBYYEA2qz5X27dgQDlf7L34J2FABWucTcd/YUDvOhvyTyphQG1UpwNZ02BA",
                    "dtype": "f8"
                  },
                  "marker": {
                    "color": "#000006",
                    "symbol": "circle"
                  },
                  "mode": "markers",
                  "name": "Japan",
                  "showlegend": true,
                  "type": "scattergeo"
                },
                {
                  "customdata": [
                    [
                      "Aktobe Generatsiya LLC",
                      null
                    ],
                    [
                      "Eurasian Resources Group SARL; China Baowu Steel Group Co Ltd",
                      null
                    ],
                    [
                      "Fujian Hengwang Investment Co Ltd",
                      null
                    ],
                    [
                      "Kazakhstal LLP",
                      null
                    ],
                    [
                      "KSP Steel LLC",
                      18
                    ],
                    [
                      "Qazaqstan Steel Group LLP",
                      65
                    ],
                    [
                      "QazSpetsSteel LLC",
                      null
                    ],
                    [
                      "Sin Yuan Steel LLP",
                      5
                    ]
                  ],
                  "geo": "geo",
                  "hovertemplate": "<b>%{hovertext}</b><br><br>Country/Area=Kazakhstan<br>Latitude=%{lat}<br>Longitude=%{lon}<br>Owner=%{customdata[0]}<br>Plant age (years)=%{customdata[1]}<extra></extra>",
                  "hovertext": [
                    "Aktobe Generatsiya steel plant",
                    "ERG Baowu Rudny HBI plant",
                    "Fujian Hengwang Shymkent steel plant",
                    "Kazakhstal steel plant",
                    "KSP Steel Pavlodar steel plant",
                    "Qarmet steel plant",
                    "QazSpetsSteel Aktobe steel plant",
                    "Sin Yuan Steel Shymkent steel plant"
                  ],
                  "lat": {
                    "bdata": "d6BOeXQtSUCLYNLOH31KQOUFfY40K0VAQqSVMfTxSEANVMa/zypKQPePhegQBElACahwBKkkSUBVhQZi2SJFQA==",
                    "dtype": "f8"
                  },
                  "legendgroup": "Kazakhstan",
                  "lon": {
                    "bdata": "nYNnQpOSTEALTjOTXpdPQFW6YBUUb1FAnTpF/WRwUkBcxk0NND1TQAdA3NWrP1JAF56Xio2VTEAKaCJseG5RQA==",
                    "dtype": "f8"
                  },
                  "marker": {
                    "color": "#000007",
                    "symbol": "circle"
                  },
                  "mode": "markers",
                  "name": "Kazakhstan",
                  "showlegend": true,
                  "type": "scattergeo"
                },
                {
                  "customdata": [
                    [
                      "Devki Steel Mills Ltd",
                      3
                    ],
                    [
                      "Sinosteel Corp Ltd",
                      null
                    ]
                  ],
                  "geo": "geo",
                  "hovertemplate": "<b>%{hovertext}</b><br><br>Country/Area=Kenya<br>Latitude=%{lat}<br>Longitude=%{lon}<br>Owner=%{customdata[0]}<br>Plant age (years)=%{customdata[1]}<extra></extra>",
                  "hovertext": [
                    "Devki Steel Mills Kwale plant",
                    "Sinosteel Kenya plant"
                  ],
                  "lat": {
                    "bdata": "K/uuCP43DsDwUuqScYzdPw==",
                    "dtype": "f8"
                  },
                  "legendgroup": "Kenya",
                  "lon": {
                    "bdata": "h4vc09WjQ0BXCoFc4v5CQA==",
                    "dtype": "f8"
                  },
                  "marker": {
                    "color": "#000008",
                    "symbol": "circle"
                  },
                  "mode": "markers",
                  "name": "Kenya",
                  "showlegend": true,
                  "type": "scattergeo"
                },
                {
                  "customdata": [
                    [
                      "United Steel Industries Co KSCC",
                      18
                    ]
                  ],
                  "geo": "geo",
                  "hovertemplate": "<b>%{hovertext}</b><br><br>Country/Area=Kuwait<br>Latitude=%{lat}<br>Longitude=%{lon}<br>Owner=%{customdata[0]}<br>Plant age (years)=%{customdata[1]}<extra></extra>",
                  "hovertext": [
                    "United Steel Industrial Kuwait Steel Sharq plant"
                  ],
                  "lat": {
                    "bdata": "kLxzKEP9PEA=",
                    "dtype": "f8"
                  },
                  "legendgroup": "Kuwait",
                  "lon": {
                    "bdata": "tAOuK2YQSEA=",
                    "dtype": "f8"
                  },
                  "marker": {
                    "color": "#000009",
                    "symbol": "circle"
                  },
                  "mode": "markers",
                  "name": "Kuwait",
                  "showlegend": true,
                  "type": "scattergeo"
                },
                {
                  "customdata": [
                    [
                      "KVV Liepājas metalurgs AS",
                      null
                    ]
                  ],
                  "geo": "geo",
                  "hovertemplate": "<b>%{hovertext}</b><br><br>Country/Area=Latvia<br>Latitude=%{lat}<br>Longitude=%{lon}<br>Owner=%{customdata[0]}<br>Plant age (years)=%{customdata[1]}<extra></extra>",
                  "hovertext": [
                    "Liepājas Metalurgs steel plant"
                  ],
                  "lat": {
                    "bdata": "ZDxKJTxDTEA=",
                    "dtype": "f8"
                  },
                  "legendgroup": "Latvia",
                  "lon": {
                    "bdata": "n82qz9UGNUA=",
                    "dtype": "f8"
                  },
                  "marker": {
                    "color": "#000010",
                    "symbol": "circle"
                  },
                  "mode": "markers",
                  "name": "Latvia",
                  "showlegend": true,
                  "type": "scattergeo"
                },
                {
                  "customdata": [
                    [
                      "Libyan Iron and Steel Co",
                      36
                    ],
                    [
                      "Tosyali Sulb Steel Industries Joint Company",
                      null
                    ]
                  ],
                  "geo": "geo",
                  "hovertemplate": "<b>%{hovertext}</b><br><br>Country/Area=Libya<br>Latitude=%{lat}<br>Longitude=%{lon}<br>Owner=%{customdata[0]}<br>Plant age (years)=%{customdata[1]}<extra></extra>",
                  "hovertext": [
                    "Libyan Iron and Steel Misrata plant",
                    "Tosyali-SULB Benghazi Plant"
                  ],
                  "lat": {
                    "bdata": "DY6SV+cqQEA6QDBHjw9AQA==",
                    "dtype": "f8"
                  },
                  "legendgroup": "Libya",
                  "lon": {
                    "bdata": "OdBDbRtuLkDLnC6LiRU0QA==",
                    "dtype": "f8"
                  },
                  "marker": {
                    "color": "#000001",
                    "symbol": "circle"
                  },
                  "mode": "markers",
                  "name": "Libya",
                  "showlegend": true,
                  "type": "scattergeo"
                },
                {
                  "customdata": [
                    [
                      "ArcelorMittal SA",
                      129
                    ],
                    [
                      "ArcelorMittal SA",
                      114
                    ]
                  ],
                  "geo": "geo",
                  "hovertemplate": "<b>%{hovertext}</b><br><br>Country/Area=Luxembourg<br>Latitude=%{lat}<br>Longitude=%{lon}<br>Owner=%{customdata[0]}<br>Plant age (years)=%{customdata[1]}<extra></extra>",
                  "hovertext": [
                    "ArcelorMittal Differdange steel plant",
                    "ArcelorMittal Esch-Belval steel plant"
                  ],
                  "lat": {
                    "bdata": "MbPPY5TDSED7OnDOiMBIQA==",
                    "dtype": "f8"
                  },
                  "legendgroup": "Luxembourg",
                  "lon": {
                    "bdata": "BYnt7gGaF0AzbJT1m/kXQA==",
                    "dtype": "f8"
                  },
                  "marker": {
                    "color": "#000002",
                    "symbol": "circle"
                  },
                  "mode": "markers",
                  "name": "Luxembourg",
                  "showlegend": true,
                  "type": "scattergeo"
                },
                {
                  "customdata": [
                    [
                      "Alliance Steel (M) Sdn Bhd",
                      8
                    ],
                    [
                      "Ann Joo Integrated Steel Sdn Bhd",
                      18
                    ],
                    [
                      "Ann Joo Steel Bhd",
                      64
                    ],
                    [
                      "Eastern Steel Sdn Bhd",
                      10
                    ],
                    [
                      "Eden Flame Sdn Bhd",
                      32
                    ],
                    [
                      "Antara Steel Mills Sdn Bhd",
                      41
                    ],
                    [
                      "Esteel Enterprise Sabah Sdn Bhd",
                      null
                    ],
                    [
                      "Hebei Xinwuan Iron and Steel Group Co Ltd",
                      null
                    ],
                    [
                      "Amsteel Mills Sdn Bhd",
                      24
                    ],
                    [
                      "Amsteel Mills Sdn Bhd",
                      43
                    ],
                    [
                      "Megasteel Sdn Bhd",
                      95
                    ],
                    [
                      "Maegma Minerals",
                      null
                    ],
                    [
                      "Perwaja Steel Sdn Bhd",
                      41
                    ],
                    [
                      "Malaysia Steel Works (KL) Bhd",
                      27
                    ],
                    [
                      "Perfect Channel Sdn Bhd",
                      null
                    ],
                    [
                      "Southern Steel Bhd",
                      62
                    ]
                  ],
                  "geo": "geo",
                  "hovertemplate": "<b>%{hovertext}</b><br><br>Country/Area=Malaysia<br>Latitude=%{lat}<br>Longitude=%{lon}<br>Owner=%{customdata[0]}<br>Plant age (years)=%{customdata[1]}<extra></extra>",
                  "hovertext": [
                    "Alliance Steel Kuantan plant",
                    "Ann Joo Integrated Steel Penang plant",
                    "Ann Joo Steel Selangor plant",
                    "Eastern Steel Kemaman plant",
                    "Eden Flame Johor steel plant",
                    "Esteel Antara Labuan iron plant",
                    "Esteel Sabah Steel Plant",
                    "Hebei Xin Wu an Steel Malaysia plant",
                    "Lion Industries Amsteel Banting steel plant",
                    "Lion Industries Amsteel Klang steel plant",
                    "Lion Industries Megasteel plant",
                    "Maegma Minerals Lumut HBI plant",
                    "Maju Perwaja Steel plant",
                    "Malaysia Steel Works Klang",
                    "Perfect Channel Gurun steel plant",
                    "Southern Steel Prai Penang plant"
                  ],
                  "lat": {
                    "bdata": "1nPS+8YHEEBdxeI3hYUVQLpm8s02VwhAVFT9SucjEUBbBpylZDn3PyHM7V7uAxVAqYjTSbZqGEDzID1FDrEMQNB/D167dAZAf/W4b7WOCECmkHWCR3UGQEjoHV1b9hBAf/W4b7UOEUCP39v0Z58IQBU2A1yQHRdABygNNQqZFUA=",
                    "dtype": "f8"
                  },
                  "legendgroup": "Malaysia",
                  "lon": {
                    "bdata": "HjaRmQvWWUA+Qs2QKhhZQOilYmNeYllAibZj6q7bWUAsmzkktfpZQLpL4qyIz1xAZyrEI/EMXUC1G33MB1dcQGmKAKd3ZllAW1653jZdWUB5xfjVwWZZQGc/94oTJllAcOmY84zdWUBZaVIKul1ZQIsaTMPwH1lAIxKFlnUYWUA=",
                    "dtype": "f8"
                  },
                  "marker": {
                    "color": "#000003",
                    "symbol": "circle"
                  },
                  "mode": "markers",
                  "name": "Malaysia",
                  "showlegend": true,
                  "type": "scattergeo"
                },
                {
                  "customdata": [
                    [
                      "Altos Hornos de Mexico SAB de CV",
                      81
                    ],
                    [
                      "ArcelorMittal México SA de CV",
                      48.85
                    ],
                    [
                      "DeAcero SAPI de CV",
                      27
                    ],
                    [
                      "DeAcero SAPI de CV",
                      39
                    ],
                    [
                      "Gerdau Corsa SAPI de CV",
                      10
                    ],
                    [
                      "Gerdau Corsa SAPI de CV",
                      41
                    ],
                    [
                      "Grupo Acerero SA de CV",
                      21
                    ],
                    [
                      "Aceros Especiales Simec Tlaxcala SA de CV",
                      7.2
                    ],
                    [
                      "Aceros Especiales Simec Tlaxcala SA de CV",
                      32
                    ],
                    [
                      "Tubos de Acero de Mexico SA",
                      71
                    ],
                    [
                      "Ternium México SA de CV",
                      32
                    ],
                    [
                      "Ternium México SA de CV",
                      82
                    ],
                    [
                      "Ternium México SA de CV",
                      null
                    ],
                    [
                      "Ternium México SA de CV",
                      56
                    ],
                    [
                      "Talleres y Aceros SA de CV",
                      32
                    ]
                  ],
                  "geo": "geo",
                  "hovertemplate": "<b>%{hovertext}</b><br><br>Country/Area=Mexico<br>Latitude=%{lat}<br>Longitude=%{lon}<br>Owner=%{customdata[0]}<br>Plant age (years)=%{customdata[1]}<extra></extra>",
                  "hovertext": [
                    "Altos Hornos De Mexico SA AHMSA steel plant",
                    "ArcelorMittal Lázaro Cárdenas steel plant",
                    "DEACERO Celaya steel plant",
                    "DEACERO Ramos Arizpe steel plant",
                    "Gerdau Corsa Ciudad Sahagún steel plant",
                    "Gerdau Corsa Tultitlán steel plant",
                    "Grupo Acerero steel plant",
                    "Grupo Simec Apizaco Cholula steel plant",
                    "Grupo Simec San Luis steel plants",
                    "Tenaris TAMSA Veracruz steel plant",
                    "Ternium Apodaca steel plant",
                    "Ternium Guerrero San Nicolás de los Garza steel plant",
                    "Ternium Pesquería steel plant",
                    "Ternium Puebla steel plant",
                    "TYASA steel plant"
                  ],
                  "lat": {
                    "bdata": "3jgpzHvgOkCXx5qRQe4xQAMlBRbAhDRAPPVIg9uCOUD8OQX52cAzQL7e/fFeoTNAbAa4IFsWNkDDYWngR2UzQFTkEHFzGjZAfo0kQbguM0An2lVI+b05QAFtq1lnuDlABI4EGmy+OUAfoPtyZiszQBlUG5yI3jJA",
                    "dtype": "f8"
                  },
                  "legendgroup": "Mexico",
                  "lon": {
                    "bdata": "wcdgxalaWcBnDd5X5YxZwHanO088O1nARu7p6o49WcCuZwjHLKZYwJv+7EeKy1jAnIwqw7g5WcDE6LmFroVYwL0aoDTUOlnATfc6qS8PWMBODp90Ig9ZwNzXgXNGE1nAF2NgHcf9WMDe5LfoZJRYwOXTY1sGQ1jA",
                    "dtype": "f8"
                  },
                  "marker": {
                    "color": "#000004",
                    "symbol": "circle"
                  },
                  "mode": "markers",
                  "name": "Mexico",
                  "showlegend": true,
                  "type": "scattergeo"
                },
                {
                  "customdata": [
                    [
                      "Moldova Steel Works JSC",
                      40
                    ]
                  ],
                  "geo": "geo",
                  "hovertemplate": "<b>%{hovertext}</b><br><br>Country/Area=Moldova<br>Latitude=%{lat}<br>Longitude=%{lon}<br>Owner=%{customdata[0]}<br>Plant age (years)=%{customdata[1]}<extra></extra>",
                  "hovertext": [
                    "JSC Moldova Steel Works"
                  ],
                  "lat": {
                    "bdata": "0Eaum1LkR0A=",
                    "dtype": "f8"
                  },
                  "legendgroup": "Moldova",
                  "lon": {
                    "bdata": "c9cS8kEHPUA=",
                    "dtype": "f8"
                  },
                  "marker": {
                    "color": "#000005",
                    "symbol": "circle"
                  },
                  "mode": "markers",
                  "name": "Moldova",
                  "showlegend": true,
                  "type": "scattergeo"
                },
                {
                  "customdata": [
                    [
                      "ArcelorMittal SA",
                      20
                    ],
                    [
                      "Maghreb Steel SA",
                      50
                    ],
                    [
                      "Riva Industries",
                      4
                    ],
                    [
                      "Univers Acier",
                      23
                    ]
                  ],
                  "geo": "geo",
                  "hovertemplate": "<b>%{hovertext}</b><br><br>Country/Area=Morocco<br>Latitude=%{lat}<br>Longitude=%{lon}<br>Owner=%{customdata[0]}<br>Plant age (years)=%{customdata[1]}<extra></extra>",
                  "hovertext": [
                    "ArcelorMittal Sonasid Casablanca steel plant",
                    "Mahgreb Steel Casablanca plant",
                    "Riva Industries Jorf Lasfar steel plant",
                    "Univers Acier Sidi Hajjaj steel plant"
                  ],
                  "lat": {
                    "bdata": "UfpCyHmRQEAcJhqk4MtAQAHChxItlUBAZ9XnaivAQEA=",
                    "dtype": "f8"
                  },
                  "legendgroup": "Morocco",
                  "lon": {
                    "bdata": "sKw0KQU1IcC1NSIYB+cdwD55WKg1LSHAGXEBaJTeHcA=",
                    "dtype": "f8"
                  },
                  "marker": {
                    "color": "#000006",
                    "symbol": "circle"
                  },
                  "mode": "markers",
                  "name": "Morocco",
                  "showlegend": true,
                  "type": "scattergeo"
                },
                {
                  "customdata": [
                    [
                      "Baobab Steel Ltd",
                      null
                    ]
                  ],
                  "geo": "geo",
                  "hovertemplate": "<b>%{hovertext}</b><br><br>Country/Area=Mozambique<br>Latitude=%{lat}<br>Longitude=%{lon}<br>Owner=%{customdata[0]}<br>Plant age (years)=%{customdata[1]}<extra></extra>",
                  "hovertext": [
                    "Tete Steel Maputo plant"
                  ],
                  "lat": {
                    "bdata": "0AoMWd1yL8A=",
                    "dtype": "f8"
                  },
                  "legendgroup": "Mozambique",
                  "lon": {
                    "bdata": "FOtU+Z7hQEA=",
                    "dtype": "f8"
                  },
                  "marker": {
                    "color": "#000007",
                    "symbol": "circle"
                  },
                  "mode": "markers",
                  "name": "Mozambique",
                  "showlegend": true,
                  "type": "scattergeo"
                },
                {
                  "customdata": [
                    [
                      "Kunming Iron & Steel Holding Co Ltd",
                      null
                    ],
                    [
                      "Myanmar Economic Corp",
                      9
                    ],
                    [
                      "Myanmar Economic Corp",
                      null
                    ]
                  ],
                  "geo": "geo",
                  "hovertemplate": "<b>%{hovertext}</b><br><br>Country/Area=Myanmar<br>Latitude=%{lat}<br>Longitude=%{lon}<br>Owner=%{customdata[0]}<br>Plant age (years)=%{customdata[1]}<extra></extra>",
                  "hovertext": [
                    "Kunming Iron and Steel Myanmar plant",
                    "Myanmar Economic Corporation Pin Pet No 2 Steel Mill",
                    "Myingyan Myanmar Steel Plant"
                  ],
                  "lat": {
                    "bdata": "zJntCn1sNUABVTdyOMg0QN1ELc2tYDVA",
                    "dtype": "f8"
                  },
                  "legendgroup": "Myanmar",
                  "lon": {
                    "bdata": "Z4F2hxQdWEAcdK7Na0JYQNEhcCTQ11dA",
                    "dtype": "f8"
                  },
                  "marker": {
                    "color": "#000008",
                    "symbol": "circle"
                  },
                  "mode": "markers",
                  "name": "Myanmar",
                  "showlegend": true,
                  "type": "scattergeo"
                },
                {
                  "customdata": [
                    [
                      "Abba Steel Ltd",
                      null
                    ],
                    [
                      "Hyron Africa",
                      0
                    ]
                  ],
                  "geo": "geo",
                  "hovertemplate": "<b>%{hovertext}</b><br><br>Country/Area=Namibia<br>Latitude=%{lat}<br>Longitude=%{lon}<br>Owner=%{customdata[0]}<br>Plant age (years)=%{customdata[1]}<extra></extra>",
                  "hovertext": [
                    "Abba Steel Ohangwena steel plant",
                    "HyIron Steel Namibia plant"
                  ],
                  "lat": {
                    "bdata": "ujDSi9plMcAR4V8EjRU2wA==",
                    "dtype": "f8"
                  },
                  "legendgroup": "Namibia",
                  "lon": {
                    "bdata": "dAgcCTTIL0BzIDU38GgxQA==",
                    "dtype": "f8"
                  },
                  "marker": {
                    "color": "#000009",
                    "symbol": "circle"
                  },
                  "mode": "markers",
                  "name": "Namibia",
                  "showlegend": true,
                  "type": "scattergeo"
                },
                {
                  "customdata": [
                    [
                      "Tata Steel Ijmuiden BV",
                      107
                    ],
                    [
                      "Van Merksteijn International BV",
                      1
                    ]
                  ],
                  "geo": "geo",
                  "hovertemplate": "<b>%{hovertext}</b><br><br>Country/Area=Netherlands<br>Latitude=%{lat}<br>Longitude=%{lon}<br>Owner=%{customdata[0]}<br>Plant age (years)=%{customdata[1]}<extra></extra>",
                  "hovertext": [
                    "Tata Steel IJmuiden steel plant",
                    "Van Merksteijn International steel plant"
                  ],
                  "lat": {
                    "bdata": "1bMglPc9SkCXHk31ZLhKQA==",
                    "dtype": "f8"
                  },
                  "legendgroup": "Netherlands",
                  "lon": {
                    "bdata": "csPvplt2EkDcLF4sDGEbQA==",
                    "dtype": "f8"
                  },
                  "marker": {
                    "color": "#000010",
                    "symbol": "circle"
                  },
                  "mode": "markers",
                  "name": "Netherlands",
                  "showlegend": true,
                  "type": "scattergeo"
                },
                {
                  "customdata": [
                    [
                      "New Zealand Steel Ltd",
                      56
                    ]
                  ],
                  "geo": "geo",
                  "hovertemplate": "<b>%{hovertext}</b><br><br>Country/Area=New Zealand<br>Latitude=%{lat}<br>Longitude=%{lon}<br>Owner=%{customdata[0]}<br>Plant age (years)=%{customdata[1]}<extra></extra>",
                  "hovertext": [
                    "BlueScope New Zealand Steel Glenbrook"
                  ],
                  "lat": {
                    "bdata": "hiFy+nqaQsA=",
                    "dtype": "f8"
                  },
                  "legendgroup": "New Zealand",
                  "lon": {
                    "bdata": "DkktlEzXZUA=",
                    "dtype": "f8"
                  },
                  "marker": {
                    "color": "#000001",
                    "symbol": "circle"
                  },
                  "mode": "markers",
                  "name": "New Zealand",
                  "showlegend": true,
                  "type": "scattergeo"
                },
                {
                  "customdata": [
                    [
                      "African Natural Resources & Mines Ltd",
                      null
                    ],
                    [
                      "Ajaokuta Steel Co Ltd",
                      null
                    ],
                    [
                      "Kam Industries (Nigeria) Ltd",
                      29
                    ],
                    [
                      "Chart and Capstone Integrated Ltd",
                      null
                    ],
                    [
                      "Premium Steel and Mines Ltd",
                      43
                    ],
                    [
                      "Vulcan Green Steel LLC",
                      null
                    ]
                  ],
                  "geo": "geo",
                  "hovertemplate": "<b>%{hovertext}</b><br><br>Country/Area=Nigeria<br>Latitude=%{lat}<br>Longitude=%{lon}<br>Owner=%{customdata[0]}<br>Plant age (years)=%{customdata[1]}<extra></extra>",
                  "hovertext": [
                    "African Natural Resources and Mines Kaduna Steel Plant",
                    "Ajaokuta Steel plant",
                    "Kam Industries Kwara steel plant",
                    "Kogi Steel Project",
                    "Premium Steel Warri plant",
                    "Vulcan Green Steel Nigeria plant"
                  ],
                  "lat": {
                    "bdata": "vrwA++jsIkDgERWqmwseQP/PYb686CBALlbUYBrGHkDkgcgiTewVQESLbOf7KSJA",
                    "dtype": "f8"
                  },
                  "legendgroup": "Nigeria",
                  "lon": {
                    "bdata": "Rrbz/dR4HUCzKOyi6MEaQDb3oRwWLBJAurpjsU06G0DLvcCsUBQXQET67evAWSFA",
                    "dtype": "f8"
                  },
                  "marker": {
                    "color": "#000002",
                    "symbol": "circle"
                  },
                  "mode": "markers",
                  "name": "Nigeria",
                  "showlegend": true,
                  "type": "scattergeo"
                },
                {
                  "customdata": [
                    [
                      "Government of North Korea",
                      69
                    ],
                    [
                      "Government of North Korea",
                      83
                    ],
                    [
                      "Government of North Korea",
                      111
                    ],
                    [
                      "Government of North Korea",
                      87
                    ],
                    [
                      "Tanshan Iron and Steel",
                      null
                    ]
                  ],
                  "geo": "geo",
                  "hovertemplate": "<b>%{hovertext}</b><br><br>Country/Area=North Korea<br>Latitude=%{lat}<br>Longitude=%{lon}<br>Owner=%{customdata[0]}<br>Plant age (years)=%{customdata[1]}<extra></extra>",
                  "hovertext": [
                    "Ch'ollima Steel Complex steel plant",
                    "Ch'ŏngjin Ironworks steel plant",
                    "Hwanghae Iron and Steel Complex steel plant",
                    "Kim Chaek Iron and Steel Complex steel plant",
                    "Tangshan Iron and Steel Kim Chaek Steel Plant"
                  ],
                  "lat": {
                    "bdata": "hVs+kpJ2Q0DGMCdok+NEQDUnLzIBX0NAwR9+/nvgREC8eapDblZEQA==",
                    "dtype": "f8"
                  },
                  "legendgroup": "North Korea",
                  "lon": {
                    "bdata": "+G7zxkllX0BCzCVVWzlgQMJtbeF5Z19AQup29hU4YEA1JO6xdCZgQA==",
                    "dtype": "f8"
                  },
                  "marker": {
                    "color": "#000003",
                    "symbol": "circle"
                  },
                  "mode": "markers",
                  "name": "North Korea",
                  "showlegend": true,
                  "type": "scattergeo"
                },
                {
                  "customdata": [
                    [
                      "Makstil AD",
                      58
                    ]
                  ],
                  "geo": "geo",
                  "hovertemplate": "<b>%{hovertext}</b><br><br>Country/Area=North Macedonia<br>Latitude=%{lat}<br>Longitude=%{lon}<br>Owner=%{customdata[0]}<br>Plant age (years)=%{customdata[1]}<extra></extra>",
                  "hovertext": [
                    "Makstil Skopje Steel plant"
                  ],
                  "lat": {
                    "bdata": "xqNUwhMCRUA=",
                    "dtype": "f8"
                  },
                  "legendgroup": "North Macedonia",
                  "lon": {
                    "bdata": "AU2EDU93NUA=",
                    "dtype": "f8"
                  },
                  "marker": {
                    "color": "#000004",
                    "symbol": "circle"
                  },
                  "mode": "markers",
                  "name": "North Macedonia",
                  "showlegend": true,
                  "type": "scattergeo"
                },
                {
                  "customdata": [
                    [
                      "Sev.en Global Investments AS",
                      79
                    ]
                  ],
                  "geo": "geo",
                  "hovertemplate": "<b>%{hovertext}</b><br><br>Country/Area=Norway<br>Latitude=%{lat}<br>Longitude=%{lon}<br>Owner=%{customdata[0]}<br>Plant age (years)=%{customdata[1]}<extra></extra>",
                  "hovertext": [
                    "Sev.en GI Mo i Rana steel plant"
                  ],
                  "lat": {
                    "bdata": "SkVj7e+TUEA=",
                    "dtype": "f8"
                  },
                  "legendgroup": "Norway",
                  "lon": {
                    "bdata": "h272B8pVLEA=",
                    "dtype": "f8"
                  },
                  "marker": {
                    "color": "#000005",
                    "symbol": "circle"
                  },
                  "mode": "markers",
                  "name": "Norway",
                  "showlegend": true,
                  "type": "scattergeo"
                },
                {
                  "customdata": [
                    [
                      "Jindal Shadeed Iron & Steel LLC",
                      null
                    ],
                    [
                      "Jindal Shadeed Iron & Steel LLC",
                      15
                    ],
                    [
                      "Mitsui-Kobe Steel JV",
                      null
                    ],
                    [
                      "Moon Iron and Steel Company SAOC",
                      5
                    ],
                    [
                      "Sohar Steel LLC",
                      17
                    ],
                    [
                      "Sun Metal Casting LLC",
                      11
                    ]
                  ],
                  "geo": "geo",
                  "hovertemplate": "<b>%{hovertext}</b><br><br>Country/Area=Oman<br>Latitude=%{lat}<br>Longitude=%{lon}<br>Owner=%{customdata[0]}<br>Plant age (years)=%{customdata[1]}<extra></extra>",
                  "hovertext": [
                    "Jindal Shadeed Iron & Steel Duqm plant",
                    "Jindal Steel Sohar plant",
                    "Mitsui-Kobe Duqm DRI plant",
                    "Moon Iron & Steel Company Sohar plant",
                    "Sohar Steel plant",
                    "Sun Metals Sur steel plant"
                  ],
                  "lat": {
                    "bdata": "WKmgouqjM0B1kq0up4A4QGco7niThzNAucX83NBoOEDDSC9q9384QDChgsMLojZA",
                    "dtype": "f8"
                  },
                  "legendgroup": "Oman",
                  "lon": {
                    "bdata": "AYkmUMTWTEBDN/sD5UxMQEKVmj3QzkxA0sQ7wJNCTEBB1lOrr0xMQLEwRE5ftU1A",
                    "dtype": "f8"
                  },
                  "marker": {
                    "color": "#000006",
                    "symbol": "circle"
                  },
                  "mode": "markers",
                  "name": "Oman",
                  "showlegend": true,
                  "type": "scattergeo"
                },
                {
                  "customdata": [
                    [
                      "Agha Steel Industries Ltd",
                      13.69
                    ],
                    [
                      "Amreli Steels Ltd",
                      14
                    ],
                    [
                      "Century Steel Pte Ltd",
                      null
                    ],
                    [
                      "Faizan Steel",
                      15
                    ],
                    [
                      "Ittehad Steels Pvt Ltd",
                      12
                    ],
                    [
                      "Mughal Iron & Steel Industries Ltd",
                      26
                    ],
                    [
                      "National Steel Complex Ltd",
                      12.69
                    ],
                    [
                      "Pakistan Steel Mills Corp Pvt Ltd",
                      43.41
                    ]
                  ],
                  "geo": "geo",
                  "hovertemplate": "<b>%{hovertext}</b><br><br>Country/Area=Pakistan<br>Latitude=%{lat}<br>Longitude=%{lon}<br>Owner=%{customdata[0]}<br>Plant age (years)=%{customdata[1]}<extra></extra>",
                  "hovertext": [
                    "Agha Steel Industries Karachi plant",
                    "Amreli Steels Dhabeji plant",
                    "Century Steel Khyber plant",
                    "Faizan Steel Karachi steel plant",
                    "Ittehad Steel Faisalabad plant",
                    "Mughal Iron & Steel Industries Lahore plant",
                    "National Steel Complex Limited Karachi Steel Plant",
                    "Pakistan Steel Mills Karachi"
                  ],
                  "lat": {
                    "bdata": "2hoRjIPXOEB0Iywq4sw4QHheKjbmD0FAYjB/hczlOEBnZfuQt6Q/QLMkQE0tpz9AHTwTmiTKOEAfgxWnWs84QA==",
                    "dtype": "f8"
                  },
                  "legendgroup": "Pakistan",
                  "lon": {
                    "bdata": "2GMipdnTUECWlpF6T+BQQBjt8UI6AVJAv5gtWRW/UEB6OIHptExSQONSlba4i1JAFm2Oc5vWUEBYc4BgjtZQQA==",
                    "dtype": "f8"
                  },
                  "marker": {
                    "color": "#000007",
                    "symbol": "circle"
                  },
                  "mode": "markers",
                  "name": "Pakistan",
                  "showlegend": true,
                  "type": "scattergeo"
                },
                {
                  "customdata": [
                    [
                      "Corporacion Aceros Arequipa SA",
                      38
                    ],
                    [
                      "Empresa Siderurgica del Peru SAA",
                      67
                    ]
                  ],
                  "geo": "geo",
                  "hovertemplate": "<b>%{hovertext}</b><br><br>Country/Area=Peru<br>Latitude=%{lat}<br>Longitude=%{lon}<br>Owner=%{customdata[0]}<br>Plant age (years)=%{customdata[1]}<extra></extra>",
                  "hovertext": [
                    "Aceros Arequipa Pisco steel plant",
                    "Gerdau Siderperu Chimbote steel plant"
                  ],
                  "lat": {
                    "bdata": "7s9FQ8aTK8CqmbUUkB4iwA==",
                    "dtype": "f8"
                  },
                  "legendgroup": "Peru",
                  "lon": {
                    "bdata": "fsSvWMMKU8DIREqzeaZTwA==",
                    "dtype": "f8"
                  },
                  "marker": {
                    "color": "#000008",
                    "symbol": "circle"
                  },
                  "mode": "markers",
                  "name": "Peru",
                  "showlegend": true,
                  "type": "scattergeo"
                },
                {
                  "customdata": [
                    [
                      "SteelAsia Manufacturing Corp",
                      null
                    ],
                    [
                      "SteelAsia Manufacturing Corp",
                      0
                    ],
                    [
                      "Mount Zynai 0304 Mining Corp",
                      null
                    ],
                    [
                      "Panhua Group Co Ltd",
                      null
                    ],
                    [
                      "Panhua Group Co Ltd",
                      null
                    ],
                    [
                      "SteelAsia Manufacturing Corp",
                      null
                    ],
                    [
                      "SteelAsia Manufacturing Corp",
                      26
                    ],
                    [
                      "SteelAsia Manufacturing Corp",
                      null
                    ],
                    [
                      "SteelAsia Manufacturing Corp",
                      2
                    ],
                    [
                      "SteelAsia Manufacturing Corp",
                      null
                    ]
                  ],
                  "geo": "geo",
                  "hovertemplate": "<b>%{hovertext}</b><br><br>Country/Area=Philippines<br>Latitude=%{lat}<br>Longitude=%{lon}<br>Owner=%{customdata[0]}<br>Plant age (years)=%{customdata[1]}<extra></extra>",
                  "hovertext": [
                    "BaoSteel and SteelAsia Philippines plant",
                    "HBIS and SteelAsia Lemery plant",
                    "Mount Zynai Integratred Steel Mill and Smelting Plant",
                    "Panhua Group Mindanao steel plant",
                    "Panhua Group Sarangani steel plant",
                    "SteelAsia Batangas plant",
                    "SteelAsia Calaca plant",
                    "SteelAsia Candelaria steel Plant",
                    "SteelAsia Compostela steel plant",
                    "SteelAsia Concepcion plant"
                  ],
                  "lat": {
                    "bdata": "N92yQ/wrKUCnH9RFCtUrQIC21awz3h5AjdR7KqcNIUAsZRniWHcXQBbdek0P8itAXTEjvD3YK0DyDy0ZwNArQLth26LM5iRA21Gco46mLkA=",
                    "dtype": "f8"
                  },
                  "legendgroup": "Philippines",
                  "lon": {
                    "bdata": "DFwea0bNXkDcLckBuzheQKwdxTnqv15Aj46rkV0wX0C/YaJBCkVfQPJEEOfhOF5A16TbErk0XkDlU8XSfFteQDV6NUBpAF9AuoRDb/EpXkA=",
                    "dtype": "f8"
                  },
                  "marker": {
                    "color": "#000009",
                    "symbol": "circle"
                  },
                  "mode": "markers",
                  "name": "Philippines",
                  "showlegend": true,
                  "type": "scattergeo"
                },
                {
                  "customdata": [
                    [
                      "ArcelorMittal Poland SA",
                      49
                    ],
                    [
                      "ArcelorMittal Poland SA",
                      66
                    ],
                    [
                      "Arcelormittal Warszawa SP zoo",
                      68
                    ],
                    [
                      "Celsa Huta Ostrowiec SP zoo",
                      212
                    ],
                    [
                      "CMC Poland SP zoo",
                      124
                    ],
                    [
                      "Ferrostal Labedy SP zoo",
                      32
                    ],
                    [
                      "Liberty Steel Group",
                      123
                    ],
                    [
                      "Weglokoks Stal SP zoo",
                      null
                    ]
                  ],
                  "geo": "geo",
                  "hovertemplate": "<b>%{hovertext}</b><br><br>Country/Area=Poland<br>Latitude=%{lat}<br>Longitude=%{lon}<br>Owner=%{customdata[0]}<br>Plant age (years)=%{customdata[1]}<extra></extra>",
                  "hovertext": [
                    "ArcelorMittal Dąbrowa Górnicza steel plant",
                    "ArcelorMittal Kraków steel plant",
                    "ArcelorMittal Warszawa steel plant",
                    "Celsa Huta Ostrowiec steel plant",
                    "CMC Zawiercie steel plant",
                    "Ferrostal Labedy Gliwice steel plant",
                    "Huta Czestochowa steel plant",
                    "Weglokoks Ruda Slaska steel plant"
                  ],
                  "lat": {
                    "bdata": "Fkz8UdQrSUCyZmSQuwpJQLCO44dKJUpALCtNSkF5SUBJgQUwZT5JQIAsRIfALUlAJbIPsixkSUDzPSMRGiVJQA==",
                    "dtype": "f8"
                  },
                  "legendgroup": "Poland",
                  "lon": {
                    "bdata": "YyZRL/hIM0CYaJCCpxg0QC6Oyk3U6jRApKfIIeJyNUBXJ2co7nQzQElkH2RZnDJAXFSLiGIqM0AgKo2Y2d8yQA==",
                    "dtype": "f8"
                  },
                  "marker": {
                    "color": "#000010",
                    "symbol": "circle"
                  },
                  "mode": "markers",
                  "name": "Poland",
                  "showlegend": true,
                  "type": "scattergeo"
                },
                {
                  "customdata": [
                    [
                      "SN MAIA Siderurgia Nacional SA",
                      51
                    ],
                    [
                      "SN SEIXAL Siderurgia Nacional SA",
                      64
                    ]
                  ],
                  "geo": "geo",
                  "hovertemplate": "<b>%{hovertext}</b><br><br>Country/Area=Portugal<br>Latitude=%{lat}<br>Longitude=%{lon}<br>Owner=%{customdata[0]}<br>Plant age (years)=%{customdata[1]}<extra></extra>",
                  "hovertext": [
                    "SN MAIA Siderurgia Nacional steel plant",
                    "SN SEIXAL Siderurgia Nacional steel plant"
                  ],
                  "lat": {
                    "bdata": "n1kSoKagREC6SnfX2U5DQA==",
                    "dtype": "f8"
                  },
                  "legendgroup": "Portugal",
                  "lon": {
                    "bdata": "MevFUE4cIcA2yY/4FSMiwA==",
                    "dtype": "f8"
                  },
                  "marker": {
                    "color": "#000001",
                    "symbol": "circle"
                  },
                  "mode": "markers",
                  "name": "Portugal",
                  "showlegend": true,
                  "type": "scattergeo"
                },
                {
                  "customdata": [
                    [
                      "Qatar Steel Company QPSC",
                      47
                    ]
                  ],
                  "geo": "geo",
                  "hovertemplate": "<b>%{hovertext}</b><br><br>Country/Area=Qatar<br>Latitude=%{lat}<br>Longitude=%{lon}<br>Owner=%{customdata[0]}<br>Plant age (years)=%{customdata[1]}<extra></extra>",
                  "hovertext": [
                    "Industries Qatar Steel Mesaieed plant"
                  ],
                  "lat": {
                    "bdata": "qUpbXOPzOEA=",
                    "dtype": "f8"
                  },
                  "legendgroup": "Qatar",
                  "lon": {
                    "bdata": "/DkF+dnKSUA=",
                    "dtype": "f8"
                  },
                  "marker": {
                    "color": "#000002",
                    "symbol": "circle"
                  },
                  "mode": "markers",
                  "name": "Qatar",
                  "showlegend": true,
                  "type": "scattergeo"
                },
                {
                  "customdata": [
                    [
                      "ArcelorMittal Hunedoara SA",
                      141
                    ],
                    [
                      "Donalam SRL",
                      52
                    ],
                    [
                      "Liberty Galati SA",
                      57
                    ],
                    [
                      "GLGH Steel",
                      254
                    ],
                    [
                      "Laminorul Danube Metallurgical Enterprise SRL",
                      229
                    ],
                    [
                      "S.C. Silcotub SA",
                      21
                    ],
                    [
                      "Ussuri Capital",
                      null
                    ]
                  ],
                  "geo": "geo",
                  "hovertemplate": "<b>%{hovertext}</b><br><br>Country/Area=Romania<br>Latitude=%{lat}<br>Longitude=%{lon}<br>Owner=%{customdata[0]}<br>Plant age (years)=%{customdata[1]}<extra></extra>",
                  "hovertext": [
                    "ArcelorMittal Hunedoara steel plant",
                    "Donalam Targoviste plant",
                    "GFG Liberty Galati steel plant",
                    "GLGH Resita steel plant",
                    "Otelu Rosu Steel Plant",
                    "Tenaris Silcotub Calarasi steel mill",
                    "Ussuri Capital Romania steel plant"
                  ],
                  "lat": {
                    "bdata": "n8n+eRreRkDb/L/qyHNGQD/JHTaRt0ZAntFWJZGlRkAJwhVQqMFGQISezarPG0ZAM6g2OBERRkA=",
                    "dtype": "f8"
                  },
                  "legendgroup": "Romania",
                  "lon": {
                    "bdata": "UU60q5DqNkBBg02dR3U5QI7qdCDr+TtAV5V9VwTnNUCNCpxsA1c2QOlDF9S3TDtA6xwDstejPEA=",
                    "dtype": "f8"
                  },
                  "marker": {
                    "color": "#000003",
                    "symbol": "circle"
                  },
                  "mode": "markers",
                  "name": "Romania",
                  "showlegend": true,
                  "type": "scattergeo"
                },
                {
                  "customdata": [
                    [
                      "Abinski Elektrometallurgicheski Zavod LLC",
                      11
                    ],
                    [
                      "Amurstal LLC",
                      83
                    ],
                    [
                      "Ashinskiy Metzavod PJSC",
                      125
                    ],
                    [
                      "MZ Balakovo JSC",
                      12
                    ],
                    [
                      "Donelektrostal LLC",
                      1
                    ],
                    [
                      "Ecolant LLC",
                      0
                    ],
                    [
                      "Evraz NTMK JSC",
                      85
                    ],
                    [
                      "Evraz ZSMK JSC",
                      93
                    ],
                    [
                      "Promsort LLC",
                      90
                    ],
                    [
                      "KMK Tempo JSC",
                      9
                    ],
                    [
                      "Lebedinskiy GOK JSC",
                      54
                    ],
                    [
                      "Magnitogorskiy Metallurgicheskiy Kombinat PJSC",
                      93
                    ],
                    [
                      "Chelyabinskiy Metallurgicheskiy Kombinat PJSC",
                      82
                    ],
                    [
                      "Mikhailovsky HBI LLC",
                      null
                    ],
                    [
                      "Oskol'skiy Elektrometallurgicheskiy Kombinat Imeni Alekseya Alekseyevicha Ugarova JSC",
                      41
                    ],
                    [
                      "UMK-Stal LLC",
                      129
                    ],
                    [
                      "Novolipetsk Steel PJSC",
                      91
                    ],
                    [
                      "Stoylenskiy Gorno-Obogatitel'nyi Kombinat JSC",
                      null
                    ],
                    [
                      "Novorossiysk Rolling Plant LLC",
                      18
                    ],
                    [
                      "Vyksunskiy Metallurgicheskiy Zavod AO",
                      267.99
                    ],
                    [
                      "Chelyabinskiy Truboprokatnyi Zavod JSC",
                      91
                    ],
                    [
                      "Promsort LLC",
                      12
                    ],
                    [
                      "Promsort LLC",
                      20
                    ],
                    [
                      "Severstal PJSC",
                      70
                    ],
                    [
                      "StavStal' LLC",
                      9
                    ],
                    [
                      "Severskiy Trubnyi Zavod JSC",
                      286
                    ],
                    [
                      "Taganrogskiy Metallurgicheskiy Zavod JSC",
                      129
                    ],
                    [
                      "UMK-Stal LLC",
                      11
                    ],
                    [
                      "Uralskaya Stal JSC",
                      70
                    ],
                    [
                      "Krasnyi Oktyabr' Corporation JSC",
                      127
                    ],
                    [
                      "Volzhskiy Trubnyi Zavod JSC",
                      55
                    ]
                  ],
                  "geo": "geo",
                  "hovertemplate": "<b>%{hovertext}</b><br><br>Country/Area=Russia<br>Latitude=%{lat}<br>Longitude=%{lon}<br>Owner=%{customdata[0]}<br>Plant age (years)=%{customdata[1]}<extra></extra>",
                  "hovertext": [
                    "Abinsk Electric Steel Works",
                    "Amurstal steel plant",
                    "Ashinskiy Metallurgical plant",
                    "Balakovo Steel Plant",
                    "Donelektrostal Shakhty steel plant",
                    "Ecolant steel plant",
                    "Evraz NTMK steel plant",
                    "Evraz ZSMK steel plant",
                    "IMH Tula steel plant",
                    "Kamsky Metallurgical Works TEMPO",
                    "Lebedinsky GOK DRI Plant",
                    "Magnitogorsk Iron and Steel Works",
                    "Mechel Chelyabinsk Metallurgical Plant",
                    "Metalloinvest Mikhailovsky HBI plant",
                    "Metalloinvest OEMK steel plant",
                    "Nadezhdinski Metallurgical Plant",
                    "NLMK Lipetsk steel plant",
                    "NLMK Stoilensky iron plant",
                    "Novorossiysk rolling plant",
                    "OMK Vyksa Casting and Rolling Complex",
                    "Pervouralsk Pipe Plant",
                    "Promsort Kaluga steel plant",
                    "Promsort Ural steel plant",
                    "Severstal Cherepovets steel plant",
                    "StavStal Metallurgical Plant",
                    "TMK Seversky Pipe Plant",
                    "TMK Taganrog Metallurgical Plant",
                    "Tyumen Electrosteel plant",
                    "Ural Steel Metallurgical Plant",
                    "VMK Red October steel plant",
                    "Volzhsky Pipe Plant"
                  ],
                  "lat": {
                    "bdata": "wYwpWONwRkCQLjatFEhJQFdgyOpWf0tAfuGVJM/3SUCcw7Xaw95HQMPVARB3qUtAWwpI+x/2TEBFL6NYbvFKQGk3+pgPFEtAZjBGJArdS0CWW1oNiaFJQNB/D167tkpA5gXYR6eiS0BN9PkoIy5KQL/yID1FkklApUxqaAPMTUBi2jf3V0dKQF+zXDY6n0lAEYyDS8feR0CJtfgUALFLQKyt2F92c0xAR3L5D+mdS0D2QgHbwWxMQD9YxoZukk1A1ArT9xpYRkDPvvIgPT1MQFiP+1brnkdA+3YSEf6NTECuZp3xfZtJQOauJeSDYEhAKpDZWfRmSEA=",
                    "dtype": "f8"
                  },
                  "legendgroup": "Russia",
                  "lon": {
                    "bdata": "3PRnP1IQQ0DUYYVbPh9hQP2IX7GGo0xAXD0nvW/oR0CqmiDqPhhEQI24ADRKE0VAPwEUI0sETkAZNzXQfNBVQEFK7Nre3EJAJLcm3ZZESkD+nlinytNCQD//PXjthk1AmntI+N63TkAZH2Yv27JBQLVrQlpj+EJAVMN+T6xLTkC5NH7hldBDQJ89l6lJ5EJAA7LXuz8YREBlOQmlLxhFQAyUFFgA/01AONpxw+9WQkBBnfLoRvRNQKYKRiV17kJAk8g+yLL2RECfIRyz7B9OQGDLK9fbdkNA8fCeA8tqUECLUGwFTS1NQGx2pPrOR0ZALzTXaaRlRkA=",
                    "dtype": "f8"
                  },
                  "marker": {
                    "color": "#000004",
                    "symbol": "circle"
                  },
                  "mode": "markers",
                  "name": "Russia",
                  "showlegend": true,
                  "type": "scattergeo"
                },
                {
                  "customdata": [
                    [
                      "Al Atoun Steel Industries",
                      null
                    ],
                    [
                      "Arab Steel Co",
                      36
                    ],
                    [
                      "National Steel Co",
                      21
                    ],
                    [
                      "Al Qaryan Steel Co",
                      8
                    ],
                    [
                      "Saudi Arabian Oil Co",
                      null
                    ],
                    [
                      "Dar Al Arkan Real Estate Development Company SJSC",
                      null
                    ],
                    [
                      "BAP Al-Khair Steel Company",
                      null
                    ],
                    [
                      "Essar Global Fund Ltd",
                      null
                    ],
                    [
                      "Gulf Tubing Co",
                      null
                    ],
                    [
                      "Rajhi Steel Industries Co Ltd",
                      41
                    ],
                    [
                      "Saudi Iron and Steel Co",
                      46
                    ],
                    [
                      "Solb Steel Co",
                      16
                    ],
                    [
                      "Tosyalı Holding AŞ",
                      null
                    ]
                  ],
                  "geo": "geo",
                  "hovertemplate": "<b>%{hovertext}</b><br><br>Country/Area=Saudi Arabia<br>Latitude=%{lat}<br>Longitude=%{lon}<br>Owner=%{customdata[0]}<br>Plant age (years)=%{customdata[1]}<extra></extra>",
                  "hovertext": [
                    "Al Atoun Yanbu steel plant",
                    "Al Ittefaq Arab Steel Dammam plant",
                    "Al Ittefaq National Steel Dammam plant",
                    "Al Qaryan steel plant",
                    "Aramco Ras Al Khair steel plant",
                    "Arkan Steel Jeddah plant",
                    "BAP Al-Khair Steel Company",
                    "Essar Ras Al Khair steel plant",
                    "Gulf Tubing Company Ras Al-Khair steel plant",
                    "Rajhi Al Assemah Steel Jeddah plant",
                    "SABIC Hadeed Al Jubail steel plant",
                    "Solb Steel Jizan plant",
                    "Tosyali Ras Al Khair steel plant"
                  ],
                  "lat": {
                    "bdata": "gZVDi2wHOECfAIqRJUc6QMeEmEuqPjpAdqVlpN5HOkBWEW4yqoA7QMPwETElhjVAnClog3l/O0BZh6OrdIs7QEpATMKFgDtAaLEUyVdKNUD84lKVtgQ7QHGsi9toTDFAutqK/WWLO0A=",
                    "dtype": "f8"
                  },
                  "legendgroup": "Saudi Arabia",
                  "lon": {
                    "bdata": "guFcwwwXQ0DFjsahfvlIQJDdBUoK/EhAaqSl8nb6SEAqG9ZUFpdIQFCr6A/NnkNAWdpiZ5KXSECJmX0eo5pIQGtkV1pGmEhA31LOF3uXQ0A7bY0IxslIQKyRXWkZLUVA6Qq2EU+aSEA=",
                    "dtype": "f8"
                  },
                  "marker": {
                    "color": "#000005",
                    "symbol": "circle"
                  },
                  "mode": "markers",
                  "name": "Saudi Arabia",
                  "showlegend": true,
                  "type": "scattergeo"
                },
                {
                  "customdata": [
                    [
                      "HBIS Group Serbia Iron & Steel Beograd doo",
                      61
                    ],
                    [
                      "Metalfer Steel Mill Sremska Mitrovica doo",
                      17
                    ]
                  ],
                  "geo": "geo",
                  "hovertemplate": "<b>%{hovertext}</b><br><br>Country/Area=Serbia<br>Latitude=%{lat}<br>Longitude=%{lon}<br>Owner=%{customdata[0]}<br>Plant age (years)=%{customdata[1]}<extra></extra>",
                  "hovertext": [
                    "HBIS GROUP Serbia Iron & Steel plant Belgrade",
                    "Metalfer Steel Mill Sremska Mitrovica"
                  ],
                  "lat": {
                    "bdata": "V0J3SZxNRkDvHMpQFX1GQA==",
                    "dtype": "f8"
                  },
                  "legendgroup": "Serbia",
                  "lon": {
                    "bdata": "J/bQPlb4NECT407pYKUzQA==",
                    "dtype": "f8"
                  },
                  "marker": {
                    "color": "#000006",
                    "symbol": "circle"
                  },
                  "mode": "markers",
                  "name": "Serbia",
                  "showlegend": true,
                  "type": "scattergeo"
                },
                {
                  "customdata": [
                    [
                      "Tata Steel Ltd",
                      64
                    ]
                  ],
                  "geo": "geo",
                  "hovertemplate": "<b>%{hovertext}</b><br><br>Country/Area=Singapore<br>Latitude=%{lat}<br>Longitude=%{lon}<br>Owner=%{customdata[0]}<br>Plant age (years)=%{customdata[1]}<extra></extra>",
                  "hovertext": [
                    "Natsteel Singapore plant"
                  ],
                  "lat": {
                    "bdata": "NXo1QGno9D8=",
                    "dtype": "f8"
                  },
                  "legendgroup": "Singapore",
                  "lon": {
                    "bdata": "4lgXt9HsWUA=",
                    "dtype": "f8"
                  },
                  "marker": {
                    "color": "#000007",
                    "symbol": "circle"
                  },
                  "mode": "markers",
                  "name": "Singapore",
                  "showlegend": true,
                  "type": "scattergeo"
                },
                {
                  "customdata": [
                    [
                      "Max Aicher GmbH & Co KG",
                      14
                    ],
                    [
                      "US Steel Košice sro",
                      60
                    ]
                  ],
                  "geo": "geo",
                  "hovertemplate": "<b>%{hovertext}</b><br><br>Country/Area=Slovakia<br>Latitude=%{lat}<br>Longitude=%{lon}<br>Owner=%{customdata[0]}<br>Plant age (years)=%{customdata[1]}<extra></extra>",
                  "hovertext": [
                    "Max Aicher Slovakia Steel Mills Strazske",
                    "U. S. Steel Košice steel plant"
                  ],
                  "lat": {
                    "bdata": "j6uRXWlxSEBFD3wMVk5IQA==",
                    "dtype": "f8"
                  },
                  "legendgroup": "Slovakia",
                  "lon": {
                    "bdata": "JCh+jLnTNUD0a+un/zA1QA==",
                    "dtype": "f8"
                  },
                  "marker": {
                    "color": "#000008",
                    "symbol": "circle"
                  },
                  "mode": "markers",
                  "name": "Slovakia",
                  "showlegend": true,
                  "type": "scattergeo"
                },
                {
                  "customdata": [
                    [
                      "SIJ Acroni doo",
                      65
                    ]
                  ],
                  "geo": "geo",
                  "hovertemplate": "<b>%{hovertext}</b><br><br>Country/Area=Slovenia<br>Latitude=%{lat}<br>Longitude=%{lon}<br>Owner=%{customdata[0]}<br>Plant age (years)=%{customdata[1]}<extra></extra>",
                  "hovertext": [
                    "SIJ Acroni Jesenice steel plant"
                  ],
                  "lat": {
                    "bdata": "odl1b0U2R0A=",
                    "dtype": "f8"
                  },
                  "legendgroup": "Slovenia",
                  "lon": {
                    "bdata": "uHU3T3UwLEA=",
                    "dtype": "f8"
                  },
                  "marker": {
                    "color": "#000009",
                    "symbol": "circle"
                  },
                  "mode": "markers",
                  "name": "Slovenia",
                  "showlegend": true,
                  "type": "scattergeo"
                },
                {
                  "customdata": [
                    [
                      "Columbus Stainless (Pty) Ltd",
                      59
                    ],
                    [
                      "ArcelorMittal South Africa Ltd",
                      54
                    ],
                    [
                      "ArcelorMittal South Africa Ltd",
                      27
                    ],
                    [
                      "ArcelorMittal South Africa Ltd",
                      78
                    ],
                    [
                      "Scaw Metals Group Pty Ltd",
                      101
                    ]
                  ],
                  "geo": "geo",
                  "hovertemplate": "<b>%{hovertext}</b><br><br>Country/Area=South Africa<br>Latitude=%{lat}<br>Longitude=%{lon}<br>Owner=%{customdata[0]}<br>Plant age (years)=%{customdata[1]}<extra></extra>",
                  "hovertext": [
                    "Acerinox Columbus Stainless steel plant",
                    "ArcelorMittal Newcastle Steel Works",
                    "ArcelorMittal Saldanha Steel Works",
                    "ArcelorMittal Vanderbijlpark Steel Works",
                    "Scaw Metals Group Germiston plant"
                  ],
                  "lat": {
                    "bdata": "MWE0K9vLOcAgYoOFk7Q7wJPjTulgfUDAOngmNEmoOsA6eZEJ+EU6wA==",
                    "dtype": "f8"
                  },
                  "legendgroup": "South Africa",
                  "lon": {
                    "bdata": "31LOF3t/PUBqFf2hmQM+QPtZLEXyBTJAfCx96ILSO0A6XKs97Ck8QA==",
                    "dtype": "f8"
                  },
                  "marker": {
                    "color": "#000010",
                    "symbol": "circle"
                  },
                  "mode": "markers",
                  "name": "South Africa",
                  "showlegend": true,
                  "type": "scattergeo"
                },
                {
                  "customdata": [
                    [
                      "Daehan Steel Co Ltd",
                      17.78
                    ],
                    [
                      "Dongkuk Steel Mill Co Ltd",
                      53
                    ],
                    [
                      "Dongkuk Steel Mill Co Ltd",
                      34
                    ],
                    [
                      "Hwanyoung Steel Industries Co Ltd",
                      32.36
                    ],
                    [
                      "Hyundai Steel Co",
                      19
                    ],
                    [
                      "Hyundai Steel Co",
                      72
                    ],
                    [
                      "Hyundai Steel Co",
                      null
                    ],
                    [
                      "KG Steel Co Ltd",
                      25.08
                    ],
                    [
                      "KG Steel Co Ltd",
                      16
                    ],
                    [
                      "KISCO Corp",
                      60
                    ],
                    [
                      "POSCO Holdings Inc",
                      38
                    ],
                    [
                      "POSCO Holdings Inc",
                      52
                    ],
                    [
                      "SeAH Besteel Holdings Corp",
                      28
                    ],
                    [
                      "SeAH Changwon Integrated Special Steel Corp",
                      59
                    ],
                    [
                      "SeAh Steel Holdings Corp",
                      47
                    ],
                    [
                      "unknown",
                      null
                    ],
                    [
                      "YK Steel Corp",
                      61
                    ],
                    [
                      "YK Steel Corp",
                      0
                    ]
                  ],
                  "geo": "geo",
                  "hovertemplate": "<b>%{hovertext}</b><br><br>Country/Area=South Korea<br>Latitude=%{lat}<br>Longitude=%{lon}<br>Owner=%{customdata[0]}<br>Plant age (years)=%{customdata[1]}<extra></extra>",
                  "hovertext": [
                    "DaehanSteel Noksan Steel Plant",
                    "Dongkuk Steel Incheon steel plant",
                    "Dongkuk Steel Pohang steel plant",
                    "Hansco Hwanyoung Steel Dangjin plant",
                    "Hyundai Steel Dangjin steel plant",
                    "Hyundai Steel Incheon steel plant",
                    "Hyundai Steel Pohang steel plant",
                    "KG Steel Dangjin steel plant",
                    "KG Steel Incheon steel plant",
                    "KISCO steel Changwon plant",
                    "POSCO Gwangyang steel plant",
                    "POSCO Pohang steel plant",
                    "SeAH Besteel Gunsan steel plant",
                    "SeAH Changwon Integrated Special Steel plant",
                    "SeAH Steel Pohang plant",
                    "South Korea hydrogen DRI plant",
                    "YK Steel Busan plant",
                    "YK Steel Dangjin plant"
                  ],
                  "lat": {
                    "bdata": "rIxGPq+MQUAH0zB8RL5CQGr2QCswAEJAeoocIm56QkAWURN9Pn5CQAzJycStvkJA+gyoN6MAQkC4sdmR6n1CQLKd76fGvUJAE/HW+bebQUD0wMdgxXVBQEzD8BExAUJAqYQn9Pr7QUCbkUHuIppBQEFK7Nre/kFAb2b0o+FSQkBH5LuUuopBQHUhVn+EdUJA",
                    "dtype": "f8"
                  },
                  "legendgroup": "South Korea",
                  "lon": {
                    "bdata": "Jo+n5YcbYEDJ/+Tv3qhfQAxzgja5LGBAi8QENXynX0Bm9+RhoaxfQKuvrgrUqF9ArTHohFAsYEAUIuAQqq9fQDLmriXkql9Au0ihLHwUYECgibDh6e9fQFXAPc+fLGBAIojzcAKnX0AzF7g8VhNgQDLk2HoGLGBA2zUhrTEEYEA6lKEqph9gQJpgONcwqV9A",
                    "dtype": "f8"
                  },
                  "marker": {
                    "color": "#000001",
                    "symbol": "circle"
                  },
                  "mode": "markers",
                  "name": "South Korea",
                  "showlegend": true,
                  "type": "scattergeo"
                },
                {
                  "customdata": [
                    [
                      "Acerinox Europa SAU",
                      55
                    ],
                    [
                      "ArcelorMittal España SA",
                      75
                    ],
                    [
                      "ArcelorMittal España SA",
                      54
                    ],
                    [
                      "Arcelormittal Olaberria-Bergara SL",
                      33
                    ],
                    [
                      "Arcelormittal Sestao SL",
                      123
                    ],
                    [
                      "Compania Espanola de Laminacion SL",
                      68
                    ],
                    [
                      "Global Steel Wire SA",
                      126
                    ],
                    [
                      "Nervacero SA",
                      54
                    ],
                    [
                      "Cristian Lay SL",
                      null
                    ],
                    [
                      "Corrugados Getafe SL",
                      77
                    ],
                    [
                      "AG Siderurgica Balboa SA",
                      33
                    ],
                    [
                      "Hydnum Steel SL",
                      null
                    ],
                    [
                      "Megasa Siderurgica SL",
                      72
                    ],
                    [
                      "Megasider Zaragoza SA",
                      67
                    ],
                    [
                      "Siderurgica Sevillana SA",
                      71
                    ],
                    [
                      "Sidenor Aceros Especiales SLU",
                      58
                    ],
                    [
                      "Stegra AB",
                      null
                    ]
                  ],
                  "geo": "geo",
                  "hovertemplate": "<b>%{hovertext}</b><br><br>Country/Area=Spain<br>Latitude=%{lat}<br>Longitude=%{lon}<br>Owner=%{customdata[0]}<br>Plant age (years)=%{customdata[1]}<extra></extra>",
                  "hovertext": [
                    "Acerinox Europa Los Barrios steel plant",
                    "ArcelorMittal Asturias (Aviles) steel plant",
                    "ArcelorMittal Asturias (Gijón) steel plant",
                    "ArcelorMittal Olaberria-Bergara (Olaberria) steel plant",
                    "ArcelorMittal Sestao steel plant",
                    "Celsa Barcelona Castellbisbal steel plant",
                    "Celsa Global Steel Wire Santander plant",
                    "Celsa Nervacero steel plant",
                    "Grupo Gallardo Corrugados Azpeitia steel plant",
                    "Grupo Gallardo Corrugados Getafe steel plant",
                    "Grupo Gallardo Siderurgica Balboa Jerez de los Caballeros steel plant",
                    "Hydnum Steel Castilla-La Mancha plant",
                    "Megasa Siderúrgica Narón steel plant",
                    "Megasider Zaragoza steel plant",
                    "Riva Siderurgica Sevillana steel plant",
                    "Sidenor Aceros Especiales Basauri steel plant",
                    "Stegra Spain steel plant"
                  ],
                  "lat": {
                    "bdata": "DhKifEEXQkALYMrAAcdFQBSy8zY2w0VAxuHMr+aERUAleEMaFahFQAe2SrA4ukRAI7w9CAG5RUBWmpSCbqdFQLByaJHtlkVA1T+IZMgnREAdIJijxylDQO9wOzQsWENAWaMeotHBRUB+Uu3T8chEQE2/RLx1rkJAGHyakxedRUDek4eFWjtEQA==",
                    "dtype": "f8"
                  },
                  "legendgroup": "Spain",
                  "lon": {
                    "bdata": "QX42ct20FcA9RKM7iH0XwE5eZAJ+7RbAbxKDwMrBAcD+DG/W4P0HwG9Kea2Erv8/kxlvK722DsBFuTR+4TUIwOUqFr8pDALA1xh0QuigDcBjey3ovREbwMu5FFeVbRDAYp6VtOJTIMB5spsZ/Wjrv0Deq1YmjBfA4nK8AtETB8A8TtGRXP4NwA==",
                    "dtype": "f8"
                  },
                  "marker": {
                    "color": "#000002",
                    "symbol": "circle"
                  },
                  "mode": "markers",
                  "name": "Spain",
                  "showlegend": true,
                  "type": "scattergeo"
                },
                {
                  "customdata": [
                    [
                      "Ceylon Steel Co Ltd",
                      null
                    ]
                  ],
                  "geo": "geo",
                  "hovertemplate": "<b>%{hovertext}</b><br><br>Country/Area=Sri Lanka<br>Latitude=%{lat}<br>Longitude=%{lon}<br>Owner=%{customdata[0]}<br>Plant age (years)=%{customdata[1]}<extra></extra>",
                  "hovertext": [
                    "Lanwa Steel Hambantota steel plant"
                  ],
                  "lat": {
                    "bdata": "q3r5nSaDGEA=",
                    "dtype": "f8"
                  },
                  "legendgroup": "Sri Lanka",
                  "lon": {
                    "bdata": "9fdSeNBEVEA=",
                    "dtype": "f8"
                  },
                  "marker": {
                    "color": "#000003",
                    "symbol": "circle"
                  },
                  "mode": "markers",
                  "name": "Sri Lanka",
                  "showlegend": true,
                  "type": "scattergeo"
                },
                {
                  "customdata": [
                    [
                      "Hybrit Development AB",
                      null
                    ],
                    [
                      "Outokumpu Stainless AB",
                      95
                    ],
                    [
                      "Ovako AB",
                      109
                    ],
                    [
                      "SSAB AB",
                      84
                    ],
                    [
                      "SSAB AB",
                      112
                    ],
                    [
                      "Stegra AB",
                      0
                    ]
                  ],
                  "geo": "geo",
                  "hovertemplate": "<b>%{hovertext}</b><br><br>Country/Area=Sweden<br>Latitude=%{lat}<br>Longitude=%{lon}<br>Owner=%{customdata[0]}<br>Plant age (years)=%{customdata[1]}<extra></extra>",
                  "hovertext": [
                    "HYBRIT Gallivare sponge iron plant",
                    "Outokumpu Avesta steel plant",
                    "Ovako Hofors steel plant",
                    "SSAB Luleå steel plant",
                    "SSAB Oxelösund steel plant",
                    "Stegra Boden steel plant"
                  ],
                  "lat": {
                    "bdata": "fPMbJhrMUECg+geRDBNOQLLzNjY7Rk5Ayvyjb9JjUEAewvhp3FVNQLnjTX6Lc1BA",
                    "dtype": "f8"
                  },
                  "legendgroup": "Sweden",
                  "lon": {
                    "bdata": "z4b8M4O4NEC3fCQlPSwwQP28qUiFTTBAwvaTMT44NkD84lKVtiAxQN8Vwf9WwjVA",
                    "dtype": "f8"
                  },
                  "marker": {
                    "color": "#000004",
                    "symbol": "circle"
                  },
                  "mode": "markers",
                  "name": "Sweden",
                  "showlegend": true,
                  "type": "scattergeo"
                },
                {
                  "customdata": [
                    [
                      "Stahl Gerlafingen AG",
                      107
                    ],
                    [
                      "Swiss Steel Holding AG",
                      26
                    ]
                  ],
                  "geo": "geo",
                  "hovertemplate": "<b>%{hovertext}</b><br><br>Country/Area=Switzerland<br>Latitude=%{lat}<br>Longitude=%{lon}<br>Owner=%{customdata[0]}<br>Plant age (years)=%{customdata[1]}<extra></extra>",
                  "hovertext": [
                    "Stahl Gerlafingen steel plant",
                    "Swiss Steel Emmenbrücke plant"
                  ],
                  "lat": {
                    "bdata": "jSRBuAKWR0BFL6NYbqdHQA==",
                    "dtype": "f8"
                  },
                  "legendgroup": "Switzerland",
                  "lon": {
                    "bdata": "I93PKcg/HkBj7e9sj34fQA==",
                    "dtype": "f8"
                  },
                  "marker": {
                    "color": "#000005",
                    "symbol": "circle"
                  },
                  "mode": "markers",
                  "name": "Switzerland",
                  "showlegend": true,
                  "type": "scattergeo"
                },
                {
                  "customdata": [
                    [
                      "Hadeed Metal Manufacturing Co",
                      13
                    ],
                    [
                      "Hmisho Steel SA",
                      15
                    ]
                  ],
                  "geo": "geo",
                  "hovertemplate": "<b>%{hovertext}</b><br><br>Country/Area=Syria<br>Latitude=%{lat}<br>Longitude=%{lon}<br>Owner=%{customdata[0]}<br>Plant age (years)=%{customdata[1]}<extra></extra>",
                  "hovertext": [
                    "Hadeed Metal Manufacturing Co Damascus steel plant",
                    "Hmisho Steel Hassia plant"
                  ],
                  "lat": {
                    "bdata": "323eOCnQQEA3p5IBoC5BQA==",
                    "dtype": "f8"
                  },
                  "legendgroup": "Syria",
                  "lon": {
                    "bdata": "jh8qjZhJQkA+esN95GZCQA==",
                    "dtype": "f8"
                  },
                  "marker": {
                    "color": "#000006",
                    "symbol": "circle"
                  },
                  "mode": "markers",
                  "name": "Syria",
                  "showlegend": true,
                  "type": "scattergeo"
                },
                {
                  "customdata": [
                    [
                      "China Steel Corp",
                      54
                    ],
                    [
                      "Dragon Steel Corp",
                      32
                    ],
                    [
                      "E-Top Metal Co Ltd",
                      22
                    ],
                    [
                      "Feng Hsin Steel Co Ltd",
                      54
                    ],
                    [
                      "Hai Kwang Enterprise Corp",
                      56
                    ],
                    [
                      "Shyeh Sheng Fuat Steel & Iron Works Co Ltd",
                      59
                    ],
                    [
                      "Tung Ho Steel Enterprise Corp",
                      51
                    ],
                    [
                      "Tung Ho Steel Enterprise Corp",
                      34
                    ],
                    [
                      "Tung Ho Steel Enterprise Corp",
                      38
                    ],
                    [
                      "Yieh United Steel Corp",
                      36.77
                    ]
                  ],
                  "geo": "geo",
                  "hovertemplate": "<b>%{hovertext}</b><br><br>Country/Area=Taiwan<br>Latitude=%{lat}<br>Longitude=%{lon}<br>Owner=%{customdata[0]}<br>Plant age (years)=%{customdata[1]}<extra></extra>",
                  "hovertext": [
                    "China Steel Corporation Xiaogang plant",
                    "China Steel Dragon Steel Taichung plant",
                    "E Top Metal Changhua plant",
                    "Feng Hsin Steel Taichung plant",
                    "Hai Kwang Enterprise Corporation",
                    "Shyeh Sheng Fuat Steel Kaohsiung plant",
                    "Tung Ho Steel Kaohsiung Plant",
                    "Tung Ho Steel Miaoli Plant",
                    "Tung Ho Steel Taoyuan Plant",
                    "Yieh United Steel Kaohsiung plant"
                  ],
                  "lat": {
                    "bdata": "KNNocjGONkB+j/rrFTo4QAPqzaj5KjhAR+aRPxhQOEDPEI5Z9ow2QD+toj80jzZAh4px/iaQNkCCA1q6gpE4QLPw9bUuETlAFqdaC7PUNkA=",
                    "dtype": "f8"
                  },
                  "legendgroup": "Taiwan",
                  "lon": {
                    "bdata": "AoQPJVoWXkCeCOI8nB9eQN6tLNFZIF5AGtzWFp4tXkCKPEm6ZhdeQBk/6DRmF15A33AfuTUXXkDesG1RZi9eQLq+DwcJSV5A/0KPGD0TXkA=",
                    "dtype": "f8"
                  },
                  "marker": {
                    "color": "#000007",
                    "symbol": "circle"
                  },
                  "mode": "markers",
                  "name": "Taiwan",
                  "showlegend": true,
                  "type": "scattergeo"
                },
                {
                  "customdata": [
                    [
                      "Bangkok Steel Industry PCL",
                      52
                    ],
                    [
                      "Chow Steel Industries PCL",
                      22
                    ],
                    [
                      "Meranti Steel Pte Ltd",
                      null
                    ],
                    [
                      "Millcon Steel PCL",
                      27
                    ],
                    [
                      "G Steel PCL",
                      26
                    ],
                    [
                      "G J Steel PCL",
                      30
                    ],
                    [
                      "Siam Yamato Steel Co Ltd",
                      15
                    ],
                    [
                      "Siam Yamato Steel Co Ltd",
                      31
                    ],
                    [
                      "Tata Steel (Thailand) PCL",
                      37
                    ],
                    [
                      "Tata Steel (Thailand) PCL",
                      36
                    ],
                    [
                      "TY Steel Co Ltd",
                      8
                    ],
                    [
                      "UMC Metals Ltd",
                      31
                    ]
                  ],
                  "geo": "geo",
                  "hovertemplate": "<b>%{hovertext}</b><br><br>Country/Area=Thailand<br>Latitude=%{lat}<br>Longitude=%{lon}<br>Owner=%{customdata[0]}<br>Plant age (years)=%{customdata[1]}<extra></extra>",
                  "hovertext": [
                    "Bangkok Steel Industry Samut Prakan plant",
                    "Chow Steel Kabinburi Steel Plant",
                    "Meranti Steel Map Ta Phut plant",
                    "Millcon Steel Rayong plant",
                    "Nippon G Steel plant",
                    "Nippon GJS steel plant",
                    "Siam Yamato Steel Huai Pong plant",
                    "Siam Yamato Steel Map Ta Phut plant",
                    "Tata Steel Manufacturing NTS Plant",
                    "Tata Steel Manufacturing SCSC Plant",
                    "TY Steel Rayong Steel Plant",
                    "UMC Metals Chon Buri plant"
                  ],
                  "lat": {
                    "bdata": "4BEVqptLK0BNS6yMRiYsQOtunuqQYylAHERrRZujKUCaC1wea5YpQIRGsHH9GypAx/Xv+sxpKUCJRQw7jFkpQGrAIOnTGipAb7ckB+xaKUCFQ2/x8LYpQGthFto5jSpA",
                    "dtype": "f8"
                  },
                  "legendgroup": "Thailand",
                  "lon": {
                    "bdata": "9fV8zXIjWUDkFB3J5XVZQIUKDi+ISVlAtvKS/8lJWUA/NzRlp09ZQEfjUL8LRVlAXvdWJCZHWUCVnBN7aElZQDSdnQyORVlAVz82yY9JWUALXvQVpE1ZQCE9RQ4RPllA",
                    "dtype": "f8"
                  },
                  "marker": {
                    "color": "#000008",
                    "symbol": "circle"
                  },
                  "mode": "markers",
                  "name": "Thailand",
                  "showlegend": true,
                  "type": "scattergeo"
                },
                {
                  "customdata": [
                    [
                      "Nu-Iron Unlimited",
                      18.7
                    ],
                    [
                      "TT Iron Steel Company Ltd",
                      45
                    ]
                  ],
                  "geo": "geo",
                  "hovertemplate": "<b>%{hovertext}</b><br><br>Country/Area=Trinidad and Tobago<br>Latitude=%{lat}<br>Longitude=%{lon}<br>Owner=%{customdata[0]}<br>Plant age (years)=%{customdata[1]}<extra></extra>",
                  "hovertext": [
                    "Nu-Iron Unlimited Point Lisas DRI plant",
                    "TT Iron and Steel Point Lisas steel plant"
                  ],
                  "lat": {
                    "bdata": "hC7h0FvMJEARAYdQpc4kQA==",
                    "dtype": "f8"
                  },
                  "legendgroup": "Trinidad and Tobago",
                  "lon": {
                    "bdata": "5Zgs7j++TsBCe/Xx0L1OwA==",
                    "dtype": "f8"
                  },
                  "marker": {
                    "color": "#000009",
                    "symbol": "circle"
                  },
                  "mode": "markers",
                  "name": "Trinidad and Tobago",
                  "showlegend": true,
                  "type": "scattergeo"
                },
                {
                  "customdata": [
                    [
                      "ABA Çelik Demir LŞ",
                      42
                    ],
                    [
                      "Asil Celik Sanayi ve Ticaret AŞ",
                      46
                    ],
                    [
                      "Çebitaş Demir Çelik Endüstrisi AŞ",
                      36
                    ],
                    [
                      "Çolakoğlu Metalürji AŞ",
                      56
                    ],
                    [
                      "Diler Demir Celik Endustri ve Ticaret AŞ",
                      41
                    ],
                    [
                      "Ege Celik Endustrisi Sanayi ve Ticaret AŞ",
                      24
                    ],
                    [
                      "Ekinciler Demir ve Celik Sanayi AŞ",
                      36
                    ],
                    [
                      "Eregli Demir ve Celik Fabrikalari AŞ",
                      60
                    ],
                    [
                      "Habas Industrial and Medical Gases Production Industries AŞ",
                      38
                    ],
                    [
                      "Içdaş Çelik Enerji Tersane Ve Ulaşim Sanayi AŞ",
                      55
                    ],
                    [
                      "Izmir Demir Celik Sanayi AŞ",
                      38
                    ],
                    [
                      "Iskenderun Demir ve Celik AŞ",
                      48
                    ],
                    [
                      "Kaptan Demir Celik Endustrisi Ve Ticaret AŞ",
                      23
                    ],
                    [
                      "Kardemir Karabuk Demir Çelik Sanayi Ve Ticaret AŞ",
                      3
                    ],
                    [
                      "Kardemir Karabuk Demir Çelik Sanayi Ve Ticaret AŞ",
                      86
                    ],
                    [
                      "Koc Metalurji AŞ",
                      13
                    ],
                    [
                      "Kocaer Çelik Sanayi ve Ticaret AŞ",
                      null
                    ],
                    [
                      "Kroman Celik Sanayii AS",
                      56
                    ],
                    [
                      "Mescier Demir Celik AŞ",
                      5
                    ],
                    [
                      "MMK Metalurji Sanayi Ticaret ve Liman Isletmeciligi AŞ",
                      14
                    ],
                    [
                      "Ozkan Demir Celik Sanayi AŞ",
                      15
                    ],
                    [
                      "Sıddık Kardeşler Haddecilik Sanayi Ticaret LŞ",
                      9
                    ],
                    [
                      "Toscelik Profil ve Sac Endustrisi AS",
                      2
                    ],
                    [
                      "Toscelik Profil ve Sac Endustrisi AS",
                      16
                    ],
                    [
                      "Tosyalı Holding AŞ",
                      15
                    ],
                    [
                      "Yazici Demir Celik Sanayi ve Turizm Ticaret AŞ",
                      31
                    ],
                    [
                      "Yesilyurt Demir Celik Endustri Ve Liman Isletmeleri AŞ",
                      28
                    ],
                    [
                      "Yildizlar Yatirim Holding AŞ",
                      null
                    ]
                  ],
                  "geo": "geo",
                  "hovertemplate": "<b>%{hovertext}</b><br><br>Country/Area=Türkiye<br>Latitude=%{lat}<br>Longitude=%{lon}<br>Owner=%{customdata[0]}<br>Plant age (years)=%{customdata[1]}<extra></extra>",
                  "hovertext": [
                    "Aba Iron and Steel Payas plant",
                    "Asil Celik Orhangazi steel plant",
                    "Cebitas steel plant",
                    "Colakoglu Metallurgical Dilovasi plant",
                    "Diler Iron and Steel Dilovasi plant",
                    "Ege Steel Aliaga plant",
                    "Ekinciler Iron and Steel Iskenderun plant",
                    "Erdemir Eregli steel plant",
                    "Habas Aliaga steel plant",
                    "İÇDAŞ Biga steel plant",
                    "İDÇ Izdemir Aliaga steel plant",
                    "Isdemir Payas steel plant",
                    "Kaptan Ereglisi steel plant",
                    "Kardemir Celik Sanayi Izmir steel plant",
                    "Kardemir Merkez steel plant",
                    "Koc Metallurgical Toprakkale plant",
                    "Kocaer Çelik Steel Plant",
                    "Kroman Steel Darica plant",
                    "Mescier Iron and Steel Bartin plant",
                    "MMK Türkiye Metallurgical Payas plant",
                    "Ozkan Iron and Steel Aliaga plant",
                    "Siddik Kardesler Dilovasi steel plant",
                    "Toscelik Iskenderun steel plant",
                    "Toscelik Toprakkale steel plant",
                    "Tosyali Toprakkale plant",
                    "Yazici Iron and Steel Iskenderun plant",
                    "Yesilyurt Iron and Steel Tekkekoy plant",
                    "Yildiz Iron and Steel Kocaeli plant"
                  ],
                  "lat": {
                    "bdata": "ec2rOqtfQkBmMbH5uDZEQGZrfZHQXkNA3XniOVtiREBXQKGePmREQIkpkUQvXUNAUb01sFVYQkB79fHQd6FEQOcXJegvYENAOj3vxoI4REBPIOwUq15DQJ1KBoAqXkJAARdky/KBREBwzR39L19DQLQevkwUl0RAp658lueBQkC/1qVG6O1CQH7lQXqKZkRAQ+GzdXDIRECGONbFbWJCQIf+CS5WXkNAXkccsoFmRECNQSeEDlhCQEm8PJ0rgkJAhjlBmxyCQkDTo6mezFdCQPlp3JvfnkRAltBdEmdvREA=",
                    "dtype": "f8"
                  },
                  "legendgroup": "Türkiye",
                  "lon": {
                    "bdata": "RzgteNEbQkAJT+j1J0U9QGoy422l8zpAGZEotKyHPUAvMZbpl4g9QBQi4BCq8DpAgUHSp1UaQkB32hoRjGs/QC2T4Xg+8zpAwCMqVDcjO0AIAmTo2O06QAUx0LUvGkJAJuFCHsH1O0Bj8gaY+fY6QCi5wyYyUUBA7pbkgF0NQkDScwtdidg7QGvxKQDGXz1AGk0uxsA2QEBwQbYsXxtCQH1AoDNp8zpAVkrP9BKDPUDu7ZbkgBtCQFLVBFH3DUJA6X+5Fi0MQkC/fR04ZxpCQEMEHEKVOEJA2PULdsOOPUA=",
                    "dtype": "f8"
                  },
                  "marker": {
                    "color": "#000010",
                    "symbol": "circle"
                  },
                  "mode": "markers",
                  "name": "Türkiye",
                  "showlegend": true,
                  "type": "scattergeo"
                },
                {
                  "customdata": [
                    [
                      "Tembo Steels Uganda Ltd",
                      1
                    ]
                  ],
                  "geo": "geo",
                  "hovertemplate": "<b>%{hovertext}</b><br><br>Country/Area=Uganda<br>Latitude=%{lat}<br>Longitude=%{lon}<br>Owner=%{customdata[0]}<br>Plant age (years)=%{customdata[1]}<extra></extra>",
                  "hovertext": [
                    "Tembo Steels Iganga plant"
                  ],
                  "lat": {
                    "bdata": "9wZfmEyV4z8=",
                    "dtype": "f8"
                  },
                  "legendgroup": "Uganda",
                  "lon": {
                    "bdata": "wFlKlpO6QEA=",
                    "dtype": "f8"
                  },
                  "marker": {
                    "color": "#000001",
                    "symbol": "circle"
                  },
                  "mode": "markers",
                  "name": "Uganda",
                  "showlegend": true,
                  "type": "scattergeo"
                },
                {
                  "customdata": [
                    [
                      "Alchevsk Metallurgical Plant PJSC",
                      129
                    ],
                    [
                      "ArcelorMittal Kryvyi Rih PJSC",
                      91
                    ],
                    [
                      "MK Azovstal' PrAT",
                      null
                    ],
                    [
                      "Dnipro Metallurgical Plant PJSC",
                      138
                    ],
                    [
                      "Tekhnologicheskiye Investitsii LLC",
                      23
                    ],
                    [
                      "Interpipe Ltd",
                      13
                    ],
                    [
                      "Kamet-Steel PrJSC",
                      138
                    ],
                    [
                      "Metinvest Holding LLC",
                      null
                    ],
                    [
                      "Mariupolskyi Metalurgiinyi Kombinat Imeni Illicha PRAT",
                      128
                    ],
                    [
                      "Zaporiz'kyi Metalurhiinyi Kombinat Zaporizhstal' PJSC",
                      92
                    ],
                    [
                      "Yenakiieve Metallurgical Plant Branch PJSC",
                      130
                    ],
                    [
                      "SUE DPR UMP",
                      26
                    ]
                  ],
                  "geo": "geo",
                  "hovertemplate": "<b>%{hovertext}</b><br><br>Country/Area=Ukraine<br>Latitude=%{lat}<br>Longitude=%{lon}<br>Owner=%{customdata[0]}<br>Plant age (years)=%{customdata[1]}<extra></extra>",
                  "hovertext": [
                    "Alchevsk Metallurgical Plant",
                    "ArcelorMittal Kryvyi Rih steel plant",
                    "Azovstal Iron and Steel Works",
                    "DCH Dnipro Metallurgical Plant",
                    "Donetsk Metallurgical Plant",
                    "Interpipe Steel Plant",
                    "Metallurgical Plant Kametstal",
                    "Metinvest EAF steel plant",
                    "Metinvest Ilyich Iron and Steel Works",
                    "Metinvest Zaporizhstal steel plant",
                    "Yenakiieve Metallurgical Plant",
                    "Yuzovsky Metallurgical Plant"
                  ],
                  "lat": {
                    "bdata": "zm3CvTI9SECfIRyz7O9HQLoSgeofjEdANh/Xhoo9SECm0k84u/1HQB7C+GncP0hAVFVoIJZDSEA8aeGyCoVIQJsxFpf0kUdAEEBqEyfvR0DvWddoORxIQKbSTzi7/UdA",
                    "dtype": "f8"
                  },
                  "legendgroup": "Ukraine",
                  "lon": {
                    "bdata": "Spf+JaliQ0BJRzmYTbJAQNIcWfllzEJAaahRSDJ9QUBJg9vawudCQLe28LxUjEFAB0KygAlSQUDgu80bJ1U/QH9Ts2ITzEJAGjBI+rSUQUD1geSdQx1DQEmD29rC50JA",
                    "dtype": "f8"
                  },
                  "marker": {
                    "color": "#000002",
                    "symbol": "circle"
                  },
                  "mode": "markers",
                  "name": "Ukraine",
                  "showlegend": true,
                  "type": "scattergeo"
                },
                {
                  "customdata": [
                    [
                      "Arabian Gulf Steel Industries Selling Port LLC",
                      17
                    ],
                    [
                      "Abu Dhabi National for Building Materials Co PJSC",
                      null
                    ],
                    [
                      "Emsteel Building Materials PJSC",
                      22
                    ]
                  ],
                  "geo": "geo",
                  "hovertemplate": "<b>%{hovertext}</b><br><br>Country/Area=United Arab Emirates<br>Latitude=%{lat}<br>Longitude=%{lon}<br>Owner=%{customdata[0]}<br>Plant age (years)=%{customdata[1]}<extra></extra>",
                  "hovertext": [
                    "Arabian Gulf Steel Industries Abu Dhabi plant",
                    "BILDCO Abu Dhabi steel plant",
                    "Emsteel Abu Dhabi plant"
                  ],
                  "lat": {
                    "bdata": "6s9+pIhIOEBUVz7L82A4QJc7M8FwUjhA",
                    "dtype": "f8"
                  },
                  "legendgroup": "United Arab Emirates",
                  "lon": {
                    "bdata": "rb66KlA7S0BTzEHQ0TxLQAH6ff/mO0tA",
                    "dtype": "f8"
                  },
                  "marker": {
                    "color": "#000003",
                    "symbol": "circle"
                  },
                  "mode": "markers",
                  "name": "United Arab Emirates",
                  "showlegend": true,
                  "type": "scattergeo"
                },
                {
                  "customdata": [
                    [
                      "British Steel Ltd",
                      161
                    ],
                    [
                      "British Steel Ltd",
                      null
                    ],
                    [
                      "Liberty Steel Group",
                      null
                    ],
                    [
                      "Liberty Steel Group",
                      null
                    ],
                    [
                      "Marcegaglia Stainless Sheffield Ltd",
                      null
                    ],
                    [
                      "Sev.en Global Investments AS",
                      19
                    ],
                    [
                      "Tata Steel UK Ltd",
                      120
                    ]
                  ],
                  "geo": "geo",
                  "hovertemplate": "<b>%{hovertext}</b><br><br>Country/Area=United Kingdom<br>Latitude=%{lat}<br>Longitude=%{lon}<br>Owner=%{customdata[0]}<br>Plant age (years)=%{customdata[1]}<extra></extra>",
                  "hovertext": [
                    "British Steel Scunthorpe plant",
                    "British Steel Teesside plant",
                    "GFG Liberty Steel Newport plant",
                    "GFG Liberty Steel Rotherham plant",
                    "Marcegaglia Sheffield steel plant",
                    "Se.ven GI Cardiff plant",
                    "Tata Steel Port Talbot steel plant"
                  ],
                  "lat": {
                    "bdata": "INEEiljKSkATDyibcktLQNS19j5Vx0lAF/VJ7rC5SkAExvoGJrNKQHeDaK1ovUlA4+DSMefJSUA=",
                    "dtype": "f8"
                  },
                  "legendgroup": "United Kingdom",
                  "lon": {
                    "bdata": "uhEWFXG647/FG5lH/iDyv7vTnSeeswfAeqUsQxwr9b+nsFJBRVX2v73D7dCwGAnAJ77aUZxDDsA=",
                    "dtype": "f8"
                  },
                  "marker": {
                    "color": "#000004",
                    "symbol": "circle"
                  },
                  "mode": "markers",
                  "name": "United Kingdom",
                  "showlegend": true,
                  "type": "scattergeo"
                },
                {
                  "customdata": [
                    [
                      "Alton Steel Inc",
                      22
                    ],
                    [
                      "AM/NS Calvert LLC",
                      0
                    ],
                    [
                      "ArcelorMittal SA",
                      7.94
                    ],
                    [
                      "North Star BlueScope Steel Ltd",
                      29
                    ],
                    [
                      "BlueScope Steel Ltd",
                      null
                    ],
                    [
                      "Cascade Steel Rolling Mills Inc",
                      57
                    ],
                    [
                      "Charter Manufacturing Co Inc",
                      19
                    ],
                    [
                      "Charter Manufacturing Co Inc",
                      34
                    ],
                    [
                      "Cleveland-Cliffs Inc",
                      61
                    ],
                    [
                      "Cleveland-Cliffs Inc",
                      117
                    ],
                    [
                      "Cleveland-Cliffs Inc",
                      112
                    ],
                    [
                      "Cleveland-Cliffs Inc",
                      215
                    ],
                    [
                      "Cleveland-Cliffs Inc",
                      105
                    ],
                    [
                      "Cleveland-Cliffs Inc",
                      124
                    ],
                    [
                      "Cleveland-Cliffs Inc",
                      101
                    ],
                    [
                      "Cleveland-Cliffs Inc",
                      124
                    ],
                    [
                      "Cleveland-Cliffs Inc",
                      108
                    ],
                    [
                      "Cleveland-Cliffs Inc",
                      159
                    ],
                    [
                      "Cleveland-Cliffs Inc",
                      5
                    ],
                    [
                      "Commercial Metals Co",
                      31
                    ],
                    [
                      "Commercial Metals Co",
                      16
                    ],
                    [
                      "Commercial Metals Co",
                      33
                    ],
                    [
                      "Commercial Metals Co",
                      51
                    ],
                    [
                      "Commercial Metals Co",
                      31
                    ],
                    [
                      "Commercial Metals Co",
                      43
                    ],
                    [
                      "Commercial Metals Co",
                      25
                    ],
                    [
                      "Electrasteel Inc",
                      null
                    ],
                    [
                      "Evraz North America PLC",
                      144
                    ],
                    [
                      "A. Finkl & Sons Corp",
                      14
                    ],
                    [
                      "Gerdau Ameristeel Corp",
                      29
                    ],
                    [
                      "Gerdau Ameristeel Corp",
                      41
                    ],
                    [
                      "Gerdau Ameristeel Corp",
                      44
                    ],
                    [
                      "Gerdau Ameristeel Corp",
                      55
                    ],
                    [
                      "Gerdau Ameristeel Corp",
                      45
                    ],
                    [
                      "Gerdau Ameristeel Corp",
                      27
                    ],
                    [
                      "Gerdau Ameristeel Corp",
                      60
                    ],
                    [
                      "Hybar LLC",
                      0.28
                    ],
                    [
                      "Hyundai Steel Co",
                      null
                    ],
                    [
                      "JSW Steel USA Ohio Inc",
                      7
                    ],
                    [
                      "Sterling Steel Co LLC",
                      22
                    ],
                    [
                      "Liberty Steel Group",
                      136
                    ],
                    [
                      "Liberty Steel Group",
                      56
                    ],
                    [
                      "Mesabi Mining LLC",
                      null
                    ],
                    [
                      "Metallus Inc",
                      108
                    ],
                    [
                      "Metallus Inc",
                      109
                    ],
                    [
                      "NLMK Indiana LLC",
                      33
                    ],
                    [
                      "North American Stainless Inc",
                      35
                    ],
                    [
                      "Nucor Corp",
                      29
                    ],
                    [
                      "Nucor Corp",
                      42
                    ],
                    [
                      "Nucor Corp",
                      3
                    ],
                    [
                      "Nucor Corp",
                      36
                    ],
                    [
                      "Nucor Corp",
                      56
                    ],
                    [
                      "Nucor Steel Decatur LLC",
                      28
                    ],
                    [
                      "Nucor Corp",
                      30
                    ],
                    [
                      "Nucor Corp",
                      25
                    ],
                    [
                      "Nucor Corp",
                      33
                    ],
                    [
                      "Nucor Corp",
                      50
                    ],
                    [
                      "Nucor Steel Kankakee Inc",
                      64
                    ],
                    [
                      "Nucor Steel Kingman LLC",
                      0
                    ],
                    [
                      "Nucor Steel Louisiana LLC",
                      12
                    ],
                    [
                      "Nucor Steel Memphis Inc",
                      17
                    ],
                    [
                      "Nucor Corp",
                      46
                    ],
                    [
                      "Nucor Corp",
                      null
                    ],
                    [
                      "Nucor Corp",
                      44
                    ],
                    [
                      "Nucor Steel Seattle Inc",
                      121
                    ],
                    [
                      "Nucor Steel Tuscaloosa Inc",
                      40
                    ],
                    [
                      "Nucor Corp",
                      null
                    ],
                    [
                      "Nucor Yamato Steel Co",
                      37
                    ],
                    [
                      "Optimus Steel LLC",
                      49
                    ],
                    [
                      "Outokumpu Stainless USA LLC",
                      18
                    ],
                    [
                      "Republic Steel Corp",
                      139
                    ],
                    [
                      "Republic Steel Corp",
                      126
                    ],
                    [
                      "SSAB Americas Holding AB",
                      24
                    ],
                    [
                      "SSAB Americas Holding AB",
                      28
                    ],
                    [
                      "Steel Dynamics Inc",
                      29
                    ],
                    [
                      "Steel Dynamics Inc",
                      23
                    ],
                    [
                      "Steel Dynamics Inc",
                      18
                    ],
                    [
                      "Steel Dynamics Inc",
                      21
                    ],
                    [
                      "Steel Dynamics Inc",
                      70
                    ],
                    [
                      "Steel Dynamics Inc",
                      3
                    ],
                    [
                      "Big River Steel LLC",
                      9
                    ],
                    [
                      "United States Steel Corp",
                      150
                    ],
                    [
                      "United States Steel Corp",
                      5
                    ],
                    [
                      "United States Steel Corp",
                      117
                    ],
                    [
                      "United States Steel Corp",
                      130
                    ],
                    [
                      "United States Steel Corp",
                      123
                    ],
                    [
                      "Vallourec Star LP",
                      40
                    ]
                  ],
                  "geo": "geo",
                  "hovertemplate": "<b>%{hovertext}</b><br><br>Country/Area=United States<br>Latitude=%{lat}<br>Longitude=%{lon}<br>Owner=%{customdata[0]}<br>Plant age (years)=%{customdata[1]}<extra></extra>",
                  "hovertext": [
                    "Alton Steel plant",
                    "ArcelorMittal Calvert",
                    "ArcelorMittal Texas DRI plant",
                    "BlueScope North Star Steel plant",
                    "BlueScope Steel EAF plant",
                    "Cascade Steel Rolling Mills",
                    "Charter Steel Cleveland plant",
                    "Charter Steel Saukville plant",
                    "Cleveland-Cliffs Burns Harbor steel plant",
                    "Cleveland-Cliffs Butler steel plant",
                    "Cleveland-Cliffs Cleveland steel plant",
                    "Cleveland-Cliffs Coatesville steel plant",
                    "Cleveland-Cliffs Dearborn steel plant",
                    "Cleveland-Cliffs Indiana Harbor steel plant",
                    "Cleveland-Cliffs Mansfield Works",
                    "Cleveland-Cliffs Middletown steel plant",
                    "Cleveland-Cliffs Riverdale steel plant",
                    "Cleveland-Cliffs Steelton steel plant",
                    "Cleveland-Cliffs Toledo DRI plant",
                    "CMC Alabama steel plant",
                    "CMC Arizona steel plant",
                    "CMC South Carolina steel plant",
                    "CMC Steel Florida plant",
                    "CMC Steel New Jersey plant",
                    "CMC Steel Texas plant",
                    "CMC Tennessee steel plant",
                    "Electra iron plant",
                    "Evraz Pueblo steel plant",
                    "Finkl Steel Chicago plant",
                    "Gerdau Cartersville steel plant",
                    "Gerdau Fort Smith steel plant",
                    "Gerdau Jackson steel mill",
                    "Gerdau Midlothian Steel Mill",
                    "Gerdau Monroe steel plant",
                    "Gerdau Petersburg Steel Mill",
                    "Gerdau Saint Paul steel plant",
                    "Hybar Arkansas steel plant",
                    "Hyundai Steel Louisiana plant",
                    "JSW Steel USA Ohio plant",
                    "Leggett & Platt Sterling Steel plant",
                    "Liberty Steel & Wire Peoria plant",
                    "Liberty Steel Georgetown plant",
                    "Mesabi Metallics Nashwuak HBI plant",
                    "Metallus Faircrest steel plant",
                    "Metallus Harrison steel plant",
                    "NLMK Indiana steel plant",
                    "North American Stainless Ghent steel plant",
                    "Nucor Steel Berkeley plant",
                    "Nucor Steel Birmingham plant",
                    "Nucor Steel Brandenburg plant",
                    "Nucor Steel Crawfordsville plant",
                    "Nucor Steel Darlington plant",
                    "Nucor Steel Decatur plant",
                    "Nucor Steel Gallatin plant",
                    "Nucor Steel Hertford plant",
                    "Nucor Steel Hickman plant",
                    "Nucor Steel Jewett plant",
                    "Nucor Steel Kankakee plant",
                    "Nucor Steel Kingman plant",
                    "Nucor Steel Louisiana",
                    "Nucor Steel Memphis plant",
                    "Nucor Steel Norfolk plant",
                    "Nucor Steel Pacific Northwest steel plant",
                    "Nucor Steel Plymouth plant",
                    "Nucor Steel Seattle plant",
                    "Nucor Steel Tuscaloosa plant",
                    "Nucor Steel West Virginia steel plant",
                    "Nucor-Yamato Steel Blytheville plant",
                    "Optimus Steel Beaumont plant",
                    "Outokumpu Stainless USA steel plant",
                    "Republic Steel Canton plant",
                    "Republic Steel Lorain steel plant",
                    "SSAB Americas Alabama steel plant",
                    "SSAB Americas Iowa steel plant",
                    "Steel Dynamics Butler plant",
                    "Steel Dynamics Columbia City plant",
                    "Steel Dynamics Columbus plant",
                    "Steel Dynamics Engineered Bar Products steel plant",
                    "Steel Dynamics Roanoke steel plant",
                    "Steel Dynamics Sinton plant",
                    "U.S. Steel Big River Steel plant",
                    "U.S. Steel Edgar Thomson Plant",
                    "U.S. Steel Fairfield plant",
                    "U.S. Steel Gary Works",
                    "U.S. Steel Granite City Works",
                    "U.S. Steel Great Lakes Works",
                    "Vallourec Star Youngstown steel plant"
                  ],
                  "lat": {
                    "bdata": "c7osJjZxQ0DWOJuOACY/QEt319mQ4ztAqcKf4c3IREA1ejVAaehDQPOrOUAwnUZAByl4Crm4REAB/FOqRLNFQDLGh9nL0ERA1v1jITpsREBngAuyZbtEQCY0SSwp/UNArkm3JXInRUAn+Kbps9VEQKFoHsAiZURAuReYFYq+Q0Ct/DIYI9REQD1EozuIHURA3hyu1R7WRED18jtNZsRAQPsjDAOWpEBAou2Yuiv7QEA6z9iXbEg+QBxF1hpKPURA58dfWtSTPUAcCwqDMv1BQBWpMLYQCERAfjUHCOYcQ0CfsMQDytxEQPJ4Wn7gHkFAYYkHlE2nQUA0Spf+Jd1BQJI9Qs2QOkBAQRGLGHbyREB2ilWDMJdCQIC77NedckZArDdqhenXQUCGWtO844Q+QAJnKVlOKERAXk2esprkREA02qokssFEQOGYZU8Cr0BAB3k9mBSxR0A75dGNsGBEQCOGHcakY0RARBZp4h3QREAB9zx/2lxDQC/gZYaNgEBAZOlDF9TFQECQZPs1/v9CQCfAsPz5/ENAH7sLlBQwQUAuxVVl31FBQJZ5q65DYUNAWaX0TC8tQkDwMsNGWfNBQN7/xwkTWj9APKOtSiKXREBAho4dVJJBQAbVBieiEz5AHCWvzjGGQUBGskeoGQpFQLMMcayLi0JAYCLeOv/wREAqc/ON6MhHQCmwAKYMnkBA3NWryOhSQ0BBYrt7gPhBQOnxe5v+FD5AOPQWD+8lP0C8ICI17WZEQPm+uFSluURAxO3QsBjxPkBXsI14sr1EQHNLqyFxr0RAXeLIA5GPRED+KytNSrlAQHWxaaUQ8ENAA5mdRe+iQkBaR1UTRA08QL3+JD530kFAtKuQ8pMyRECFJLN6h71AQNsxdVd2z0RACg+aXfdYQ0Dc9j3qryFFQOBnXDgQkERA",
                    "dtype": "f8"
                  },
                  "legendgroup": "United States",
                  "lon": {
                    "bdata": "XoWUn1SJVsAUQDGyZP9VwHBcxk0NUljATz+oixQDVcDC3sSQnFFZwCKq8Gd4yl7AUtFY+ztqVMBNhA1Pr/xVwERq2sU0yVXAXTXPEfn6U8C2MXbCS2tUwDbK+s3E9FLAI4eIm1PKVMCNJ4I4D9xVwE64V+atoVTADTSfc7cYVcCtwmaAC+hVwPzfERWqNVPAxvzc0JTeVMCtTPilfrBVwPsGJjeK5VvAEALyJVRDVMDWHCCYo35UwJ8561OOlFLAoPoHkQyCWMA8EcR5OP1UwD6T/fM0TlrAuRluwOcmWsDwayQJwuVVwBk4oKUrM1XATRJLyt2XV8BmaDwRxDNWwDSBIhYxQljAGAtD5PTWVMC/f/PixFxTwNBiKZKvQFfA5ZfBGJF9VsAhH/RsVuFWQKm/XmHBJlTAHozYJ4BtVsB3n+OjxedVwLml1ZC40lPATtTS3ApOV8AUeCefHlxUwBnJHqFmWVTAEK6AQj3KVcBZwARu3URVwNqPFJFh+FPAWdsUj4uzVcBOJD2x84hVwN45lKEqtVXAh+EjYkr5U8CRgTy7fMVVwD4JbM7BP1XAwakPJO8zU8DdXtIYrXFWwDBl4ICWCljA071O6sv2VcApsWt7u4VcwDfGTngJt1bAzcr2IW+KVsBfKGA7GFdYwGFUUieg7VfA4q3zb5cMXMCxbVFmg5dewDYFMjuL4FXAx0s3iUGLVMDcEOM1r21WwEbNV8nHhFfAQbeXNEb/VcAcs+xJYFVUwAisHFpkiFTAqhCPxMsAVsBg5jv4ibRWwGdl+5C3OlXAflTDfk9WVcBp/pjWpiRWwPuQt1z9nlXAEJVGzOz/U8DzyB8MPF9YwPs+HCREfFbA4Ep2bAT3U8APm8jMBbxVwMITev1J1lXAlzeHa7WIVsDE7juGx8dUwDQr24e8K1TA",
                    "dtype": "f8"
                  },
                  "marker": {
                    "color": "#000005",
                    "symbol": "circle"
                  },
                  "mode": "markers",
                  "name": "United States",
                  "showlegend": true,
                  "type": "scattergeo"
                },
                {
                  "customdata": [
                    [
                      "Triangul Metals Tebinbulak JSC",
                      0
                    ],
                    [
                      "Triangul Metals Tebinbulak JSC",
                      0
                    ],
                    [
                      "Uzbekskiy Metallurgicheskiy Kombinat JSC",
                      81
                    ]
                  ],
                  "geo": "geo",
                  "hovertemplate": "<b>%{hovertext}</b><br><br>Country/Area=Uzbekistan<br>Latitude=%{lat}<br>Longitude=%{lon}<br>Owner=%{customdata[0]}<br>Plant age (years)=%{customdata[1]}<extra></extra>",
                  "hovertext": [
                    "Metallurgical Cluster Gallaaral",
                    "Tebinbulak mining and smelting complex",
                    "Uzmetkombinat steel plant"
                  ],
                  "lat": {
                    "bdata": "O+KQDaQBREBeUaXByBZFQIHrihnhHURA",
                    "dtype": "f8"
                  },
                  "legendgroup": "Uzbekistan",
                  "lon": {
                    "bdata": "whiRKLTkUECeLkH8sjNOQIaSyamdUlFA",
                    "dtype": "f8"
                  },
                  "marker": {
                    "color": "#000006",
                    "symbol": "circle"
                  },
                  "mode": "markers",
                  "name": "Uzbekistan",
                  "showlegend": true,
                  "type": "scattergeo"
                },
                {
                  "customdata": [
                    [
                      "Matesi",
                      25
                    ],
                    [
                      "Corporacion Venezolana de Guayana",
                      34.79
                    ],
                    [
                      "Briquetera del Orinoco CA",
                      25
                    ],
                    [
                      "Complejo Siderurgico de Guayana CA",
                      27
                    ],
                    [
                      "CVG Ferrominera Orinoco CA",
                      35
                    ],
                    [
                      "Siderurgica del Orinoco Alfredo Maneiro CA",
                      63
                    ]
                  ],
                  "geo": "geo",
                  "hovertemplate": "<b>%{hovertext}</b><br><br>Country/Area=Venezuela<br>Latitude=%{lat}<br>Longitude=%{lon}<br>Owner=%{customdata[0]}<br>Plant age (years)=%{customdata[1]}<extra></extra>",
                  "hovertext": [
                    "CVG Briquetera de Venezuela DRI plant",
                    "CVG Briquetera del Caroní DRI plant",
                    "CVG Briquetera del Orinoco DRI plant",
                    "CVG Comsigua DRI plant",
                    "CVG Ferrominera Orinoco DRI plant",
                    "Sidor Ciudad Guayana steel plant"
                  ],
                  "lat": {
                    "bdata": "PDPBcK6ZIEBeZAJ+jZQgQNsWZTbIjCBAH4ZWJ2eYIEAlQE0tW6sgQKCNXDelhCBA",
                    "dtype": "f8"
                  },
                  "legendgroup": "Venezuela",
                  "lon": {
                    "bdata": "VDcXf9tjT8DcSUT4F2dPwMoZijveaE/A6YAk7NtjT8DC+dSxSl1PwFzoSgSqa0/A",
                    "dtype": "f8"
                  },
                  "marker": {
                    "color": "#000007",
                    "symbol": "circle"
                  },
                  "mode": "markers",
                  "name": "Venezuela",
                  "showlegend": true,
                  "type": "scattergeo"
                },
                {
                  "customdata": [
                    [
                      "Asean Steel JSC",
                      null
                    ],
                    [
                      "unknown",
                      null
                    ],
                    [
                      "DST Nghi Son Iron and Steel JSC",
                      null
                    ],
                    [
                      "Formosa Ha Tinh Steel Corp",
                      17
                    ],
                    [
                      "Hoa Phat Dung Quat Steel JSC",
                      8
                    ],
                    [
                      "Hoa Phat Hai Duong Steel JSC",
                      18
                    ],
                    [
                      "Hoa Sen Group",
                      15
                    ],
                    [
                      "Lao Cai Cast Iron and Steel",
                      11
                    ],
                    [
                      "Long Son Phu My Iron & Steel Co",
                      null
                    ],
                    [
                      "Pomina Steel JSC",
                      26
                    ],
                    [
                      "Pomina Steel JSC",
                      13
                    ],
                    [
                      "Posco Vietnam Co Ltd",
                      10
                    ],
                    [
                      "Shengli Vietnam Special Steel Co Ltd",
                      17
                    ],
                    [
                      "Thai Nguyen Iron And Steel JSC",
                      62
                    ],
                    [
                      "Tung Ho Steel Vietnam Corp Ltd",
                      18
                    ],
                    [
                      "Tuyen Quang Iron Steel Co Ltd",
                      11.66
                    ],
                    [
                      "VAS Steel An Hung Tuong LLC",
                      37
                    ],
                    [
                      "Nghi Son VAS Group JSC",
                      7
                    ],
                    [
                      "VAS Steel Tue Minh JSC",
                      9
                    ],
                    [
                      "Viet Nhat Advanced Steel JSC",
                      15
                    ],
                    [
                      "Vietnam - Italy Steel JSC",
                      23
                    ],
                    [
                      "Vina Kyoei Steel Ltd Co",
                      29.69
                    ],
                    [
                      "Vina One Steel Manufacturing Corp",
                      18
                    ],
                    [
                      "Vina Roma Quang Tri Steel JSC",
                      null
                    ],
                    [
                      "VNSTEEL Southern Steel Co Ltd",
                      20
                    ],
                    [
                      "Xuan Thien Group JSC",
                      null
                    ],
                    [
                      "Xuan Thien Group JSC",
                      null
                    ]
                  ],
                  "geo": "geo",
                  "hovertemplate": "<b>%{hovertext}</b><br><br>Country/Area=Vietnam<br>Latitude=%{lat}<br>Longitude=%{lon}<br>Owner=%{customdata[0]}<br>Plant age (years)=%{customdata[1]}<extra></extra>",
                  "hovertext": [
                    "ASEAN Steel Hoa Phu steel plant",
                    "Chan May Steel plant",
                    "DST Nghi Son Steel Plant",
                    "Formosa Ha Tinh Steel plant",
                    "Hoa Phat Dung Quat steel plant",
                    "Hoa Phat Hai Duong Steel plant",
                    "Hoa Sen Phu My steel plant",
                    "Lao Cai Cast Iron and Steel Plant",
                    "Long Son Phu My Iron and Steel plant",
                    "Pomina Steel 2 Phu My plant",
                    "Pomina Steel 3 Phu My plant",
                    "POSCO Vietnam Phu My steel plant",
                    "Shengli Vietnam Special Steel An Bai steel plant",
                    "Thai Nguyen Iron and Steel plant",
                    "Tung Ho Steel Phu My plant",
                    "Tuyen Quang Iron and Steel Long Binh steel plant",
                    "VAS An Hung Tuong Steel Binh Duong plant",
                    "VAS Nghi Son Cast Iron and Steel plant",
                    "VAS Tue Minh Steel Binh Duong plant",
                    "Viet Nhat VJS Nam Cau Kien steel plant",
                    "Vietnam Italy Steel Pho Noi steel plant",
                    "Vina Kyoei Steel Phu My plant",
                    "Vina One Steel Ben Luc steel plant",
                    "Vina Roma Quang Tri Steel Plant",
                    "VNSteel Southern Steel Company plant",
                    "Xuan Thien Nam Dinh steel plant",
                    "Xuan Thien Nghia Hung steel plant"
                  ],
                  "lat": {
                    "bdata": "UMJM278yKUASFD/G3FUwQLg81owMXjNA/MOWHk0JMkDhtOBFX8EuQKSqCaLuAzVA1PGYgcowJUDqIK8Hk042QA2K5gEs6ixA6KOMuAA0JUA91owMciclQODZHr3hHiVAZ4F2hxSnNEATC3xFt441QN8Vwf9WGiVAnUfF/x29NUDxn26gwBsmQAtHkEqxUzNACHb8Fwg6JkAAjGfQ0Oc0QMkE/BpJ8jRA2h8ot+0zJUB15bM8D0YlQJV+wtmtwTBAhPHTuDcnJUBcIEHxY3A0QBKgppatCTRA",
                    "dtype": "f8"
                  },
                  "legendgroup": "Vietnam",
                  "lon": {
                    "bdata": "8u8zLhz8WkA2PL1SlgFbQPESnPpAa1pA0LTEymibWkC5jnHFxTJbQNi5aTNOolpA0NbBwd7CWkAqxvmbUAhaQEY5PZQNRVtAylAVU+nCWkCcTx2rlMJaQGGOHr+3wVpAAdwsXiycWkC5/If023daQFDfMqfLwlpAdNL7xtdPWkAKZeHra6daQLVTc7nBcVpAgjgPJzC1WkCafR6jPKhaQFpj0AmhgVpAk6gXfJrCWkCuZMdGIKFaQK3fTEwX1VpA1y/YDdvBWkB15EhnYIpaQMbDew4siFpA",
                    "dtype": "f8"
                  },
                  "marker": {
                    "color": "#000008",
                    "symbol": "circle"
                  },
                  "mode": "markers",
                  "name": "Vietnam",
                  "showlegend": true,
                  "type": "scattergeo"
                },
                {
                  "customdata": [
                    [
                      "Berhard Development Corporation (Private) Ltd",
                      null
                    ],
                    [
                      "Dinson Iron & Steel Company Pvt Ltd",
                      1.28
                    ]
                  ],
                  "geo": "geo",
                  "hovertemplate": "<b>%{hovertext}</b><br><br>Country/Area=Zimbabwe<br>Latitude=%{lat}<br>Longitude=%{lon}<br>Owner=%{customdata[0]}<br>Plant age (years)=%{customdata[1]}<extra></extra>",
                  "hovertext": [
                    "BER-PIG Iron and Steel Company Redcliff plant",
                    "Dinson Chivhu iron and steel plant"
                  ],
                  "lat": {
                    "bdata": "t/EnKhsOM8CEuHL2zvAywA==",
                    "dtype": "f8"
                  },
                  "legendgroup": "Zimbabwe",
                  "lon": {
                    "bdata": "Aptz8EzIPUB/T6xT5Zs+QA==",
                    "dtype": "f8"
                  },
                  "marker": {
                    "color": "#000009",
                    "symbol": "circle"
                  },
                  "mode": "markers",
                  "name": "Zimbabwe",
                  "showlegend": true,
                  "type": "scattergeo"
                }
              ],
              "layout": {
                "geo": {
                  "center": {},
                  "domain": {
                    "x": [
                      0,
                      1
                    ],
                    "y": [
                      0,
                      1
                    ]
                  },
                  "projection": {
                    "type": "natural earth"
                  }
                },
                "legend": {
                  "title": {
                    "text": "Country/Area"
                  },
                  "tracegroupgap": 0
                },
                "template": {
                  "data": {
                    "candlestick": [
                      {
                        "decreasing": {
                          "line": {
                            "color": "#000033"
                          }
                        },
                        "increasing": {
                          "line": {
                            "color": "#000032"
                          }
                        },
                        "type": "candlestick"
                      }
                    ],
                    "contour": [
                      {
                        "colorscale": [
                          [
                            0,
                            "#000011"
                          ],
                          [
                            0.1111111111111111,
                            "#000012"
                          ],
                          [
                            0.2222222222222222,
                            "#000013"
                          ],
                          [
                            0.3333333333333333,
                            "#000014"
                          ],
                          [
                            0.4444444444444444,
                            "#000015"
                          ],
                          [
                            0.5555555555555556,
                            "#000016"
                          ],
                          [
                            0.6666666666666666,
                            "#000017"
                          ],
                          [
                            0.7777777777777778,
                            "#000018"
                          ],
                          [
                            0.8888888888888888,
                            "#000019"
                          ],
                          [
                            1,
                            "#000020"
                          ]
                        ],
                        "type": "contour"
                      }
                    ],
                    "contourcarpet": [
                      {
                        "colorscale": [
                          [
                            0,
                            "#000011"
                          ],
                          [
                            0.1111111111111111,
                            "#000012"
                          ],
                          [
                            0.2222222222222222,
                            "#000013"
                          ],
                          [
                            0.3333333333333333,
                            "#000014"
                          ],
                          [
                            0.4444444444444444,
                            "#000015"
                          ],
                          [
                            0.5555555555555556,
                            "#000016"
                          ],
                          [
                            0.6666666666666666,
                            "#000017"
                          ],
                          [
                            0.7777777777777778,
                            "#000018"
                          ],
                          [
                            0.8888888888888888,
                            "#000019"
                          ],
                          [
                            1,
                            "#000020"
                          ]
                        ],
                        "type": "contourcarpet"
                      }
                    ],
                    "heatmap": [
                      {
                        "colorscale": [
                          [
                            0,
                            "#000011"
                          ],
                          [
                            0.1111111111111111,
                            "#000012"
                          ],
                          [
                            0.2222222222222222,
                            "#000013"
                          ],
                          [
                            0.3333333333333333,
                            "#000014"
                          ],
                          [
                            0.4444444444444444,
                            "#000015"
                          ],
                          [
                            0.5555555555555556,
                            "#000016"
                          ],
                          [
                            0.6666666666666666,
                            "#000017"
                          ],
                          [
                            0.7777777777777778,
                            "#000018"
                          ],
                          [
                            0.8888888888888888,
                            "#000019"
                          ],
                          [
                            1,
                            "#000020"
                          ]
                        ],
                        "type": "heatmap"
                      }
                    ],
                    "histogram2d": [
                      {
                        "colorscale": [
                          [
                            0,
                            "#000011"
                          ],
                          [
                            0.1111111111111111,
                            "#000012"
                          ],
                          [
                            0.2222222222222222,
                            "#000013"
                          ],
                          [
                            0.3333333333333333,
                            "#000014"
                          ],
                          [
                            0.4444444444444444,
                            "#000015"
                          ],
                          [
                            0.5555555555555556,
                            "#000016"
                          ],
                          [
                            0.6666666666666666,
                            "#000017"
                          ],
                          [
                            0.7777777777777778,
                            "#000018"
                          ],
                          [
                            0.8888888888888888,
                            "#000019"
                          ],
                          [
                            1,
                            "#000020"
                          ]
                        ],
                        "type": "histogram2d"
                      }
                    ],
                    "icicle": [
                      {
                        "textfont": {
                          "color": "white"
                        },
                        "type": "icicle"
                      }
                    ],
                    "sankey": [
                      {
                        "textfont": {
                          "color": "#000036"
                        },
                        "type": "sankey"
                      }
                    ],
                    "scatter": [
                      {
                        "marker": {
                          "line": {
                            "width": 0
                          }
                        },
                        "type": "scatter"
                      }
                    ],
                    "table": [
                      {
                        "cells": {
                          "fill": {
                            "color": "#000038"
                          },
                          "font": {
                            "color": "#000037"
                          },
                          "line": {
                            "color": "#000039"
                          }
                        },
                        "header": {
                          "fill": {
                            "color": "#000040"
                          },
                          "font": {
                            "color": "#000036"
                          },
                          "line": {
                            "color": "#000039"
                          }
                        },
                        "type": "table"
                      }
                    ],
                    "waterfall": [
                      {
                        "connector": {
                          "line": {
                            "color": "#000036",
                            "width": 2
                          }
                        },
                        "decreasing": {
                          "marker": {
                            "color": "#000033"
                          }
                        },
                        "increasing": {
                          "marker": {
                            "color": "#000032"
                          }
                        },
                        "totals": {
                          "marker": {
                            "color": "#000034"
                          }
                        },
                        "type": "waterfall"
                      }
                    ]
                  },
                  "layout": {
                    "coloraxis": {
                      "colorscale": [
                        [
                          0,
                          "#000011"
                        ],
                        [
                          0.1111111111111111,
                          "#000012"
                        ],
                        [
                          0.2222222222222222,
                          "#000013"
                        ],
                        [
                          0.3333333333333333,
                          "#000014"
                        ],
                        [
                          0.4444444444444444,
                          "#000015"
                        ],
                        [
                          0.5555555555555556,
                          "#000016"
                        ],
                        [
                          0.6666666666666666,
                          "#000017"
                        ],
                        [
                          0.7777777777777778,
                          "#000018"
                        ],
                        [
                          0.8888888888888888,
                          "#000019"
                        ],
                        [
                          1,
                          "#000020"
                        ]
                      ]
                    },
                    "colorscale": {
                      "diverging": [
                        [
                          0,
                          "#000021"
                        ],
                        [
                          0.1,
                          "#000022"
                        ],
                        [
                          0.2,
                          "#000023"
                        ],
                        [
                          0.3,
                          "#000024"
                        ],
                        [
                          0.4,
                          "#000025"
                        ],
                        [
                          0.5,
                          "#000026"
                        ],
                        [
                          0.6,
                          "#000027"
                        ],
                        [
                          0.7,
                          "#000028"
                        ],
                        [
                          0.8,
                          "#000029"
                        ],
                        [
                          0.9,
                          "#000030"
                        ],
                        [
                          1,
                          "#000031"
                        ]
                      ],
                      "sequential": [
                        [
                          0,
                          "#000011"
                        ],
                        [
                          0.1111111111111111,
                          "#000012"
                        ],
                        [
                          0.2222222222222222,
                          "#000013"
                        ],
                        [
                          0.3333333333333333,
                          "#000014"
                        ],
                        [
                          0.4444444444444444,
                          "#000015"
                        ],
                        [
                          0.5555555555555556,
                          "#000016"
                        ],
                        [
                          0.6666666666666666,
                          "#000017"
                        ],
                        [
                          0.7777777777777778,
                          "#000018"
                        ],
                        [
                          0.8888888888888888,
                          "#000019"
                        ],
                        [
                          1,
                          "#000020"
                        ]
                      ],
                      "sequentialminus": [
                        [
                          0,
                          "#000011"
                        ],
                        [
                          0.1111111111111111,
                          "#000012"
                        ],
                        [
                          0.2222222222222222,
                          "#000013"
                        ],
                        [
                          0.3333333333333333,
                          "#000014"
                        ],
                        [
                          0.4444444444444444,
                          "#000015"
                        ],
                        [
                          0.5555555555555556,
                          "#000016"
                        ],
                        [
                          0.6666666666666666,
                          "#000017"
                        ],
                        [
                          0.7777777777777778,
                          "#000018"
                        ],
                        [
                          0.8888888888888888,
                          "#000019"
                        ],
                        [
                          1,
                          "#000020"
                        ]
                      ]
                    },
                    "colorway": [
                      "#000001",
                      "#000002",
                      "#000003",
                      "#000004",
                      "#000005",
                      "#000006",
                      "#000007",
                      "#000008",
                      "#000009",
                      "#000010"
                    ]
                  }
                },
                "title": {
                  "text": "Global Steel Plants by Country/Area"
                }
              }
            }
          },
          "metadata": {},
          "output_type": "display_data"
        }
      ],
      "source": [
        "# Create a scatter_geo or scatter_mapbox plot\n",
        "\n",
        "fig = px.scatter_geo(\n",
        "    df,\n",
        "    lat=\"Latitude\",\n",
        "    lon=\"Longitude\",\n",
        "    color=\"Country/Area\",\n",
        "    hover_name=\"Plant name (English)\",\n",
        "    hover_data=[\"Owner\", \"Plant age (years)\"],\n",
        "    title=\"Global Steel Plants by Country/Area\",\n",
        "    projection=\"natural earth\"\n",
        ")\n",
        "fig.show()\n"
      ]
    },
    {
      "cell_type": "markdown",
      "metadata": {
        "id": "eWQDf7pNtP-Q"
      },
      "source": [
        "### Exercise 2: Sized Markers by Capacity\n",
        "**Task:** Create a map where marker size represents plant capacity.\n",
        "- Larger markers for higher capacity plants\n",
        "- Color by company\n",
        "- Include interactive hover details\n"
      ]
    },
    {
      "cell_type": "code",
      "execution_count": 13,
      "metadata": {
        "colab": {
          "base_uri": "https://localhost:8080/",
          "height": 542
        },
        "id": "Fv_hSpoitP-R",
        "outputId": "4848d2d4-1fc2-4bd8-dfe5-a9dec43aafaa"
      },
      "outputs": [
        {
          "data": {
            "application/vnd.plotly.v1+json": {
              "config": {
                "plotlyServerURL": "https://plot.ly"
              },
              "data": [
                {
                  "customdata": [
                    [
                      "China",
                      300
                    ]
                  ],
                  "geo": "geo",
                  "hovertemplate": "<b>%{hovertext}</b><br><br>Owner=Fujian Dingxin Industry Co Ltd<br>Ferronickel capacity (ttpa)=%{customdata[1]}<br>Latitude=%{lat}<br>Longitude=%{lon}<br>Country/Area=%{customdata[0]}<extra></extra>",
                  "hovertext": [
                    "Fujian Dingxin Industrial Co Ltd"
                  ],
                  "lat": {
                    "bdata": "okW28/3EOkA=",
                    "dtype": "f8"
                  },
                  "legendgroup": "Fujian Dingxin Industry Co Ltd",
                  "lon": {
                    "bdata": "YB4y5UPvXUA=",
                    "dtype": "f8"
                  },
                  "marker": {
                    "color": "#000001",
                    "size": {
                      "bdata": "AAAAAADAckA=",
                      "dtype": "f8"
                    },
                    "sizemode": "area",
                    "sizeref": 8.5,
                    "symbol": "circle"
                  },
                  "mode": "markers",
                  "name": "Fujian Dingxin Industry Co Ltd",
                  "showlegend": true,
                  "type": "scattergeo"
                },
                {
                  "customdata": [
                    [
                      "China",
                      1000
                    ]
                  ],
                  "geo": "geo",
                  "hovertemplate": "<b>%{hovertext}</b><br><br>Owner=Fujian Tsingtuo Nickel Industry Co Ltd<br>Ferronickel capacity (ttpa)=%{customdata[1]}<br>Latitude=%{lat}<br>Longitude=%{lon}<br>Country/Area=%{customdata[0]}<extra></extra>",
                  "hovertext": [
                    "Fujian Tsingtuo Nickel Industry Co Ltd"
                  ],
                  "lat": {
                    "bdata": "qRPQRNjEOkA=",
                    "dtype": "f8"
                  },
                  "legendgroup": "Fujian Tsingtuo Nickel Industry Co Ltd",
                  "lon": {
                    "bdata": "RfMAFvnwXUA=",
                    "dtype": "f8"
                  },
                  "marker": {
                    "color": "#000002",
                    "size": {
                      "bdata": "AAAAAABAj0A=",
                      "dtype": "f8"
                    },
                    "sizemode": "area",
                    "sizeref": 8.5,
                    "symbol": "circle"
                  },
                  "mode": "markers",
                  "name": "Fujian Tsingtuo Nickel Industry Co Ltd",
                  "showlegend": true,
                  "type": "scattergeo"
                },
                {
                  "customdata": [
                    [
                      "China",
                      300
                    ]
                  ],
                  "geo": "geo",
                  "hovertemplate": "<b>%{hovertext}</b><br><br>Owner=Guangdong Guangqing METAL Technology Co Ltd<br>Ferronickel capacity (ttpa)=%{customdata[1]}<br>Latitude=%{lat}<br>Longitude=%{lon}<br>Country/Area=%{customdata[0]}<extra></extra>",
                  "hovertext": [
                    "Guangdong Guangqing Metal Technology Co Ltd"
                  ],
                  "lat": {
                    "bdata": "MA4uHXOyNUA=",
                    "dtype": "f8"
                  },
                  "legendgroup": "Guangdong Guangqing METAL Technology Co Ltd",
                  "lon": {
                    "bdata": "QKAzaVP2W0A=",
                    "dtype": "f8"
                  },
                  "marker": {
                    "color": "#000003",
                    "size": {
                      "bdata": "AAAAAADAckA=",
                      "dtype": "f8"
                    },
                    "sizemode": "area",
                    "sizeref": 8.5,
                    "symbol": "circle"
                  },
                  "mode": "markers",
                  "name": "Guangdong Guangqing METAL Technology Co Ltd",
                  "showlegend": true,
                  "type": "scattergeo"
                },
                {
                  "customdata": [
                    [
                      "China",
                      3400
                    ]
                  ],
                  "geo": "geo",
                  "hovertemplate": "<b>%{hovertext}</b><br><br>Owner=Guangxi BG New Materials Co Ltd<br>Ferronickel capacity (ttpa)=%{customdata[1]}<br>Latitude=%{lat}<br>Longitude=%{lon}<br>Country/Area=%{customdata[0]}<extra></extra>",
                  "hovertext": [
                    "Guangxi Beigang New Material Co Ltd"
                  ],
                  "lat": {
                    "bdata": "z2dAvRmFNUA=",
                    "dtype": "f8"
                  },
                  "legendgroup": "Guangxi BG New Materials Co Ltd",
                  "lon": {
                    "bdata": "7rPKTGlgW0A=",
                    "dtype": "f8"
                  },
                  "marker": {
                    "color": "#000004",
                    "size": {
                      "bdata": "AAAAAACQqkA=",
                      "dtype": "f8"
                    },
                    "sizemode": "area",
                    "sizeref": 8.5,
                    "symbol": "circle"
                  },
                  "mode": "markers",
                  "name": "Guangxi BG New Materials Co Ltd",
                  "showlegend": true,
                  "type": "scattergeo"
                },
                {
                  "customdata": [
                    [
                      "China",
                      100
                    ]
                  ],
                  "geo": "geo",
                  "hovertemplate": "<b>%{hovertext}</b><br><br>Owner=Guangxi Liugang Zhongjin Stainless Steel Co Ltd<br>Ferronickel capacity (ttpa)=%{customdata[1]}<br>Latitude=%{lat}<br>Longitude=%{lon}<br>Country/Area=%{customdata[0]}<extra></extra>",
                  "hovertext": [
                    "Guangxi Liugang Zhongjin Stainless Steel Co Ltd"
                  ],
                  "lat": {
                    "bdata": "avZAKzCsNUA=",
                    "dtype": "f8"
                  },
                  "legendgroup": "Guangxi Liugang Zhongjin Stainless Steel Co Ltd",
                  "lon": {
                    "bdata": "6wCIu3pvW0A=",
                    "dtype": "f8"
                  },
                  "marker": {
                    "color": "#000005",
                    "size": {
                      "bdata": "AAAAAAAAWUA=",
                      "dtype": "f8"
                    },
                    "sizemode": "area",
                    "sizeref": 8.5,
                    "symbol": "circle"
                  },
                  "mode": "markers",
                  "name": "Guangxi Liugang Zhongjin Stainless Steel Co Ltd",
                  "showlegend": true,
                  "type": "scattergeo"
                },
                {
                  "customdata": [
                    [
                      "China",
                      1000
                    ]
                  ],
                  "geo": "geo",
                  "hovertemplate": "<b>%{hovertext}</b><br><br>Owner=Jiangsu Delong Nickel Industry Co Ltd<br>Ferronickel capacity (ttpa)=%{customdata[1]}<br>Latitude=%{lat}<br>Longitude=%{lon}<br>Country/Area=%{customdata[0]}<extra></extra>",
                  "hovertext": [
                    "Jiangsu Delong Nickel Industry Co Ltd"
                  ],
                  "lat": {
                    "bdata": "GeWZl8M4QUA=",
                    "dtype": "f8"
                  },
                  "legendgroup": "Jiangsu Delong Nickel Industry Co Ltd",
                  "lon": {
                    "bdata": "5DCYv0L0XUA=",
                    "dtype": "f8"
                  },
                  "marker": {
                    "color": "#000006",
                    "size": {
                      "bdata": "AAAAAABAj0A=",
                      "dtype": "f8"
                    },
                    "sizemode": "area",
                    "sizeref": 8.5,
                    "symbol": "circle"
                  },
                  "mode": "markers",
                  "name": "Jiangsu Delong Nickel Industry Co Ltd",
                  "showlegend": true,
                  "type": "scattergeo"
                },
                {
                  "customdata": [
                    [
                      "India",
                      250
                    ]
                  ],
                  "geo": "geo",
                  "hovertemplate": "<b>%{hovertext}</b><br><br>Owner=Jindal Stainless Ltd<br>Ferronickel capacity (ttpa)=%{customdata[1]}<br>Latitude=%{lat}<br>Longitude=%{lon}<br>Country/Area=%{customdata[0]}<extra></extra>",
                  "hovertext": [
                    "Jindal Stainless Jajpur steel plant"
                  ],
                  "lat": {
                    "bdata": "yaze4Xb0NEA=",
                    "dtype": "f8"
                  },
                  "legendgroup": "Jindal Stainless Ltd",
                  "lon": {
                    "bdata": "ZHYWvVODVUA=",
                    "dtype": "f8"
                  },
                  "marker": {
                    "color": "#000007",
                    "size": {
                      "bdata": "AAAAAABAb0A=",
                      "dtype": "f8"
                    },
                    "sizemode": "area",
                    "sizeref": 8.5,
                    "symbol": "circle"
                  },
                  "mode": "markers",
                  "name": "Jindal Stainless Ltd",
                  "showlegend": true,
                  "type": "scattergeo"
                },
                {
                  "customdata": [
                    [
                      "India",
                      60
                    ]
                  ],
                  "geo": "geo",
                  "hovertemplate": "<b>%{hovertext}</b><br><br>Owner=Jindal Steel & Power Ltd<br>Ferronickel capacity (ttpa)=%{customdata[1]}<br>Latitude=%{lat}<br>Longitude=%{lon}<br>Country/Area=%{customdata[0]}<extra></extra>",
                  "hovertext": [
                    "JSPL Raigarh steel plant"
                  ],
                  "lat": {
                    "bdata": "zOuIQzbsNUA=",
                    "dtype": "f8"
                  },
                  "legendgroup": "Jindal Steel & Power Ltd",
                  "lon": {
                    "bdata": "AfkSKjjWVEA=",
                    "dtype": "f8"
                  },
                  "marker": {
                    "color": "#000008",
                    "size": {
                      "bdata": "AAAAAAAATkA=",
                      "dtype": "f8"
                    },
                    "sizemode": "area",
                    "sizeref": 8.5,
                    "symbol": "circle"
                  },
                  "mode": "markers",
                  "name": "Jindal Steel & Power Ltd",
                  "showlegend": true,
                  "type": "scattergeo"
                },
                {
                  "customdata": [
                    [
                      "India",
                      220
                    ]
                  ],
                  "geo": "geo",
                  "hovertemplate": "<b>%{hovertext}</b><br><br>Owner=JSW Ispat Special Products Ltd<br>Ferronickel capacity (ttpa)=%{customdata[1]}<br>Latitude=%{lat}<br>Longitude=%{lon}<br>Country/Area=%{customdata[0]}<extra></extra>",
                  "hovertext": [
                    "JSW Steel Raigarh steel plant"
                  ],
                  "lat": {
                    "bdata": "58dfWtT7NUA=",
                    "dtype": "f8"
                  },
                  "legendgroup": "JSW Ispat Special Products Ltd",
                  "lon": {
                    "bdata": "TMYxkj3PVEA=",
                    "dtype": "f8"
                  },
                  "marker": {
                    "color": "#000009",
                    "size": {
                      "bdata": "AAAAAACAa0A=",
                      "dtype": "f8"
                    },
                    "sizemode": "area",
                    "sizeref": 8.5,
                    "symbol": "circle"
                  },
                  "mode": "markers",
                  "name": "JSW Ispat Special Products Ltd",
                  "showlegend": true,
                  "type": "scattergeo"
                },
                {
                  "customdata": [
                    [
                      "India",
                      300
                    ]
                  ],
                  "geo": "geo",
                  "hovertemplate": "<b>%{hovertext}</b><br><br>Owner=MSP Steel & Power Ltd<br>Ferronickel capacity (ttpa)=%{customdata[1]}<br>Latitude=%{lat}<br>Longitude=%{lon}<br>Country/Area=%{customdata[0]}<extra></extra>",
                  "hovertext": [
                    "MSP Steel & Power Raigarh plant"
                  ],
                  "lat": {
                    "bdata": "DWyVYHHgNUA=",
                    "dtype": "f8"
                  },
                  "legendgroup": "MSP Steel & Power Ltd",
                  "lon": {
                    "bdata": "6rKY2HzjVEA=",
                    "dtype": "f8"
                  },
                  "marker": {
                    "color": "#000010",
                    "size": {
                      "bdata": "AAAAAADAckA=",
                      "dtype": "f8"
                    },
                    "sizemode": "area",
                    "sizeref": 8.5,
                    "symbol": "circle"
                  },
                  "mode": "markers",
                  "name": "MSP Steel & Power Ltd",
                  "showlegend": true,
                  "type": "scattergeo"
                },
                {
                  "customdata": [
                    [
                      "Iran",
                      150
                    ]
                  ],
                  "geo": "geo",
                  "hovertemplate": "<b>%{hovertext}</b><br><br>Owner=West Alborz Steel Co<br>Ferronickel capacity (ttpa)=%{customdata[1]}<br>Latitude=%{lat}<br>Longitude=%{lon}<br>Country/Area=%{customdata[0]}<extra></extra>",
                  "hovertext": [
                    "West Alborz Ana Steel Zanjan plant"
                  ],
                  "lat": {
                    "bdata": "2LlpM04PQkA=",
                    "dtype": "f8"
                  },
                  "legendgroup": "West Alborz Steel Co",
                  "lon": {
                    "bdata": "pKZdTDOnSEA=",
                    "dtype": "f8"
                  },
                  "marker": {
                    "color": "#000001",
                    "size": {
                      "bdata": "AAAAAADAYkA=",
                      "dtype": "f8"
                    },
                    "sizemode": "area",
                    "sizeref": 8.5,
                    "symbol": "circle"
                  },
                  "mode": "markers",
                  "name": "West Alborz Steel Co",
                  "showlegend": true,
                  "type": "scattergeo"
                },
                {
                  "customdata": [
                    [
                      "Mozambique",
                      2500
                    ]
                  ],
                  "geo": "geo",
                  "hovertemplate": "<b>%{hovertext}</b><br><br>Owner=Baobab Steel Ltd<br>Ferronickel capacity (ttpa)=%{customdata[1]}<br>Latitude=%{lat}<br>Longitude=%{lon}<br>Country/Area=%{customdata[0]}<extra></extra>",
                  "hovertext": [
                    "Tete Steel Maputo plant"
                  ],
                  "lat": {
                    "bdata": "0AoMWd1yL8A=",
                    "dtype": "f8"
                  },
                  "legendgroup": "Baobab Steel Ltd",
                  "lon": {
                    "bdata": "FOtU+Z7hQEA=",
                    "dtype": "f8"
                  },
                  "marker": {
                    "color": "#000002",
                    "size": {
                      "bdata": "AAAAAACIo0A=",
                      "dtype": "f8"
                    },
                    "sizemode": "area",
                    "sizeref": 8.5,
                    "symbol": "circle"
                  },
                  "mode": "markers",
                  "name": "Baobab Steel Ltd",
                  "showlegend": true,
                  "type": "scattergeo"
                },
                {
                  "customdata": [
                    [
                      "South Korea",
                      54
                    ]
                  ],
                  "geo": "geo",
                  "hovertemplate": "<b>%{hovertext}</b><br><br>Owner=POSCO Holdings Inc<br>Ferronickel capacity (ttpa)=%{customdata[1]}<br>Latitude=%{lat}<br>Longitude=%{lon}<br>Country/Area=%{customdata[0]}<extra></extra>",
                  "hovertext": [
                    "POSCO Gwangyang steel plant"
                  ],
                  "lat": {
                    "bdata": "9MDHYMV1QUA=",
                    "dtype": "f8"
                  },
                  "legendgroup": "POSCO Holdings Inc",
                  "lon": {
                    "bdata": "oImw4envX0A=",
                    "dtype": "f8"
                  },
                  "marker": {
                    "color": "#000003",
                    "size": {
                      "bdata": "AAAAAAAAS0A=",
                      "dtype": "f8"
                    },
                    "sizemode": "area",
                    "sizeref": 8.5,
                    "symbol": "circle"
                  },
                  "mode": "markers",
                  "name": "POSCO Holdings Inc",
                  "showlegend": true,
                  "type": "scattergeo"
                }
              ],
              "layout": {
                "geo": {
                  "center": {},
                  "domain": {
                    "x": [
                      0,
                      1
                    ],
                    "y": [
                      0,
                      1
                    ]
                  },
                  "projection": {
                    "type": "natural earth"
                  }
                },
                "legend": {
                  "itemsizing": "constant",
                  "title": {
                    "text": "Owner"
                  },
                  "tracegroupgap": 0
                },
                "template": {
                  "data": {
                    "candlestick": [
                      {
                        "decreasing": {
                          "line": {
                            "color": "#000033"
                          }
                        },
                        "increasing": {
                          "line": {
                            "color": "#000032"
                          }
                        },
                        "type": "candlestick"
                      }
                    ],
                    "contour": [
                      {
                        "colorscale": [
                          [
                            0,
                            "#000011"
                          ],
                          [
                            0.1111111111111111,
                            "#000012"
                          ],
                          [
                            0.2222222222222222,
                            "#000013"
                          ],
                          [
                            0.3333333333333333,
                            "#000014"
                          ],
                          [
                            0.4444444444444444,
                            "#000015"
                          ],
                          [
                            0.5555555555555556,
                            "#000016"
                          ],
                          [
                            0.6666666666666666,
                            "#000017"
                          ],
                          [
                            0.7777777777777778,
                            "#000018"
                          ],
                          [
                            0.8888888888888888,
                            "#000019"
                          ],
                          [
                            1,
                            "#000020"
                          ]
                        ],
                        "type": "contour"
                      }
                    ],
                    "contourcarpet": [
                      {
                        "colorscale": [
                          [
                            0,
                            "#000011"
                          ],
                          [
                            0.1111111111111111,
                            "#000012"
                          ],
                          [
                            0.2222222222222222,
                            "#000013"
                          ],
                          [
                            0.3333333333333333,
                            "#000014"
                          ],
                          [
                            0.4444444444444444,
                            "#000015"
                          ],
                          [
                            0.5555555555555556,
                            "#000016"
                          ],
                          [
                            0.6666666666666666,
                            "#000017"
                          ],
                          [
                            0.7777777777777778,
                            "#000018"
                          ],
                          [
                            0.8888888888888888,
                            "#000019"
                          ],
                          [
                            1,
                            "#000020"
                          ]
                        ],
                        "type": "contourcarpet"
                      }
                    ],
                    "heatmap": [
                      {
                        "colorscale": [
                          [
                            0,
                            "#000011"
                          ],
                          [
                            0.1111111111111111,
                            "#000012"
                          ],
                          [
                            0.2222222222222222,
                            "#000013"
                          ],
                          [
                            0.3333333333333333,
                            "#000014"
                          ],
                          [
                            0.4444444444444444,
                            "#000015"
                          ],
                          [
                            0.5555555555555556,
                            "#000016"
                          ],
                          [
                            0.6666666666666666,
                            "#000017"
                          ],
                          [
                            0.7777777777777778,
                            "#000018"
                          ],
                          [
                            0.8888888888888888,
                            "#000019"
                          ],
                          [
                            1,
                            "#000020"
                          ]
                        ],
                        "type": "heatmap"
                      }
                    ],
                    "histogram2d": [
                      {
                        "colorscale": [
                          [
                            0,
                            "#000011"
                          ],
                          [
                            0.1111111111111111,
                            "#000012"
                          ],
                          [
                            0.2222222222222222,
                            "#000013"
                          ],
                          [
                            0.3333333333333333,
                            "#000014"
                          ],
                          [
                            0.4444444444444444,
                            "#000015"
                          ],
                          [
                            0.5555555555555556,
                            "#000016"
                          ],
                          [
                            0.6666666666666666,
                            "#000017"
                          ],
                          [
                            0.7777777777777778,
                            "#000018"
                          ],
                          [
                            0.8888888888888888,
                            "#000019"
                          ],
                          [
                            1,
                            "#000020"
                          ]
                        ],
                        "type": "histogram2d"
                      }
                    ],
                    "icicle": [
                      {
                        "textfont": {
                          "color": "white"
                        },
                        "type": "icicle"
                      }
                    ],
                    "sankey": [
                      {
                        "textfont": {
                          "color": "#000036"
                        },
                        "type": "sankey"
                      }
                    ],
                    "scatter": [
                      {
                        "marker": {
                          "line": {
                            "width": 0
                          }
                        },
                        "type": "scatter"
                      }
                    ],
                    "table": [
                      {
                        "cells": {
                          "fill": {
                            "color": "#000038"
                          },
                          "font": {
                            "color": "#000037"
                          },
                          "line": {
                            "color": "#000039"
                          }
                        },
                        "header": {
                          "fill": {
                            "color": "#000040"
                          },
                          "font": {
                            "color": "#000036"
                          },
                          "line": {
                            "color": "#000039"
                          }
                        },
                        "type": "table"
                      }
                    ],
                    "waterfall": [
                      {
                        "connector": {
                          "line": {
                            "color": "#000036",
                            "width": 2
                          }
                        },
                        "decreasing": {
                          "marker": {
                            "color": "#000033"
                          }
                        },
                        "increasing": {
                          "marker": {
                            "color": "#000032"
                          }
                        },
                        "totals": {
                          "marker": {
                            "color": "#000034"
                          }
                        },
                        "type": "waterfall"
                      }
                    ]
                  },
                  "layout": {
                    "coloraxis": {
                      "colorscale": [
                        [
                          0,
                          "#000011"
                        ],
                        [
                          0.1111111111111111,
                          "#000012"
                        ],
                        [
                          0.2222222222222222,
                          "#000013"
                        ],
                        [
                          0.3333333333333333,
                          "#000014"
                        ],
                        [
                          0.4444444444444444,
                          "#000015"
                        ],
                        [
                          0.5555555555555556,
                          "#000016"
                        ],
                        [
                          0.6666666666666666,
                          "#000017"
                        ],
                        [
                          0.7777777777777778,
                          "#000018"
                        ],
                        [
                          0.8888888888888888,
                          "#000019"
                        ],
                        [
                          1,
                          "#000020"
                        ]
                      ]
                    },
                    "colorscale": {
                      "diverging": [
                        [
                          0,
                          "#000021"
                        ],
                        [
                          0.1,
                          "#000022"
                        ],
                        [
                          0.2,
                          "#000023"
                        ],
                        [
                          0.3,
                          "#000024"
                        ],
                        [
                          0.4,
                          "#000025"
                        ],
                        [
                          0.5,
                          "#000026"
                        ],
                        [
                          0.6,
                          "#000027"
                        ],
                        [
                          0.7,
                          "#000028"
                        ],
                        [
                          0.8,
                          "#000029"
                        ],
                        [
                          0.9,
                          "#000030"
                        ],
                        [
                          1,
                          "#000031"
                        ]
                      ],
                      "sequential": [
                        [
                          0,
                          "#000011"
                        ],
                        [
                          0.1111111111111111,
                          "#000012"
                        ],
                        [
                          0.2222222222222222,
                          "#000013"
                        ],
                        [
                          0.3333333333333333,
                          "#000014"
                        ],
                        [
                          0.4444444444444444,
                          "#000015"
                        ],
                        [
                          0.5555555555555556,
                          "#000016"
                        ],
                        [
                          0.6666666666666666,
                          "#000017"
                        ],
                        [
                          0.7777777777777778,
                          "#000018"
                        ],
                        [
                          0.8888888888888888,
                          "#000019"
                        ],
                        [
                          1,
                          "#000020"
                        ]
                      ],
                      "sequentialminus": [
                        [
                          0,
                          "#000011"
                        ],
                        [
                          0.1111111111111111,
                          "#000012"
                        ],
                        [
                          0.2222222222222222,
                          "#000013"
                        ],
                        [
                          0.3333333333333333,
                          "#000014"
                        ],
                        [
                          0.4444444444444444,
                          "#000015"
                        ],
                        [
                          0.5555555555555556,
                          "#000016"
                        ],
                        [
                          0.6666666666666666,
                          "#000017"
                        ],
                        [
                          0.7777777777777778,
                          "#000018"
                        ],
                        [
                          0.8888888888888888,
                          "#000019"
                        ],
                        [
                          1,
                          "#000020"
                        ]
                      ]
                    },
                    "colorway": [
                      "#000001",
                      "#000002",
                      "#000003",
                      "#000004",
                      "#000005",
                      "#000006",
                      "#000007",
                      "#000008",
                      "#000009",
                      "#000010"
                    ]
                  }
                },
                "title": {
                  "text": "Global Steel Plants (Marker Size by Ferronickel capacity (ttpa))"
                }
              }
            }
          },
          "metadata": {},
          "output_type": "display_data"
        }
      ],
      "source": [
        "# Create scatter map with size parameter based on capacity\n",
        "\n",
        "if capacity_cols:\n",
        "    main_cap_col = capacity_cols[0]\n",
        "\n",
        "    # Remove NaN or zero values to prevent Plotly errors\n",
        "    df_cap = df[df[main_cap_col].notna() & (df[main_cap_col] > 0)].copy()\n",
        "\n",
        "    # If all missing, give a fallback warning\n",
        "    if df_cap.empty:\n",
        "        print(f\"No valid numeric data in {main_cap_col} for visualization.\")\n",
        "    else:\n",
        "        fig = px.scatter_geo(\n",
        "            df_cap,\n",
        "            lat=\"Latitude\",\n",
        "            lon=\"Longitude\",\n",
        "            color=\"Owner\",\n",
        "            size=main_cap_col,\n",
        "            hover_name=\"Plant name (English)\",\n",
        "            hover_data=[\"Country/Area\", main_cap_col],\n",
        "            title=f\"Global Steel Plants (Marker Size by {main_cap_col})\",\n",
        "            projection=\"natural earth\"\n",
        "        )\n",
        "        fig.show()"
      ]
    },
    {
      "cell_type": "markdown",
      "metadata": {
        "id": "1SNjJDPqtP-R"
      },
      "source": [
        "### Exercise 3: Density Heatmap\n",
        "**Task:** Create a density map showing concentration of steel plants.\n",
        "- Use Plotly's density_mapbox to show clustering\n",
        "- Identify regions with high plant density\n"
      ]
    },
    {
      "cell_type": "code",
      "execution_count": 14,
      "metadata": {
        "colab": {
          "base_uri": "https://localhost:8080/",
          "height": 617
        },
        "id": "2oI97zpLtP-R",
        "outputId": "c7567850-0e8c-454c-c260-124570979c26"
      },
      "outputs": [
        {
          "name": "stderr",
          "output_type": "stream",
          "text": [
            "/tmp/ipykernel_14734/253537919.py:3: DeprecationWarning:\n",
            "\n",
            "*density_mapbox* is deprecated! Use *density_map* instead. Learn more at: https://plotly.com/python/mapbox-to-maplibre/\n",
            "\n"
          ]
        },
        {
          "data": {
            "application/vnd.plotly.v1+json": {
              "config": {
                "plotlyServerURL": "https://plot.ly"
              },
              "data": [
                {
                  "coloraxis": "coloraxis",
                  "customdata": [
                    [
                      "Albania",
                      "Kurum International ShA"
                    ],
                    [
                      "Algeria",
                      "Algerian Qatari Steel"
                    ],
                    [
                      "Algeria",
                      "ETRHB Industrie SpA"
                    ],
                    [
                      "Algeria",
                      "Ozmert Algeria SARL"
                    ],
                    [
                      "Algeria",
                      "Groupe Industriel Sider SpA"
                    ],
                    [
                      "Algeria",
                      "Tosyali Ironsteel Industry Algerie SpA"
                    ],
                    [
                      "Angola",
                      "Ada - Aceria De Angola SA"
                    ],
                    [
                      "Angola",
                      "Companhia Siderurgica do Cuchi SA"
                    ],
                    [
                      "Angola",
                      "Sonangol EP; Tosyali Iron and Steel Angola SA"
                    ],
                    [
                      "Argentina",
                      "Acindar Industria Argentina de Aceros SA"
                    ],
                    [
                      "Argentina",
                      "Sipar Aceros SA"
                    ],
                    [
                      "Argentina",
                      "Siderca SAIC"
                    ],
                    [
                      "Argentina",
                      "Ternium Argentina SA"
                    ],
                    [
                      "Australia",
                      "BlueScope Steel Ltd"
                    ],
                    [
                      "Australia",
                      "Fortescue Ltd"
                    ],
                    [
                      "Australia",
                      "Infrabuild Australia Pty Ltd"
                    ],
                    [
                      "Australia",
                      "GFG Alliance Ltd"
                    ],
                    [
                      "Australia",
                      "Infrabuild Australia Pty Ltd"
                    ],
                    [
                      "Australia",
                      "Green Steel of WA Pty Ltd"
                    ],
                    [
                      "Australia",
                      "Green Steel of WA Pty Ltd"
                    ],
                    [
                      "Australia",
                      "H2gs AB"
                    ],
                    [
                      "Australia",
                      "Port Hedland Iron Pty Ltd"
                    ],
                    [
                      "Austria",
                      "Voestalpine Stahl Donawitz GmbH"
                    ],
                    [
                      "Austria",
                      "Voestalpine Stahl GmbH"
                    ],
                    [
                      "Azerbaijan",
                      "Azerbaijan Integrated Steel Mill Complex"
                    ],
                    [
                      "Azerbaijan",
                      "Baku Steel Company QSC"
                    ],
                    [
                      "Bahrain",
                      "Sulb Company BSCC"
                    ],
                    [
                      "Bangladesh",
                      "Abul Khair Steel Ltd"
                    ],
                    [
                      "Bangladesh",
                      "Bashundhara Multi Steel Industries Ltd"
                    ],
                    [
                      "Bangladesh",
                      "Bangladesh Steel Re-Rolling Mills Ltd"
                    ],
                    [
                      "Bangladesh",
                      "BSRM Steels Ltd"
                    ],
                    [
                      "Bangladesh",
                      "GPH Ispat Ltd"
                    ],
                    [
                      "Bangladesh",
                      "KSRM Steel Plant Ltd"
                    ],
                    [
                      "Bangladesh",
                      "Meghna Re-rolling and Steel Mills Ltd"
                    ],
                    [
                      "Bangladesh",
                      "Star Infrastructure Development Corp"
                    ],
                    [
                      "Bangladesh",
                      "Unitex Steel Mills Ltd"
                    ],
                    [
                      "Belarus",
                      "BMZ-Upravlyayushchaya Kompaniya Kholdinga BMK JSC"
                    ],
                    [
                      "Belgium",
                      "Aperam Stainless Belgium NV"
                    ],
                    [
                      "Belgium",
                      "Aperam Stainless Belgium NV"
                    ],
                    [
                      "Belgium",
                      "ArcelorMittal SA"
                    ],
                    [
                      "Belgium",
                      "Thy-Marcinelle SA"
                    ],
                    [
                      "Bolivia",
                      "Empresa Siderúrgica del Mutún"
                    ],
                    [
                      "Bosnia and Herzegovina",
                      "Pavgord doo"
                    ],
                    [
                      "Brazil",
                      "Aperam Inox America do Sul SA"
                    ],
                    [
                      "Brazil",
                      "ArcelorMittal Brasil SA"
                    ],
                    [
                      "Brazil",
                      "ArcelorMittal Brasil SA"
                    ],
                    [
                      "Brazil",
                      "ArcelorMittal Brasil SA"
                    ],
                    [
                      "Brazil",
                      "ArcelorMittal Brasil SA"
                    ],
                    [
                      "Brazil",
                      "ArcelorMittal Brasil SA"
                    ],
                    [
                      "Brazil",
                      "ArcelorMittal Brasil SA"
                    ],
                    [
                      "Brazil",
                      "ArcelorMittal Tubarão Comercial SA"
                    ],
                    [
                      "Brazil",
                      "Aco Verde do Brasil SA"
                    ],
                    [
                      "Brazil",
                      "Companhia Siderúrgica Nacional SA"
                    ],
                    [
                      "Brazil",
                      "Gerdau Acominas SA"
                    ],
                    [
                      "Brazil",
                      "Gerdau Acos Longos SA"
                    ],
                    [
                      "Brazil",
                      "Gerdau Acos Longos SA"
                    ],
                    [
                      "Brazil",
                      "Gerdau Acos Longos SA"
                    ],
                    [
                      "Brazil",
                      "Gerdau SA"
                    ],
                    [
                      "Brazil",
                      "Gerdau Acos Longos SA"
                    ],
                    [
                      "Brazil",
                      "GV do Brasil Industria e Comercio de Aço Ltda"
                    ],
                    [
                      "Brazil",
                      "GV do Brasil Industria e Comercio de Aço Ltda"
                    ],
                    [
                      "Brazil",
                      "Siderurgica Norte Brasil SA"
                    ],
                    [
                      "Brazil",
                      "Ternium Brasil Ltda"
                    ],
                    [
                      "Brazil",
                      "Usinas Siderurgicas de Minas Gerais SA"
                    ],
                    [
                      "Brazil",
                      "Usinas Siderurgicas de Minas Gerais SA"
                    ],
                    [
                      "Brazil",
                      "Vale SA"
                    ],
                    [
                      "Brazil",
                      "Vallourec Soluções Tubulares do Brasil SA"
                    ],
                    [
                      "Brazil",
                      "Andrade Valladares Engenharia e Construcao Ltda"
                    ],
                    [
                      "Bulgaria",
                      "Stomana Industry AD"
                    ],
                    [
                      "Cambodia",
                      "Cambodia Iron & Steel Mining Industry Group Co Ltd"
                    ],
                    [
                      "Cambodia",
                      "Xinjiang Bayi Steel Southern Xinjiang Steel Baicheng Co Ltd"
                    ],
                    [
                      "Canada",
                      "Algoma Steel Group Inc"
                    ],
                    [
                      "Canada",
                      "ArcelorMittal Dofasco GP"
                    ],
                    [
                      "Canada",
                      "ArcelorMittal Long Products Canada GP"
                    ],
                    [
                      "Canada",
                      "Cleveland-Cliffs Inc"
                    ],
                    [
                      "Canada",
                      "Evraz North America PLC"
                    ],
                    [
                      "Canada",
                      "Gerdau Ameristeel Corp"
                    ],
                    [
                      "Canada",
                      "Ivaco Rolling Mills 2004 LP"
                    ],
                    [
                      "Canada",
                      "Rio Tinto Iron and Titanium Canada Inc"
                    ],
                    [
                      "Chile",
                      "Aceros AZA SA"
                    ],
                    [
                      "Chile",
                      "Compania Siderurgica Huachipato SA"
                    ],
                    [
                      "China",
                      "Xinyang Iron & Steel Co.,ltd of Angang Group"
                    ],
                    [
                      "China",
                      "Angang Lianzhong Stainless Steel Corp"
                    ],
                    [
                      "China",
                      "Angang Steel Co Ltd"
                    ],
                    [
                      "China",
                      "Angang Steel Co Ltd"
                    ],
                    [
                      "China",
                      "Anhui Changjiang Steel Co Ltd"
                    ],
                    [
                      "China",
                      "Anhui Guihang Special Steel Co Ltd"
                    ],
                    [
                      "China",
                      "Anhui Jin'an Stainless Steel Foundry Co Ltd"
                    ],
                    [
                      "China",
                      "Anhui Jingxian Longxin Iron and Steel Co Ltd"
                    ],
                    [
                      "China",
                      "Anhui Langxi County Fuhang Steel Co Ltd"
                    ],
                    [
                      "China",
                      "Guangde Xinyuanda Metal Products Co., Ltd. Co Ltd"
                    ],
                    [
                      "China",
                      "Anhui Shoukuang Dachang Metal Material Co Ltd"
                    ],
                    [
                      "China",
                      "Anshan Baode Iron & Steel Co Ltd"
                    ],
                    [
                      "China",
                      "Angang Steel Co Ltd"
                    ],
                    [
                      "China",
                      "Anyang Huixin Special Steel Co Ltd"
                    ],
                    [
                      "China",
                      "Anyang Iron & Steel Co Ltd"
                    ],
                    [
                      "China",
                      "Anyang Xinpu Steel Co Ltd"
                    ],
                    [
                      "China",
                      "Baicheng Fuda Bar Rolling Co Ltd"
                    ],
                    [
                      "China",
                      "Baoshan Iron & Steel Co Ltd"
                    ],
                    [
                      "China",
                      "Baosteel Desheng Stainless Steel Co Ltd"
                    ],
                    [
                      "China",
                      "Baosteel Group Xinjiang Bayi Iron & Steel Co Ltd"
                    ],
                    [
                      "China",
                      "Baosteel Special Metals Co Ltd"
                    ],
                    [
                      "China",
                      "Baosteel Zhanjiang Iron & Steel Co Ltd"
                    ],
                    [
                      "China",
                      "Baotou Baoxin Special Steel Co Ltd"
                    ],
                    [
                      "China",
                      "Baotou DA AN IRON&STEEL Co Ltd"
                    ],
                    [
                      "China",
                      "Baotou DA AN IRON&STEEL Co Ltd"
                    ],
                    [
                      "China",
                      "Baotou Deshun Spec. Steel Co Ltd"
                    ],
                    [
                      "China",
                      "Baowu Group Echeng Iron & Steel Co Ltd"
                    ],
                    [
                      "China",
                      "Bengang Steel Plates Co Ltd"
                    ],
                    [
                      "China",
                      "Benxi Beiying Iron & Steel (GROUP) Co Ltd"
                    ],
                    [
                      "China",
                      "Cangzhou China Railway Equipment Manufacturing Materials Co Ltd"
                    ],
                    [
                      "China",
                      "Cangzhou Lingang Sanling Metal Co Ltd"
                    ],
                    [
                      "China",
                      "Changshu Longteng Special Steel Co Ltd"
                    ],
                    [
                      "China",
                      "Lucheng Xingbao Iron & Steel Co Ltd"
                    ],
                    [
                      "China",
                      "Changzhou Dongfang Special Steel Co Ltd"
                    ],
                    [
                      "China",
                      "Chengde Street Ltd"
                    ],
                    [
                      "China",
                      "Chengde Jianlong SPECIAL Steel Co Ltd"
                    ],
                    [
                      "China",
                      "Chengde Shengfeng Iron & Steel Co Ltd"
                    ],
                    [
                      "China",
                      "Chengde Zhaofeng Steel Group Co Ltd"
                    ],
                    [
                      "China",
                      "Chengdu Changfeng Steel Group Co Ltd"
                    ],
                    [
                      "China",
                      "Chengyu Vanadium & Titanium Technology Co Ltd"
                    ],
                    [
                      "China",
                      "Chifeng Yuanlian Steel Co Ltd"
                    ],
                    [
                      "China",
                      "Chifeng Zhongtang Special Steel Co Ltd"
                    ],
                    [
                      "China",
                      "Chizhou Guichi Guihang Metal Products Co Ltd"
                    ],
                    [
                      "China",
                      "Chongli Steel Manufacturing Co Ltd"
                    ],
                    [
                      "China",
                      "Chongqing Iron & Steel Co Ltd"
                    ],
                    [
                      "China",
                      "Chongqing Yonghang Steel Group Co Ltd"
                    ],
                    [
                      "China",
                      "Chongqing Zuhang Steel Co Ltd"
                    ],
                    [
                      "China",
                      "Danyang Longjiang Steel Co Ltd"
                    ],
                    [
                      "China",
                      "Daye Huaxin Industrial Co Ltd"
                    ],
                    [
                      "China",
                      "Daye SPECIAL Steel Co Ltd"
                    ],
                    [
                      "China",
                      "Hubei Xinxin Steel Group Co Ltd; natural person(s)"
                    ],
                    [
                      "China",
                      "DELONG Steel Ltd"
                    ],
                    [
                      "China",
                      "Dongbei Special Steel Group Dalian Special Steel Co Ltd"
                    ],
                    [
                      "China",
                      "Ezhou Hongtai Steel Co Ltd"
                    ],
                    [
                      "China",
                      "Fangchenggang Jinxi Steel Technology Co Ltd"
                    ],
                    [
                      "China",
                      "Fangda Special Steel Technology Co Ltd"
                    ],
                    [
                      "China",
                      "Fujian Great Dong Hai Industrial Group Co Ltd"
                    ],
                    [
                      "China",
                      "Fujian Dingsheng Steel Co Ltd"
                    ],
                    [
                      "China",
                      "Fujian Dingxin Industry Co Ltd"
                    ],
                    [
                      "China",
                      "Mindong Saiqi Economic Development Zone Fuhua Steel Rolling Co Ltd"
                    ],
                    [
                      "China",
                      "Fujian Fuxin Special Steel Co Ltd"
                    ],
                    [
                      "China",
                      "Fujian Longgang New Materials Co Ltd"
                    ],
                    [
                      "China",
                      "Fujian Luoyuan Minguang Iron & Steel Co Ltd"
                    ],
                    [
                      "China",
                      "Fujian Qingtuo New Material Co Ltd"
                    ],
                    [
                      "China",
                      "Fujian San'an Iron & Steel Co Ltd"
                    ],
                    [
                      "China",
                      "Fujian Sanbao Steel Co Ltd"
                    ],
                    [
                      "China",
                      "Fujian Tsingtuo Nickel Industry Co Ltd"
                    ],
                    [
                      "China",
                      "Fujian Wuhang Stainless Steel Products Co Ltd"
                    ],
                    [
                      "China",
                      "Fujian Yixin Steel & Iron Co Ltd"
                    ],
                    [
                      "China",
                      "Fushun HANWANG Direct Reduced Iron Co Ltd"
                    ],
                    [
                      "China",
                      "Fushun New Steel Corp Ltd"
                    ],
                    [
                      "China",
                      "Fushun Special Steel Co Ltd"
                    ],
                    [
                      "China",
                      "Fuzhou Wuhang Steel Products Co Ltd"
                    ],
                    [
                      "China",
                      "Gansu Jiu Steel Group Hongxing Iron and Steel Co Ltd"
                    ],
                    [
                      "China",
                      "Guangdong Guangqing METAL Technology Co Ltd"
                    ],
                    [
                      "China",
                      "Guangdong Jingye Iron and Steel Co Ltd"
                    ],
                    [
                      "China",
                      "Guangdong Jinshenglan Metallurgical Technology Co Ltd"
                    ],
                    [
                      "China",
                      "Guangdong Nanfang Donghai Iron and Steel Co Ltd"
                    ],
                    [
                      "China",
                      "GuangDong Xinxing Ductile Iron Pipes Co Ltd"
                    ],
                    [
                      "China",
                      "Guangdong Yuebei United Steel Co Ltd"
                    ],
                    [
                      "China",
                      "Guangshui Huaxin Smelt Industry Co Ltd"
                    ],
                    [
                      "China",
                      "Guangxi BG New Materials Co Ltd"
                    ],
                    [
                      "China",
                      "Guangxi Chiji Iron and Steel Co Ltd"
                    ],
                    [
                      "China",
                      "Guangxi Deyuan Metallurgy Co Ltd"
                    ],
                    [
                      "China",
                      "Guangxi Deyuan Metallurgy Co Ltd"
                    ],
                    [
                      "China",
                      "Guangxi Longzhou Zhongheng Wanhua Industrial Co Ltd"
                    ],
                    [
                      "China",
                      "Guangxi Guigang Iron and Steel Group Co Ltd"
                    ],
                    [
                      "China",
                      "Guangxi Guigang Iron and Steel Group Guigang Guibao SPECIAL Steel Co Ltd"
                    ],
                    [
                      "China",
                      "Guangxi Guixin Steel Group Co Ltd"
                    ],
                    [
                      "China",
                      "Hezhou Zhaoxin Hardware Products Co Ltd"
                    ],
                    [
                      "China",
                      "Guangxi Hezhou Kexinda Metal Products Co Ltd"
                    ],
                    [
                      "China",
                      "Guangxi Iron and Steel Group Co Ltd"
                    ],
                    [
                      "China",
                      "Guangxi Liugang Zhongjin Stainless Steel Co Ltd"
                    ],
                    [
                      "China",
                      "Guangxi Longzhou Zhongheng Wanhua Industrial Co Ltd"
                    ],
                    [
                      "China",
                      "Guangxi Shenglong Metallurgical Co Ltd"
                    ],
                    [
                      "China",
                      "Guangxi Wuzhou Jinhai Stainless Steel Co Ltd"
                    ],
                    [
                      "China",
                      "Guilin Pinggang Iron and Steel Co Ltd"
                    ],
                    [
                      "China",
                      "Guizhou Ganglian Industrial Group Co Ltd"
                    ],
                    [
                      "China",
                      "Guizhou Hexing Metal Products Co Ltd"
                    ],
                    [
                      "China",
                      "Qianxinan Prefecture Juxin Industry & Trade General Co"
                    ],
                    [
                      "China",
                      "Guizhou United Steel (Group) Co Ltd"
                    ],
                    [
                      "China",
                      "Handan Iron and Steel Group Co Ltd"
                    ],
                    [
                      "China",
                      "Hanshan Iron and Steel Co Ltd"
                    ],
                    [
                      "China",
                      "Dazhou Hangda Steel Co Ltd"
                    ],
                    [
                      "China",
                      "HBIS Laoting Steel Co Ltd"
                    ],
                    [
                      "China",
                      "Hebei Anfeng Iron & Steel Co Ltd"
                    ],
                    [
                      "China",
                      "Hebei Baoxin Iron and Steel Group Co Ltd"
                    ],
                    [
                      "China",
                      "Inner Mongolia (Naiman) Jingan Non-ferrous Metal Materials Co Ltd"
                    ],
                    [
                      "China",
                      "Hebei Donghai SPECIAL Steel Group Co Ltd"
                    ],
                    [
                      "China",
                      "Luannan Huarui Steel Co Ltd"
                    ],
                    [
                      "China",
                      "Hebei Huaxi Special Steel Co Ltd"
                    ],
                    [
                      "China",
                      "Hebei Huaxin Special Steel Co Ltd"
                    ],
                    [
                      "China",
                      "Hebei Jinxi Iron & Steel Group Co Ltd"
                    ],
                    [
                      "China",
                      "Hebei PROVINCE Longfengshan Casting Industry Co Ltd"
                    ],
                    [
                      "China",
                      "Hebei New Wuan Steel Group Wenan IRON&STEEL Co Ltd"
                    ],
                    [
                      "China",
                      "Hebei Puyang Iron and Steel Co Ltd"
                    ],
                    [
                      "China",
                      "Hebei Rongxin Iron & Steel Co Ltd"
                    ],
                    [
                      "China",
                      "Hebei Taihang Iron and Steel Group Co Ltd"
                    ],
                    [
                      "China",
                      "Hebei Tangyin IRON&STEEL Co Ltd"
                    ],
                    [
                      "China",
                      "Hebei Tangyin IRON&STEEL Co Ltd"
                    ],
                    [
                      "China",
                      "Hebei Tianzhu Iron and Steel Group Special Steel Co Ltd"
                    ],
                    [
                      "China",
                      "Hebei Tianzhu IRON&STEEL (GROUP) Co Ltd"
                    ],
                    [
                      "China",
                      "Hebei Wenfeng STEEL&IRON Co Ltd"
                    ],
                    [
                      "China",
                      "Hebei New Wuan Lron and Steel Group Hong Rong Lron and Steel Co Ltd"
                    ],
                    [
                      "China",
                      "Hebei New Wuan Steel Group Wenan IRON&STEEL Co Ltd"
                    ],
                    [
                      "China",
                      "Hebei Xinda Iron and Steel Co Ltd"
                    ],
                    [
                      "China",
                      "Hebei Xinghua Iron and Steel Co Ltd"
                    ],
                    [
                      "China",
                      "Hebei Xinjin Iron and Steel Co Ltd"
                    ],
                    [
                      "China",
                      "Hebei New Wuan Iron and Steel Group Xin Hui Metallurgy Co Ltd"
                    ],
                    [
                      "China",
                      "Hebei Xinxing Ductile Iron Pipes Co Ltd"
                    ],
                    [
                      "China",
                      "Hebei Yanshan Iron and Steel Group Co Ltd"
                    ],
                    [
                      "China",
                      "Hebei YongYang Special Steel Group Co Ltd"
                    ],
                    [
                      "China",
                      "Hbzx HIGH Tech Co Ltd"
                    ],
                    [
                      "China",
                      "Hebei Zongheng Group Fengnan Iron & Steel Co Ltd"
                    ],
                    [
                      "China",
                      "Heilongjiang Jianlong Iron and Steel Co Ltd"
                    ],
                    [
                      "China",
                      "Henan Angang Zhoukou Iron and Steel Co Ltd"
                    ],
                    [
                      "China",
                      "Henan Changtai Stainless Steel Plate Co Ltd"
                    ],
                    [
                      "China",
                      "Henan Fengbao SPECIAL Steel Co Ltd"
                    ],
                    [
                      "China",
                      "Henan Xinjinhui Stainless Steel Industry Co Ltd"
                    ],
                    [
                      "China",
                      "Henan Jiyuan Iron & Steel (Group) Co Ltd"
                    ],
                    [
                      "China",
                      "Henan YAXIN Steel Industry Co Ltd"
                    ],
                    [
                      "China",
                      "Hengyang Valin Steel Tube Co Ltd"
                    ],
                    [
                      "China",
                      "Heping Yueshen Steel Industrial Co Ltd"
                    ],
                    [
                      "China",
                      "Heyuan Derun Steel Co Ltd"
                    ],
                    [
                      "China",
                      "Heyuan Derun Steel Co Ltd"
                    ],
                    [
                      "China",
                      "Hezhou Xindu Sanyuan Casting Co Ltd"
                    ],
                    [
                      "China",
                      "Houying Group Haicheng Iron and Steel Co Ltd"
                    ],
                    [
                      "China",
                      "Huainan Hongtai Steel Limited Liability Co"
                    ],
                    [
                      "China",
                      "Huangshi Xingang Heavy Industry Technology Co Ltd"
                    ],
                    [
                      "China",
                      "Hubei Dazhan Steel & Iron Co Ltd"
                    ],
                    [
                      "China",
                      "Hubei Jinshenglan Metallurgical Technology Co Ltd"
                    ],
                    [
                      "China",
                      "Hubei Lijin Steel Group Co Ltd"
                    ],
                    [
                      "China",
                      "Hubei Shunle Iron and Steel Co Ltd"
                    ],
                    [
                      "China",
                      "Hubei Wucheng Iron and Steel Group Co Ltd"
                    ],
                    [
                      "China",
                      "Hunan Valin Lianyuan Iron and Steel Co Ltd"
                    ],
                    [
                      "China",
                      "Hunan Valin Lianyuan Iron and Steel Co Ltd"
                    ],
                    [
                      "China",
                      "Baotou Jiyu Steel Co Ltd"
                    ],
                    [
                      "China",
                      "Inner Mongolia BaoTou Steel Union Co Ltd"
                    ],
                    [
                      "China",
                      "Inner Mongolia Desheng Metal Products Co Ltd"
                    ],
                    [
                      "China",
                      "Inner Mongolia Mingtuo Ferrite New Material Co Ltd"
                    ],
                    [
                      "China",
                      "Inner Mongolia Wanzhou Special Steel Co Ltd"
                    ],
                    [
                      "China",
                      "Inner Mongolia Yaxinlongshun Special Steel Co Ltd"
                    ],
                    [
                      "China",
                      "Jianglong Acheng Iron & Steel Co Ltd"
                    ],
                    [
                      "China",
                      "Jiangsu Province Binxin Steel Group Co Ltd"
                    ],
                    [
                      "China",
                      "Jiangsu Changqiang Iron & Steel Co Ltd"
                    ],
                    [
                      "China",
                      "Jiangsu Delong Nickel Industry Co Ltd"
                    ],
                    [
                      "China",
                      "Jiangsu HONGTAI Metals Ware Co Ltd"
                    ],
                    [
                      "China",
                      "Jiangsu Longyuan Steel Co Ltd"
                    ],
                    [
                      "China",
                      "Jiangsu Shagang Group Huaigang SPECIAL Steel Co Ltd"
                    ],
                    [
                      "China",
                      "Jiangsu Shente Steel Corp"
                    ],
                    [
                      "China",
                      "Jiangsu Suxin Special Steel Co Ltd"
                    ],
                    [
                      "China",
                      "Jiangsu Xingda Steel Group Co Ltd"
                    ],
                    [
                      "China",
                      "Jiangsu Xusteel Group Co Ltd"
                    ],
                    [
                      "China",
                      "Jiangxi Taixin Iron & Steel Co Ltd"
                    ],
                    [
                      "China",
                      "Jiangxi Yuanxing Iron and Steel Co Ltd"
                    ],
                    [
                      "China",
                      "Jiangyin Huaxi Steel Co Ltd"
                    ],
                    [
                      "China",
                      "Jiangyin Xicheng Steel Co Ltd"
                    ],
                    [
                      "China",
                      "Jiangyin Xingcheng SPECIAL Steel Works Co Ltd"
                    ],
                    [
                      "China",
                      "Jianlong Beiman SPECIAL Steel Co Ltd"
                    ],
                    [
                      "China",
                      "Jianlong Xilin Iron and Steel Co Ltd"
                    ],
                    [
                      "China",
                      "Jilin Jianlong Steel Co Ltd"
                    ],
                    [
                      "China",
                      "Jilin Jingang Lron and Steel Co Ltd"
                    ],
                    [
                      "China",
                      "Fugang METAL Manufacturing Co.ltd.,jilinjigang Steel Group"
                    ],
                    [
                      "China",
                      "Jilin Steel Group Taihua Metal Equipment Manufacture Co Ltd"
                    ],
                    [
                      "China",
                      "JiLin Province Xinda Steel Co Ltd"
                    ],
                    [
                      "China",
                      "Jinan Iron & Steel Group Co Ltd"
                    ],
                    [
                      "China",
                      "Jincheng FUSHENG Iron & Steel Co Ltd"
                    ],
                    [
                      "China",
                      "Jinding Heavy Industries Co Ltd"
                    ],
                    [
                      "China",
                      "Jingye Iron and Steel Co Ltd"
                    ],
                    [
                      "China",
                      "Jingzhou Qunli Metal Products Co Ltd"
                    ],
                    [
                      "China",
                      "Jinye Steel Group Co Ltd"
                    ],
                    [
                      "China",
                      "Jinzhou Jinxing Special Steel Co Ltd"
                    ],
                    [
                      "China",
                      "Jishan Mingfu Steel Products Co Ltd"
                    ],
                    [
                      "China",
                      "Jiugang Group Yuzhong Iron & Steel Co Ltd"
                    ],
                    [
                      "China",
                      "JiuJiang PXSteel Co Ltd"
                    ],
                    [
                      "China",
                      "Laiwu Steel Yinshan Section Co Ltd"
                    ],
                    [
                      "China",
                      "Langfang Guangyuan Metalwork Co Ltd"
                    ],
                    [
                      "China",
                      "Gaolan County Lanxin Steel Co Ltd"
                    ],
                    [
                      "China",
                      "Lengshuijiang Iron and Steel Co Ltd"
                    ],
                    [
                      "China",
                      "Lianfeng Steel (Zhangjiagang) Co Ltd"
                    ],
                    [
                      "China",
                      "Lianyungang Huale Alloy Group Co Ltd"
                    ],
                    [
                      "China",
                      "Lianyungang Xingxin Iron and Steel Co Ltd"
                    ],
                    [
                      "China",
                      "Lianyungang Yaxin Iron and Steel Co Ltd"
                    ],
                    [
                      "China",
                      "Liaoyang United Steel Co Ltd"
                    ],
                    [
                      "China",
                      "Liaoyang Xinyi Special Steel Co Ltd"
                    ],
                    [
                      "China",
                      "Licheng Taihang Iron & Steel Co Ltd"
                    ],
                    [
                      "China",
                      "Lingyuan Iron & Steel Co Ltd"
                    ],
                    [
                      "China",
                      "Linyi Iron and Steel Investment Group Co Ltd"
                    ],
                    [
                      "China",
                      "Linyi Jiangxin Steel Co Ltd"
                    ],
                    [
                      "China",
                      "Huahong Iron and Steel Products Co Ltd"
                    ],
                    [
                      "China",
                      "Liuzhou IRON&STEEL Co Ltd"
                    ],
                    [
                      "China",
                      "Liyang Baorun Steel Co Ltd"
                    ],
                    [
                      "China",
                      "Longnan Fuxin Steel Co Ltd"
                    ],
                    [
                      "China",
                      "Luoyang Luogang Group of Steel and Iron Co Ltd"
                    ],
                    [
                      "China",
                      "Luzhou Xinyang Vanadium Titanium Steel Co Ltd"
                    ],
                    [
                      "China",
                      "Lvliang Jianlong Industrial Co Ltd"
                    ],
                    [
                      "China",
                      "Maanshan Iron & Steel Co Ltd"
                    ],
                    [
                      "China",
                      "Mintal Group Co Ltd"
                    ],
                    [
                      "China",
                      "Minyuan Iron and Steel Group Co Ltd"
                    ],
                    [
                      "China",
                      "Nanjing Iron & Steel Co Ltd"
                    ],
                    [
                      "China",
                      "Nanyang Hanye SPECIAL STREET Co Ltd"
                    ],
                    [
                      "China",
                      "Ningbo Haoyang New MATERIALS Techonology Co Ltd"
                    ],
                    [
                      "China",
                      "Ningbo Iron & Steel Co Ltd"
                    ],
                    [
                      "China",
                      "Ningxia Boyu Hongxing Special Steel Group Co Ltd"
                    ],
                    [
                      "China",
                      "Ningxia Iron and Steel (Group) Co Ltd"
                    ],
                    [
                      "China",
                      "Ningxia Jianlong Special Steel Co Ltd"
                    ],
                    [
                      "China",
                      "Ningxia Xinghua Iron and Steel Co Ltd"
                    ],
                    [
                      "China",
                      "Pan Gang Group Sichuan Changcheng Special Steel Co Ltd"
                    ],
                    [
                      "China",
                      "Panzhihua Steel Group Panzhihua Steel Vanadium Co Ltd"
                    ],
                    [
                      "China",
                      "Pangang Group Xichang Steel and Vanadium Co Ltd"
                    ],
                    [
                      "China",
                      "Jilinheng Precision Casting Technology Co Ltd"
                    ],
                    [
                      "China",
                      "Anyuan Iron & Steel Co Ltd"
                    ],
                    [
                      "China",
                      "Posco (Zhangjiagang) Stainless Steel Co Ltd"
                    ],
                    [
                      "China",
                      "Qian'an City Jiujiang Wire Co Ltd"
                    ],
                    [
                      "China",
                      "Qian'an Zhayi Steel Group Co Ltd"
                    ],
                    [
                      "China",
                      "Qingdao Special Iron and Steel Co Ltd"
                    ],
                    [
                      "China",
                      "Qinhuangdao Baigong Steel Co Ltd"
                    ],
                    [
                      "China",
                      "Qinhuangdao Hongxing Iron & Steel Co Ltd"
                    ],
                    [
                      "China",
                      "Quzhou Yuanli METAL Products Co Ltd"
                    ],
                    [
                      "China",
                      "Rizhao Steel Holding Group Co Ltd"
                    ],
                    [
                      "China",
                      "Rizhao Steel Yingkou Medium Plate Co Ltd"
                    ],
                    [
                      "China",
                      "Sansteel Minguang Co Ltd Fujian"
                    ],
                    [
                      "China",
                      "SGIS Songshan Co Ltd"
                    ],
                    [
                      "China",
                      "Shaanxi Hanzhong Iron & Steel Group Co"
                    ],
                    [
                      "China",
                      "Shaanxi Huaxin Special Steel Group Co Ltd"
                    ],
                    [
                      "China",
                      "Shaanxi LONG MEN IRON&STEEL Co Ltd"
                    ],
                    [
                      "China",
                      "Shaanxi Lueyang Iron and Steel Co Ltd"
                    ],
                    [
                      "China",
                      "Shangang Group Hanzhong Iron & Steel Co Ltd"
                    ],
                    [
                      "China",
                      "Shagang Group Anyang Yongxing Iron & Steel Co Ltd"
                    ],
                    [
                      "China",
                      "Shandong Chuanyang Group Co Ltd"
                    ],
                    [
                      "China",
                      "Fulun Iron & Steel Co Ltd"
                    ],
                    [
                      "China",
                      "Shandong Guangfu Group Co Ltd"
                    ],
                    [
                      "China",
                      "Shandong Iron and Steel Co Ltd"
                    ],
                    [
                      "China",
                      "Shandong Iron and Steel Co Ltd"
                    ],
                    [
                      "China",
                      "Shandong IRON&STEEL Group Rizhao Co Ltd"
                    ],
                    [
                      "China",
                      "Shandong Iron & Steel Group Yongfeng Lingang Corp"
                    ],
                    [
                      "China",
                      "Shandong Iron Steel Group Yongfeng Zibo Co Ltd"
                    ],
                    [
                      "China",
                      "Shandong Laigang Yongfeng Steel Corp"
                    ],
                    [
                      "China",
                      "Shandong Longsheng Iron and Steel Co Ltd"
                    ],
                    [
                      "China",
                      "Shandong Luli Steel Co Ltd"
                    ],
                    [
                      "China",
                      "Shandong Minyuan Steel & Iron Co Ltd"
                    ],
                    [
                      "China",
                      "Shandong Shouguang Juneng SPECIAL Steel Co Ltd"
                    ],
                    [
                      "China",
                      "Shandong Taishan Steel Group Co Ltd"
                    ],
                    [
                      "China",
                      "Shandong Xinhua Special Steel Group Co Ltd"
                    ],
                    [
                      "China",
                      "Shanghai Meishan Iron & Steel Co Ltd"
                    ],
                    [
                      "China",
                      "Shanxi Changxin Industry Co Ltd"
                    ],
                    [
                      "China",
                      "Shanxi Dongfang Hengliu Precision Casting Co"
                    ],
                    [
                      "China",
                      "Shanxi Gaoyi Steel Co Ltd"
                    ],
                    [
                      "China",
                      "Shanxi HONGDA Iron and Steel Group Co Ltd"
                    ],
                    [
                      "China",
                      "Shanxi HUAQIANG Iron and Steel Co Ltd"
                    ],
                    [
                      "China",
                      "Hejin Huaxinyuan Steel & Iron Co Ltd"
                    ],
                    [
                      "China",
                      "Shanxi Jianlong Industrial Co Ltd"
                    ],
                    [
                      "China",
                      "Shanxi Jinnan Iron and Steel Group Co Ltd"
                    ],
                    [
                      "China",
                      "Shanxi Liheng Iron and Steel Co Ltd"
                    ],
                    [
                      "China",
                      "Shanxi Meijin Iron and Steel Co Ltd"
                    ],
                    [
                      "China",
                      "Shanxi Meijin Iron and Steel Co Ltd"
                    ],
                    [
                      "China",
                      "Shanxi Taigang Stainless Steel Co Ltd"
                    ],
                    [
                      "China",
                      "ShanXi TongCai Industry and Trade Co Ltd"
                    ],
                    [
                      "China",
                      "Shanxi Tongde Xinghua Special Steel Co Ltd"
                    ],
                    [
                      "China",
                      "Shanxi Xintai Iron & Steel Co Ltd"
                    ],
                    [
                      "China",
                      "Shanxi Zhongsheng Iron and Steel Co Ltd"
                    ],
                    [
                      "China",
                      "Shanxi Zhongyang Iron & Steel Co Ltd"
                    ],
                    [
                      "China",
                      "Shiheng SPECIAL Steel Group Co Ltd"
                    ],
                    [
                      "China",
                      "Shijiazhuang Iron and Steel Co Ltd"
                    ],
                    [
                      "China",
                      "Shijiazhuang Iron and Steel Co Ltd"
                    ],
                    [
                      "China",
                      "Shiyan Fuyan Iron and Steel Co Ltd"
                    ],
                    [
                      "China",
                      "Yun County Rongfeng Rolling Mill Factory"
                    ],
                    [
                      "China",
                      "Shougang Changzhi IRON& Steel Co Ltd"
                    ],
                    [
                      "China",
                      "Shougang Guiyang SPECIAL Steel Co Ltd"
                    ],
                    [
                      "China",
                      "Shougang Jingtang United Iron & Steel Co Ltd"
                    ],
                    [
                      "China",
                      "Beijing Shougang Co Ltd"
                    ],
                    [
                      "China",
                      "Shougang Shuicheng Iron & Steel (Group) Co Ltd"
                    ],
                    [
                      "China",
                      "Sichuan Dazhou Iron & Steel Group Co Ltd"
                    ],
                    [
                      "China",
                      "Sichuan De Sheng Group, Vanadium and Titanium Co Ltd"
                    ],
                    [
                      "China",
                      "Sichuan Gangchen Stainless Steel Co Ltd"
                    ],
                    [
                      "China",
                      "Sichuan Shehong Chuanzhong Construction Materials Co Ltd"
                    ],
                    [
                      "China",
                      "Sichuan Shengquan Iron and Steel Group Co Ltd"
                    ],
                    [
                      "China",
                      "Sichuan Ya'an Anshan Iron and Steel Co Ltd"
                    ],
                    [
                      "China",
                      "Tangshan Chunxing Special Steel Co Ltd"
                    ],
                    [
                      "China",
                      "Tangshan DELONG Steel Co Ltd"
                    ],
                    [
                      "China",
                      "Tangshan Donghai Iron and Steel Group Co Ltd"
                    ],
                    [
                      "China",
                      "Tangshan Donghua Iron & Steel Enterprise Group Co Ltd"
                    ],
                    [
                      "China",
                      "Tangshan Fengnan District Jing'an Iron and Steel Co Ltd"
                    ],
                    [
                      "China",
                      "Tangshan Ganglu Iron & Steel Co Ltd"
                    ],
                    [
                      "China",
                      "Tangshan Guotang Steel Co Ltd"
                    ],
                    [
                      "China",
                      "Tangshan GUOYI SPECIAL Steel Co Ltd"
                    ],
                    [
                      "China",
                      "TANG Shan Iron and Steel Group Co Ltd"
                    ],
                    [
                      "China",
                      "Tangshan Jianlong Steel SPECIAL Steel Co Ltd"
                    ],
                    [
                      "China",
                      "Tangshan Jinma Iron & Steel Group Co Ltd"
                    ],
                    [
                      "China",
                      "Tangshan Heavy Plate Co Ltd"
                    ],
                    [
                      "China",
                      "Tangshan RUIFENG Steel and Iron (GROUP) Co Ltd"
                    ],
                    [
                      "China",
                      "Tangshan Songting IRON&STEEL Co Ltd"
                    ],
                    [
                      "China",
                      "Tangshan Stainless Steel Co Ltd"
                    ],
                    [
                      "China",
                      "Tangshan Stainless Steel Co Ltd"
                    ],
                    [
                      "China",
                      "Tangshan Wenfeng Special Steel Co Ltd"
                    ],
                    [
                      "China",
                      "Tangshan Xinbaotai Iron & Steel Co Ltd"
                    ],
                    [
                      "China",
                      "Tangshan Xinglong Steel Co Ltd"
                    ],
                    [
                      "China",
                      "Tangshan Yutian Jinzhou Industry Co Ltd"
                    ],
                    [
                      "China",
                      "Tangshan Zhengfeng Steel Co Ltd"
                    ],
                    [
                      "China",
                      "Tianjin Iron and Steel Group Co Ltd"
                    ],
                    [
                      "China",
                      "Tianjin Iron PLANT Co Ltd"
                    ],
                    [
                      "China",
                      "Tianjin Metallurgy Group Zhasan Steel Co Ltd"
                    ],
                    [
                      "China",
                      "Tianjin Tiangang UNITED SPECIAL Steel Co Ltd"
                    ],
                    [
                      "China",
                      "Tianjin Pipe Corp"
                    ],
                    [
                      "China",
                      "Rockcheck Steel Group Co Ltd"
                    ],
                    [
                      "China",
                      "Tianjin Rongcheng Group Tangshan Special Steel Co Ltd; Tangshan Zhengfeng Steel Co Ltd"
                    ],
                    [
                      "China",
                      "Tianjin Rongcheng Group Tangshan Special Steel Co Ltd"
                    ],
                    [
                      "China",
                      "Tianjin Tianfeng Steel Co Ltd"
                    ],
                    [
                      "China",
                      "Tianjin Tianzhong Giant Heavy Industry Co Ltd"
                    ],
                    [
                      "China",
                      "Tonghua Iron & Steel Co Ltd"
                    ],
                    [
                      "China",
                      "Tongling Fuxin Iron & Steel Co Ltd"
                    ],
                    [
                      "China",
                      "Tongling City Xuanli Special Steel Co Ltd"
                    ],
                    [
                      "China",
                      "Tongshan Liguo Iron and Steel Co Ltd"
                    ],
                    [
                      "China",
                      "Weifang SPECIAL Steel Group Co Ltd"
                    ],
                    [
                      "China",
                      "WISCO Group Kunming Steel Co Ltd"
                    ],
                    [
                      "China",
                      "Honghe Iron and Steel Co Ltd"
                    ],
                    [
                      "China",
                      "WISCO Group Kunming Steel Co Ltd"
                    ],
                    [
                      "China",
                      "Yuxi Xinxing Iron & Steel Co Ltd"
                    ],
                    [
                      "China",
                      "WISCO Group Xiangyang Heavy Equipment MATERIALS Co Ltd"
                    ],
                    [
                      "China",
                      "Wuan Mingfang Iron & Steel Co Ltd"
                    ],
                    [
                      "China",
                      "Wuan Yuhua Steel Co Ltd"
                    ],
                    [
                      "China",
                      "Wu'an Yongcheng Zhuye Co Ltd"
                    ],
                    [
                      "China",
                      "Wugang Zhongjia Iron & Steel Co Ltd"
                    ],
                    [
                      "China",
                      "Wuhai Baogang Wanteng Iron and Steel Co Ltd"
                    ],
                    [
                      "China",
                      "Wuhan Iron and Steel Co Ltd"
                    ],
                    [
                      "China",
                      "Wuhan Shunle Stainless Steel Co Ltd"
                    ],
                    [
                      "China",
                      "Wuhu Fuxin Iron & Steel Co Ltd"
                    ],
                    [
                      "China",
                      "Wuhu Xinxing Ductile Iron Pipes Co Ltd"
                    ],
                    [
                      "China",
                      "Wulanhot Iron & Steel Co Ltd"
                    ],
                    [
                      "China",
                      "Wuxi Xinsanzhou Special Steel Co Ltd"
                    ],
                    [
                      "China",
                      "Wuyang Iron and Steel Co Ltd"
                    ],
                    [
                      "China",
                      "Wuzhou Yongda Steel Works Co Ltd"
                    ],
                    [
                      "China",
                      "Wuzhou Yongda Special Steel Co Ltd"
                    ],
                    [
                      "China",
                      "Xiangfen County Xingyuan Steel Group Co Ltd"
                    ],
                    [
                      "China",
                      "Xiangfen County XinJinShan Special Steel Co Ltd"
                    ],
                    [
                      "China",
                      "Xingtai Iron and Steel Co Ltd"
                    ],
                    [
                      "China",
                      "Xingtai Iron and Steel Co Ltd"
                    ],
                    [
                      "China",
                      "Xining Special Steel Co Ltd"
                    ],
                    [
                      "China",
                      "Xinji AOSEN Steel Group Co Ltd"
                    ],
                    [
                      "China",
                      "Xinjiang Da'an Special Steel Co Ltd"
                    ],
                    [
                      "China",
                      "Xinjiang Ka Steel Group Co"
                    ],
                    [
                      "China",
                      "Xinjiang KingTec Steel Co Ltd"
                    ],
                    [
                      "China",
                      "Xinjiang Kunyu Lron & Steel Co Ltd"
                    ],
                    [
                      "China",
                      "Xinjiang Minxin Iron and Steel (Group) Minhang Special Steel Co Ltd"
                    ],
                    [
                      "China",
                      "Xinxing Ductile Iron Pipes Xinjiang Co Ltd"
                    ],
                    [
                      "China",
                      "Xinjiang Xin'an Special Steel Co Ltd"
                    ],
                    [
                      "China",
                      "Xinjiang Yili Iron and Steel Co Ltd"
                    ],
                    [
                      "China",
                      "Xinyu Iron & Steel Corp Ltd"
                    ],
                    [
                      "China",
                      "Xiwang METAL Science Technology Co Ltd"
                    ],
                    [
                      "China",
                      "Xuanhua Iron and Steel Group Co Ltd"
                    ],
                    [
                      "China",
                      "Xuzhou Baofeng Special Steel Co Ltd"
                    ],
                    [
                      "China",
                      "Xuzhou Jinhong Iron and Steel Group Co Ltd"
                    ],
                    [
                      "China",
                      "Xuzhou TaiFa Special Steel Technology Co Ltd"
                    ],
                    [
                      "China",
                      "Yancheng Lianxin Steel Co Ltd"
                    ],
                    [
                      "China",
                      "Yangchun New Iron & Steel Co Ltd"
                    ],
                    [
                      "China",
                      "Yangzhou Hengrun Ocean Heavy Industry Co Ltd"
                    ],
                    [
                      "China",
                      "Yangzhou Qinyou Special Metal Materials Co Ltd"
                    ],
                    [
                      "China",
                      "Yantai Walsin Stainless Steel Co Ltd"
                    ],
                    [
                      "China",
                      "Yichang Fulong Iron & Steel Co Ltd"
                    ],
                    [
                      "China",
                      "Yingkou Iron & Steel Co Ltd"
                    ],
                    [
                      "China",
                      "Yunnan Desheng Steel Co Ltd"
                    ],
                    [
                      "China",
                      "Yunnan Jingye Steel Co"
                    ],
                    [
                      "China",
                      "Yunnan Qujing Iron and Steel Group Chenggang Iron and Steel Co Ltd"
                    ],
                    [
                      "China",
                      "Yunnan Qujing Iron and Steel Group Co Ltd"
                    ],
                    [
                      "China",
                      "Yunnan Qujing Iron and Steel Group Yanggang Iron and Steel Co Ltd"
                    ],
                    [
                      "China",
                      "YunNan Province Tiangao Nickel Alloy Co Ltd"
                    ],
                    [
                      "China",
                      "Yunnan Yuxi Iron and Steel Group Yukun Iron and Steel Co Ltd"
                    ],
                    [
                      "China",
                      "Yunnan Yuxi Xianfu Iron and Steel (Group) Co Ltd"
                    ],
                    [
                      "China",
                      "Zenith Steel Group Co Ltd"
                    ],
                    [
                      "China",
                      "Zenith Steel Group (Nantong) Co Ltd"
                    ],
                    [
                      "China",
                      "Zhangjiagang Hongchang Steel Co Ltd"
                    ],
                    [
                      "China",
                      "Zhangjiagang Rongsheng Steel-Making Co Ltd"
                    ],
                    [
                      "China",
                      "Zhejiang TSINGSHAN IRON&STEEL Co Ltd"
                    ],
                    [
                      "China",
                      "Zhejiang Wantai Special Steel Co Ltd"
                    ],
                    [
                      "China",
                      "Zhejiang Yuxin Industrial Co Ltd"
                    ],
                    [
                      "China",
                      "Zhengzhou YONGTONG SPECIAL Steel Co Ltd"
                    ],
                    [
                      "China",
                      "Zhenshi Group EASTERN SPECIAL Steel Co Ltd"
                    ],
                    [
                      "China",
                      "Zhongpu (Handan) Iron and Steel Co Ltd"
                    ],
                    [
                      "China",
                      "Zhongxin Iron and Steel Group Co Ltd"
                    ],
                    [
                      "China",
                      "BERIS Jiangsu Heavy Industry Co Ltd"
                    ],
                    [
                      "China",
                      "Zhuhai Yueyufeng IRON&STEEL Co Ltd"
                    ],
                    [
                      "China",
                      "Zibo Qilin Fushan Steel Co Ltd"
                    ],
                    [
                      "China",
                      "Zunyi Changling Special Steel Co Ltd"
                    ],
                    [
                      "China",
                      "Zunyi County Fuxin Iron & Steel Product Co Ltd"
                    ],
                    [
                      "Czech Republic",
                      "Liberty Steel Group"
                    ],
                    [
                      "Czech Republic",
                      "TRINECKÉ ZELEZÁRNY AS"
                    ],
                    [
                      "Egypt",
                      "AlGioshy Steel SAE"
                    ],
                    [
                      "Egypt",
                      "Al Ezz Dekheila Steel Company Alexandria SAE"
                    ],
                    [
                      "Egypt",
                      "Delta Steel Company Ltd"
                    ],
                    [
                      "Egypt",
                      "Egyptian American Steel Rolling Company SAE"
                    ],
                    [
                      "Egypt",
                      "Egyptian Iron & Steel Co"
                    ],
                    [
                      "Egypt",
                      "Egyptian Sponge Iron & Steel Company SAE"
                    ],
                    [
                      "Egypt",
                      "Egyptian Steel Group"
                    ],
                    [
                      "Egypt",
                      "Egyptian Steel Group"
                    ],
                    [
                      "Egypt",
                      "Al Ezz Flat Steel Company SAE"
                    ],
                    [
                      "Egypt",
                      "Ezz Steel Co"
                    ],
                    [
                      "Egypt",
                      "Hebei Xinfeng High-pressure Flange and Pipe Fitting Co Ltd"
                    ],
                    [
                      "Egypt",
                      "SMS Group GmbH"
                    ],
                    [
                      "Egypt",
                      "unknown"
                    ],
                    [
                      "Egypt",
                      "Suez Steel Company SAE"
                    ],
                    [
                      "Ethiopia",
                      "Ekos Steel Mill PLC"
                    ],
                    [
                      "Finland",
                      "Blastr Green Steel AS"
                    ],
                    [
                      "Finland",
                      "GravitHy"
                    ],
                    [
                      "Finland",
                      "Outokumpu Stainless AB"
                    ],
                    [
                      "Finland",
                      "Ovako AB"
                    ],
                    [
                      "Finland",
                      "SSAB AB"
                    ],
                    [
                      "France",
                      "ArcelorMittal Atlantique et Lorraine SAS"
                    ],
                    [
                      "France",
                      "ArcelorMittal Atlantique et Lorraine SAS"
                    ],
                    [
                      "France",
                      "ArcelorMittal Méditerranée SAS"
                    ],
                    [
                      "France",
                      "Ascometal France Holding SAS"
                    ],
                    [
                      "France",
                      "Celsa France SAS"
                    ],
                    [
                      "France",
                      "GravitHy"
                    ],
                    [
                      "France",
                      "Liberty Steel Group"
                    ],
                    [
                      "France",
                      "Lamines Marchands Europeens SA"
                    ],
                    [
                      "France",
                      "Marcegaglia Holding SpA"
                    ],
                    [
                      "France",
                      "ALPA - Aciéries et Laminoirs de Paris SAS"
                    ],
                    [
                      "France",
                      "Iton Seine SAS"
                    ],
                    [
                      "France",
                      "Sam Montereau SAS"
                    ],
                    [
                      "France",
                      "Societe des Aciers d'Armature pour le Beton SAS"
                    ],
                    [
                      "France",
                      "Saarstahl AG"
                    ],
                    [
                      "Germany",
                      "AG der Dillinger Hüttenwerke AG"
                    ],
                    [
                      "Germany",
                      "ArcelorMittal Bremen GmbH"
                    ],
                    [
                      "Germany",
                      "ArcelorMittal Duisburg GmbH"
                    ],
                    [
                      "Germany",
                      "ArcelorMittal Eisenhüttenstadt GmbH"
                    ],
                    [
                      "Germany",
                      "ArcelorMittal Hamburg GmbH"
                    ],
                    [
                      "Germany",
                      "Benteler Steel/Tube GmbH"
                    ],
                    [
                      "Germany",
                      "Stahlwerk Thueringen GmbH"
                    ],
                    [
                      "Germany",
                      "Deutsche Edelstahlwerke GmbH"
                    ],
                    [
                      "Germany",
                      "ESF Elbe-Stahlwerke Feralpi GmbH"
                    ],
                    [
                      "Germany",
                      "Georgsmarienhuette GmbH"
                    ],
                    [
                      "Germany",
                      "Hüttenwerke Krupp Mannesmann GmbH"
                    ],
                    [
                      "Germany",
                      "Badische Stahlwerke GmbH"
                    ],
                    [
                      "Germany",
                      "Lech Stahlwerke GmbH"
                    ],
                    [
                      "Germany",
                      "BES Brandenburger Elektrostahlwerke GmbH"
                    ],
                    [
                      "Germany",
                      "HES Hennigsdorfer Elektrostahlwerke GmbH"
                    ],
                    [
                      "Germany",
                      "Saarstahl AG"
                    ],
                    [
                      "Germany",
                      "Salzgitter Flachstahl GmbH"
                    ],
                    [
                      "Germany",
                      "Peiner Traeger GmbH"
                    ],
                    [
                      "Germany",
                      "Thyssenkrupp Steel Europe AG"
                    ],
                    [
                      "Ghana",
                      "Sentuo Steel Ltd"
                    ],
                    [
                      "Greece",
                      "Halyvourgiki SA"
                    ],
                    [
                      "Greece",
                      "Hellenic Halyvourgia SA"
                    ],
                    [
                      "Greece",
                      "Sidenor Steel Industry SA"
                    ],
                    [
                      "Greece",
                      "Sovel SA"
                    ],
                    [
                      "Guatemala",
                      "Corporación AG SA"
                    ],
                    [
                      "Hong Kong",
                      "Shiu Wing Steel Ltd"
                    ],
                    [
                      "Hungary",
                      "Liberty Steel Group"
                    ],
                    [
                      "India",
                      "Action Ispat and Power Pvt Ltd"
                    ],
                    [
                      "India",
                      "Adhunik Metaliks Ltd"
                    ],
                    [
                      "India",
                      "ArcelorMittal SA"
                    ],
                    [
                      "India",
                      "ArcelorMittal Nippon Steel India Ltd"
                    ],
                    [
                      "India",
                      "ArcelorMittal Nippon Steel India Ltd"
                    ],
                    [
                      "India",
                      "ArcelorMittal Nippon Steel India Ltd"
                    ],
                    [
                      "India",
                      "ArcelorMittal Nippon Steel India Ltd"
                    ],
                    [
                      "India",
                      "ArcelorMittal Nippon Steel India Ltd"
                    ],
                    [
                      "India",
                      "Arjas Steel Pvt Ltd"
                    ],
                    [
                      "India",
                      "Atibir Industries Co Ltd"
                    ],
                    [
                      "India",
                      "Baldota Steel and Power Ltd"
                    ],
                    [
                      "India",
                      "BMM Ispat Ltd"
                    ],
                    [
                      "India",
                      "Captain Steel India Ltd"
                    ],
                    [
                      "India",
                      "Crest Steel and Power Pvt Ltd"
                    ],
                    [
                      "India",
                      "ESL Steel Ltd"
                    ],
                    [
                      "India",
                      "Electrosteel Castings Ltd"
                    ],
                    [
                      "India",
                      "Evonith Metallics Ltd"
                    ],
                    [
                      "India",
                      "Evonith Metallics Ltd"
                    ],
                    [
                      "India",
                      "Gallantt Ispat Ltd"
                    ],
                    [
                      "India",
                      "Godawari Power and Ispat Ltd"
                    ],
                    [
                      "India",
                      "Godawari Power and Ispat Ltd"
                    ],
                    [
                      "India",
                      "Hospet Steels Ltd"
                    ],
                    [
                      "India",
                      "Jai Balaji Industries Ltd"
                    ],
                    [
                      "India",
                      "Jai Balaji Jyoti Steels Ltd"
                    ],
                    [
                      "India",
                      "Jai Balaji Industries Ltd"
                    ],
                    [
                      "India",
                      "Jai Balaji Steels Purulia Ltd"
                    ],
                    [
                      "India",
                      "Jayaswal Neco Industries Ltd"
                    ],
                    [
                      "India",
                      "Jindal Stainless Ltd"
                    ],
                    [
                      "India",
                      "Jindal Stainless Ltd"
                    ],
                    [
                      "India",
                      "Jindal Steel Odisha Ltd"
                    ],
                    [
                      "India",
                      "Jindal Steel & Power Ltd"
                    ],
                    [
                      "India",
                      "Jindal Steel & Power Ltd"
                    ],
                    [
                      "India",
                      "Jindal Steel & Power Ltd"
                    ],
                    [
                      "India",
                      "Jindal Steel & Power Ltd"
                    ],
                    [
                      "India",
                      "Jindal Steel & Power Ltd"
                    ],
                    [
                      "India",
                      "JSW Bengal Steel Ltd"
                    ],
                    [
                      "India",
                      "Bhushan Power & Steel Ltd"
                    ],
                    [
                      "India",
                      "JSW Steel Ltd"
                    ],
                    [
                      "India",
                      "JSW Green Steel Ltd"
                    ],
                    [
                      "India",
                      "JSW JFE Electrical Steel Pvt Ltd"
                    ],
                    [
                      "India",
                      "JSW Steel Ltd"
                    ],
                    [
                      "India",
                      "POSCO Holdings Inc; JSW Steel Ltd"
                    ],
                    [
                      "India",
                      "JSW Steel Ltd"
                    ],
                    [
                      "India",
                      "JSW Steel Ltd"
                    ],
                    [
                      "India",
                      "JSW Jharkhand Steel Ltd"
                    ],
                    [
                      "India",
                      "JSW Ispat Special Products Ltd"
                    ],
                    [
                      "India",
                      "JSW Steel Ltd"
                    ],
                    [
                      "India",
                      "JSW Steel Ltd"
                    ],
                    [
                      "India",
                      "JSW Utkal Steel Ltd"
                    ],
                    [
                      "India",
                      "JSW Vijayanagar Metallics Ltd"
                    ],
                    [
                      "India",
                      "Kalyani Steels Ltd"
                    ],
                    [
                      "India",
                      "KIC Metaliks Ltd"
                    ],
                    [
                      "India",
                      "Lloyds Metals and Energy Ltd"
                    ],
                    [
                      "India",
                      "Lloyds Metals and Energy Ltd"
                    ],
                    [
                      "India",
                      "Mesco Kalinga Steel Ltd"
                    ],
                    [
                      "India",
                      "Mono Steel (India) Ltd"
                    ],
                    [
                      "India",
                      "MSP Steel & Power Ltd"
                    ],
                    [
                      "India",
                      "NR Ispat and Power Pvt Ltd"
                    ],
                    [
                      "India",
                      "Neelachal Ispat Nigam Ltd"
                    ],
                    [
                      "India",
                      "Nilachal Iron & Power Ltd"
                    ],
                    [
                      "India",
                      "NMDC Steel Ltd"
                    ],
                    [
                      "India",
                      "NMDC Steel Ltd"
                    ],
                    [
                      "India",
                      "Orissa Metallurgical Industry Pvt Ltd"
                    ],
                    [
                      "India",
                      "Orissa Metaliks Pvt Ltd"
                    ],
                    [
                      "India",
                      "Orissa Metaliks Pvt Ltd"
                    ],
                    [
                      "India",
                      "Orissa Metaliks Pvt Ltd"
                    ],
                    [
                      "India",
                      "Orissa Sponge Iron and Steel Ltd"
                    ],
                    [
                      "India",
                      "Orissa Steel & Power Pvt Ltd"
                    ],
                    [
                      "India",
                      "Prakash Industries Ltd"
                    ],
                    [
                      "India",
                      "Prakash Sponge Iron and Power Pvt Ltd"
                    ],
                    [
                      "India",
                      "Ramsarup Industries Ltd"
                    ],
                    [
                      "India",
                      "Rashmi Green Hydrogen Steel Pvt Ltd"
                    ],
                    [
                      "India",
                      "Rashmi Metaliks Ltd"
                    ],
                    [
                      "India",
                      "Rashmi Metaliks Ltd"
                    ],
                    [
                      "India",
                      "Rashtriya Ispat Nigam Ltd"
                    ],
                    [
                      "India",
                      "Rungta Mines Ltd"
                    ],
                    [
                      "India",
                      "Rungta Mines Ltd"
                    ],
                    [
                      "India",
                      "Rungta Mines Ltd"
                    ],
                    [
                      "India",
                      "Rungta Mines Ltd"
                    ],
                    [
                      "India",
                      "Rungta Mines Ltd"
                    ],
                    [
                      "India",
                      "Steel Authority of India Ltd"
                    ],
                    [
                      "India",
                      "Steel Authority of India Ltd"
                    ],
                    [
                      "India",
                      "Steel Authority of India Ltd"
                    ],
                    [
                      "India",
                      "Steel Authority of India Ltd"
                    ],
                    [
                      "India",
                      "Steel Authority of India Ltd"
                    ],
                    [
                      "India",
                      "Steel Authority of India Ltd"
                    ],
                    [
                      "India",
                      "Steel Authority of India Ltd"
                    ],
                    [
                      "India",
                      "Shakambhari Ispat & Power Ltd"
                    ],
                    [
                      "India",
                      "Shri Bajrang Power and Ispat Ltd"
                    ],
                    [
                      "India",
                      "Shyam Metalics and Energy Ltd"
                    ],
                    [
                      "India",
                      "Shyam Metalics and Energy Ltd"
                    ],
                    [
                      "India",
                      "Shyam Steel Manufacturing Ltd"
                    ],
                    [
                      "India",
                      "Shyam Steel Industries Ltd"
                    ],
                    [
                      "India",
                      "Sunflag Iron and Steel Co Ltd"
                    ],
                    [
                      "India",
                      "Surjagad Ispat Pvt Ltd"
                    ],
                    [
                      "India",
                      "Swadesh Metallics Pvt Ltd"
                    ],
                    [
                      "India",
                      "Tata Metaliks Ltd"
                    ],
                    [
                      "India",
                      "Tata Steel BSL Ltd"
                    ],
                    [
                      "India",
                      "Tata Steel Ltd"
                    ],
                    [
                      "India",
                      "Tata Steel Ltd"
                    ],
                    [
                      "India",
                      "Tata Steel Long Products Ltd"
                    ],
                    [
                      "India",
                      "Tata Steel Ltd"
                    ],
                    [
                      "India",
                      "Uttam Galva Ferous Ltd"
                    ],
                    [
                      "India",
                      "Vardhman Special Steels Limited"
                    ],
                    [
                      "India",
                      "Vedanta Iron and Steel Ltd"
                    ],
                    [
                      "India",
                      "Welspun Corp Ltd"
                    ],
                    [
                      "India",
                      "Xindia Steels Ltd"
                    ],
                    [
                      "India",
                      "Yazdani Steel and Power Ltd"
                    ],
                    [
                      "Indonesia",
                      "Anshan Iron and Steel Group Co Ltd"
                    ],
                    [
                      "Indonesia",
                      "PT Mandan Steel"
                    ],
                    [
                      "Indonesia",
                      "Dexin Steel Pte Ltd"
                    ],
                    [
                      "Indonesia",
                      "Fuhai Group New Energy Holding Co Ltd"
                    ],
                    [
                      "Indonesia",
                      "PT Gunung Raja Paksi Tbk"
                    ],
                    [
                      "Indonesia",
                      "PT Gunung Raja Paksi Tbk"
                    ],
                    [
                      "Indonesia",
                      "PT Gunung Raja Paksi Tbk"
                    ],
                    [
                      "Indonesia",
                      "Hebei Bishi Industry Group Co Ltd"
                    ],
                    [
                      "Indonesia",
                      "PT Jakarta Prima Steel Industries"
                    ],
                    [
                      "Indonesia",
                      "PT Krakatau Steel (Persero) Tbk"
                    ],
                    [
                      "Indonesia",
                      "PT Krakatau Posco"
                    ],
                    [
                      "Indonesia",
                      "PT The Master Steel MFG"
                    ],
                    [
                      "Indonesia",
                      "LNM Group"
                    ],
                    [
                      "Indonesia",
                      "Shaanxi Iron and Steel Group Co Ltd"
                    ],
                    [
                      "Indonesia",
                      "Wuhan Iron and Steel Co Ltd"
                    ],
                    [
                      "Iran",
                      "Ahya Steel Folad Baft Co"
                    ],
                    [
                      "Iran",
                      "Amir Kabir Arak Steel Co"
                    ],
                    [
                      "Iran",
                      "Ardakan Steel Complex Co"
                    ],
                    [
                      "Iran",
                      "Arfa Iron and Steel Co"
                    ],
                    [
                      "Iran",
                      "Arvand Jahanara Steel Co"
                    ],
                    [
                      "Iran",
                      "Arvand Kaveh Steel Co"
                    ],
                    [
                      "Iran",
                      "Azna Steel"
                    ],
                    [
                      "Iran",
                      "Bafgh Mineral Complex Iron & Steel Co"
                    ],
                    [
                      "Iran",
                      "Bonab Steel Complex"
                    ],
                    [
                      "Iran",
                      "Butia Iranian Steel Co"
                    ],
                    [
                      "Iran",
                      "Chadormalu Mining & Industrial Co"
                    ],
                    [
                      "Iran",
                      "Esfahan Steel Co"
                    ],
                    [
                      "Iran",
                      "Iranian Ghadir Iron & Steel Co"
                    ],
                    [
                      "Iran",
                      "Ghaenat Steel Complex"
                    ],
                    [
                      "Iran",
                      "Gohar Zamin Iron Ore Co"
                    ],
                    [
                      "Iran",
                      "Iran Alloy Steel Co"
                    ],
                    [
                      "Iran",
                      "Iranian Alborz Steel Co"
                    ],
                    [
                      "Iran",
                      "Isatis Sponge Iron Co"
                    ],
                    [
                      "Iran",
                      "Sirjan Jahan Steel Co"
                    ],
                    [
                      "Iran",
                      "Kaavian Steel Co"
                    ],
                    [
                      "Iran",
                      "Khorasan Steel Complex Co"
                    ],
                    [
                      "Iran",
                      "Khouzestan Oxin Steel Co"
                    ],
                    [
                      "Iran",
                      "Khouzestan Steel Co"
                    ],
                    [
                      "Iran",
                      "Kish South Kaveh Steel Co"
                    ],
                    [
                      "Iran",
                      "Kurdistan Steel Co"
                    ],
                    [
                      "Iran",
                      "Makran Steel Co"
                    ],
                    [
                      "Iran",
                      "Mianeh Steel"
                    ],
                    [
                      "Iran",
                      "Mobarakeh Steel Co"
                    ],
                    [
                      "Iran",
                      "Mobarakeh Steel Co"
                    ],
                    [
                      "Iran",
                      "Mobarakeh Steel Co"
                    ],
                    [
                      "Iran",
                      "Mobarakeh Steel Co"
                    ],
                    [
                      "Iran",
                      "Natanz Steel Co"
                    ],
                    [
                      "Iran",
                      "Neyriz Ghadir Steel Co"
                    ],
                    [
                      "Iran",
                      "Pasargad Steel Complex Co"
                    ],
                    [
                      "Iran",
                      "Persian Gulf Saba Steel"
                    ],
                    [
                      "Iran",
                      "Qeshm Steel Development Co"
                    ],
                    [
                      "Iran",
                      "Daric Investment Holding Co"
                    ],
                    [
                      "Iran",
                      "Sabzevar Pars Steel Complex"
                    ],
                    [
                      "Iran",
                      "Daric Investment Holding Co"
                    ],
                    [
                      "Iran",
                      "Sarmad Iron and Steel Complex Abarkouh"
                    ],
                    [
                      "Iran",
                      "Khouzestan Steel Co"
                    ],
                    [
                      "Iran",
                      "Daric Investment Holding Co"
                    ],
                    [
                      "Iran",
                      "Iranian Sirjan Steel Co"
                    ],
                    [
                      "Iran",
                      "Torbat Heydarieh Steel Co"
                    ],
                    [
                      "Iran",
                      "West Alborz Steel Co"
                    ],
                    [
                      "Iran",
                      "Zarand Iranian Steel Co"
                    ],
                    [
                      "Iran",
                      "Daric Investment Holding Co"
                    ],
                    [
                      "Iraq",
                      "Al Anmaa for Construction Materials Production Ltd"
                    ],
                    [
                      "Iraq",
                      "F&F Steel"
                    ],
                    [
                      "Iraq",
                      "Mass Iraq Iron and Steel Industry Co"
                    ],
                    [
                      "Iraq",
                      "State Company for Iron and Steel (Iraq)"
                    ],
                    [
                      "Iraq",
                      "Van Company for Industrial Investment and General Trading"
                    ],
                    [
                      "Italy",
                      "Acciaierie d'italia SpA"
                    ],
                    [
                      "Italy",
                      "Acciaierie Venete SpA"
                    ],
                    [
                      "Italy",
                      "Acciaierie Venete SpA"
                    ],
                    [
                      "Italy",
                      "Acciaierie Venete SpA"
                    ],
                    [
                      "Italy",
                      "AFV Acciaierie Beltrame SpA"
                    ],
                    [
                      "Italy",
                      "Alfa Acciai SpA"
                    ],
                    [
                      "Italy",
                      "Acciaierie di Sicilia SpA"
                    ],
                    [
                      "Italy",
                      "Acciaierie Bertoli Safau SpA"
                    ],
                    [
                      "Italy",
                      "DRI d'Italia SpA"
                    ],
                    [
                      "Italy",
                      "Duferco Travi e Profilati SpA"
                    ],
                    [
                      "Italy",
                      "Acciaierie di Calvisano SpA"
                    ],
                    [
                      "Italy",
                      "Feralpi Siderurgica SpA"
                    ],
                    [
                      "Italy",
                      "Ferriera Valsabbia SpA"
                    ],
                    [
                      "Italy",
                      "Acciai Speciali Terni SpA"
                    ],
                    [
                      "Italy",
                      "Acciaieria Arvedi SpA"
                    ],
                    [
                      "Italy",
                      "Industrie Riunite Odolesi IRO SpA"
                    ],
                    [
                      "Italy",
                      "JSW Steel Italy Piombino SpA"
                    ],
                    [
                      "Italy",
                      "Metinvest Holding LLC"
                    ],
                    [
                      "Italy",
                      "ORI Martin - Acciaieria e Ferriera di Brescia SpA"
                    ],
                    [
                      "Italy",
                      "Acciaierie di Verona SpA"
                    ],
                    [
                      "Italy",
                      "Ferriere Nord SpA"
                    ],
                    [
                      "Italy",
                      "Siderpotenza SpA"
                    ],
                    [
                      "Italy",
                      "Riva Acciaio SpA"
                    ],
                    [
                      "Italy",
                      "Riva Acciaio SpA"
                    ],
                    [
                      "Italy",
                      "Dalmine SpA"
                    ],
                    [
                      "Japan",
                      "Aichi Steel Corp"
                    ],
                    [
                      "Japan",
                      "Chubu Steel Plate Co Ltd"
                    ],
                    [
                      "Japan",
                      "Daido Steel Co Ltd"
                    ],
                    [
                      "Japan",
                      "Godo Steel Ltd"
                    ],
                    [
                      "Japan",
                      "Godo Steel Ltd"
                    ],
                    [
                      "Japan",
                      "Godo Steel Ltd"
                    ],
                    [
                      "Japan",
                      "JFE Bars & Shapes Corp"
                    ],
                    [
                      "Japan",
                      "JFE Bars & Shapes Corp"
                    ],
                    [
                      "Japan",
                      "JFE Bars & Shapes Corp"
                    ],
                    [
                      "Japan",
                      "JFE Steel Corp"
                    ],
                    [
                      "Japan",
                      "JFE Steel Corp"
                    ],
                    [
                      "Japan",
                      "JFE Steel Corp"
                    ],
                    [
                      "Japan",
                      "JFE Steel Corp"
                    ],
                    [
                      "Japan",
                      "JFE Steel Corp"
                    ],
                    [
                      "Japan",
                      "Kishiwada Steel Co Ltd"
                    ],
                    [
                      "Japan",
                      "Kobe Steel Ltd"
                    ],
                    [
                      "Japan",
                      "Kobe Steel Ltd"
                    ],
                    [
                      "Japan",
                      "Kyoei Steel Ltd"
                    ],
                    [
                      "Japan",
                      "Kyoei Steel Ltd"
                    ],
                    [
                      "Japan",
                      "Kyoei Steel Ltd"
                    ],
                    [
                      "Japan",
                      "Nakayama Steel Products Co Ltd"
                    ],
                    [
                      "Japan",
                      "Nakayama Steel Works Ltd"
                    ],
                    [
                      "Japan",
                      "Nippon Steel Corp"
                    ],
                    [
                      "Japan",
                      "Nippon Steel Corp"
                    ],
                    [
                      "Japan",
                      "Nippon Steel Corp"
                    ],
                    [
                      "Japan",
                      "Nippon Steel Corp"
                    ],
                    [
                      "Japan",
                      "Nippon Steel Corp"
                    ],
                    [
                      "Japan",
                      "Nippon Steel Corp"
                    ],
                    [
                      "Japan",
                      "Nippon Steel Corp"
                    ],
                    [
                      "Japan",
                      "Sanyo Special Steel Co Ltd"
                    ],
                    [
                      "Japan",
                      "Nippon Steel Corp"
                    ],
                    [
                      "Japan",
                      "Nippon Steel Corp"
                    ],
                    [
                      "Japan",
                      "Nippon Steel Stainless Steel Corp"
                    ],
                    [
                      "Japan",
                      "Nippon Steel Stainless Steel Corp"
                    ],
                    [
                      "Japan",
                      "Nippon Steel Corp"
                    ],
                    [
                      "Japan",
                      "Osaka Steel Co Ltd"
                    ],
                    [
                      "Japan",
                      "Tokyo Steel Manufacturing Co Ltd"
                    ],
                    [
                      "Japan",
                      "Tokyo Steel Manufacturing Co Ltd"
                    ],
                    [
                      "Japan",
                      "Tokyo Steel Manufacturing Co Ltd"
                    ],
                    [
                      "Japan",
                      "Tokyo Steel Manufacturing Co Ltd"
                    ],
                    [
                      "Japan",
                      "Topy Industries Ltd"
                    ],
                    [
                      "Japan",
                      "Yamato Steel Co Ltd"
                    ],
                    [
                      "Kazakhstan",
                      "Aktobe Generatsiya LLC"
                    ],
                    [
                      "Kazakhstan",
                      "Eurasian Resources Group SARL; China Baowu Steel Group Co Ltd"
                    ],
                    [
                      "Kazakhstan",
                      "Fujian Hengwang Investment Co Ltd"
                    ],
                    [
                      "Kazakhstan",
                      "Kazakhstal LLP"
                    ],
                    [
                      "Kazakhstan",
                      "KSP Steel LLC"
                    ],
                    [
                      "Kazakhstan",
                      "Qazaqstan Steel Group LLP"
                    ],
                    [
                      "Kazakhstan",
                      "QazSpetsSteel LLC"
                    ],
                    [
                      "Kazakhstan",
                      "Sin Yuan Steel LLP"
                    ],
                    [
                      "Kenya",
                      "Devki Steel Mills Ltd"
                    ],
                    [
                      "Kenya",
                      "Sinosteel Corp Ltd"
                    ],
                    [
                      "Kuwait",
                      "United Steel Industries Co KSCC"
                    ],
                    [
                      "Latvia",
                      "KVV Liepājas metalurgs AS"
                    ],
                    [
                      "Libya",
                      "Libyan Iron and Steel Co"
                    ],
                    [
                      "Libya",
                      "Tosyali Sulb Steel Industries Joint Company"
                    ],
                    [
                      "Luxembourg",
                      "ArcelorMittal SA"
                    ],
                    [
                      "Luxembourg",
                      "ArcelorMittal SA"
                    ],
                    [
                      "Malaysia",
                      "Alliance Steel (M) Sdn Bhd"
                    ],
                    [
                      "Malaysia",
                      "Ann Joo Integrated Steel Sdn Bhd"
                    ],
                    [
                      "Malaysia",
                      "Ann Joo Steel Bhd"
                    ],
                    [
                      "Malaysia",
                      "Eastern Steel Sdn Bhd"
                    ],
                    [
                      "Malaysia",
                      "Eden Flame Sdn Bhd"
                    ],
                    [
                      "Malaysia",
                      "Antara Steel Mills Sdn Bhd"
                    ],
                    [
                      "Malaysia",
                      "Esteel Enterprise Sabah Sdn Bhd"
                    ],
                    [
                      "Malaysia",
                      "Hebei Xinwuan Iron and Steel Group Co Ltd"
                    ],
                    [
                      "Malaysia",
                      "Amsteel Mills Sdn Bhd"
                    ],
                    [
                      "Malaysia",
                      "Amsteel Mills Sdn Bhd"
                    ],
                    [
                      "Malaysia",
                      "Megasteel Sdn Bhd"
                    ],
                    [
                      "Malaysia",
                      "Maegma Minerals"
                    ],
                    [
                      "Malaysia",
                      "Perwaja Steel Sdn Bhd"
                    ],
                    [
                      "Malaysia",
                      "Malaysia Steel Works (KL) Bhd"
                    ],
                    [
                      "Malaysia",
                      "Perfect Channel Sdn Bhd"
                    ],
                    [
                      "Malaysia",
                      "Southern Steel Bhd"
                    ],
                    [
                      "Mexico",
                      "Altos Hornos de Mexico SAB de CV"
                    ],
                    [
                      "Mexico",
                      "ArcelorMittal México SA de CV"
                    ],
                    [
                      "Mexico",
                      "DeAcero SAPI de CV"
                    ],
                    [
                      "Mexico",
                      "DeAcero SAPI de CV"
                    ],
                    [
                      "Mexico",
                      "Gerdau Corsa SAPI de CV"
                    ],
                    [
                      "Mexico",
                      "Gerdau Corsa SAPI de CV"
                    ],
                    [
                      "Mexico",
                      "Grupo Acerero SA de CV"
                    ],
                    [
                      "Mexico",
                      "Aceros Especiales Simec Tlaxcala SA de CV"
                    ],
                    [
                      "Mexico",
                      "Aceros Especiales Simec Tlaxcala SA de CV"
                    ],
                    [
                      "Mexico",
                      "Tubos de Acero de Mexico SA"
                    ],
                    [
                      "Mexico",
                      "Ternium México SA de CV"
                    ],
                    [
                      "Mexico",
                      "Ternium México SA de CV"
                    ],
                    [
                      "Mexico",
                      "Ternium México SA de CV"
                    ],
                    [
                      "Mexico",
                      "Ternium México SA de CV"
                    ],
                    [
                      "Mexico",
                      "Talleres y Aceros SA de CV"
                    ],
                    [
                      "Moldova",
                      "Moldova Steel Works JSC"
                    ],
                    [
                      "Morocco",
                      "ArcelorMittal SA"
                    ],
                    [
                      "Morocco",
                      "Maghreb Steel SA"
                    ],
                    [
                      "Morocco",
                      "Riva Industries"
                    ],
                    [
                      "Morocco",
                      "Univers Acier"
                    ],
                    [
                      "Mozambique",
                      "Baobab Steel Ltd"
                    ],
                    [
                      "Myanmar",
                      "Kunming Iron & Steel Holding Co Ltd"
                    ],
                    [
                      "Myanmar",
                      "Myanmar Economic Corp"
                    ],
                    [
                      "Myanmar",
                      "Myanmar Economic Corp"
                    ],
                    [
                      "Namibia",
                      "Abba Steel Ltd"
                    ],
                    [
                      "Namibia",
                      "Hyron Africa"
                    ],
                    [
                      "Netherlands",
                      "Tata Steel Ijmuiden BV"
                    ],
                    [
                      "Netherlands",
                      "Van Merksteijn International BV"
                    ],
                    [
                      "New Zealand",
                      "New Zealand Steel Ltd"
                    ],
                    [
                      "Nigeria",
                      "African Natural Resources & Mines Ltd"
                    ],
                    [
                      "Nigeria",
                      "Ajaokuta Steel Co Ltd"
                    ],
                    [
                      "Nigeria",
                      "Kam Industries (Nigeria) Ltd"
                    ],
                    [
                      "Nigeria",
                      "Chart and Capstone Integrated Ltd"
                    ],
                    [
                      "Nigeria",
                      "Premium Steel and Mines Ltd"
                    ],
                    [
                      "Nigeria",
                      "Vulcan Green Steel LLC"
                    ],
                    [
                      "North Korea",
                      "Government of North Korea"
                    ],
                    [
                      "North Korea",
                      "Government of North Korea"
                    ],
                    [
                      "North Korea",
                      "Government of North Korea"
                    ],
                    [
                      "North Korea",
                      "Government of North Korea"
                    ],
                    [
                      "North Korea",
                      "Tanshan Iron and Steel"
                    ],
                    [
                      "North Macedonia",
                      "Makstil AD"
                    ],
                    [
                      "Norway",
                      "Sev.en Global Investments AS"
                    ],
                    [
                      "Oman",
                      "Jindal Shadeed Iron & Steel LLC"
                    ],
                    [
                      "Oman",
                      "Jindal Shadeed Iron & Steel LLC"
                    ],
                    [
                      "Oman",
                      "Mitsui-Kobe Steel JV"
                    ],
                    [
                      "Oman",
                      "Moon Iron and Steel Company SAOC"
                    ],
                    [
                      "Oman",
                      "Sohar Steel LLC"
                    ],
                    [
                      "Oman",
                      "Sun Metal Casting LLC"
                    ],
                    [
                      "Pakistan",
                      "Agha Steel Industries Ltd"
                    ],
                    [
                      "Pakistan",
                      "Amreli Steels Ltd"
                    ],
                    [
                      "Pakistan",
                      "Century Steel Pte Ltd"
                    ],
                    [
                      "Pakistan",
                      "Faizan Steel"
                    ],
                    [
                      "Pakistan",
                      "Ittehad Steels Pvt Ltd"
                    ],
                    [
                      "Pakistan",
                      "Mughal Iron & Steel Industries Ltd"
                    ],
                    [
                      "Pakistan",
                      "National Steel Complex Ltd"
                    ],
                    [
                      "Pakistan",
                      "Pakistan Steel Mills Corp Pvt Ltd"
                    ],
                    [
                      "Peru",
                      "Corporacion Aceros Arequipa SA"
                    ],
                    [
                      "Peru",
                      "Empresa Siderurgica del Peru SAA"
                    ],
                    [
                      "Philippines",
                      "SteelAsia Manufacturing Corp"
                    ],
                    [
                      "Philippines",
                      "SteelAsia Manufacturing Corp"
                    ],
                    [
                      "Philippines",
                      "Mount Zynai 0304 Mining Corp"
                    ],
                    [
                      "Philippines",
                      "Panhua Group Co Ltd"
                    ],
                    [
                      "Philippines",
                      "Panhua Group Co Ltd"
                    ],
                    [
                      "Philippines",
                      "SteelAsia Manufacturing Corp"
                    ],
                    [
                      "Philippines",
                      "SteelAsia Manufacturing Corp"
                    ],
                    [
                      "Philippines",
                      "SteelAsia Manufacturing Corp"
                    ],
                    [
                      "Philippines",
                      "SteelAsia Manufacturing Corp"
                    ],
                    [
                      "Philippines",
                      "SteelAsia Manufacturing Corp"
                    ],
                    [
                      "Poland",
                      "ArcelorMittal Poland SA"
                    ],
                    [
                      "Poland",
                      "ArcelorMittal Poland SA"
                    ],
                    [
                      "Poland",
                      "Arcelormittal Warszawa SP zoo"
                    ],
                    [
                      "Poland",
                      "Celsa Huta Ostrowiec SP zoo"
                    ],
                    [
                      "Poland",
                      "CMC Poland SP zoo"
                    ],
                    [
                      "Poland",
                      "Ferrostal Labedy SP zoo"
                    ],
                    [
                      "Poland",
                      "Liberty Steel Group"
                    ],
                    [
                      "Poland",
                      "Weglokoks Stal SP zoo"
                    ],
                    [
                      "Portugal",
                      "SN MAIA Siderurgia Nacional SA"
                    ],
                    [
                      "Portugal",
                      "SN SEIXAL Siderurgia Nacional SA"
                    ],
                    [
                      "Qatar",
                      "Qatar Steel Company QPSC"
                    ],
                    [
                      "Romania",
                      "ArcelorMittal Hunedoara SA"
                    ],
                    [
                      "Romania",
                      "Donalam SRL"
                    ],
                    [
                      "Romania",
                      "Liberty Galati SA"
                    ],
                    [
                      "Romania",
                      "GLGH Steel"
                    ],
                    [
                      "Romania",
                      "Laminorul Danube Metallurgical Enterprise SRL"
                    ],
                    [
                      "Romania",
                      "S.C. Silcotub SA"
                    ],
                    [
                      "Romania",
                      "Ussuri Capital"
                    ],
                    [
                      "Russia",
                      "Abinski Elektrometallurgicheski Zavod LLC"
                    ],
                    [
                      "Russia",
                      "Amurstal LLC"
                    ],
                    [
                      "Russia",
                      "Ashinskiy Metzavod PJSC"
                    ],
                    [
                      "Russia",
                      "MZ Balakovo JSC"
                    ],
                    [
                      "Russia",
                      "Donelektrostal LLC"
                    ],
                    [
                      "Russia",
                      "Ecolant LLC"
                    ],
                    [
                      "Russia",
                      "Evraz NTMK JSC"
                    ],
                    [
                      "Russia",
                      "Evraz ZSMK JSC"
                    ],
                    [
                      "Russia",
                      "Promsort LLC"
                    ],
                    [
                      "Russia",
                      "KMK Tempo JSC"
                    ],
                    [
                      "Russia",
                      "Lebedinskiy GOK JSC"
                    ],
                    [
                      "Russia",
                      "Magnitogorskiy Metallurgicheskiy Kombinat PJSC"
                    ],
                    [
                      "Russia",
                      "Chelyabinskiy Metallurgicheskiy Kombinat PJSC"
                    ],
                    [
                      "Russia",
                      "Mikhailovsky HBI LLC"
                    ],
                    [
                      "Russia",
                      "Oskol'skiy Elektrometallurgicheskiy Kombinat Imeni Alekseya Alekseyevicha Ugarova JSC"
                    ],
                    [
                      "Russia",
                      "UMK-Stal LLC"
                    ],
                    [
                      "Russia",
                      "Novolipetsk Steel PJSC"
                    ],
                    [
                      "Russia",
                      "Stoylenskiy Gorno-Obogatitel'nyi Kombinat JSC"
                    ],
                    [
                      "Russia",
                      "Novorossiysk Rolling Plant LLC"
                    ],
                    [
                      "Russia",
                      "Vyksunskiy Metallurgicheskiy Zavod AO"
                    ],
                    [
                      "Russia",
                      "Chelyabinskiy Truboprokatnyi Zavod JSC"
                    ],
                    [
                      "Russia",
                      "Promsort LLC"
                    ],
                    [
                      "Russia",
                      "Promsort LLC"
                    ],
                    [
                      "Russia",
                      "Severstal PJSC"
                    ],
                    [
                      "Russia",
                      "StavStal' LLC"
                    ],
                    [
                      "Russia",
                      "Severskiy Trubnyi Zavod JSC"
                    ],
                    [
                      "Russia",
                      "Taganrogskiy Metallurgicheskiy Zavod JSC"
                    ],
                    [
                      "Russia",
                      "UMK-Stal LLC"
                    ],
                    [
                      "Russia",
                      "Uralskaya Stal JSC"
                    ],
                    [
                      "Russia",
                      "Krasnyi Oktyabr' Corporation JSC"
                    ],
                    [
                      "Russia",
                      "Volzhskiy Trubnyi Zavod JSC"
                    ],
                    [
                      "Saudi Arabia",
                      "Al Atoun Steel Industries"
                    ],
                    [
                      "Saudi Arabia",
                      "Arab Steel Co"
                    ],
                    [
                      "Saudi Arabia",
                      "National Steel Co"
                    ],
                    [
                      "Saudi Arabia",
                      "Al Qaryan Steel Co"
                    ],
                    [
                      "Saudi Arabia",
                      "Saudi Arabian Oil Co"
                    ],
                    [
                      "Saudi Arabia",
                      "Dar Al Arkan Real Estate Development Company SJSC"
                    ],
                    [
                      "Saudi Arabia",
                      "BAP Al-Khair Steel Company"
                    ],
                    [
                      "Saudi Arabia",
                      "Essar Global Fund Ltd"
                    ],
                    [
                      "Saudi Arabia",
                      "Gulf Tubing Co"
                    ],
                    [
                      "Saudi Arabia",
                      "Rajhi Steel Industries Co Ltd"
                    ],
                    [
                      "Saudi Arabia",
                      "Saudi Iron and Steel Co"
                    ],
                    [
                      "Saudi Arabia",
                      "Solb Steel Co"
                    ],
                    [
                      "Saudi Arabia",
                      "Tosyalı Holding AŞ"
                    ],
                    [
                      "Serbia",
                      "HBIS Group Serbia Iron & Steel Beograd doo"
                    ],
                    [
                      "Serbia",
                      "Metalfer Steel Mill Sremska Mitrovica doo"
                    ],
                    [
                      "Singapore",
                      "Tata Steel Ltd"
                    ],
                    [
                      "Slovakia",
                      "Max Aicher GmbH & Co KG"
                    ],
                    [
                      "Slovakia",
                      "US Steel Košice sro"
                    ],
                    [
                      "Slovenia",
                      "SIJ Acroni doo"
                    ],
                    [
                      "South Africa",
                      "Columbus Stainless (Pty) Ltd"
                    ],
                    [
                      "South Africa",
                      "ArcelorMittal South Africa Ltd"
                    ],
                    [
                      "South Africa",
                      "ArcelorMittal South Africa Ltd"
                    ],
                    [
                      "South Africa",
                      "ArcelorMittal South Africa Ltd"
                    ],
                    [
                      "South Africa",
                      "Scaw Metals Group Pty Ltd"
                    ],
                    [
                      "South Korea",
                      "Daehan Steel Co Ltd"
                    ],
                    [
                      "South Korea",
                      "Dongkuk Steel Mill Co Ltd"
                    ],
                    [
                      "South Korea",
                      "Dongkuk Steel Mill Co Ltd"
                    ],
                    [
                      "South Korea",
                      "Hwanyoung Steel Industries Co Ltd"
                    ],
                    [
                      "South Korea",
                      "Hyundai Steel Co"
                    ],
                    [
                      "South Korea",
                      "Hyundai Steel Co"
                    ],
                    [
                      "South Korea",
                      "Hyundai Steel Co"
                    ],
                    [
                      "South Korea",
                      "KG Steel Co Ltd"
                    ],
                    [
                      "South Korea",
                      "KG Steel Co Ltd"
                    ],
                    [
                      "South Korea",
                      "KISCO Corp"
                    ],
                    [
                      "South Korea",
                      "POSCO Holdings Inc"
                    ],
                    [
                      "South Korea",
                      "POSCO Holdings Inc"
                    ],
                    [
                      "South Korea",
                      "SeAH Besteel Holdings Corp"
                    ],
                    [
                      "South Korea",
                      "SeAH Changwon Integrated Special Steel Corp"
                    ],
                    [
                      "South Korea",
                      "SeAh Steel Holdings Corp"
                    ],
                    [
                      "South Korea",
                      "unknown"
                    ],
                    [
                      "South Korea",
                      "YK Steel Corp"
                    ],
                    [
                      "South Korea",
                      "YK Steel Corp"
                    ],
                    [
                      "Spain",
                      "Acerinox Europa SAU"
                    ],
                    [
                      "Spain",
                      "ArcelorMittal España SA"
                    ],
                    [
                      "Spain",
                      "ArcelorMittal España SA"
                    ],
                    [
                      "Spain",
                      "Arcelormittal Olaberria-Bergara SL"
                    ],
                    [
                      "Spain",
                      "Arcelormittal Sestao SL"
                    ],
                    [
                      "Spain",
                      "Compania Espanola de Laminacion SL"
                    ],
                    [
                      "Spain",
                      "Global Steel Wire SA"
                    ],
                    [
                      "Spain",
                      "Nervacero SA"
                    ],
                    [
                      "Spain",
                      "Cristian Lay SL"
                    ],
                    [
                      "Spain",
                      "Corrugados Getafe SL"
                    ],
                    [
                      "Spain",
                      "AG Siderurgica Balboa SA"
                    ],
                    [
                      "Spain",
                      "Hydnum Steel SL"
                    ],
                    [
                      "Spain",
                      "Megasa Siderurgica SL"
                    ],
                    [
                      "Spain",
                      "Megasider Zaragoza SA"
                    ],
                    [
                      "Spain",
                      "Siderurgica Sevillana SA"
                    ],
                    [
                      "Spain",
                      "Sidenor Aceros Especiales SLU"
                    ],
                    [
                      "Spain",
                      "Stegra AB"
                    ],
                    [
                      "Sri Lanka",
                      "Ceylon Steel Co Ltd"
                    ],
                    [
                      "Sweden",
                      "Hybrit Development AB"
                    ],
                    [
                      "Sweden",
                      "Outokumpu Stainless AB"
                    ],
                    [
                      "Sweden",
                      "Ovako AB"
                    ],
                    [
                      "Sweden",
                      "SSAB AB"
                    ],
                    [
                      "Sweden",
                      "SSAB AB"
                    ],
                    [
                      "Sweden",
                      "Stegra AB"
                    ],
                    [
                      "Switzerland",
                      "Stahl Gerlafingen AG"
                    ],
                    [
                      "Switzerland",
                      "Swiss Steel Holding AG"
                    ],
                    [
                      "Syria",
                      "Hadeed Metal Manufacturing Co"
                    ],
                    [
                      "Syria",
                      "Hmisho Steel SA"
                    ],
                    [
                      "Taiwan",
                      "China Steel Corp"
                    ],
                    [
                      "Taiwan",
                      "Dragon Steel Corp"
                    ],
                    [
                      "Taiwan",
                      "E-Top Metal Co Ltd"
                    ],
                    [
                      "Taiwan",
                      "Feng Hsin Steel Co Ltd"
                    ],
                    [
                      "Taiwan",
                      "Hai Kwang Enterprise Corp"
                    ],
                    [
                      "Taiwan",
                      "Shyeh Sheng Fuat Steel & Iron Works Co Ltd"
                    ],
                    [
                      "Taiwan",
                      "Tung Ho Steel Enterprise Corp"
                    ],
                    [
                      "Taiwan",
                      "Tung Ho Steel Enterprise Corp"
                    ],
                    [
                      "Taiwan",
                      "Tung Ho Steel Enterprise Corp"
                    ],
                    [
                      "Taiwan",
                      "Yieh United Steel Corp"
                    ],
                    [
                      "Thailand",
                      "Bangkok Steel Industry PCL"
                    ],
                    [
                      "Thailand",
                      "Chow Steel Industries PCL"
                    ],
                    [
                      "Thailand",
                      "Meranti Steel Pte Ltd"
                    ],
                    [
                      "Thailand",
                      "Millcon Steel PCL"
                    ],
                    [
                      "Thailand",
                      "G Steel PCL"
                    ],
                    [
                      "Thailand",
                      "G J Steel PCL"
                    ],
                    [
                      "Thailand",
                      "Siam Yamato Steel Co Ltd"
                    ],
                    [
                      "Thailand",
                      "Siam Yamato Steel Co Ltd"
                    ],
                    [
                      "Thailand",
                      "Tata Steel (Thailand) PCL"
                    ],
                    [
                      "Thailand",
                      "Tata Steel (Thailand) PCL"
                    ],
                    [
                      "Thailand",
                      "TY Steel Co Ltd"
                    ],
                    [
                      "Thailand",
                      "UMC Metals Ltd"
                    ],
                    [
                      "Trinidad and Tobago",
                      "Nu-Iron Unlimited"
                    ],
                    [
                      "Trinidad and Tobago",
                      "TT Iron Steel Company Ltd"
                    ],
                    [
                      "Türkiye",
                      "ABA Çelik Demir LŞ"
                    ],
                    [
                      "Türkiye",
                      "Asil Celik Sanayi ve Ticaret AŞ"
                    ],
                    [
                      "Türkiye",
                      "Çebitaş Demir Çelik Endüstrisi AŞ"
                    ],
                    [
                      "Türkiye",
                      "Çolakoğlu Metalürji AŞ"
                    ],
                    [
                      "Türkiye",
                      "Diler Demir Celik Endustri ve Ticaret AŞ"
                    ],
                    [
                      "Türkiye",
                      "Ege Celik Endustrisi Sanayi ve Ticaret AŞ"
                    ],
                    [
                      "Türkiye",
                      "Ekinciler Demir ve Celik Sanayi AŞ"
                    ],
                    [
                      "Türkiye",
                      "Eregli Demir ve Celik Fabrikalari AŞ"
                    ],
                    [
                      "Türkiye",
                      "Habas Industrial and Medical Gases Production Industries AŞ"
                    ],
                    [
                      "Türkiye",
                      "Içdaş Çelik Enerji Tersane Ve Ulaşim Sanayi AŞ"
                    ],
                    [
                      "Türkiye",
                      "Izmir Demir Celik Sanayi AŞ"
                    ],
                    [
                      "Türkiye",
                      "Iskenderun Demir ve Celik AŞ"
                    ],
                    [
                      "Türkiye",
                      "Kaptan Demir Celik Endustrisi Ve Ticaret AŞ"
                    ],
                    [
                      "Türkiye",
                      "Kardemir Karabuk Demir Çelik Sanayi Ve Ticaret AŞ"
                    ],
                    [
                      "Türkiye",
                      "Kardemir Karabuk Demir Çelik Sanayi Ve Ticaret AŞ"
                    ],
                    [
                      "Türkiye",
                      "Koc Metalurji AŞ"
                    ],
                    [
                      "Türkiye",
                      "Kocaer Çelik Sanayi ve Ticaret AŞ"
                    ],
                    [
                      "Türkiye",
                      "Kroman Celik Sanayii AS"
                    ],
                    [
                      "Türkiye",
                      "Mescier Demir Celik AŞ"
                    ],
                    [
                      "Türkiye",
                      "MMK Metalurji Sanayi Ticaret ve Liman Isletmeciligi AŞ"
                    ],
                    [
                      "Türkiye",
                      "Ozkan Demir Celik Sanayi AŞ"
                    ],
                    [
                      "Türkiye",
                      "Sıddık Kardeşler Haddecilik Sanayi Ticaret LŞ"
                    ],
                    [
                      "Türkiye",
                      "Toscelik Profil ve Sac Endustrisi AS"
                    ],
                    [
                      "Türkiye",
                      "Toscelik Profil ve Sac Endustrisi AS"
                    ],
                    [
                      "Türkiye",
                      "Tosyalı Holding AŞ"
                    ],
                    [
                      "Türkiye",
                      "Yazici Demir Celik Sanayi ve Turizm Ticaret AŞ"
                    ],
                    [
                      "Türkiye",
                      "Yesilyurt Demir Celik Endustri Ve Liman Isletmeleri AŞ"
                    ],
                    [
                      "Türkiye",
                      "Yildizlar Yatirim Holding AŞ"
                    ],
                    [
                      "Uganda",
                      "Tembo Steels Uganda Ltd"
                    ],
                    [
                      "Ukraine",
                      "Alchevsk Metallurgical Plant PJSC"
                    ],
                    [
                      "Ukraine",
                      "ArcelorMittal Kryvyi Rih PJSC"
                    ],
                    [
                      "Ukraine",
                      "MK Azovstal' PrAT"
                    ],
                    [
                      "Ukraine",
                      "Dnipro Metallurgical Plant PJSC"
                    ],
                    [
                      "Ukraine",
                      "Tekhnologicheskiye Investitsii LLC"
                    ],
                    [
                      "Ukraine",
                      "Interpipe Ltd"
                    ],
                    [
                      "Ukraine",
                      "Kamet-Steel PrJSC"
                    ],
                    [
                      "Ukraine",
                      "Metinvest Holding LLC"
                    ],
                    [
                      "Ukraine",
                      "Mariupolskyi Metalurgiinyi Kombinat Imeni Illicha PRAT"
                    ],
                    [
                      "Ukraine",
                      "Zaporiz'kyi Metalurhiinyi Kombinat Zaporizhstal' PJSC"
                    ],
                    [
                      "Ukraine",
                      "Yenakiieve Metallurgical Plant Branch PJSC"
                    ],
                    [
                      "Ukraine",
                      "SUE DPR UMP"
                    ],
                    [
                      "United Arab Emirates",
                      "Arabian Gulf Steel Industries Selling Port LLC"
                    ],
                    [
                      "United Arab Emirates",
                      "Abu Dhabi National for Building Materials Co PJSC"
                    ],
                    [
                      "United Arab Emirates",
                      "Emsteel Building Materials PJSC"
                    ],
                    [
                      "United Kingdom",
                      "British Steel Ltd"
                    ],
                    [
                      "United Kingdom",
                      "British Steel Ltd"
                    ],
                    [
                      "United Kingdom",
                      "Liberty Steel Group"
                    ],
                    [
                      "United Kingdom",
                      "Liberty Steel Group"
                    ],
                    [
                      "United Kingdom",
                      "Marcegaglia Stainless Sheffield Ltd"
                    ],
                    [
                      "United Kingdom",
                      "Sev.en Global Investments AS"
                    ],
                    [
                      "United Kingdom",
                      "Tata Steel UK Ltd"
                    ],
                    [
                      "United States",
                      "Alton Steel Inc"
                    ],
                    [
                      "United States",
                      "AM/NS Calvert LLC"
                    ],
                    [
                      "United States",
                      "ArcelorMittal SA"
                    ],
                    [
                      "United States",
                      "North Star BlueScope Steel Ltd"
                    ],
                    [
                      "United States",
                      "BlueScope Steel Ltd"
                    ],
                    [
                      "United States",
                      "Cascade Steel Rolling Mills Inc"
                    ],
                    [
                      "United States",
                      "Charter Manufacturing Co Inc"
                    ],
                    [
                      "United States",
                      "Charter Manufacturing Co Inc"
                    ],
                    [
                      "United States",
                      "Cleveland-Cliffs Inc"
                    ],
                    [
                      "United States",
                      "Cleveland-Cliffs Inc"
                    ],
                    [
                      "United States",
                      "Cleveland-Cliffs Inc"
                    ],
                    [
                      "United States",
                      "Cleveland-Cliffs Inc"
                    ],
                    [
                      "United States",
                      "Cleveland-Cliffs Inc"
                    ],
                    [
                      "United States",
                      "Cleveland-Cliffs Inc"
                    ],
                    [
                      "United States",
                      "Cleveland-Cliffs Inc"
                    ],
                    [
                      "United States",
                      "Cleveland-Cliffs Inc"
                    ],
                    [
                      "United States",
                      "Cleveland-Cliffs Inc"
                    ],
                    [
                      "United States",
                      "Cleveland-Cliffs Inc"
                    ],
                    [
                      "United States",
                      "Cleveland-Cliffs Inc"
                    ],
                    [
                      "United States",
                      "Commercial Metals Co"
                    ],
                    [
                      "United States",
                      "Commercial Metals Co"
                    ],
                    [
                      "United States",
                      "Commercial Metals Co"
                    ],
                    [
                      "United States",
                      "Commercial Metals Co"
                    ],
                    [
                      "United States",
                      "Commercial Metals Co"
                    ],
                    [
                      "United States",
                      "Commercial Metals Co"
                    ],
                    [
                      "United States",
                      "Commercial Metals Co"
                    ],
                    [
                      "United States",
                      "Electrasteel Inc"
                    ],
                    [
                      "United States",
                      "Evraz North America PLC"
                    ],
                    [
                      "United States",
                      "A. Finkl & Sons Corp"
                    ],
                    [
                      "United States",
                      "Gerdau Ameristeel Corp"
                    ],
                    [
                      "United States",
                      "Gerdau Ameristeel Corp"
                    ],
                    [
                      "United States",
                      "Gerdau Ameristeel Corp"
                    ],
                    [
                      "United States",
                      "Gerdau Ameristeel Corp"
                    ],
                    [
                      "United States",
                      "Gerdau Ameristeel Corp"
                    ],
                    [
                      "United States",
                      "Gerdau Ameristeel Corp"
                    ],
                    [
                      "United States",
                      "Gerdau Ameristeel Corp"
                    ],
                    [
                      "United States",
                      "Hybar LLC"
                    ],
                    [
                      "United States",
                      "Hyundai Steel Co"
                    ],
                    [
                      "United States",
                      "JSW Steel USA Ohio Inc"
                    ],
                    [
                      "United States",
                      "Sterling Steel Co LLC"
                    ],
                    [
                      "United States",
                      "Liberty Steel Group"
                    ],
                    [
                      "United States",
                      "Liberty Steel Group"
                    ],
                    [
                      "United States",
                      "Mesabi Mining LLC"
                    ],
                    [
                      "United States",
                      "Metallus Inc"
                    ],
                    [
                      "United States",
                      "Metallus Inc"
                    ],
                    [
                      "United States",
                      "NLMK Indiana LLC"
                    ],
                    [
                      "United States",
                      "North American Stainless Inc"
                    ],
                    [
                      "United States",
                      "Nucor Corp"
                    ],
                    [
                      "United States",
                      "Nucor Corp"
                    ],
                    [
                      "United States",
                      "Nucor Corp"
                    ],
                    [
                      "United States",
                      "Nucor Corp"
                    ],
                    [
                      "United States",
                      "Nucor Corp"
                    ],
                    [
                      "United States",
                      "Nucor Steel Decatur LLC"
                    ],
                    [
                      "United States",
                      "Nucor Corp"
                    ],
                    [
                      "United States",
                      "Nucor Corp"
                    ],
                    [
                      "United States",
                      "Nucor Corp"
                    ],
                    [
                      "United States",
                      "Nucor Corp"
                    ],
                    [
                      "United States",
                      "Nucor Steel Kankakee Inc"
                    ],
                    [
                      "United States",
                      "Nucor Steel Kingman LLC"
                    ],
                    [
                      "United States",
                      "Nucor Steel Louisiana LLC"
                    ],
                    [
                      "United States",
                      "Nucor Steel Memphis Inc"
                    ],
                    [
                      "United States",
                      "Nucor Corp"
                    ],
                    [
                      "United States",
                      "Nucor Corp"
                    ],
                    [
                      "United States",
                      "Nucor Corp"
                    ],
                    [
                      "United States",
                      "Nucor Steel Seattle Inc"
                    ],
                    [
                      "United States",
                      "Nucor Steel Tuscaloosa Inc"
                    ],
                    [
                      "United States",
                      "Nucor Corp"
                    ],
                    [
                      "United States",
                      "Nucor Yamato Steel Co"
                    ],
                    [
                      "United States",
                      "Optimus Steel LLC"
                    ],
                    [
                      "United States",
                      "Outokumpu Stainless USA LLC"
                    ],
                    [
                      "United States",
                      "Republic Steel Corp"
                    ],
                    [
                      "United States",
                      "Republic Steel Corp"
                    ],
                    [
                      "United States",
                      "SSAB Americas Holding AB"
                    ],
                    [
                      "United States",
                      "SSAB Americas Holding AB"
                    ],
                    [
                      "United States",
                      "Steel Dynamics Inc"
                    ],
                    [
                      "United States",
                      "Steel Dynamics Inc"
                    ],
                    [
                      "United States",
                      "Steel Dynamics Inc"
                    ],
                    [
                      "United States",
                      "Steel Dynamics Inc"
                    ],
                    [
                      "United States",
                      "Steel Dynamics Inc"
                    ],
                    [
                      "United States",
                      "Steel Dynamics Inc"
                    ],
                    [
                      "United States",
                      "Big River Steel LLC"
                    ],
                    [
                      "United States",
                      "United States Steel Corp"
                    ],
                    [
                      "United States",
                      "United States Steel Corp"
                    ],
                    [
                      "United States",
                      "United States Steel Corp"
                    ],
                    [
                      "United States",
                      "United States Steel Corp"
                    ],
                    [
                      "United States",
                      "United States Steel Corp"
                    ],
                    [
                      "United States",
                      "Vallourec Star LP"
                    ],
                    [
                      "Uzbekistan",
                      "Triangul Metals Tebinbulak JSC"
                    ],
                    [
                      "Uzbekistan",
                      "Triangul Metals Tebinbulak JSC"
                    ],
                    [
                      "Uzbekistan",
                      "Uzbekskiy Metallurgicheskiy Kombinat JSC"
                    ],
                    [
                      "Venezuela",
                      "Matesi"
                    ],
                    [
                      "Venezuela",
                      "Corporacion Venezolana de Guayana"
                    ],
                    [
                      "Venezuela",
                      "Briquetera del Orinoco CA"
                    ],
                    [
                      "Venezuela",
                      "Complejo Siderurgico de Guayana CA"
                    ],
                    [
                      "Venezuela",
                      "CVG Ferrominera Orinoco CA"
                    ],
                    [
                      "Venezuela",
                      "Siderurgica del Orinoco Alfredo Maneiro CA"
                    ],
                    [
                      "Vietnam",
                      "Asean Steel JSC"
                    ],
                    [
                      "Vietnam",
                      "unknown"
                    ],
                    [
                      "Vietnam",
                      "DST Nghi Son Iron and Steel JSC"
                    ],
                    [
                      "Vietnam",
                      "Formosa Ha Tinh Steel Corp"
                    ],
                    [
                      "Vietnam",
                      "Hoa Phat Dung Quat Steel JSC"
                    ],
                    [
                      "Vietnam",
                      "Hoa Phat Hai Duong Steel JSC"
                    ],
                    [
                      "Vietnam",
                      "Hoa Sen Group"
                    ],
                    [
                      "Vietnam",
                      "Lao Cai Cast Iron and Steel"
                    ],
                    [
                      "Vietnam",
                      "Long Son Phu My Iron & Steel Co"
                    ],
                    [
                      "Vietnam",
                      "Pomina Steel JSC"
                    ],
                    [
                      "Vietnam",
                      "Pomina Steel JSC"
                    ],
                    [
                      "Vietnam",
                      "Posco Vietnam Co Ltd"
                    ],
                    [
                      "Vietnam",
                      "Shengli Vietnam Special Steel Co Ltd"
                    ],
                    [
                      "Vietnam",
                      "Thai Nguyen Iron And Steel JSC"
                    ],
                    [
                      "Vietnam",
                      "Tung Ho Steel Vietnam Corp Ltd"
                    ],
                    [
                      "Vietnam",
                      "Tuyen Quang Iron Steel Co Ltd"
                    ],
                    [
                      "Vietnam",
                      "VAS Steel An Hung Tuong LLC"
                    ],
                    [
                      "Vietnam",
                      "Nghi Son VAS Group JSC"
                    ],
                    [
                      "Vietnam",
                      "VAS Steel Tue Minh JSC"
                    ],
                    [
                      "Vietnam",
                      "Viet Nhat Advanced Steel JSC"
                    ],
                    [
                      "Vietnam",
                      "Vietnam - Italy Steel JSC"
                    ],
                    [
                      "Vietnam",
                      "Vina Kyoei Steel Ltd Co"
                    ],
                    [
                      "Vietnam",
                      "Vina One Steel Manufacturing Corp"
                    ],
                    [
                      "Vietnam",
                      "Vina Roma Quang Tri Steel JSC"
                    ],
                    [
                      "Vietnam",
                      "VNSTEEL Southern Steel Co Ltd"
                    ],
                    [
                      "Vietnam",
                      "Xuan Thien Group JSC"
                    ],
                    [
                      "Vietnam",
                      "Xuan Thien Group JSC"
                    ],
                    [
                      "Zimbabwe",
                      "Berhard Development Corporation (Private) Ltd"
                    ],
                    [
                      "Zimbabwe",
                      "Dinson Iron & Steel Company Pvt Ltd"
                    ]
                  ],
                  "hovertemplate": "<b>%{hovertext}</b><br><br>Latitude=%{lat}<br>Longitude=%{lon}<br>Country/Area=%{customdata[0]}<br>Owner=%{customdata[1]}<extra></extra>",
                  "hovertext": [
                    "Kurum International Elbasan steel plant",
                    "Algerian Qatari Steel Jijel plant",
                    "ETRHB Annaba steel plant",
                    "Ozmert Algeria steel plant",
                    "Sider El Hadjar Annaba steel plant",
                    "Tosyali Algerie Oran steel plant",
                    "Aceria Angola Bengo steel plant",
                    "Companhia Siderurgica do Cuchi pig iron plant",
                    "Tosyali Sonangol Kassinga Iron and Steel Plant",
                    "ArcelorMittal Acindar Villa Constitución steel plant",
                    "Gerdau Sipar Pérez steel plant",
                    "TenarisSiderca Campana steel plant",
                    "Ternium Siderar San Nicolás steel plant",
                    "BlueScope Port Kembla steel plant",
                    "Fortescue Christmas Creek Green Metal Project",
                    "GFG Liberty Laverton Steel Mill",
                    "GFG Liberty Steel Australia Whyalla steel plant",
                    "GFG Liberty Sydney Steel Mill",
                    "Green Steel of WA Collie Steel plant",
                    "Green Steel of WA Geraldton Steel plant",
                    "GreenSteel Australia New South Wales Steel Plant",
                    "POSCO Port Hedland Iron Project",
                    "Voestalpine Stahl Donawitz steel plant",
                    "Voestalpine Stahl Linz steel plant",
                    "Azerbaijan Integrated Steel Mill Complex",
                    "Baku Steel Company steel plant",
                    "Sulb Bahrain Al Hidd steel plant",
                    "Abul Khair Steel Sitakunda plant",
                    "Bashundhara Steel Mirsarai plant",
                    "BSRM Ltd Mirsarai plant",
                    "BSRM Steels Mirsarai plant",
                    "GPH Steel Sitakunda plant",
                    "KSRM Sitakunda steel plant",
                    "Megnha Re-rolling and Steel Mills steel plant",
                    "Star Consortium steel plant",
                    "Unitex Steel Mills Feni steel plant",
                    "Byelorussian Steel Works",
                    "Aperam Stainless Belgium Châtelet steel plant",
                    "Aperam Stainless Belgium Genk steel plant",
                    "ArcelorMittal Gent steel plant",
                    "Thy Marcinelle Charleroi steel plant",
                    "ESM Mutún steel plant",
                    "Pavgord Zenica steel plant",
                    "Aperam Timóteo steel plant",
                    "ArcelorMittal Barra Mansa steel plant",
                    "ArcelorMittal Juiz de Fora steel plant",
                    "ArcelorMittal Monlevade steel plant",
                    "ArcelorMittal Pecém steel plant",
                    "ArcelorMittal Piracicaba steel plant",
                    "ArcelorMittal Resende steel plant",
                    "ArcelorMittal Tubarão steel plant",
                    "AVB Açailândia steel plant",
                    "CSN Volta Redonda steel plant",
                    "Gerdau Açominas Ouro Branco steel plant",
                    "Gerdau Cosigua Santa Cruz steel plant",
                    "Gerdau Divinópolis steel plant",
                    "Gerdau Guaíra Araucária steel plant",
                    "Gerdau Pindamonhangaba steel plant",
                    "Gerdau São Paulo Araçariguama steel plant",
                    "Simec Cariacica steel plant",
                    "Simec Pindamonhangaba steel plant",
                    "Sinobras Marabá steel plant",
                    "Ternium Brasil Santa Cruz steel plant",
                    "Usiminas Cubatão steel plant",
                    "Usiminas Ipatinga steel plant",
                    "Vale Tecnored Marabá iron plant",
                    "Vallourec Jeceaba steel plant",
                    "Viena Açailândia iron works",
                    "Stomana Industry Pernik steel plant",
                    "Cambodia Iron and Steel Preah Vihear Plant",
                    "China Baowu Phnom Penh steel plant",
                    "Algoma steel plant",
                    "ArcelorMittal Dofasco steel plant",
                    "ArcelorMittal Montreal steel plant",
                    "Cleveland-Cliffs Lake Erie steel plant",
                    "Evraz Regina Steel plant",
                    "Gerdau Whitby Steel Mill",
                    "Ivaco Rolling Mills steel plant",
                    "Rio Tinto Fer et Titane steel plant",
                    "AZA Colina steel plant",
                    "CAP Acero Huachipato steel plant",
                    "Angang Group Xinyang Iron and Steel Co Ltd",
                    "Angang Lianzhong Stainless Steel Co Ltd",
                    "Angang Steel Co Ltd",
                    "Angang Steel Co Ltd Bayuquan branch",
                    "Anhui Changjiang Steel Co Ltd",
                    "Anhui Guihang Special Steel Co Ltd",
                    "Anhui Jin an Stainless Steel Casting Co Ltd",
                    "Anhui Jingxian Longxin Iron and Steel Co Ltd",
                    "Anhui Langxi Hongtai Iron and Steel Co Ltd",
                    "Anhui Lixin Special Steel Co Ltd",
                    "Anhui Shoukuang Dachang Metal Material Co Ltd",
                    "Anshan Baode Iron and Steel Co Ltd",
                    "Ansteel Group Chaoyang Steel and Iron Co Ltd",
                    "Anyang Huixin Special Steel Co Ltd",
                    "Anyang Iron and Steel Co Ltd",
                    "Anyang Xinpu Steel Co Ltd",
                    "Baicheng Fuda Bar Rolling Co Ltd",
                    "Baoshan Iron and Steel Co Ltd Headquarters",
                    "Baosteel Desheng Stainless Steel Co Ltd",
                    "Baosteel Group Xinjiang Bayi Iron and Steel Co Ltd",
                    "Baosteel Special Steel Co Ltd",
                    "Baosteel Zhanjiang Iron and Steel Co Ltd",
                    "Baotou Baoxin Special Steel Co Ltd",
                    "Baotou Da'an Iron and Steel Co Ltd Kundulun District",
                    "Baotou Daan Iron and Steel Co Ltd Hondlon District",
                    "Baotou Deshun Special Steel Co Ltd",
                    "Baowu Group Echeng Iron and Steel Co Ltd",
                    "Bengang Steel Plates Co Ltd",
                    "Benxi Beiying Iron and Steel Group Co Ltd Beitai Town",
                    "Cangzhou China Railway Equipment Manufacture Material Co Ltd",
                    "Cangzhou Lingang Sanling Metal Co Ltd",
                    "Changshu Longteng Special Steel Co Ltd",
                    "Changzhi Xingbao Steel Co Ltd",
                    "Changzhou Eastern Special Steel Co Ltd",
                    "Chengde Iron and Steel Group Co Ltd",
                    "Chengde Jianlong Special Steel Co Ltd",
                    "Chengde Shengfeng Iron and Steel Co Ltd",
                    "Chengde Zhaofeng Steel Group Co Ltd",
                    "Chengdu Changfeng Iron and Steel Group Co Ltd",
                    "Chengyu Vanadium and Titanium Technology Co Ltd",
                    "Chifeng Yuanlian Steel Co Ltd",
                    "Chifeng Zhongtang Special Steel Co Ltd",
                    "Chizhou Guichi Guihang Metal Products Co Ltd",
                    "Chongli Steel Manufacturing Co Ltd",
                    "Chongqing Iron and Steel Co Ltd",
                    "Chongqing Yonghang Steel Group Co Ltd",
                    "Chongqing Zuhang Iron and Steel Co Ltd",
                    "Danyang Longjiang Steel Co Ltd",
                    "Daye Huaxin Industrial Co Ltd",
                    "Daye Special Steel Co Ltd",
                    "Daye Xinye Special Steel Co Ltd",
                    "Delong Steel Co Ltd",
                    "Dongbei Special Steel Group Dalian Special Steel Co Ltd",
                    "Ezhou Hongtai Steel Co Ltd",
                    "Fangchenggang Jinxi Steel Technology Co Ltd",
                    "Fangda Special Steel Technology Co Ltd",
                    "Fujian Dadonghai Industrial Group Co Ltd plant",
                    "Fujian Dingsheng Iron and Steel Co Ltd",
                    "Fujian Dingxin Industrial Co Ltd",
                    "Fujian Fuhua New Materials Group Co Ltd",
                    "Fujian Fuxin Special Steel Co Ltd",
                    "Fujian Longgang New Materials Co Ltd",
                    "Fujian Luoyuan Minguang Iron and Steel Co Ltd",
                    "Fujian Qingtuo New Material Co Ltd",
                    "Fujian Quanzhou Minguang Iron and Steel Co Ltd",
                    "Fujian Sanbao Steel Co Ltd",
                    "Fujian Tsingtuo Nickel Industry Co Ltd",
                    "Fujian Wuhang Stainless Steel Products Co Ltd",
                    "Fujian Yixin Steel Co Ltd",
                    "Fushun Hanking Direct Reduced Iron Co Ltd",
                    "Fushun New Steel Co Ltd",
                    "Fushun Special Steel Co Ltd",
                    "Fuzhou Wuhang Steel Products Co Ltd",
                    "Gansu Jiu Steel Group Hongxing Iron and Steel Co Ltd",
                    "Guangdong Guangqing Metal Technology Co Ltd",
                    "Guangdong Jingye Iron and Steel Co Ltd",
                    "Guangdong Jinshenglan Metallurgical Technology Co Ltd",
                    "Guangdong Nanfang Donghai Iron and Steel Co Ltd",
                    "GuangDong Xinxing Ductile Iron Pipes Co Ltd",
                    "Guangdong Yuebei United Steel Co Ltd",
                    "Guangshui Huaxin Metallurgical Industry Co Ltd",
                    "Guangxi Beigang New Material Co Ltd",
                    "Guangxi Chiji Iron and Steel Co Ltd",
                    "Guangxi Deyuan Metallurgy Co Ltd Heng County",
                    "Guangxi Deyuan Metallurgy Co Ltd Liujing Industrial Park",
                    "Guangxi Guifeng Special Steel Co Ltd",
                    "Guangxi Guigang Iron and Steel Group Co Ltd",
                    "Guangxi Guigang Iron and Steel Group Guigang Guibao Special Steel Co Ltd",
                    "Guangxi Guixin Iron and Steel Group Co Ltd",
                    "Guangxi Guixin Steel Manufacturing Co Ltd",
                    "Guangxi Hezhou Kexinda Metal Products Co Ltd",
                    "Guangxi Iron and Steel Group Co Ltd",
                    "Guangxi Liugang Zhongjin Stainless Steel Co Ltd",
                    "Guangxi Longzhou Zhongheng Wanhua Industrial Co Ltd",
                    "Guangxi Shenglong Metallurgical Co Ltd",
                    "Guangxi Wuzhou Jinhai Stainless Steel Co Ltd",
                    "Guilin Pinggang Iron and Steel Co Ltd",
                    "Guizhou Ganglian Industrial Group Co Ltd",
                    "Guizhou Hexing Steel Co Ltd",
                    "Guizhou Juxin Iron and Steel Group Co Ltd",
                    "Guizhou United Iron and Steel Group Co Ltd",
                    "Handan Iron and Steel Group Co Ltd",
                    "Hangang Longshan Iron and Steel Co Ltd",
                    "Hangda Steel Co Ltd",
                    "Hbis Laoting Steel Co Ltd",
                    "Hebei Anfeng Iron and Steel Co Ltd",
                    "Hebei Baoxin Iron and Steel Group Co Ltd",
                    "Hebei Bishi Inner Mongolia iron and steel plant",
                    "Hebei Donghai Special Steel Co Ltd",
                    "Hebei Huaxi Iron and Steel Co Ltd",
                    "Hebei Huaxi Special Steel Co Ltd",
                    "Hebei Huaxin Special Steel Co Ltd",
                    "Hebei Jinxi Iron and Steel Group Co Ltd",
                    "Hebei Longfengshan Casting Co Ltd",
                    "Hebei Mingbin Iron and Steel Co Ltd",
                    "Hebei Puyang Iron and Steel Co Ltd",
                    "Hebei Rongxin Steel Co Ltd",
                    "Hebei Taihang Iron and Steel Group Co Ltd",
                    "Hebei Tangyin Iron and Steel Co Ltd",
                    "Hebei Tangyin Iron and Steel Co Ltd Caofeidian base",
                    "Hebei Tianzhu Iron and Steel Group Co Ltd",
                    "Hebei Tianzhu Iron and Steel Group Co Ltd Fengrun Plant",
                    "Hebei Wenfeng Iron and Steel Co Ltd",
                    "Hebei Xin Wuan Steel Group Hongrong Iron and Steel Co Ltd",
                    "Hebei Xin Wuan Steel Group Wenan Iron and Steel Co Ltd",
                    "Hebei Xinda Iron and Steel Group Co Ltd",
                    "Hebei Xinghua Iron and Steel Co Ltd",
                    "Hebei Xinjin Iron and Steel Co Ltd",
                    "Hebei Xinwuan Iron and Steel Group Xinhui Metallurgy Co Ltd",
                    "Hebei Xinxing Ductile Iron Pipes Co Ltd",
                    "Hebei Yanshan Iron and Steel Group Co Ltd",
                    "Hebei Yongyang Special Steel Group Co Ltd",
                    "Hebei Zhangxuan High Tech Co Ltd",
                    "Hebei Zongheng Group Fengnan Iron and Steel Co Ltd",
                    "Heilongjiang Jianlong Iron and Steel Co Ltd",
                    "Henan Angang Zhoukou Iron and Steel Co Ltd",
                    "Henan Changtai Stainless Steel Plate Co Ltd",
                    "Henan Fengbao Special Steel Co Ltd",
                    "Henan Jinhui Industrial Group",
                    "Henan Jiyuan Iron and Steel Group Co Ltd",
                    "Henan Yaxin Iron and Steel Group Co Ltd",
                    "Hengyang Valin Steel Tube Co Ltd",
                    "Heping Yueshen Steel Industry Co Ltd",
                    "Heyuan Derun Steel Co Ltd Dongjiang Jinzhu Industrial Park",
                    "Heyuan Derun Steel Co Ltd LanTang Industrial Park",
                    "Hezhou Xindu Sanyuan Casting Co Ltd",
                    "Houying Group Haicheng Iron and Steel Co Ltd Datun Branch",
                    "Huainan Hongtai Iron and Steel Co Ltd",
                    "Huangshi Xingang Heavy Industry Technology Co Ltd",
                    "Hubei Dazhan Iron and Steel Co Ltd",
                    "Hubei Jinshenglan Metallurgical Technology Co Ltd",
                    "Hubei Lijin Steel Group Co Ltd",
                    "Hubei Shunle Steel Co Ltd plant",
                    "Hubei Wucheng Iron and Steel Group Co Ltd",
                    "Hunan Valin Lianyuan Iron and Steel Co Ltd",
                    "Hunan Valin Xiangtan Iron and Steel Co Ltd",
                    "Inner Mongolia Baotou Jiyu Iron and Steel Co Ltd Hondlon District",
                    "Inner Mongolia BaoTou Steel Union Co Ltd",
                    "Inner Mongolia Desheng Metal Products Co Ltd",
                    "Inner Mongolia Mingtuo Ferrite New Material Co Ltd",
                    "Inner Mongolia Wanzhou Special Steel Co Ltd",
                    "Inner Mongolia Yaxin Longshun Special Steel Co Ltd",
                    "Jianglong Acheng Iron and Steel Co Ltd",
                    "Jiangsu Binxin Steel Group Co Ltd",
                    "Jiangsu Changqiang Iron and Steel Co Ltd",
                    "Jiangsu Delong Nickel Industry Co Ltd",
                    "Jiangsu Hongtai Iron and Steel Co Ltd",
                    "Jiangsu Longyuan Steel Co",
                    "Jiangsu Shagang Group Huaigang Special Steel Co Ltd",
                    "Jiangsu Shente Steel Co Ltd",
                    "Jiangsu Suxin Special Steel Group Co Ltd",
                    "Jiangsu Xingda Steel Group",
                    "Jiangsu Xugang Iron and Steel Group Co Ltd",
                    "Jiangxi Taixin Iron and Steel Co Ltd",
                    "Jiangxi Yuanxing Iron and Steel Co Ltd",
                    "Jiangyin Huaxi Iron and Steel Co Ltd",
                    "Jiangyin Xicheng Steel Co Ltd",
                    "Jiangyin Xingcheng Special Steel Works Co Ltd",
                    "Jianlong Beiman Special Steel Co Ltd",
                    "Jianlong Xilin Iron and Steel Co Ltd",
                    "Jilin Jianlong Steel Co Ltd",
                    "Jilin Jingang Iron and Steel Co Ltd",
                    "Jilin Steel Group Fugang Metal Manufacturing Co Ltd",
                    "Jilin Steel Group Taihua Metal Equipment Manufacture Co Ltd",
                    "Jilin Xinda Iron and Steel Co Ltd",
                    "Jinan Iron and Steel Group Co Ltd",
                    "Jincheng Fusheng Iron and Steel Co Ltd",
                    "Jinding Heavy Industry Co Ltd",
                    "Jingye Iron and Steel Co Ltd",
                    "Jingzhou Qunli Metal Products Co Ltd",
                    "Jinye Iron and Steel Group Co Ltd",
                    "Jinzhou Jinxing Special Steel Company",
                    "Jishan Mingfu Steel Products Co Ltd",
                    "Jiugang Group Yuzhong Iron and Steel Co Ltd",
                    "Jiujiang Pinggang Iron and Steel Co Ltd",
                    "Laiwu Iron and Steel Group Yinshan Section Steel Co Ltd",
                    "Langfang Guangyuan Metalwork Co Ltd",
                    "Lanxin Steel Group Co Ltd plant",
                    "Lengshuijiang Steel Co Ltd",
                    "Lianfeng Steel Zhangjiagang Co Ltd",
                    "Lianyungang Huale Alloy Group Co Ltd",
                    "Lianyungang Xingxin Iron and Steel Co Ltd",
                    "Lianyungang Yaxin Iron and Steel Co Ltd",
                    "Liaoyang United Steel Co Ltd",
                    "Liaoyang Xinyi Special Steel Co Ltd",
                    "Licheng Taihang Iron and Steel Co Ltd",
                    "Lingyuan Iron and Steel Co Ltd",
                    "Linyi Iron and Steel Investment Group Co Ltd",
                    "Linyi Jiangxin Iron and Steel Co Ltd",
                    "Lishui Huahong Iron and Steel Products Co Ltd",
                    "Liuzhou Iron and Steel Co Ltd Liuzhou Base",
                    "Liyang Baorun Steel Co Ltd",
                    "Longnan Fuxin Iron and Steel Co Ltd",
                    "Luoyang Luogang Group of Steel and Iron Co Ltd",
                    "Luzhou Xinyang Vanadium Titanium Steel Co Ltd",
                    "Lvliang Jianlong Industrial Co Ltd",
                    "Maanshan Iron and Steel Co Ltd",
                    "Mintal Group DRI plant",
                    "Minyuan Iron and Steel Group Co Ltd",
                    "Nanjing Iron and Steel Co Ltd",
                    "Nanyang Hanye Special Steel Co Ltd",
                    "Ningbo Haoyang New Materials Techonology Co Ltd",
                    "Ningbo Iron and Steel Co Ltd",
                    "Ningxia Boyu Hongxing Special Steel Group Co",
                    "Ningxia Iron and Steel Group Co Ltd",
                    "Ningxia Jianlong Special Steel Co Ltd",
                    "Ningxia Xinghua Iron and Steel Co Ltd",
                    "Pangang Group Jiangyou Changcheng Special Steel Co Ltd",
                    "Pangang Group Panzhihua Steel Vanadium Co Ltd",
                    "Pangang Group Xichang Steel and Vanadium Co Ltd",
                    "Panshi Jianlong Iron and Steel Co Ltd",
                    "Pingxiang Pinggang Anyuan Iron and Steel Co Ltd",
                    "Posco Zhangjiagang Stainless Steel Co Ltd",
                    "Qian an Jiujiang Wire Co Ltd",
                    "Qian an Zhayi Steel Group Co Ltd",
                    "Qingdao Special Iron and Steel Co Ltd",
                    "Qinhuangdao Baigong Steel Co Ltd",
                    "Qinhuangdao Hongxing Iron and Steel Co Ltd",
                    "Quzhou Yuanli Metal Products Co Ltd",
                    "Rizhao Steel Holding Group Co Ltd",
                    "Rizhao Steel Yingkou Medium Plate Co Ltd",
                    "Sansteel Minguang Co Ltd Fujian plant",
                    "SGIS Songshan Co Ltd",
                    "Shaanxi Hanzhong Iron & Steel Group Company",
                    "Shaanxi Huaxin Special Steel Group Co Ltd",
                    "Shaanxi Longmen Steel Co Ltd",
                    "Shaanxi Lueyang Iron and Steel Co Ltd",
                    "Shaanxi Steel Group Hanzhong Iron and Steel Co Ltd",
                    "Shagang Group Anyang Yongxing Special Steel Co Ltd",
                    "Shandong Chuanyang Group Co Ltd",
                    "Shandong Fulun Iron and Steel Co Ltd",
                    "Shandong Guangfu Group Co Ltd",
                    "Shandong Iron and Steel Co Ltd Laiwu Branch Aishan Street",
                    "Shandong Iron and Steel Co Ltd Laiwu Branch Xinxing Road",
                    "Shandong Iron and Steel Group Rizhao Co Ltd",
                    "Shandong Iron and Steel Group Yongfeng Lingang Co Ltd",
                    "Shandong Iron and Steel Group Yongfeng Zibo Co Ltd",
                    "Shandong Laigang Yongfeng Steel Co Ltd",
                    "Shandong Longsheng Iron and Steel Co Ltd",
                    "Shandong Luli Steel Co Ltd",
                    "Shandong Minyuan Iron and Steel Co Ltd",
                    "Shandong Shouguang Juneng Special Steel Co Ltd",
                    "Shandong Taishan Steel Group Co Ltd",
                    "Shandong Xinhua Special Steel Group Co Ltd",
                    "Shanghai Meishan Iron and Steel Co Ltd",
                    "Shanxi Changxin Industrial Co Ltd",
                    "Shanxi Dongfang Hengliu Precision Casting Co",
                    "Shanxi Gaoyi Steel Co Ltd",
                    "Shanxi Hongda Iron and Steel Group Co Ltd",
                    "Shanxi Huaqiang Iron and Steel Co Ltd",
                    "Shanxi Huaxinyuan Steel and Iron Group Co Ltd",
                    "Shanxi Jianlong Industrial Co Ltd",
                    "Shanxi Jinnan Iron and Steel Group Co Ltd",
                    "Shanxi Liheng Steel Co Ltd",
                    "Shanxi Meijin Iron and Steel Co Ltd Dongyu Town",
                    "Shanxi Meijin Iron and Steel Co Ltd Yuanping City",
                    "Shanxi Taigang Stainless Steel Co Ltd",
                    "Shanxi Tongcai Industry and Trade Co Ltd",
                    "Shanxi Tongde Xinghua Special Steel Co Ltd",
                    "Shanxi Xintai Iron and Steel Co Ltd",
                    "Shanxi Zhongsheng Iron and Steel Co Ltd",
                    "Shanxi Zhongyang Iron and Steel Co Ltd",
                    "Shiheng Special Steel Group Co Ltd",
                    "Shijiazhuang Iron and Steel Co Ltd",
                    "Shijiazhuang Iron and Steel Co Ltd Special Steel Branch",
                    "Shiyan Fuyan Iron and Steel Co Ltd",
                    "Shiyan Yunyang District Rongfeng Iron and Steel Co Ltd",
                    "Shougang Changzhi Iron and Steel Co Ltd",
                    "Shougang Guiyang Special Steel Co Ltd",
                    "Shougang Jingtang United Iron and Steel Co Ltd",
                    "Shougang Qian an Iron and Steel Co Ltd",
                    "Shougang Shuicheng Iron and Steel Group Co Ltd",
                    "Sichuan Dazhou Iron and Steel Group Co Ltd",
                    "Sichuan Desheng Group Vanadium and Titanium Co Ltd",
                    "Sichuan Gangchen Stainless Steel Co Ltd",
                    "Sichuan Shehong Chuanzhong Construction Materials Co Ltd",
                    "Sichuan Shengquan Iron and Steel Group Co Ltd",
                    "Sichuan Yaan Anshan Iron and Steel Co Ltd",
                    "Tangshan Chunxing Special Steel Co Ltd",
                    "Tangshan Delong Iron and Steel Co Ltd",
                    "Tangshan Donghai Iron and Steel Group Co Ltd",
                    "Tangshan Donghua Iron and Steel Enterprise Group Co Ltd",
                    "Tangshan Fengnan District Jing an Iron and Steel Co Ltd",
                    "Tangshan Ganglu Iron and Steel Co Ltd",
                    "Tangshan Guotang Steel Co Ltd",
                    "Tangshan Guoyi Special Type Iron and Steel Co Ltd",
                    "Tangshan Iron and Steel Group Co Ltd",
                    "Tangshan Jianlong Special Steel Co Ltd",
                    "Tangshan Jinma Steel Group Co Ltd",
                    "Tangshan Medium Thick Plate Co Ltd",
                    "Tangshan Ruifeng Iron and Steel Group Co Ltd",
                    "Tangshan Songting Iron and Steel Co Ltd",
                    "Tangshan Stainless Steel Co Ltd",
                    "Tangshan Stainless Steel Co Ltd Guye District",
                    "Tangshan Wenfeng Special Steel Co Ltd",
                    "Tangshan Xinbaotai Iron and Steel Co Ltd",
                    "Tangshan Xinglong Iron and Steel Co Ltd",
                    "Tangshan Yutian Jinzhou Industrial Co Ltd",
                    "Tangshan Zhengfeng Steel Co Ltd",
                    "Tianjin Iron and Steel Group Co Ltd",
                    "Tianjin Iron Plant",
                    "Tianjin Metallurgy Group Zhasan Steel Co Ltd",
                    "Tianjin New Tiangang United Special Steel Co Ltd",
                    "Tianjin Pipe Corporation",
                    "Tianjin Rockcheck Steel Group Co Ltd",
                    "Tianjin Rongcheng Group Tangshan Fengrun Special Steel Co Ltd",
                    "Tianjin Rongcheng Group Tangshan Special Steel Co Ltd",
                    "Tianjin Tianfeng Steel Co Ltd",
                    "Tianjin Tianzhong Giant Heavy Industry Co Ltd",
                    "Tonghua Iron and Steel Co Ltd",
                    "Tongling Fuxin Iron and Steel Co Ltd",
                    "Tongling Xuanli Special Steel Co Ltd",
                    "Tongshan Liguo Iron and Steel Co Ltd",
                    "Weifang Special Steel Group Co Ltd",
                    "WISCO Group Kunming Steel Co Ltd Anning Branch",
                    "WISCO Group Kunming Steel Co Ltd Honghe Iron and Steel Company",
                    "WISCO Group Kunming Steel Co Ltd New District Branch",
                    "WISCO Group Kunming Steel Co Ltd Yuxi Xinxing Steel Company",
                    "WISCO Group Xiangyang Heavy Equipment Materials Co Ltd",
                    "Wu an Mingfang Iron and Steel Co Ltd",
                    "Wu an Yuhua Iron and Steel Co Ltd",
                    "Wu'an Yongcheng Zhuye Co Ltd",
                    "Wugang Zhongjia Iron and Steel Co Ltd",
                    "Wuhai Baogang Wanteng Iron and Steel Co Ltd",
                    "Wuhan Iron and Steel Co Ltd",
                    "Wuhan Shunle Stainless Steel Co Ltd",
                    "Wuhu Fuxin Iron and Steel Co Ltd",
                    "Wuhu Xinxing Ductile Iron Pipes Co Ltd",
                    "Wulanhot Steel Co Ltd",
                    "Wuxi Xinsanzhou Steel Co Ltd",
                    "Wuyang Iron and Steel Co Ltd",
                    "Wuzhou Yongda Iron and Steel Co Ltd",
                    "Wuzhou Yongda Special Steel Co Ltd",
                    "Xiangfen County Xingyuan Steel Group Co Ltd",
                    "Xiangfen County Xinjinshan Special Steel Co Ltd",
                    "Xingtai Iron and Steel Co Ltd",
                    "Xingtai Iron and Steel Co Ltd Weixian",
                    "Xining Special Steel Co Ltd",
                    "Xinji Aosen Iron and Steel Group Co Ltd",
                    "Xinjiang Daan Special Steel Co Ltd",
                    "Xinjiang Ka Steel Group Co",
                    "Xinjiang Kingtec Steel Co Ltd",
                    "Xinjiang Kunyu Iron and Steel Co Ltd",
                    "Xinjiang Minxin Iron and Steel Group Minhang Special Steel Co Ltd",
                    "Xinjiang Tianshan Iron and Steel Bazhou Co Ltd",
                    "Xinjiang Xinan Special Steel Co Ltd",
                    "Xinjiang Yili Iron and Steel Co Ltd",
                    "Xinyu Iron and Steel Group Co Ltd",
                    "Xiwang Metal Science Technology Co Ltd",
                    "Xuanhua Iron and Steel Group Co Ltd",
                    "Xuzhou Baofeng Special Steel Co Ltd",
                    "Xuzhou Jinhong Iron and Steel Group Co Ltd",
                    "Xuzhou Taifa Special Steel Group Co Ltd",
                    "Yancheng Lianxin Iron and Steel Co Ltd",
                    "Yangchun New Steel Co Ltd",
                    "Yangzhou Hengrun Ocean Heavy Industry Co Ltd",
                    "Yangzhou Qinyou Special Metal Materials Co Ltd",
                    "Yantai Walsin Stainless Steel Co Ltd",
                    "Yichang Fulong Iron and Steel Co Ltd",
                    "Yingkou Iron and Steel Co Ltd",
                    "Yunnan Desheng Iron and Steel Co Ltd",
                    "Yunnan Jingye Steel Co Ltd",
                    "Yunnan Qujing Iron and Steel Group Chenggang Iron and Steel Co Ltd",
                    "Yunnan Qujing Iron and Steel Group Fenghuang Steel Co Ltd",
                    "Yunnan Qujing Iron and Steel Group Yanggang Iron and Steel Co Ltd",
                    "Yunnan Tiangao Nickel Alloy Co Ltd",
                    "Yunnan Yuxi Iron and Steel Group Yukun Iron and Steel Co Ltd",
                    "Yunnan Yuxi Xianfu Iron and Steel Group Co Ltd",
                    "Zenith Steel Group Co Ltd",
                    "Zenith Steel Group Nantong Co Ltd",
                    "Zhangjiagang Hongchang Steel Co Ltd",
                    "Zhangjiagang Rongsheng Special Steel Co Ltd",
                    "Zhejiang Tsingshan Iron and Steel Co Ltd",
                    "Zhejiang Wantai Special Steel Co Ltd",
                    "Zhejiang Yuxin Industrial Co Ltd",
                    "Zhengzhou Yongtong Special Steel Co Ltd",
                    "Zhenshi Group Eastern Special Steel Co Ltd",
                    "Zhongpu Handan Iron and Steel Co Ltd",
                    "Zhongxin Iron and Steel Group Co Ltd",
                    "Zhongye Dongfang Jiangsu Heavy Industry Co Ltd",
                    "Zhuhai Yueyufeng Iron and Steel Co Ltd",
                    "Zibo Qilin Fushan Iron and Steel Co Ltd",
                    "Zunyi Changling Special Steel Co Ltd",
                    "Zunyi Fuxin Special Steel Equipment Manufacturing Co Ltd",
                    "GFG Liberty Ostrava steel plant",
                    "TZMS Třinecké železárny Trinec steel plant",
                    "Al Gioshy Steel Ain Sokhna plant",
                    "Al-Ezz Dekheila Steel Alexandria plant",
                    "Delta Steel Mill Al Qalyubia plant",
                    "Egyptian American Steel Rolling Company Sadat City plant",
                    "Egyptian Iron & Steel Company Cairo plant",
                    "Egyptian Sponge Iron and Steel Company Sadat City plant",
                    "Egyptian Steel Ain Sokhna plant",
                    "Egyptian Steel Beni Suef plant",
                    "Ezz Flat Steel Ain Sokhna plant",
                    "Ezz Steel Rebar Sadat City plant",
                    "Hebei Xinfeng Suez Canal Economic Zone",
                    "SMS Group DRI Plant",
                    "Suez Canal Economic Zone steel complex",
                    "Suez Steel Solb Misr Attaka plant",
                    "Ekos Steel Dukem plant",
                    "Blastr Inkoo steel plant",
                    "GravitHy Kristinestad iron plant",
                    "Outokumpu Tornio steel plant",
                    "Ovako Imatra steel plant",
                    "SSAB Raahe steel plant",
                    "ArcelorMittal Dunkerque steel plant",
                    "ArcelorMittal Florange steel plant",
                    "ArcelorMittal Méditerranée Fos sur Mer steel plant",
                    "Ascometal Hagondange steel plant",
                    "Celsa France Boucau steel plant",
                    "GravitHy Fos sur Mer iron plant",
                    "Liberty Steel Dunkerque DRI plant",
                    "LME Trith-Saint-Léger steel plant",
                    "Marcegaglia Fos Sur Mer steel plant",
                    "Riva Alpa Gargenville steel plant",
                    "Riva Iton Seine Bonnieres Sur Seine steel plant",
                    "Riva Sam Montereau steel plant",
                    "Riva Sam Neuves-Maisons steel plant",
                    "Saarstahl Ascoval Saint-Saulve steel plant",
                    "AG der Dillinger Hüttenwerke Dillingen steel plant",
                    "ArcelorMittal Bremen steel plant",
                    "ArcelorMittal Duisburg steel plant",
                    "ArcelorMittal Eisenhüttenstadt steel plant",
                    "ArcelorMittal Hamburg steel plant",
                    "Benteler Steel Tube Lingen plant",
                    "CSN Stahlwerk Thüringen Unterwellenborn steel plant",
                    "Deutsche Edelstahlwerke steel plant",
                    "ESF Elbe Stahlwerke Feralpi Riesa plant",
                    "Georgsmarienhütte Osnabrück steel plant",
                    "Hüttenwerke Krupp Mannesmann (HKM) steel plant",
                    "Kehler Baden Steel Works",
                    "Lech Stahlwerke Meitingen steel plant",
                    "Riva Brandenburg Electric Steel Works",
                    "Riva Hennigsdorfer Electric Steel Works",
                    "Saarstahl Völklingen Steelmaking Plant",
                    "Salzgitter Flachstahl steel plant",
                    "Salzgitter Peiner Träger Peine steel plant",
                    "ThyssenKrupp Steel Duisburg steel plant",
                    "Sentuo Steel Tema plant",
                    "Halyvourgiki Eleusis steel plant",
                    "Hellenic Halyvourgia Velestino steel plant",
                    "Sidenor Steel Industry Thessaloniki plant",
                    "Sovel Almyros steel plant",
                    "AG Sidegua Masagua steel plant",
                    "Shiu Wing Tuen Mun Steel plant",
                    "Liberty Steel Dunaferr Dunaújváros steel plant",
                    "Action Ispat and Power Jharsuguda steel plant",
                    "Adhunik Metaliks Kuanrmunda steel plant",
                    "ArcelorMittal Bellary steel plant",
                    "ArcelorMittal Nippon Steel Anakapalle steel plant",
                    "ArcelorMittal Nippon Steel Gadchiroli steel plant",
                    "ArcelorMittal Nippon Steel Hazira Plant",
                    "ArcelorMittal Nippon Steel Kendrapara plant",
                    "ArcelorMittal Nippon Steel Paradip Steel Plant",
                    "Arjas Steel Tadipatri plant",
                    "Atibir Industries Bhorandiha steel plant",
                    "Baldota Koppal steel plant",
                    "BMM Ispat Danapur steel plant",
                    "Captain Steel Garbeta steel plant",
                    "Crest Steel and Power Mangatta Steel Plant",
                    "Electrosteel Bokaro steel plant",
                    "Electrosteel Castings Srikalahasthi Steel Plant",
                    "Evonith Metallics Wardha Steel Plant",
                    "Evonith Value Steel Wardha Steel Plant",
                    "Gallantt Ispat Gorakhpur steel plant",
                    "Godawari Power and Ispat Sarora Steel Plant",
                    "Godawari Power and Ispat Siltara steel plant",
                    "Hospet Steels Hospet plant",
                    "Jai Balaji Durgapur Unit IV steel plant",
                    "Jai Balaji Jyoti Steels Sundargarh plant",
                    "Jai Balaji Rajbandh Unit III steel plant",
                    "Jai Balaji Steels Raghunnathpur plant",
                    "Jayaswal Neco Industries Raipur steel plant",
                    "Jindal Stainless Hisar steel plant",
                    "Jindal Stainless Jajpur steel plant",
                    "JSOL Angul steel plant",
                    "JSPL Angul steel plant",
                    "JSPL Asanboni Steel Plant",
                    "JSPL Krishnapatnam steel plant",
                    "JSPL Patratu steel plant",
                    "JSPL Raigarh steel plant",
                    "JSW Bengal Steel Salboni plant",
                    "JSW BPSL Jharkhand steel plant",
                    "JSW BPSL Jharsuguda steel plant",
                    "JSW Green Steel Salav plant",
                    "JSW JFE Electrical Bellary Steel plant",
                    "JSW Kadapa steel plant",
                    "JSW POSCO Keonjhar steel plant",
                    "JSW Steel Dolvi steel plant",
                    "JSW Steel Gadchiroli steel plant",
                    "JSW Steel Jharkhand steel plant",
                    "JSW Steel Raigarh steel plant",
                    "JSW Steel Salem steel plant",
                    "JSW Steel Vijayanagar steel plant",
                    "JSW Utkal Steel Rajnagar plant",
                    "JSW Vijayanagar Metallics steel plant",
                    "Kalyani Steels Dhenkanal steel plant",
                    "KIC Metaliks Durgapur steel plant",
                    "Lloyds Metals and Energy Ltd Ghugus Steel Plant",
                    "Lloyds Metals and Energy Ltd Konsari Steel Plant",
                    "Mesco Steel Kalinganagar plant",
                    "Mono Steel Gandhidham plant",
                    "MSP Steel & Power Raigarh plant",
                    "N R Ispat and Power Raigarh steel plant",
                    "Neelachal Ispat Nigam steel plant",
                    "Nilachal Iron & Power Gamharia Steel Plant",
                    "NMDC Karnataka steel plant",
                    "NMDC Nagarnar steel plant",
                    "OMPL Jharsuguda Steel Plant",
                    "Orissa Alloy Steel Kharagpur Plant",
                    "Orissa Metaliks Kharagpur Steel Plant",
                    "Orissa Metaliks Markuta steel plant",
                    "Orissa Sponge Iron and Steel plant",
                    "Orissa Steel and Power Jhargram Steel Plant",
                    "Prakash Industries Janjgir steel plant",
                    "Prakash Sponge Iron and Power Challakere Steel Plant",
                    "Ramsarup Industries Kharagpur steel plant",
                    "Rashmi Green Hydrogen Steel Kharagpur steel plant",
                    "Rashmi Metaliks Jamuria steel plant",
                    "Rashmi Metaliks Kharagpur steel plant",
                    "RINL Vizag Steel plant",
                    "Rungta Mines Chaliyama steel plant",
                    "Rungta Mines Dhenkanal steel plant",
                    "Rungta Mines Kamanda steel plant",
                    "Rungta Mines Karakhendra Steel Plant",
                    "Rungta Mines Karakolha sponge iron plant",
                    "SAIL Alloy Steel Plant",
                    "SAIL Bhilai steel plant",
                    "SAIL Bokaro steel plant",
                    "SAIL Durgapur steel plant",
                    "SAIL IISCO steel plant",
                    "SAIL Paradip steel plant",
                    "SAIL Rourkela steel plant",
                    "Shakambhari Ispat and Power Purulia Steel Plant",
                    "Shri Bajrang Power & Ispat Tilda Steel Plant",
                    "Shyam Metalics Jamuria Steel Plant",
                    "Shyam Metalics Sambalpur Steel Plant",
                    "Shyam Steel Mejia Steel Plant",
                    "Shyam Steel Raghunathpur Steel Plant",
                    "Sunflag Iron and Steel plant",
                    "Surjagad Ispat Gadchiroli steel plant",
                    "Swadesh Metallics Simga Steel Plant",
                    "Tata Metaliks Kharagpur steel plant",
                    "Tata Steel BSL Meramandali steel plant",
                    "Tata Steel Jamshedpur steel plant",
                    "Tata Steel Kalinganagar steel plant",
                    "Tata Steel Long Products Gamharia steel plant",
                    "Tata Steel Ludhiana steel plant",
                    "Uttam Galva Ferrous Bellary Steel Plant",
                    "Vardhman Special Steels Ludhiana steel plant",
                    "Vedanta Sesa Goa Pig Iron Plant",
                    "Welspun Metallics Anjar Steel plant",
                    "Xindia Steels Koppal plant",
                    "Yazdani Steel and Power Kalinganagar steel plant",
                    "Anshan Iron and Steel Central Sulawesi steel plant",
                    "CNR Mandan Steel South Kalimantan plant",
                    "Dexin Steel Morowali plant",
                    "Fuhai Indonesia Steel Plant",
                    "Gunung Raja Paksi North Sumatra steel plant",
                    "Gunung Raja Paksi South Kalimantan steel plant",
                    "Gunung Raja Paksi West Java steel plant",
                    "Hebei Bishi Central Java steel plant",
                    "Jakarta Prima Steel Industries plant",
                    "Krakatau Steel Cilegon plant",
                    "KS Posco Cilegon steel plant",
                    "Master Steel Jakarta Steel plant",
                    "PT Ispat Indo steel plant",
                    "Shaanxi Iron and Steel Indonesia plant",
                    "Wuhan Indonesia Steel Plant",
                    "Ahya Steel Folad Baft Company DRI plant",
                    "Amirkabir Arak Steel plant",
                    "Ardakan Steel Yazd plant",
                    "Arfa Iron and Steel Yazd plant",
                    "Arvand Jahanara Steel Khouzestan plant",
                    "Arvand Kaveh Steel Khoramshahr plant",
                    "Azna Steel Lorestan plant",
                    "Bafgh Mineral Complex Iron and Steel Yazd plant",
                    "Bonab Steel Complex",
                    "Butia Steel Kerman plant",
                    "Chadormalu Mining and Industrial Company Yazd plant",
                    "Esfahan Steel Isfahan plant",
                    "Ghadir Iron and Steel plant Yazd",
                    "Ghaenat Steel Complex South Khorasan",
                    "Golgohar Iron and Steel Company Kerman",
                    "Iran Alloy Steel Company Yazd plant",
                    "Iranian Alborz Steel Mazandaran plant",
                    "Isatis Sponge Iron Company Yazd",
                    "Jahan Foolad Sirjan Steel Kerman plant",
                    "Kaavian Steel Khouzestan plant",
                    "Khorasan Steel Complex",
                    "Khouzestan Oxin Steel",
                    "Khouzestan Steel plant",
                    "Kish South Kaveh Steel Hormuzgan plant",
                    "Kurdistan Steel Kurdistan plant",
                    "Makran Steel Sistan and Baluchestan Complex",
                    "Miyaneh Steel East Azerbaijan steel plant",
                    "Mobarakeh Saba Steel Complex",
                    "Mobarakeh Steel Complex Isfahan",
                    "Mobarakeh Steel Hormuzgan Steel Company plant",
                    "Mobarakeh Steel Sefid Dasht Steel Complex",
                    "Natanz Steel Company Isfahan plant",
                    "Neyriz Ghadir Steel Company Fars plant",
                    "Pasargad Steel Complex Fars",
                    "Persian Gulf Saba Steel",
                    "Qeshm Steel Development Hormuzgan plant",
                    "Sabalan Iron and Steel Complex",
                    "Sabzevar Steel Complex Razavi Khorasan",
                    "Saeb Steel Complex",
                    "Sarmad Iron and Steel Complex Abarkouh",
                    "Shadegan Steel Complex",
                    "Shams Iron and Steel Complex",
                    "Sirjan Iranian Steel Kerman Plant",
                    "Torbat Heydarieh Steel Company Khorasan",
                    "West Alborz Ana Steel Zanjan plant",
                    "Zarand Iranian Steel Company Kerman plant",
                    "Zonouz Steel Complex",
                    "Al Anmaa Basra steel plant",
                    "F&F Steel Erbil plant",
                    "Mass Iron and Steel Industry Co Sulaimaniya plant",
                    "State Company for Iron & Steel Basra plant",
                    "Van Steel Kurdistan plant",
                    "Acciaierie d'Italia Taranto steel plant",
                    "Acciaierie Venete Borgo Valsugana steel plant",
                    "Acciaierie Venete Padua steel plant",
                    "Acciaierie Venete Sarezzo steel plant",
                    "AFV Accaierie Beltrame Vicenza steel plant",
                    "Alfa Acciai Brescia steel plant",
                    "Alfa Acciai Catania steel plant",
                    "Danieli ABS Pozzuolo del Friuli steel plant",
                    "DRI d’Italia Taranto plant",
                    "Duferco Travi e Profilati San Zeno Naviglio steel plant",
                    "Feralpi Calvisano steel plant",
                    "Feralpi Siderurgica Lonato steel plant",
                    "Ferriera Valsabbia Odolo steel plant",
                    "Finarvedi Acciai Speciali Terni steel plant",
                    "Finarvedi Cremona steel plant",
                    "IRO Odolo steel plant",
                    "JSW Steel Piombino steel plant",
                    "Metinvest Piombino steel plant",
                    "Ori Martin Brescia steel plant",
                    "Pittini Acciaierie di Verona steel plant",
                    "Pittini Ferriere Nord Osoppo steel plant",
                    "Pittini Siderpotenza Potenza steel plant",
                    "Riva Acciaio Caronno Pertusella steel plant",
                    "Riva Acciaio Lesegno steel plant",
                    "Tenaris Dalmine steel plant",
                    "Aichi Steel Chita Plant (Tokai)",
                    "Chubu Steel Plate Nagoya plant",
                    "Daido Steel Chita plant (Tokai)",
                    "Godo Steel Funabashi Works",
                    "Godo Steel Himeji Works",
                    "Godo Steel Osaka Works",
                    "JFE Bars & Shapes Himeji Works steel plant",
                    "JFE Bars & Shapes Kashima Works steel plant",
                    "JFE Bars & Shapes Mizushima Works steel plant",
                    "JFE East Japan Works (Chiba) steel plant",
                    "JFE East Japan Works (Keihin) steel plant",
                    "JFE Sendai Works steel plant",
                    "JFE West Japan Works (Fukuyama) steel plant",
                    "JFE West Japan Works (Kurashiki) steel plant",
                    "Kishiwada Steel Osaka Steel Plant",
                    "Kobe Kakogawa Works steel plant",
                    "Kobe Wire Rod and Bar steel plant",
                    "Kyoei Steel Hirakata Division (Osaka)",
                    "Kyoei Steel Nagoya Division (Tokai)",
                    "Kyoei Steel Yamaguchi Division (Yamaguchi)",
                    "Nakayama Steel Products Osaka plant",
                    "Nakayama Steel Works Osaka",
                    "Nippon East Japan Works (Kashima) steel plant",
                    "Nippon East Japan Works (Kimitsu) steel plant",
                    "Nippon Kansai Works (Wakayama Area, Wakayama) steel plant",
                    "Nippon Kyushu Works (Oita Area, Oita) steel plant",
                    "Nippon Kyushu Works (Yawata Area, Kokura) steel plant",
                    "Nippon Kyushu Works (Yawata Area, Tobata) steel plant",
                    "Nippon Nagoya steel plant",
                    "Nippon Sanyo Special Steel",
                    "Nippon Setouchi Works (Hirohata Area) steel plant",
                    "Nippon Setouchi Works (Kure Area) steel plant",
                    "Nippon Stainless Steel Yamaguchi Works (Hikari Area) steel plant",
                    "Nippon Stainless Steel Yamaguchi Works (Shunan Area) steel plant",
                    "North Nippon Muroran Works steel plant",
                    "Osaka Steel Sakai Works",
                    "Tokyo Steel Kyushu plant",
                    "Tokyo Steel Okayama plant",
                    "Tokyo Steel Tahara plant",
                    "Tokyo Steel Utsunomiya plant",
                    "Topy Industries Toyohashi steel plant",
                    "Yamato Steel Himeji Plant",
                    "Aktobe Generatsiya steel plant",
                    "ERG Baowu Rudny HBI plant",
                    "Fujian Hengwang Shymkent steel plant",
                    "Kazakhstal steel plant",
                    "KSP Steel Pavlodar steel plant",
                    "Qarmet steel plant",
                    "QazSpetsSteel Aktobe steel plant",
                    "Sin Yuan Steel Shymkent steel plant",
                    "Devki Steel Mills Kwale plant",
                    "Sinosteel Kenya plant",
                    "United Steel Industrial Kuwait Steel Sharq plant",
                    "Liepājas Metalurgs steel plant",
                    "Libyan Iron and Steel Misrata plant",
                    "Tosyali-SULB Benghazi Plant",
                    "ArcelorMittal Differdange steel plant",
                    "ArcelorMittal Esch-Belval steel plant",
                    "Alliance Steel Kuantan plant",
                    "Ann Joo Integrated Steel Penang plant",
                    "Ann Joo Steel Selangor plant",
                    "Eastern Steel Kemaman plant",
                    "Eden Flame Johor steel plant",
                    "Esteel Antara Labuan iron plant",
                    "Esteel Sabah Steel Plant",
                    "Hebei Xin Wu an Steel Malaysia plant",
                    "Lion Industries Amsteel Banting steel plant",
                    "Lion Industries Amsteel Klang steel plant",
                    "Lion Industries Megasteel plant",
                    "Maegma Minerals Lumut HBI plant",
                    "Maju Perwaja Steel plant",
                    "Malaysia Steel Works Klang",
                    "Perfect Channel Gurun steel plant",
                    "Southern Steel Prai Penang plant",
                    "Altos Hornos De Mexico SA AHMSA steel plant",
                    "ArcelorMittal Lázaro Cárdenas steel plant",
                    "DEACERO Celaya steel plant",
                    "DEACERO Ramos Arizpe steel plant",
                    "Gerdau Corsa Ciudad Sahagún steel plant",
                    "Gerdau Corsa Tultitlán steel plant",
                    "Grupo Acerero steel plant",
                    "Grupo Simec Apizaco Cholula steel plant",
                    "Grupo Simec San Luis steel plants",
                    "Tenaris TAMSA Veracruz steel plant",
                    "Ternium Apodaca steel plant",
                    "Ternium Guerrero San Nicolás de los Garza steel plant",
                    "Ternium Pesquería steel plant",
                    "Ternium Puebla steel plant",
                    "TYASA steel plant",
                    "JSC Moldova Steel Works",
                    "ArcelorMittal Sonasid Casablanca steel plant",
                    "Mahgreb Steel Casablanca plant",
                    "Riva Industries Jorf Lasfar steel plant",
                    "Univers Acier Sidi Hajjaj steel plant",
                    "Tete Steel Maputo plant",
                    "Kunming Iron and Steel Myanmar plant",
                    "Myanmar Economic Corporation Pin Pet No 2 Steel Mill",
                    "Myingyan Myanmar Steel Plant",
                    "Abba Steel Ohangwena steel plant",
                    "HyIron Steel Namibia plant",
                    "Tata Steel IJmuiden steel plant",
                    "Van Merksteijn International steel plant",
                    "BlueScope New Zealand Steel Glenbrook",
                    "African Natural Resources and Mines Kaduna Steel Plant",
                    "Ajaokuta Steel plant",
                    "Kam Industries Kwara steel plant",
                    "Kogi Steel Project",
                    "Premium Steel Warri plant",
                    "Vulcan Green Steel Nigeria plant",
                    "Ch'ollima Steel Complex steel plant",
                    "Ch'ŏngjin Ironworks steel plant",
                    "Hwanghae Iron and Steel Complex steel plant",
                    "Kim Chaek Iron and Steel Complex steel plant",
                    "Tangshan Iron and Steel Kim Chaek Steel Plant",
                    "Makstil Skopje Steel plant",
                    "Sev.en GI Mo i Rana steel plant",
                    "Jindal Shadeed Iron & Steel Duqm plant",
                    "Jindal Steel Sohar plant",
                    "Mitsui-Kobe Duqm DRI plant",
                    "Moon Iron & Steel Company Sohar plant",
                    "Sohar Steel plant",
                    "Sun Metals Sur steel plant",
                    "Agha Steel Industries Karachi plant",
                    "Amreli Steels Dhabeji plant",
                    "Century Steel Khyber plant",
                    "Faizan Steel Karachi steel plant",
                    "Ittehad Steel Faisalabad plant",
                    "Mughal Iron & Steel Industries Lahore plant",
                    "National Steel Complex Limited Karachi Steel Plant",
                    "Pakistan Steel Mills Karachi",
                    "Aceros Arequipa Pisco steel plant",
                    "Gerdau Siderperu Chimbote steel plant",
                    "BaoSteel and SteelAsia Philippines plant",
                    "HBIS and SteelAsia Lemery plant",
                    "Mount Zynai Integratred Steel Mill and Smelting Plant",
                    "Panhua Group Mindanao steel plant",
                    "Panhua Group Sarangani steel plant",
                    "SteelAsia Batangas plant",
                    "SteelAsia Calaca plant",
                    "SteelAsia Candelaria steel Plant",
                    "SteelAsia Compostela steel plant",
                    "SteelAsia Concepcion plant",
                    "ArcelorMittal Dąbrowa Górnicza steel plant",
                    "ArcelorMittal Kraków steel plant",
                    "ArcelorMittal Warszawa steel plant",
                    "Celsa Huta Ostrowiec steel plant",
                    "CMC Zawiercie steel plant",
                    "Ferrostal Labedy Gliwice steel plant",
                    "Huta Czestochowa steel plant",
                    "Weglokoks Ruda Slaska steel plant",
                    "SN MAIA Siderurgia Nacional steel plant",
                    "SN SEIXAL Siderurgia Nacional steel plant",
                    "Industries Qatar Steel Mesaieed plant",
                    "ArcelorMittal Hunedoara steel plant",
                    "Donalam Targoviste plant",
                    "GFG Liberty Galati steel plant",
                    "GLGH Resita steel plant",
                    "Otelu Rosu Steel Plant",
                    "Tenaris Silcotub Calarasi steel mill",
                    "Ussuri Capital Romania steel plant",
                    "Abinsk Electric Steel Works",
                    "Amurstal steel plant",
                    "Ashinskiy Metallurgical plant",
                    "Balakovo Steel Plant",
                    "Donelektrostal Shakhty steel plant",
                    "Ecolant steel plant",
                    "Evraz NTMK steel plant",
                    "Evraz ZSMK steel plant",
                    "IMH Tula steel plant",
                    "Kamsky Metallurgical Works TEMPO",
                    "Lebedinsky GOK DRI Plant",
                    "Magnitogorsk Iron and Steel Works",
                    "Mechel Chelyabinsk Metallurgical Plant",
                    "Metalloinvest Mikhailovsky HBI plant",
                    "Metalloinvest OEMK steel plant",
                    "Nadezhdinski Metallurgical Plant",
                    "NLMK Lipetsk steel plant",
                    "NLMK Stoilensky iron plant",
                    "Novorossiysk rolling plant",
                    "OMK Vyksa Casting and Rolling Complex",
                    "Pervouralsk Pipe Plant",
                    "Promsort Kaluga steel plant",
                    "Promsort Ural steel plant",
                    "Severstal Cherepovets steel plant",
                    "StavStal Metallurgical Plant",
                    "TMK Seversky Pipe Plant",
                    "TMK Taganrog Metallurgical Plant",
                    "Tyumen Electrosteel plant",
                    "Ural Steel Metallurgical Plant",
                    "VMK Red October steel plant",
                    "Volzhsky Pipe Plant",
                    "Al Atoun Yanbu steel plant",
                    "Al Ittefaq Arab Steel Dammam plant",
                    "Al Ittefaq National Steel Dammam plant",
                    "Al Qaryan steel plant",
                    "Aramco Ras Al Khair steel plant",
                    "Arkan Steel Jeddah plant",
                    "BAP Al-Khair Steel Company",
                    "Essar Ras Al Khair steel plant",
                    "Gulf Tubing Company Ras Al-Khair steel plant",
                    "Rajhi Al Assemah Steel Jeddah plant",
                    "SABIC Hadeed Al Jubail steel plant",
                    "Solb Steel Jizan plant",
                    "Tosyali Ras Al Khair steel plant",
                    "HBIS GROUP Serbia Iron & Steel plant Belgrade",
                    "Metalfer Steel Mill Sremska Mitrovica",
                    "Natsteel Singapore plant",
                    "Max Aicher Slovakia Steel Mills Strazske",
                    "U. S. Steel Košice steel plant",
                    "SIJ Acroni Jesenice steel plant",
                    "Acerinox Columbus Stainless steel plant",
                    "ArcelorMittal Newcastle Steel Works",
                    "ArcelorMittal Saldanha Steel Works",
                    "ArcelorMittal Vanderbijlpark Steel Works",
                    "Scaw Metals Group Germiston plant",
                    "DaehanSteel Noksan Steel Plant",
                    "Dongkuk Steel Incheon steel plant",
                    "Dongkuk Steel Pohang steel plant",
                    "Hansco Hwanyoung Steel Dangjin plant",
                    "Hyundai Steel Dangjin steel plant",
                    "Hyundai Steel Incheon steel plant",
                    "Hyundai Steel Pohang steel plant",
                    "KG Steel Dangjin steel plant",
                    "KG Steel Incheon steel plant",
                    "KISCO steel Changwon plant",
                    "POSCO Gwangyang steel plant",
                    "POSCO Pohang steel plant",
                    "SeAH Besteel Gunsan steel plant",
                    "SeAH Changwon Integrated Special Steel plant",
                    "SeAH Steel Pohang plant",
                    "South Korea hydrogen DRI plant",
                    "YK Steel Busan plant",
                    "YK Steel Dangjin plant",
                    "Acerinox Europa Los Barrios steel plant",
                    "ArcelorMittal Asturias (Aviles) steel plant",
                    "ArcelorMittal Asturias (Gijón) steel plant",
                    "ArcelorMittal Olaberria-Bergara (Olaberria) steel plant",
                    "ArcelorMittal Sestao steel plant",
                    "Celsa Barcelona Castellbisbal steel plant",
                    "Celsa Global Steel Wire Santander plant",
                    "Celsa Nervacero steel plant",
                    "Grupo Gallardo Corrugados Azpeitia steel plant",
                    "Grupo Gallardo Corrugados Getafe steel plant",
                    "Grupo Gallardo Siderurgica Balboa Jerez de los Caballeros steel plant",
                    "Hydnum Steel Castilla-La Mancha plant",
                    "Megasa Siderúrgica Narón steel plant",
                    "Megasider Zaragoza steel plant",
                    "Riva Siderurgica Sevillana steel plant",
                    "Sidenor Aceros Especiales Basauri steel plant",
                    "Stegra Spain steel plant",
                    "Lanwa Steel Hambantota steel plant",
                    "HYBRIT Gallivare sponge iron plant",
                    "Outokumpu Avesta steel plant",
                    "Ovako Hofors steel plant",
                    "SSAB Luleå steel plant",
                    "SSAB Oxelösund steel plant",
                    "Stegra Boden steel plant",
                    "Stahl Gerlafingen steel plant",
                    "Swiss Steel Emmenbrücke plant",
                    "Hadeed Metal Manufacturing Co Damascus steel plant",
                    "Hmisho Steel Hassia plant",
                    "China Steel Corporation Xiaogang plant",
                    "China Steel Dragon Steel Taichung plant",
                    "E Top Metal Changhua plant",
                    "Feng Hsin Steel Taichung plant",
                    "Hai Kwang Enterprise Corporation",
                    "Shyeh Sheng Fuat Steel Kaohsiung plant",
                    "Tung Ho Steel Kaohsiung Plant",
                    "Tung Ho Steel Miaoli Plant",
                    "Tung Ho Steel Taoyuan Plant",
                    "Yieh United Steel Kaohsiung plant",
                    "Bangkok Steel Industry Samut Prakan plant",
                    "Chow Steel Kabinburi Steel Plant",
                    "Meranti Steel Map Ta Phut plant",
                    "Millcon Steel Rayong plant",
                    "Nippon G Steel plant",
                    "Nippon GJS steel plant",
                    "Siam Yamato Steel Huai Pong plant",
                    "Siam Yamato Steel Map Ta Phut plant",
                    "Tata Steel Manufacturing NTS Plant",
                    "Tata Steel Manufacturing SCSC Plant",
                    "TY Steel Rayong Steel Plant",
                    "UMC Metals Chon Buri plant",
                    "Nu-Iron Unlimited Point Lisas DRI plant",
                    "TT Iron and Steel Point Lisas steel plant",
                    "Aba Iron and Steel Payas plant",
                    "Asil Celik Orhangazi steel plant",
                    "Cebitas steel plant",
                    "Colakoglu Metallurgical Dilovasi plant",
                    "Diler Iron and Steel Dilovasi plant",
                    "Ege Steel Aliaga plant",
                    "Ekinciler Iron and Steel Iskenderun plant",
                    "Erdemir Eregli steel plant",
                    "Habas Aliaga steel plant",
                    "İÇDAŞ Biga steel plant",
                    "İDÇ Izdemir Aliaga steel plant",
                    "Isdemir Payas steel plant",
                    "Kaptan Ereglisi steel plant",
                    "Kardemir Celik Sanayi Izmir steel plant",
                    "Kardemir Merkez steel plant",
                    "Koc Metallurgical Toprakkale plant",
                    "Kocaer Çelik Steel Plant",
                    "Kroman Steel Darica plant",
                    "Mescier Iron and Steel Bartin plant",
                    "MMK Türkiye Metallurgical Payas plant",
                    "Ozkan Iron and Steel Aliaga plant",
                    "Siddik Kardesler Dilovasi steel plant",
                    "Toscelik Iskenderun steel plant",
                    "Toscelik Toprakkale steel plant",
                    "Tosyali Toprakkale plant",
                    "Yazici Iron and Steel Iskenderun plant",
                    "Yesilyurt Iron and Steel Tekkekoy plant",
                    "Yildiz Iron and Steel Kocaeli plant",
                    "Tembo Steels Iganga plant",
                    "Alchevsk Metallurgical Plant",
                    "ArcelorMittal Kryvyi Rih steel plant",
                    "Azovstal Iron and Steel Works",
                    "DCH Dnipro Metallurgical Plant",
                    "Donetsk Metallurgical Plant",
                    "Interpipe Steel Plant",
                    "Metallurgical Plant Kametstal",
                    "Metinvest EAF steel plant",
                    "Metinvest Ilyich Iron and Steel Works",
                    "Metinvest Zaporizhstal steel plant",
                    "Yenakiieve Metallurgical Plant",
                    "Yuzovsky Metallurgical Plant",
                    "Arabian Gulf Steel Industries Abu Dhabi plant",
                    "BILDCO Abu Dhabi steel plant",
                    "Emsteel Abu Dhabi plant",
                    "British Steel Scunthorpe plant",
                    "British Steel Teesside plant",
                    "GFG Liberty Steel Newport plant",
                    "GFG Liberty Steel Rotherham plant",
                    "Marcegaglia Sheffield steel plant",
                    "Se.ven GI Cardiff plant",
                    "Tata Steel Port Talbot steel plant",
                    "Alton Steel plant",
                    "ArcelorMittal Calvert",
                    "ArcelorMittal Texas DRI plant",
                    "BlueScope North Star Steel plant",
                    "BlueScope Steel EAF plant",
                    "Cascade Steel Rolling Mills",
                    "Charter Steel Cleveland plant",
                    "Charter Steel Saukville plant",
                    "Cleveland-Cliffs Burns Harbor steel plant",
                    "Cleveland-Cliffs Butler steel plant",
                    "Cleveland-Cliffs Cleveland steel plant",
                    "Cleveland-Cliffs Coatesville steel plant",
                    "Cleveland-Cliffs Dearborn steel plant",
                    "Cleveland-Cliffs Indiana Harbor steel plant",
                    "Cleveland-Cliffs Mansfield Works",
                    "Cleveland-Cliffs Middletown steel plant",
                    "Cleveland-Cliffs Riverdale steel plant",
                    "Cleveland-Cliffs Steelton steel plant",
                    "Cleveland-Cliffs Toledo DRI plant",
                    "CMC Alabama steel plant",
                    "CMC Arizona steel plant",
                    "CMC South Carolina steel plant",
                    "CMC Steel Florida plant",
                    "CMC Steel New Jersey plant",
                    "CMC Steel Texas plant",
                    "CMC Tennessee steel plant",
                    "Electra iron plant",
                    "Evraz Pueblo steel plant",
                    "Finkl Steel Chicago plant",
                    "Gerdau Cartersville steel plant",
                    "Gerdau Fort Smith steel plant",
                    "Gerdau Jackson steel mill",
                    "Gerdau Midlothian Steel Mill",
                    "Gerdau Monroe steel plant",
                    "Gerdau Petersburg Steel Mill",
                    "Gerdau Saint Paul steel plant",
                    "Hybar Arkansas steel plant",
                    "Hyundai Steel Louisiana plant",
                    "JSW Steel USA Ohio plant",
                    "Leggett & Platt Sterling Steel plant",
                    "Liberty Steel & Wire Peoria plant",
                    "Liberty Steel Georgetown plant",
                    "Mesabi Metallics Nashwuak HBI plant",
                    "Metallus Faircrest steel plant",
                    "Metallus Harrison steel plant",
                    "NLMK Indiana steel plant",
                    "North American Stainless Ghent steel plant",
                    "Nucor Steel Berkeley plant",
                    "Nucor Steel Birmingham plant",
                    "Nucor Steel Brandenburg plant",
                    "Nucor Steel Crawfordsville plant",
                    "Nucor Steel Darlington plant",
                    "Nucor Steel Decatur plant",
                    "Nucor Steel Gallatin plant",
                    "Nucor Steel Hertford plant",
                    "Nucor Steel Hickman plant",
                    "Nucor Steel Jewett plant",
                    "Nucor Steel Kankakee plant",
                    "Nucor Steel Kingman plant",
                    "Nucor Steel Louisiana",
                    "Nucor Steel Memphis plant",
                    "Nucor Steel Norfolk plant",
                    "Nucor Steel Pacific Northwest steel plant",
                    "Nucor Steel Plymouth plant",
                    "Nucor Steel Seattle plant",
                    "Nucor Steel Tuscaloosa plant",
                    "Nucor Steel West Virginia steel plant",
                    "Nucor-Yamato Steel Blytheville plant",
                    "Optimus Steel Beaumont plant",
                    "Outokumpu Stainless USA steel plant",
                    "Republic Steel Canton plant",
                    "Republic Steel Lorain steel plant",
                    "SSAB Americas Alabama steel plant",
                    "SSAB Americas Iowa steel plant",
                    "Steel Dynamics Butler plant",
                    "Steel Dynamics Columbia City plant",
                    "Steel Dynamics Columbus plant",
                    "Steel Dynamics Engineered Bar Products steel plant",
                    "Steel Dynamics Roanoke steel plant",
                    "Steel Dynamics Sinton plant",
                    "U.S. Steel Big River Steel plant",
                    "U.S. Steel Edgar Thomson Plant",
                    "U.S. Steel Fairfield plant",
                    "U.S. Steel Gary Works",
                    "U.S. Steel Granite City Works",
                    "U.S. Steel Great Lakes Works",
                    "Vallourec Star Youngstown steel plant",
                    "Metallurgical Cluster Gallaaral",
                    "Tebinbulak mining and smelting complex",
                    "Uzmetkombinat steel plant",
                    "CVG Briquetera de Venezuela DRI plant",
                    "CVG Briquetera del Caroní DRI plant",
                    "CVG Briquetera del Orinoco DRI plant",
                    "CVG Comsigua DRI plant",
                    "CVG Ferrominera Orinoco DRI plant",
                    "Sidor Ciudad Guayana steel plant",
                    "ASEAN Steel Hoa Phu steel plant",
                    "Chan May Steel plant",
                    "DST Nghi Son Steel Plant",
                    "Formosa Ha Tinh Steel plant",
                    "Hoa Phat Dung Quat steel plant",
                    "Hoa Phat Hai Duong Steel plant",
                    "Hoa Sen Phu My steel plant",
                    "Lao Cai Cast Iron and Steel Plant",
                    "Long Son Phu My Iron and Steel plant",
                    "Pomina Steel 2 Phu My plant",
                    "Pomina Steel 3 Phu My plant",
                    "POSCO Vietnam Phu My steel plant",
                    "Shengli Vietnam Special Steel An Bai steel plant",
                    "Thai Nguyen Iron and Steel plant",
                    "Tung Ho Steel Phu My plant",
                    "Tuyen Quang Iron and Steel Long Binh steel plant",
                    "VAS An Hung Tuong Steel Binh Duong plant",
                    "VAS Nghi Son Cast Iron and Steel plant",
                    "VAS Tue Minh Steel Binh Duong plant",
                    "Viet Nhat VJS Nam Cau Kien steel plant",
                    "Vietnam Italy Steel Pho Noi steel plant",
                    "Vina Kyoei Steel Phu My plant",
                    "Vina One Steel Ben Luc steel plant",
                    "Vina Roma Quang Tri Steel Plant",
                    "VNSteel Southern Steel Company plant",
                    "Xuan Thien Nam Dinh steel plant",
                    "Xuan Thien Nghia Hung steel plant",
                    "BER-PIG Iron and Steel Company Redcliff plant",
                    "Dinson Chivhu iron and steel plant"
                  ],
                  "lat": {
                    "bdata": "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",
                    "dtype": "f8"
                  },
                  "lon": {
                    "bdata": "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",
                    "dtype": "f8"
                  },
                  "name": "",
                  "radius": 10,
                  "subplot": "mapbox",
                  "type": "densitymapbox"
                }
              ],
              "layout": {
                "coloraxis": {
                  "colorscale": [
                    [
                      0,
                      "#000011"
                    ],
                    [
                      0.1111111111111111,
                      "#000012"
                    ],
                    [
                      0.2222222222222222,
                      "#000013"
                    ],
                    [
                      0.3333333333333333,
                      "#000014"
                    ],
                    [
                      0.4444444444444444,
                      "#000015"
                    ],
                    [
                      0.5555555555555556,
                      "#000016"
                    ],
                    [
                      0.6666666666666666,
                      "#000017"
                    ],
                    [
                      0.7777777777777778,
                      "#000018"
                    ],
                    [
                      0.8888888888888888,
                      "#000019"
                    ],
                    [
                      1,
                      "#000020"
                    ]
                  ]
                },
                "height": 600,
                "legend": {
                  "tracegroupgap": 0
                },
                "mapbox": {
                  "center": {
                    "lat": 30.278476937777096,
                    "lon": 62.42785792719052
                  },
                  "domain": {
                    "x": [
                      0,
                      1
                    ],
                    "y": [
                      0,
                      1
                    ]
                  },
                  "style": "carto-positron",
                  "zoom": 1
                },
                "template": {
                  "data": {
                    "candlestick": [
                      {
                        "decreasing": {
                          "line": {
                            "color": "#000033"
                          }
                        },
                        "increasing": {
                          "line": {
                            "color": "#000032"
                          }
                        },
                        "type": "candlestick"
                      }
                    ],
                    "contour": [
                      {
                        "colorscale": [
                          [
                            0,
                            "#000011"
                          ],
                          [
                            0.1111111111111111,
                            "#000012"
                          ],
                          [
                            0.2222222222222222,
                            "#000013"
                          ],
                          [
                            0.3333333333333333,
                            "#000014"
                          ],
                          [
                            0.4444444444444444,
                            "#000015"
                          ],
                          [
                            0.5555555555555556,
                            "#000016"
                          ],
                          [
                            0.6666666666666666,
                            "#000017"
                          ],
                          [
                            0.7777777777777778,
                            "#000018"
                          ],
                          [
                            0.8888888888888888,
                            "#000019"
                          ],
                          [
                            1,
                            "#000020"
                          ]
                        ],
                        "type": "contour"
                      }
                    ],
                    "contourcarpet": [
                      {
                        "colorscale": [
                          [
                            0,
                            "#000011"
                          ],
                          [
                            0.1111111111111111,
                            "#000012"
                          ],
                          [
                            0.2222222222222222,
                            "#000013"
                          ],
                          [
                            0.3333333333333333,
                            "#000014"
                          ],
                          [
                            0.4444444444444444,
                            "#000015"
                          ],
                          [
                            0.5555555555555556,
                            "#000016"
                          ],
                          [
                            0.6666666666666666,
                            "#000017"
                          ],
                          [
                            0.7777777777777778,
                            "#000018"
                          ],
                          [
                            0.8888888888888888,
                            "#000019"
                          ],
                          [
                            1,
                            "#000020"
                          ]
                        ],
                        "type": "contourcarpet"
                      }
                    ],
                    "heatmap": [
                      {
                        "colorscale": [
                          [
                            0,
                            "#000011"
                          ],
                          [
                            0.1111111111111111,
                            "#000012"
                          ],
                          [
                            0.2222222222222222,
                            "#000013"
                          ],
                          [
                            0.3333333333333333,
                            "#000014"
                          ],
                          [
                            0.4444444444444444,
                            "#000015"
                          ],
                          [
                            0.5555555555555556,
                            "#000016"
                          ],
                          [
                            0.6666666666666666,
                            "#000017"
                          ],
                          [
                            0.7777777777777778,
                            "#000018"
                          ],
                          [
                            0.8888888888888888,
                            "#000019"
                          ],
                          [
                            1,
                            "#000020"
                          ]
                        ],
                        "type": "heatmap"
                      }
                    ],
                    "histogram2d": [
                      {
                        "colorscale": [
                          [
                            0,
                            "#000011"
                          ],
                          [
                            0.1111111111111111,
                            "#000012"
                          ],
                          [
                            0.2222222222222222,
                            "#000013"
                          ],
                          [
                            0.3333333333333333,
                            "#000014"
                          ],
                          [
                            0.4444444444444444,
                            "#000015"
                          ],
                          [
                            0.5555555555555556,
                            "#000016"
                          ],
                          [
                            0.6666666666666666,
                            "#000017"
                          ],
                          [
                            0.7777777777777778,
                            "#000018"
                          ],
                          [
                            0.8888888888888888,
                            "#000019"
                          ],
                          [
                            1,
                            "#000020"
                          ]
                        ],
                        "type": "histogram2d"
                      }
                    ],
                    "icicle": [
                      {
                        "textfont": {
                          "color": "white"
                        },
                        "type": "icicle"
                      }
                    ],
                    "sankey": [
                      {
                        "textfont": {
                          "color": "#000036"
                        },
                        "type": "sankey"
                      }
                    ],
                    "scatter": [
                      {
                        "marker": {
                          "line": {
                            "width": 0
                          }
                        },
                        "type": "scatter"
                      }
                    ],
                    "table": [
                      {
                        "cells": {
                          "fill": {
                            "color": "#000038"
                          },
                          "font": {
                            "color": "#000037"
                          },
                          "line": {
                            "color": "#000039"
                          }
                        },
                        "header": {
                          "fill": {
                            "color": "#000040"
                          },
                          "font": {
                            "color": "#000036"
                          },
                          "line": {
                            "color": "#000039"
                          }
                        },
                        "type": "table"
                      }
                    ],
                    "waterfall": [
                      {
                        "connector": {
                          "line": {
                            "color": "#000036",
                            "width": 2
                          }
                        },
                        "decreasing": {
                          "marker": {
                            "color": "#000033"
                          }
                        },
                        "increasing": {
                          "marker": {
                            "color": "#000032"
                          }
                        },
                        "totals": {
                          "marker": {
                            "color": "#000034"
                          }
                        },
                        "type": "waterfall"
                      }
                    ]
                  },
                  "layout": {
                    "coloraxis": {
                      "colorscale": [
                        [
                          0,
                          "#000011"
                        ],
                        [
                          0.1111111111111111,
                          "#000012"
                        ],
                        [
                          0.2222222222222222,
                          "#000013"
                        ],
                        [
                          0.3333333333333333,
                          "#000014"
                        ],
                        [
                          0.4444444444444444,
                          "#000015"
                        ],
                        [
                          0.5555555555555556,
                          "#000016"
                        ],
                        [
                          0.6666666666666666,
                          "#000017"
                        ],
                        [
                          0.7777777777777778,
                          "#000018"
                        ],
                        [
                          0.8888888888888888,
                          "#000019"
                        ],
                        [
                          1,
                          "#000020"
                        ]
                      ]
                    },
                    "colorscale": {
                      "diverging": [
                        [
                          0,
                          "#000021"
                        ],
                        [
                          0.1,
                          "#000022"
                        ],
                        [
                          0.2,
                          "#000023"
                        ],
                        [
                          0.3,
                          "#000024"
                        ],
                        [
                          0.4,
                          "#000025"
                        ],
                        [
                          0.5,
                          "#000026"
                        ],
                        [
                          0.6,
                          "#000027"
                        ],
                        [
                          0.7,
                          "#000028"
                        ],
                        [
                          0.8,
                          "#000029"
                        ],
                        [
                          0.9,
                          "#000030"
                        ],
                        [
                          1,
                          "#000031"
                        ]
                      ],
                      "sequential": [
                        [
                          0,
                          "#000011"
                        ],
                        [
                          0.1111111111111111,
                          "#000012"
                        ],
                        [
                          0.2222222222222222,
                          "#000013"
                        ],
                        [
                          0.3333333333333333,
                          "#000014"
                        ],
                        [
                          0.4444444444444444,
                          "#000015"
                        ],
                        [
                          0.5555555555555556,
                          "#000016"
                        ],
                        [
                          0.6666666666666666,
                          "#000017"
                        ],
                        [
                          0.7777777777777778,
                          "#000018"
                        ],
                        [
                          0.8888888888888888,
                          "#000019"
                        ],
                        [
                          1,
                          "#000020"
                        ]
                      ],
                      "sequentialminus": [
                        [
                          0,
                          "#000011"
                        ],
                        [
                          0.1111111111111111,
                          "#000012"
                        ],
                        [
                          0.2222222222222222,
                          "#000013"
                        ],
                        [
                          0.3333333333333333,
                          "#000014"
                        ],
                        [
                          0.4444444444444444,
                          "#000015"
                        ],
                        [
                          0.5555555555555556,
                          "#000016"
                        ],
                        [
                          0.6666666666666666,
                          "#000017"
                        ],
                        [
                          0.7777777777777778,
                          "#000018"
                        ],
                        [
                          0.8888888888888888,
                          "#000019"
                        ],
                        [
                          1,
                          "#000020"
                        ]
                      ]
                    },
                    "colorway": [
                      "#000001",
                      "#000002",
                      "#000003",
                      "#000004",
                      "#000005",
                      "#000006",
                      "#000007",
                      "#000008",
                      "#000009",
                      "#000010"
                    ]
                  }
                },
                "title": {
                  "text": "Density of Global Steel Plants"
                }
              }
            }
          },
          "metadata": {},
          "output_type": "display_data"
        }
      ],
      "source": [
        "# Create density heatmap\n",
        "# Hint: Use plotly.express.density_mapbox()\n",
        "fig = px.density_mapbox(\n",
        "    df,\n",
        "    lat=\"Latitude\",\n",
        "    lon=\"Longitude\",\n",
        "    radius=10,\n",
        "    hover_name=\"Plant name (English)\",\n",
        "    hover_data=[\"Country/Area\", \"Owner\"],\n",
        "    mapbox_style=\"carto-positron\",\n",
        "    title=\"Density of Global Steel Plants\",\n",
        "    height=600,\n",
        "    zoom=1\n",
        ")\n",
        "fig.show()\n"
      ]
    },
    {
      "cell_type": "markdown",
      "metadata": {
        "id": "BWV3n6DXtP-R"
      },
      "source": [
        "---\n",
        "## Part 4: Merging Environmental Data with Assets\n",
        "\n",
        "Integrate environmental data (e.g., air quality, emissions, proximity to water sources) with steel plant locations.\n"
      ]
    },
    {
      "cell_type": "markdown",
      "metadata": {
        "id": "GqMdHc8jtP-R"
      },
      "source": [
        "### Exercise 1: Load Environmental Data\n",
        "**Task:** Load the environmental dataset and inspect it.\n",
        "\n",
        "- [Litpop database](https://www.research-collection.ethz.ch/entities/researchdata/12dcfc4f-9d03-463a-8d6b-76c0dc73cdc8)\n",
        "\n",
        "- Expected columns: location_id, latitude, longitude, population density, activity etc.\n"
      ]
    },
    {
      "cell_type": "code",
      "execution_count": 15,
      "metadata": {
        "id": "kjTa-09utP-R"
      },
      "outputs": [
        {
          "ename": "FileNotFoundError",
          "evalue": "[Errno 2] No such file or directory: '/content/_metadata_countries_v1_2.csv'",
          "output_type": "error",
          "traceback": [
            "\u001b[31m---------------------------------------------------------------------------\u001b[39m",
            "\u001b[31mFileNotFoundError\u001b[39m                         Traceback (most recent call last)",
            "\u001b[36mCell\u001b[39m\u001b[36m \u001b[39m\u001b[32mIn[15]\u001b[39m\u001b[32m, line 3\u001b[39m\n\u001b[32m      1\u001b[39m \u001b[38;5;66;03m# Load environmental data\u001b[39;00m\n\u001b[32m      2\u001b[39m env_path = \u001b[33m\"\u001b[39m\u001b[33m/content/_metadata_countries_v1_2.csv\u001b[39m\u001b[33m\"\u001b[39m\n\u001b[32m----> \u001b[39m\u001b[32m3\u001b[39m env = \u001b[43mpd\u001b[49m\u001b[43m.\u001b[49m\u001b[43mread_csv\u001b[49m\u001b[43m(\u001b[49m\u001b[43menv_path\u001b[49m\u001b[43m)\u001b[49m\n",
            "\u001b[36mFile \u001b[39m\u001b[32m~/Downloads/Medium_Secret/University/Programming/Python/src/venvol/lib/python3.11/site-packages/pandas/io/parsers/readers.py:1026\u001b[39m, in \u001b[36mread_csv\u001b[39m\u001b[34m(filepath_or_buffer, sep, delimiter, header, names, index_col, usecols, dtype, engine, converters, true_values, false_values, skipinitialspace, skiprows, skipfooter, nrows, na_values, keep_default_na, na_filter, verbose, skip_blank_lines, parse_dates, infer_datetime_format, keep_date_col, date_parser, date_format, dayfirst, cache_dates, iterator, chunksize, compression, thousands, decimal, lineterminator, quotechar, quoting, doublequote, escapechar, comment, encoding, encoding_errors, dialect, on_bad_lines, delim_whitespace, low_memory, memory_map, float_precision, storage_options, dtype_backend)\u001b[39m\n\u001b[32m   1013\u001b[39m kwds_defaults = _refine_defaults_read(\n\u001b[32m   1014\u001b[39m     dialect,\n\u001b[32m   1015\u001b[39m     delimiter,\n\u001b[32m   (...)\u001b[39m\u001b[32m   1022\u001b[39m     dtype_backend=dtype_backend,\n\u001b[32m   1023\u001b[39m )\n\u001b[32m   1024\u001b[39m kwds.update(kwds_defaults)\n\u001b[32m-> \u001b[39m\u001b[32m1026\u001b[39m \u001b[38;5;28;01mreturn\u001b[39;00m \u001b[43m_read\u001b[49m\u001b[43m(\u001b[49m\u001b[43mfilepath_or_buffer\u001b[49m\u001b[43m,\u001b[49m\u001b[43m \u001b[49m\u001b[43mkwds\u001b[49m\u001b[43m)\u001b[49m\n",
            "\u001b[36mFile \u001b[39m\u001b[32m~/Downloads/Medium_Secret/University/Programming/Python/src/venvol/lib/python3.11/site-packages/pandas/io/parsers/readers.py:620\u001b[39m, in \u001b[36m_read\u001b[39m\u001b[34m(filepath_or_buffer, kwds)\u001b[39m\n\u001b[32m    617\u001b[39m _validate_names(kwds.get(\u001b[33m\"\u001b[39m\u001b[33mnames\u001b[39m\u001b[33m\"\u001b[39m, \u001b[38;5;28;01mNone\u001b[39;00m))\n\u001b[32m    619\u001b[39m \u001b[38;5;66;03m# Create the parser.\u001b[39;00m\n\u001b[32m--> \u001b[39m\u001b[32m620\u001b[39m parser = \u001b[43mTextFileReader\u001b[49m\u001b[43m(\u001b[49m\u001b[43mfilepath_or_buffer\u001b[49m\u001b[43m,\u001b[49m\u001b[43m \u001b[49m\u001b[43m*\u001b[49m\u001b[43m*\u001b[49m\u001b[43mkwds\u001b[49m\u001b[43m)\u001b[49m\n\u001b[32m    622\u001b[39m \u001b[38;5;28;01mif\u001b[39;00m chunksize \u001b[38;5;129;01mor\u001b[39;00m iterator:\n\u001b[32m    623\u001b[39m     \u001b[38;5;28;01mreturn\u001b[39;00m parser\n",
            "\u001b[36mFile \u001b[39m\u001b[32m~/Downloads/Medium_Secret/University/Programming/Python/src/venvol/lib/python3.11/site-packages/pandas/io/parsers/readers.py:1620\u001b[39m, in \u001b[36mTextFileReader.__init__\u001b[39m\u001b[34m(self, f, engine, **kwds)\u001b[39m\n\u001b[32m   1617\u001b[39m     \u001b[38;5;28mself\u001b[39m.options[\u001b[33m\"\u001b[39m\u001b[33mhas_index_names\u001b[39m\u001b[33m\"\u001b[39m] = kwds[\u001b[33m\"\u001b[39m\u001b[33mhas_index_names\u001b[39m\u001b[33m\"\u001b[39m]\n\u001b[32m   1619\u001b[39m \u001b[38;5;28mself\u001b[39m.handles: IOHandles | \u001b[38;5;28;01mNone\u001b[39;00m = \u001b[38;5;28;01mNone\u001b[39;00m\n\u001b[32m-> \u001b[39m\u001b[32m1620\u001b[39m \u001b[38;5;28mself\u001b[39m._engine = \u001b[38;5;28;43mself\u001b[39;49m\u001b[43m.\u001b[49m\u001b[43m_make_engine\u001b[49m\u001b[43m(\u001b[49m\u001b[43mf\u001b[49m\u001b[43m,\u001b[49m\u001b[43m \u001b[49m\u001b[38;5;28;43mself\u001b[39;49m\u001b[43m.\u001b[49m\u001b[43mengine\u001b[49m\u001b[43m)\u001b[49m\n",
            "\u001b[36mFile \u001b[39m\u001b[32m~/Downloads/Medium_Secret/University/Programming/Python/src/venvol/lib/python3.11/site-packages/pandas/io/parsers/readers.py:1880\u001b[39m, in \u001b[36mTextFileReader._make_engine\u001b[39m\u001b[34m(self, f, engine)\u001b[39m\n\u001b[32m   1878\u001b[39m     \u001b[38;5;28;01mif\u001b[39;00m \u001b[33m\"\u001b[39m\u001b[33mb\u001b[39m\u001b[33m\"\u001b[39m \u001b[38;5;129;01mnot\u001b[39;00m \u001b[38;5;129;01min\u001b[39;00m mode:\n\u001b[32m   1879\u001b[39m         mode += \u001b[33m\"\u001b[39m\u001b[33mb\u001b[39m\u001b[33m\"\u001b[39m\n\u001b[32m-> \u001b[39m\u001b[32m1880\u001b[39m \u001b[38;5;28mself\u001b[39m.handles = \u001b[43mget_handle\u001b[49m\u001b[43m(\u001b[49m\n\u001b[32m   1881\u001b[39m \u001b[43m    \u001b[49m\u001b[43mf\u001b[49m\u001b[43m,\u001b[49m\n\u001b[32m   1882\u001b[39m \u001b[43m    \u001b[49m\u001b[43mmode\u001b[49m\u001b[43m,\u001b[49m\n\u001b[32m   1883\u001b[39m \u001b[43m    \u001b[49m\u001b[43mencoding\u001b[49m\u001b[43m=\u001b[49m\u001b[38;5;28;43mself\u001b[39;49m\u001b[43m.\u001b[49m\u001b[43moptions\u001b[49m\u001b[43m.\u001b[49m\u001b[43mget\u001b[49m\u001b[43m(\u001b[49m\u001b[33;43m\"\u001b[39;49m\u001b[33;43mencoding\u001b[39;49m\u001b[33;43m\"\u001b[39;49m\u001b[43m,\u001b[49m\u001b[43m \u001b[49m\u001b[38;5;28;43;01mNone\u001b[39;49;00m\u001b[43m)\u001b[49m\u001b[43m,\u001b[49m\n\u001b[32m   1884\u001b[39m \u001b[43m    \u001b[49m\u001b[43mcompression\u001b[49m\u001b[43m=\u001b[49m\u001b[38;5;28;43mself\u001b[39;49m\u001b[43m.\u001b[49m\u001b[43moptions\u001b[49m\u001b[43m.\u001b[49m\u001b[43mget\u001b[49m\u001b[43m(\u001b[49m\u001b[33;43m\"\u001b[39;49m\u001b[33;43mcompression\u001b[39;49m\u001b[33;43m\"\u001b[39;49m\u001b[43m,\u001b[49m\u001b[43m \u001b[49m\u001b[38;5;28;43;01mNone\u001b[39;49;00m\u001b[43m)\u001b[49m\u001b[43m,\u001b[49m\n\u001b[32m   1885\u001b[39m \u001b[43m    \u001b[49m\u001b[43mmemory_map\u001b[49m\u001b[43m=\u001b[49m\u001b[38;5;28;43mself\u001b[39;49m\u001b[43m.\u001b[49m\u001b[43moptions\u001b[49m\u001b[43m.\u001b[49m\u001b[43mget\u001b[49m\u001b[43m(\u001b[49m\u001b[33;43m\"\u001b[39;49m\u001b[33;43mmemory_map\u001b[39;49m\u001b[33;43m\"\u001b[39;49m\u001b[43m,\u001b[49m\u001b[43m \u001b[49m\u001b[38;5;28;43;01mFalse\u001b[39;49;00m\u001b[43m)\u001b[49m\u001b[43m,\u001b[49m\n\u001b[32m   1886\u001b[39m \u001b[43m    \u001b[49m\u001b[43mis_text\u001b[49m\u001b[43m=\u001b[49m\u001b[43mis_text\u001b[49m\u001b[43m,\u001b[49m\n\u001b[32m   1887\u001b[39m \u001b[43m    \u001b[49m\u001b[43merrors\u001b[49m\u001b[43m=\u001b[49m\u001b[38;5;28;43mself\u001b[39;49m\u001b[43m.\u001b[49m\u001b[43moptions\u001b[49m\u001b[43m.\u001b[49m\u001b[43mget\u001b[49m\u001b[43m(\u001b[49m\u001b[33;43m\"\u001b[39;49m\u001b[33;43mencoding_errors\u001b[39;49m\u001b[33;43m\"\u001b[39;49m\u001b[43m,\u001b[49m\u001b[43m \u001b[49m\u001b[33;43m\"\u001b[39;49m\u001b[33;43mstrict\u001b[39;49m\u001b[33;43m\"\u001b[39;49m\u001b[43m)\u001b[49m\u001b[43m,\u001b[49m\n\u001b[32m   1888\u001b[39m \u001b[43m    \u001b[49m\u001b[43mstorage_options\u001b[49m\u001b[43m=\u001b[49m\u001b[38;5;28;43mself\u001b[39;49m\u001b[43m.\u001b[49m\u001b[43moptions\u001b[49m\u001b[43m.\u001b[49m\u001b[43mget\u001b[49m\u001b[43m(\u001b[49m\u001b[33;43m\"\u001b[39;49m\u001b[33;43mstorage_options\u001b[39;49m\u001b[33;43m\"\u001b[39;49m\u001b[43m,\u001b[49m\u001b[43m \u001b[49m\u001b[38;5;28;43;01mNone\u001b[39;49;00m\u001b[43m)\u001b[49m\u001b[43m,\u001b[49m\n\u001b[32m   1889\u001b[39m \u001b[43m\u001b[49m\u001b[43m)\u001b[49m\n\u001b[32m   1890\u001b[39m \u001b[38;5;28;01massert\u001b[39;00m \u001b[38;5;28mself\u001b[39m.handles \u001b[38;5;129;01mis\u001b[39;00m \u001b[38;5;129;01mnot\u001b[39;00m \u001b[38;5;28;01mNone\u001b[39;00m\n\u001b[32m   1891\u001b[39m f = \u001b[38;5;28mself\u001b[39m.handles.handle\n",
            "\u001b[36mFile \u001b[39m\u001b[32m~/Downloads/Medium_Secret/University/Programming/Python/src/venvol/lib/python3.11/site-packages/pandas/io/common.py:873\u001b[39m, in \u001b[36mget_handle\u001b[39m\u001b[34m(path_or_buf, mode, encoding, compression, memory_map, is_text, errors, storage_options)\u001b[39m\n\u001b[32m    868\u001b[39m \u001b[38;5;28;01melif\u001b[39;00m \u001b[38;5;28misinstance\u001b[39m(handle, \u001b[38;5;28mstr\u001b[39m):\n\u001b[32m    869\u001b[39m     \u001b[38;5;66;03m# Check whether the filename is to be opened in binary mode.\u001b[39;00m\n\u001b[32m    870\u001b[39m     \u001b[38;5;66;03m# Binary mode does not support 'encoding' and 'newline'.\u001b[39;00m\n\u001b[32m    871\u001b[39m     \u001b[38;5;28;01mif\u001b[39;00m ioargs.encoding \u001b[38;5;129;01mand\u001b[39;00m \u001b[33m\"\u001b[39m\u001b[33mb\u001b[39m\u001b[33m\"\u001b[39m \u001b[38;5;129;01mnot\u001b[39;00m \u001b[38;5;129;01min\u001b[39;00m ioargs.mode:\n\u001b[32m    872\u001b[39m         \u001b[38;5;66;03m# Encoding\u001b[39;00m\n\u001b[32m--> \u001b[39m\u001b[32m873\u001b[39m         handle = \u001b[38;5;28;43mopen\u001b[39;49m\u001b[43m(\u001b[49m\n\u001b[32m    874\u001b[39m \u001b[43m            \u001b[49m\u001b[43mhandle\u001b[49m\u001b[43m,\u001b[49m\n\u001b[32m    875\u001b[39m \u001b[43m            \u001b[49m\u001b[43mioargs\u001b[49m\u001b[43m.\u001b[49m\u001b[43mmode\u001b[49m\u001b[43m,\u001b[49m\n\u001b[32m    876\u001b[39m \u001b[43m            \u001b[49m\u001b[43mencoding\u001b[49m\u001b[43m=\u001b[49m\u001b[43mioargs\u001b[49m\u001b[43m.\u001b[49m\u001b[43mencoding\u001b[49m\u001b[43m,\u001b[49m\n\u001b[32m    877\u001b[39m \u001b[43m            \u001b[49m\u001b[43merrors\u001b[49m\u001b[43m=\u001b[49m\u001b[43merrors\u001b[49m\u001b[43m,\u001b[49m\n\u001b[32m    878\u001b[39m \u001b[43m            \u001b[49m\u001b[43mnewline\u001b[49m\u001b[43m=\u001b[49m\u001b[33;43m\"\u001b[39;49m\u001b[33;43m\"\u001b[39;49m\u001b[43m,\u001b[49m\n\u001b[32m    879\u001b[39m \u001b[43m        \u001b[49m\u001b[43m)\u001b[49m\n\u001b[32m    880\u001b[39m     \u001b[38;5;28;01melse\u001b[39;00m:\n\u001b[32m    881\u001b[39m         \u001b[38;5;66;03m# Binary mode\u001b[39;00m\n\u001b[32m    882\u001b[39m         handle = \u001b[38;5;28mopen\u001b[39m(handle, ioargs.mode)\n",
            "\u001b[31mFileNotFoundError\u001b[39m: [Errno 2] No such file or directory: '/content/_metadata_countries_v1_2.csv'"
          ]
        }
      ],
      "source": [
        "# Load environmental data\n",
        "env_path = \"/content/_metadata_countries_v1_2.csv\"\n",
        "env = pd.read_csv(env_path)\n"
      ]
    },
    {
      "cell_type": "code",
      "execution_count": null,
      "metadata": {
        "colab": {
          "base_uri": "https://localhost:8080/"
        },
        "id": "ifcrJHx44x-h",
        "outputId": "8c0cee8b-2f8f-44cf-ffbf-b24c7fbf461b"
      },
      "outputs": [
        {
          "name": "stdout",
          "output_type": "stream",
          "text": [
            "  country_name iso3  region_id  included  total_value [USD] data_source  \\\n",
            "0        Aruba  ABW        533         1       3.304838e+09         nfw   \n",
            "1  Afghanistan  AFG          4         1       2.554957e+10         nfw   \n",
            "2       Angola  AGO         24         1       1.360000e+11         nfw   \n",
            "3     Anguilla  AIA        660         1       2.187659e+08         nfw   \n",
            "4      Albania  ALB          8         1       4.388946e+10          pc   \n",
            "\n",
            "   evaluation  produced_capital [USD]     GDP [USD]  GDP_year  \\\n",
            "0           0                     NaN  2.649721e+09    2014.0   \n",
            "1           0                     NaN  2.048487e+10    2014.0   \n",
            "2           0                     NaN  1.460000e+11    2014.0   \n",
            "3           0                     NaN  1.754000e+08    2009.0   \n",
            "4           0            4.388946e+10  1.322825e+10    2014.0   \n",
            "\n",
            "   GDP-to-NFW_ratio     NFW [USD] GPW_highest_admin_level  \\\n",
            "0           1.24724  3.304838e+09                       2   \n",
            "1           1.24724  2.554955e+10                       2   \n",
            "2           0.93663  1.360000e+11                       2   \n",
            "3           1.24724  2.187659e+08                       0   \n",
            "4           1.60900  2.128425e+10                       3   \n",
            "\n",
            "   GPW_Number_of_regions  \n",
            "0                     55  \n",
            "1                    401  \n",
            "2                    161  \n",
            "3                      1  \n",
            "4                    373  \n"
          ]
        }
      ],
      "source": [
        "# Inspect environmental data\n",
        "print(env.head())"
      ]
    },
    {
      "cell_type": "code",
      "execution_count": null,
      "metadata": {
        "colab": {
          "base_uri": "https://localhost:8080/"
        },
        "id": "HBl1p4OLtP-R",
        "outputId": "6c83c6ff-290f-4d92-8428-731578fbd61b"
      },
      "outputs": [
        {
          "name": "stdout",
          "output_type": "stream",
          "text": [
            "<class 'pandas.core.frame.DataFrame'>\n",
            "RangeIndex: 250 entries, 0 to 249\n",
            "Data columns (total 14 columns):\n",
            " #   Column                   Non-Null Count  Dtype  \n",
            "---  ------                   --------------  -----  \n",
            " 0   country_name             250 non-null    object \n",
            " 1   iso3                     250 non-null    object \n",
            " 2   region_id                250 non-null    int64  \n",
            " 3   included                 250 non-null    int64  \n",
            " 4   total_value [USD]        224 non-null    float64\n",
            " 5   data_source              250 non-null    object \n",
            " 6   evaluation               250 non-null    int64  \n",
            " 7   produced_capital [USD]   141 non-null    float64\n",
            " 8   GDP [USD]                232 non-null    float64\n",
            " 9   GDP_year                 233 non-null    float64\n",
            " 10  GDP-to-NFW_ratio         225 non-null    float64\n",
            " 11  NFW [USD]                224 non-null    float64\n",
            " 12  GPW_highest_admin_level  250 non-null    object \n",
            " 13  GPW_Number_of_regions    250 non-null    int64  \n",
            "dtypes: float64(6), int64(4), object(4)\n",
            "memory usage: 27.5+ KB\n",
            "None\n"
          ]
        }
      ],
      "source": [
        "# Inspect environmental data\n",
        "\n",
        "print(env.info())"
      ]
    },
    {
      "cell_type": "markdown",
      "metadata": {
        "id": "hrWWlWyutP-R"
      },
      "source": [
        "### Exercise 2: Spatial Join or Nearest Neighbor Matching\n",
        "**Task:** Merge environmental data with steel plants based on geographic proximity.\n",
        "- Use nearest neighbor matching or spatial join\n",
        "- Consider using geopandas for distance calculations\n",
        "- Match each plant to the nearest environmental monitoring station\n"
      ]
    },
    {
      "cell_type": "code",
      "execution_count": null,
      "metadata": {
        "id": "rpT5aFhTtP-R"
      },
      "outputs": [],
      "source": [
        "# Merge datasets\n",
        "\n"
      ]
    },
    {
      "cell_type": "markdown",
      "metadata": {
        "id": "97IQkz4vtP-R"
      },
      "source": [
        "### Exercise 3: Visualize Merged Data\n",
        "**Task:** Create a map showing steel plants colored by environmental metrics.\n",
        "- Color plants by air quality index or other environmental indicators\n",
        "- Size by capacity\n",
        "- Add hover details with both plant and environmental information\n"
      ]
    },
    {
      "cell_type": "code",
      "execution_count": null,
      "metadata": {
        "id": "ymYWDm9xtP-R"
      },
      "outputs": [],
      "source": [
        "# Create visualization of merged data\n",
        "\n"
      ]
    },
    {
      "cell_type": "markdown",
      "metadata": {
        "id": "gDHi3JP8tP-R"
      },
      "source": [
        "---\n",
        "## Part 5: Company-Level Aggregation\n",
        "\n",
        "Aggregate data at the company level to analyze corporate footprints.\n"
      ]
    },
    {
      "cell_type": "markdown",
      "metadata": {
        "id": "TAJuBfmStP-R"
      },
      "source": [
        "### Exercise 1: Aggregate Metrics by Company\n",
        "**Task:** Group plants by company and calculate aggregate metrics.\n",
        "- Total capacity per company\n",
        "- Number of plants per company\n",
        "- Average environmental metrics per company\n",
        "- Geographic spread (e.g., number of countries)\n"
      ]
    },
    {
      "cell_type": "code",
      "execution_count": 16,
      "metadata": {
        "colab": {
          "base_uri": "https://localhost:8080/"
        },
        "id": "_4mju0OQtP-R",
        "outputId": "983282f9-8377-43c8-8bae-540f6df051df"
      },
      "outputs": [
        {
          "name": "stdout",
          "output_type": "stream",
          "text": [
            "                                              Parent  total_capacity  \\\n",
            "0                        ABA Çelik Demir LŞ [100.0%]             0.0   \n",
            "1                          ADV Partners Holdings Ltd             0.0   \n",
            "2                            Abba Steel Ltd [100.0%]             0.0   \n",
            "3  Abei Energy; Helvella Holding; Russula SA; Sie...             0.0   \n",
            "4  Abu Dhabi National for Building Materials Co P...             0.0   \n",
            "\n",
            "   num_plants  avg_age  num_countries  ISO 14001_avg  ISO 50001_avg  \\\n",
            "0           1    42.00              1            NaN            NaN   \n",
            "1           1    12.86              1            NaN            NaN   \n",
            "2           1      NaN              1            NaN            NaN   \n",
            "3           1      NaN              1            NaN            NaN   \n",
            "4           1      NaN              1            NaN            NaN   \n",
            "\n",
            "   ResponsibleSteel Certification_avg  \n",
            "0                                 NaN  \n",
            "1                                 NaN  \n",
            "2                                 NaN  \n",
            "3                                 NaN  \n",
            "4                                 NaN  \n"
          ]
        }
      ],
      "source": [
        "# Group by company and aggregate\n",
        "\n",
        "df[main_cap_col] = pd.to_numeric(df[main_cap_col], errors='coerce')\n",
        "\n",
        "company_agg = (\n",
        "    df.groupby('Parent', dropna=True)\n",
        "      .agg(\n",
        "          total_capacity=(main_cap_col, 'sum'),\n",
        "          num_plants=('Plant name (English)', 'count'),\n",
        "          avg_age=('Plant age (years)', 'mean'),\n",
        "          num_countries=('Country/Area', pd.Series.nunique)\n",
        "      )\n",
        "      .reset_index()\n",
        ")\n",
        "\n",
        "# Add mean of each ISO certification if available\n",
        "for cert in ['ISO 14001', 'ISO 50001', 'ResponsibleSteel Certification']:\n",
        "    if cert in df.columns:\n",
        "        company_agg[f\"{cert}_avg\"] = (\n",
        "            df.groupby('Parent')[cert].apply(lambda x: pd.to_numeric(x, errors='coerce').mean())\n",
        "        ).values\n",
        "\n",
        "print(company_agg.head())"
      ]
    },
    {
      "cell_type": "markdown",
      "metadata": {
        "id": "TKs6AlFrtP-S"
      },
      "source": [
        "### Exercise 2: Company Headquarters or Centroid\n",
        "**Task:** Calculate a representative location for each company.\n",
        "- Option 1: Use the centroid of all plant locations\n",
        "- Option 2: Use the location of the largest plant\n",
        "- Option 3: Assign actual headquarters coordinates\n"
      ]
    },
    {
      "cell_type": "code",
      "execution_count": 17,
      "metadata": {
        "colab": {
          "base_uri": "https://localhost:8080/",
          "height": 678
        },
        "id": "DfaBVIRStP-S",
        "outputId": "042b9fee-3fd4-4459-9f66-12be84c05d78"
      },
      "outputs": [
        {
          "name": "stderr",
          "output_type": "stream",
          "text": [
            "/tmp/ipykernel_14734/2194420029.py:15: FutureWarning:\n",
            "\n",
            "DataFrameGroupBy.apply operated on the grouping columns. This behavior is deprecated, and in a future version of pandas the grouping columns will be excluded from the operation. Either pass `include_groups=False` to exclude the groupings or explicitly select the grouping columns after groupby to silence this warning.\n",
            "\n"
          ]
        },
        {
          "data": {
            "text/html": [
              "<div>\n",
              "<style scoped>\n",
              "    .dataframe tbody tr th:only-of-type {\n",
              "        vertical-align: middle;\n",
              "    }\n",
              "\n",
              "    .dataframe tbody tr th {\n",
              "        vertical-align: top;\n",
              "    }\n",
              "\n",
              "    .dataframe thead th {\n",
              "        text-align: right;\n",
              "    }\n",
              "</style>\n",
              "<table border=\"1\" class=\"dataframe\">\n",
              "  <thead>\n",
              "    <tr style=\"text-align: right;\">\n",
              "      <th></th>\n",
              "      <th>Parent</th>\n",
              "      <th>total_capacity</th>\n",
              "      <th>num_plants</th>\n",
              "      <th>avg_age</th>\n",
              "      <th>num_countries</th>\n",
              "      <th>ISO 14001_avg</th>\n",
              "      <th>ISO 50001_avg</th>\n",
              "      <th>ResponsibleSteel Certification_avg</th>\n",
              "      <th>Latitude_centroid</th>\n",
              "      <th>Longitude_centroid</th>\n",
              "      <th>Latitude_largest</th>\n",
              "      <th>Longitude_largest</th>\n",
              "    </tr>\n",
              "  </thead>\n",
              "  <tbody>\n",
              "    <tr>\n",
              "      <th>0</th>\n",
              "      <td>ABA Çelik Demir LŞ [100.0%]</td>\n",
              "      <td>0.0</td>\n",
              "      <td>1</td>\n",
              "      <td>42.00</td>\n",
              "      <td>1</td>\n",
              "      <td>NaN</td>\n",
              "      <td>NaN</td>\n",
              "      <td>NaN</td>\n",
              "      <td>36.747413</td>\n",
              "      <td>36.217330</td>\n",
              "      <td>NaN</td>\n",
              "      <td>NaN</td>\n",
              "    </tr>\n",
              "    <tr>\n",
              "      <th>1</th>\n",
              "      <td>ADV Partners Holdings Ltd</td>\n",
              "      <td>0.0</td>\n",
              "      <td>1</td>\n",
              "      <td>12.86</td>\n",
              "      <td>1</td>\n",
              "      <td>NaN</td>\n",
              "      <td>NaN</td>\n",
              "      <td>NaN</td>\n",
              "      <td>14.873471</td>\n",
              "      <td>78.048425</td>\n",
              "      <td>NaN</td>\n",
              "      <td>NaN</td>\n",
              "    </tr>\n",
              "    <tr>\n",
              "      <th>2</th>\n",
              "      <td>Abba Steel Ltd [100.0%]</td>\n",
              "      <td>0.0</td>\n",
              "      <td>1</td>\n",
              "      <td>NaN</td>\n",
              "      <td>1</td>\n",
              "      <td>NaN</td>\n",
              "      <td>NaN</td>\n",
              "      <td>NaN</td>\n",
              "      <td>-17.397866</td>\n",
              "      <td>15.891022</td>\n",
              "      <td>NaN</td>\n",
              "      <td>NaN</td>\n",
              "    </tr>\n",
              "    <tr>\n",
              "      <th>3</th>\n",
              "      <td>Abei Energy; Helvella Holding; Russula SA; Sie...</td>\n",
              "      <td>0.0</td>\n",
              "      <td>1</td>\n",
              "      <td>NaN</td>\n",
              "      <td>1</td>\n",
              "      <td>NaN</td>\n",
              "      <td>NaN</td>\n",
              "      <td>NaN</td>\n",
              "      <td>38.688849</td>\n",
              "      <td>-4.107015</td>\n",
              "      <td>NaN</td>\n",
              "      <td>NaN</td>\n",
              "    </tr>\n",
              "    <tr>\n",
              "      <th>4</th>\n",
              "      <td>Abu Dhabi National for Building Materials Co P...</td>\n",
              "      <td>0.0</td>\n",
              "      <td>1</td>\n",
              "      <td>NaN</td>\n",
              "      <td>1</td>\n",
              "      <td>NaN</td>\n",
              "      <td>NaN</td>\n",
              "      <td>NaN</td>\n",
              "      <td>24.378720</td>\n",
              "      <td>54.475153</td>\n",
              "      <td>NaN</td>\n",
              "      <td>NaN</td>\n",
              "    </tr>\n",
              "  </tbody>\n",
              "</table>\n",
              "</div>"
            ],
            "text/plain": [
              "                                              Parent  total_capacity  \\\n",
              "0                        ABA Çelik Demir LŞ [100.0%]             0.0   \n",
              "1                          ADV Partners Holdings Ltd             0.0   \n",
              "2                            Abba Steel Ltd [100.0%]             0.0   \n",
              "3  Abei Energy; Helvella Holding; Russula SA; Sie...             0.0   \n",
              "4  Abu Dhabi National for Building Materials Co P...             0.0   \n",
              "\n",
              "   num_plants  avg_age  num_countries  ISO 14001_avg  ISO 50001_avg  \\\n",
              "0           1    42.00              1            NaN            NaN   \n",
              "1           1    12.86              1            NaN            NaN   \n",
              "2           1      NaN              1            NaN            NaN   \n",
              "3           1      NaN              1            NaN            NaN   \n",
              "4           1      NaN              1            NaN            NaN   \n",
              "\n",
              "   ResponsibleSteel Certification_avg  Latitude_centroid  Longitude_centroid  \\\n",
              "0                                 NaN          36.747413           36.217330   \n",
              "1                                 NaN          14.873471           78.048425   \n",
              "2                                 NaN         -17.397866           15.891022   \n",
              "3                                 NaN          38.688849           -4.107015   \n",
              "4                                 NaN          24.378720           54.475153   \n",
              "\n",
              "   Latitude_largest  Longitude_largest  \n",
              "0               NaN                NaN  \n",
              "1               NaN                NaN  \n",
              "2               NaN                NaN  \n",
              "3               NaN                NaN  \n",
              "4               NaN                NaN  "
            ]
          },
          "execution_count": 17,
          "metadata": {},
          "output_type": "execute_result"
        }
      ],
      "source": [
        "company_centroid = (\n",
        "    df.groupby('Parent')\n",
        "      .agg(Latitude_centroid=('Latitude', 'mean'),\n",
        "           Longitude_centroid=('Longitude', 'mean'))\n",
        "      .reset_index()\n",
        ")\n",
        "\n",
        "def get_largest_plant(subdf):\n",
        "    subdf = subdf.dropna(subset=[main_cap_col])\n",
        "    if subdf.empty:\n",
        "        return pd.Series({'Latitude_largest': np.nan, 'Longitude_largest': np.nan})\n",
        "    top = subdf.loc[subdf[main_cap_col].idxmax()]\n",
        "    return pd.Series({'Latitude_largest': top['Latitude'], 'Longitude_largest': top['Longitude']})\n",
        "\n",
        "company_largest = df.groupby('Parent').apply(get_largest_plant).reset_index()\n",
        "\n",
        "# Merge\n",
        "company_agg = (\n",
        "    company_agg.merge(company_centroid, on='Parent', how='left')\n",
        "                .merge(company_largest, on='Parent', how='left')\n",
        ")\n",
        "\n",
        "company_agg.head()"
      ]
    },
    {
      "cell_type": "markdown",
      "metadata": {
        "id": "djI9iqMDtP-S"
      },
      "source": [
        "### Exercise 3: Visualize Company-Level Data\n",
        "**Task:** Create a map showing companies with aggregated metrics.\n",
        "- Show one marker per company at the representative location\n",
        "- Size by total capacity\n",
        "- Color by average environmental impact\n",
        "- Hover information with company summary statistics\n"
      ]
    },
    {
      "cell_type": "code",
      "execution_count": 18,
      "metadata": {
        "colab": {
          "base_uri": "https://localhost:8080/",
          "height": 542
        },
        "id": "Ty7xIkyetP-c",
        "outputId": "d2dd8e42-05d4-48ac-c25d-a572edadf015"
      },
      "outputs": [
        {
          "data": {
            "application/vnd.plotly.v1+json": {
              "config": {
                "plotlyServerURL": "https://plot.ly"
              },
              "data": [
                {
                  "customdata": {
                    "bdata": "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",
                    "dtype": "f8",
                    "shape": "838, 4"
                  },
                  "geo": "geo",
                  "hovertemplate": "<b>%{hovertext}</b><br><br>total_capacity=%{customdata[0]}<br>Latitude_centroid=%{lat}<br>Longitude_centroid=%{lon}<br>num_plants=%{customdata[1]}<br>num_countries=%{customdata[2]}<br>avg_age=%{customdata[3]}<br>ISO 14001_avg=%{marker.color}<extra></extra>",
                  "hovertext": [
                    "ABA Çelik Demir LŞ [100.0%]",
                    "ADV Partners Holdings Ltd",
                    "Abba Steel Ltd [100.0%]",
                    "Abei Energy; Helvella Holding; Russula SA; Siemens AG",
                    "Abu Dhabi National for Building Materials Co PJSC [100.0%]",
                    "Abul Khair Ltd",
                    "Acciaierie Venete SpA [100.0%]",
                    "Acerinox SA [100.0%]",
                    "Acerinox SA [76.0%]; Industrial Development Corporation of South Africa Ltd [24.0%]",
                    "Aceros Turia Inc",
                    "Action Ispat and Power Pvt Ltd [100.0%]",
                    "African Industries Ltd",
                    "Agha Steel Industries Ltd [100.0%]",
                    "Aichi Steel Corp [100.0%]",
                    "Ajaokuta Steel Co Ltd [100.0%]",
                    "Aktobe Generatsiya LLC [100.0%]",
                    "Al Atoun Steel Industries [100.0%]",
                    "Al Ezz Dekheila Steel Company Alexandria SAE [100.0%]",
                    "Al Ezz Dekheila Steel Company Alexandria SAE [18.0%]; National Service Project Organization",
                    "Al Qaryan Group [75.0%]; Al Wabel for Trading and Industry [25.0%]",
                    "Al Tanmiya Co; Al-Massira International Co; Astra Industrial Group Company SJSC",
                    "Al Tuwairqi Holding Co",
                    "AlGioshy Steel SAE [100.0%]",
                    "Algoma Steel Group Inc [100.0%]",
                    "Alton Steel Inc [100.0%]",
                    "Amirkabir Khazar Steel Co",
                    "Amreli Steels Ltd [100.0%]",
                    "Anchorage Capital Advisors LP; Anchorage Capital Group LLC; Attestor Services Ltd; Deutsche Bank AG; GoldenTree Asset Management LP; Midwood Holdings LLC",
                    "Angang Steel Co Ltd [100.0%]",
                    "Anhui Guihang Special Steel Co Ltd [100.0%]",
                    "Anhui Jingxian Longxin Iron and Steel Co Ltd [100.0%]",
                    "Anhui Langxi County Fuhang Steel Co Ltd [100.0%]",
                    "Anhui Xinda Steel Development Co Ltd [100.0%]",
                    "Ann Joo Resources Bhd [100.0%]",
                    "Anshan Baode Iron & Steel Co Ltd [100.0%]",
                    "Ansteel Group Co Ltd [100.0%]",
                    "Ansteel Group Co Ltd [46.5%]; Bengang Group Co Ltd [27.7%]; Liaoning Huida Enterprise Management Co Ltd [8.2%]; China Minmetals Corp [7.0%]; unknown [6.4%]; Beijing Jianlong Investment Co Ltd [2.9%]; Fushun State-Owned Assets Management Co Ltd [1.3%]",
                    "Ansteel Group Co Ltd [60.0%]; Lianzhong Co Ltd [18.2%]; power rich Co Ltd [17.4%]; unknown [4.4%]",
                    "Anyang Iron & Steel Co Ltd [100.0%]",
                    "Anyang Iron & Steel Co Ltd [76.9%]; Zhoukou Investment Group Co Ltd [9.1%]; Henan Agric. Synthesis Exploitation Co Ltd [4.6%]; unknown [4.4%]; Sanmenxia Investment Group Co Ltd [2.4%]; Kaifeng Construction Lnvestment Co Ltd [1.2%]; Xinxiang Muye Development Management Co Ltd [0.9%]; Hoyer GmbH [0.2%]; China Logistics Group Co Ltd [0.1%]; Beijing Guanglong Enterprise Management Consulting Center LP [0.1%]; Guangxi Yingtongtong Investment Co Ltd [0.1%]; Huludao Hongyun Group Co Ltd [0.0%]; Sichuan Development Holding Co Ltd [0.0%]; Wuhan Industrial Investment Holding Group Co Ltd [0.0%]; Shihezi Shangde Equity Investment Partnership LP [0.0%]",
                    "Aperam SA",
                    "Aperam SA [100.0%]",
                    "Arabian Gulf Steel Industries Selling Port LLC [100.0%]",
                    "ArcelorMittal Atlantique et Lorraine SAS [100.0%]",
                    "ArcelorMittal Hunedoara SA [100.0%]",
                    "ArcelorMittal SA [100.0%]",
                    "ArcelorMittal SA [60.0%]; Nippon Steel Corp [40.0%]",
                    "ArcelorMittal SA [62.0%]; Invitalia SpA SpA [38.0%]",
                    "ArcelorMittal SA [95.1%]; small shareholder(s) [4.9%]",
                    "ArcelorMittal SA [97.1%]; small shareholder(s) [2.9%]",
                    "ArcelorMittal SA [99.8%]; small shareholder(s) [0.2%]",
                    "ArcelorMittal SA; small shareholder(s)",
                    "ArcelorMittal South Africa Ltd [100.0%]",
                    "ArcelorMittal Tubarão Comercial SA [100.0%]",
                    "Armada JSC [100.0%]",
                    "Arvand Jahanara Steel Co [100.0%]",
                    "Arvand Kaveh Steel Co [100.0%]",
                    "Asean Steel JSC [100.0%]",
                    "Asia Pacific Investments Ltd; natural person(s)",
                    "Atha Group [47.5%]; Ghanashyam Misra & Sons Pvt Ltd [47.5%]",
                    "Azna Steel [100.0%]",
                    "BAP Al-Khair Steel Company [100.0%]",
                    "BKM Mining Pvt Ltd [18.5%]; Twenty20 Securities Pvt Ltd [12.8%]; TRFI Investment Pvt Ltd [12.4%]; Saini Alloys Pvt Ltd [9.4%]; ICICI Bank Ltd [6.7%]; Industrial Promotion and Investment Corporation of Odisha Ltd [4.9%]",
                    "BMZ-Upravlyayushchaya Kompaniya Kholdinga BMK JSC [100.0%]",
                    "BNP Paribas SA; European Investment Bank; ING Groep NV; Kreditanstalt für Wiederaufbau; small shareholder(s); Société Générale SA",
                    "BSRM Steels Ltd [100.0%]",
                    "Bafgh Mineral Complex Iron & Steel Co [100.0%]",
                    "Baicheng Fuda Bar Rolling Co Ltd [100.0%]",
                    "Baku Steel Company QSC [100.0%]",
                    "Baku Steel Company QSC; China CAMC Engineering Co Ltd",
                    "Baldota Steel and Power Ltd [100.0%]",
                    "Bangkok Steel Industry PCL [100.0%]",
                    "Bangladesh Steel Re-Rolling Mills Ltd [100.0%]",
                    "Bank of Industry and Mine (Iran); Tourism Financial Group",
                    "Banka Finance & Securities Pvt Ltd [15.9%]; Atlanta Securities Pvt Ltd [15.6%]; natural person(s) [6.3%]; Sukanya Merchandise Pvt Ltd [5.5%]; Bonus Dealcom Pvt Ltd [5.5%]",
                    "Baobab Steel Ltd [100.0%]",
                    "Baoshan Iron & Steel Co Ltd [100.0%]",
                    "Baoshan Iron & Steel Co Ltd [77.0%]; China Development Bank Corp [9.1%]; The China Orient Asset Management Co Ltd [7.0%]; Nanjing State-Owned Assets Investment & Management Holding (Group) Co Ltd [6.8%]",
                    "Baoshan Iron & Steel Co Ltd [90.0%]; Guangdong Hengjian Investment Holding Co Ltd [10.0%]",
                    "Baosteel Group Xinjiang Bayi Iron & Steel Co Ltd [100.0%]",
                    "Baotou Baoxin Special Steel Co Ltd [100.0%]",
                    "Baotou DA AN IRON&STEEL Co Ltd [100.0%]",
                    "Baotou Deshun Spec. Steel Co Ltd [100.0%]",
                    "Barz Group; Hend Steel Co",
                    "Bashundhara Group Ltd",
                    "Beijing Dow Investment Holding Co Ltd [81.3%]; Minmetals Development Co Ltd [15.7%]; unknown [3.0%]",
                    "Beijing Fangda International Industrial Investment Group Co Ltd [60.9%]; unknown [21.5%]; Jiangxi Pxsteel Industrial Co Ltd [10.3%]; Gongqingcheng Huaershun Investment Center LP [7.3%]",
                    "Beijing Fangda International Industrial Investment Group Co Ltd [69.3%]; unknown [24.6%]; China Cinda Asset Management Co Ltd [6.1%]",
                    "Beijing Jianlong Investment Co Ltd [43.3%]; Guotao Co Ltd (Hong Kong) [38.9%]; Yushan (Beijing) Metallurgical Investment Co Ltd [12.1%]; unknown [5.7%]",
                    "Beijing Jianlong Investment Co Ltd [59.2%]; Inner Mongolia Yellow River Energy Technology Group Co Ltd [32.8%]; unknown [8.1%]",
                    "Beijing Jianlong Investment Co Ltd [63.2%]; Fushun State-Owned Assets Management Co Ltd [29.3%]; unknown [7.5%]",
                    "Beijing Jianlong Investment Co Ltd [81.3%]; unknown [12.9%]; Shengjing Bank Co Ltd [2.6%]; China Bohai Bank Co Ltd [1.3%]; Liaoshen Bank Co Ltd [0.4%]; Hua Xia Bank Co Ltd [0.4%]; China Merchants Bank Co Ltd [0.4%]; SDIC Capital Co Ltd [0.3%]; Everbright Financial Investment Co Ltd [0.2%]; Everbright Securities Co Ltd [0.1%]; Jingmen City Construction Investment Holding Group Co Ltd [0.0%]; Beijing Jiatai Hengye Investment Co Ltd [0.0%]; Jiangsu Yueda Group Co Ltd [0.0%]; Xinzheng TEDA Investment Co Ltd [0.0%]; Credit Suisse AG [0.0%]; Beijing Hongliheng Consulting Co Ltd [0.0%]; China Development Bank Corp [0.0%]; Hongtai Hengye Investment Co Ltd [0.0%]; Beijing Dongrunjuxiangshuwu Co Ltd [0.0%]; Guardian Investment HOLDINGS Co Ltd [0.0%]; Jiangsu Xinhong Investment Partnership LP [0.0%]; Yongjin Industry (Group) Co Ltd [0.0%]; Jiangsu Century New Town Investment Holding Group Co Ltd [0.0%]; Beijing Wudou Trading Co Ltd [0.0%]; Yunnan State Owned Financial Capital Holding Group Co Ltd [0.0%]; Shanghai Nanometer Venture Investment Co Ltd [0.0%]; Wuhan Huabing Real Estate Co Ltd [0.0%]; Beijing Zhijin Technology Investment Co Ltd [0.0%]; Beijing Tiandi Runda Advertising Co Ltd [0.0%]; Boao Investment Co Ltd [0.0%]; Wuhan Jiaxinghe Real Estate Co Ltd [0.0%]; Wuhan Xindi Chuangjia Decoration Engineering Co Ltd [0.0%]; Shenzhen Hehao Investment Co Ltd [0.0%]",
                    "Beijing Jianlong Investment Co Ltd [87.6%]; unknown [12.4%]",
                    "Beijing Jianlong Investment Co Ltd [90.2%]; unknown [9.8%]",
                    "Beijing Jianlong Investment Co Ltd; Hiap Teck Venture Bhd; unknown",
                    "Beijing Shougang Co Ltd [100.0%]",
                    "Beijing State-owned Capital Management Center [56.2%]; unknown [16.9%]; Industrial and Commercial Bank of China Ltd [8.3%]; China Construction Bank Corp [8.1%]; Bank of China Ltd [6.5%]; BANK of Jilin Co Ltd [0.9%]; Hana Bank Co Ltd [0.9%]; Changchun Financial Holding Group Co Ltd [0.6%]; Jilin Financial Holding Group Co Ltd [0.6%]; Jilin YATAI (GROUP) Co Ltd [0.5%]; Jilin PROVINCE Inestment Group Co Ltd [0.3%]; Changchun City Development Investment Holding (Group) Co Ltd [0.1%]",
                    "Beijing State-owned Capital Management Center [61.1%]; China Huarong Asset Management Co Ltd [16.2%]; China Cinda Asset Management Co Ltd [13.2%]; unknown [9.6%]",
                    "Beijing State-owned Capital Management Center [70.0%]; Guizhou Qiansheng State-Owned Assets Management Co Ltd [29.7%]; unknown [0.3%]",
                    "Beijing State-owned Capital Management Center [90.0%]; Changzhi State-owned Industry Asset Operation Co Ltd [10.0%]",
                    "Beltrame Holding SpA [73.7%]; unknown [26.3%]",
                    "Beltrame Holding SpA [79.4%]; unknown [21.6%]",
                    "Beltrame Holding SpA [86.1%]; unknown [7.6%]",
                    "Beltrame Holding SpA [91.9%]; unknown [8.1%]",
                    "Bengang Steel Plates Co Ltd [100.0%]",
                    "Benteler International AG",
                    "Berhard Development Corporation (Private) Ltd [100.0%]",
                    "Beshay Steel; National Service Products Organization",
                    "Best Grace Holdings Pte Ltd [100.0%]",
                    "Bipadosa SL",
                    "BlueScope Steel Ltd [100.0%]",
                    "Breakthrough Energy Ventures LLC; unknown",
                    "Briquetera del Orinoco CA [100.0%]",
                    "British Asia Pan Ruogen International Co Ltd [100.0%]",
                    "British Asia Pan Ruogen International Co Ltd [59.2%]; unknown [40.8%]",
                    "British Asia Pan Ruogen International Co Ltd [60.0%]; Tangshan Fengrun Jinruicheng Iron and Steel Co Ltd [40.0%]",
                    "Bukhamseen Holding Group Co; Iranian Mines & Mining Industries Development & Renovation Organization",
                    "CAP SA [100.0%]",
                    "CL Grupo Industrial",
                    "CNR Group Holdings Pte Ltd [99.9%]; small shareholder(s) [0.1%]",
                    "CSCEC Rongdong Investment Holding Co Ltd [89.0%]; Fang TongZhou Holding Co Ltd [7.9%]; unknown [3.1%]",
                    "CSCEC Rongdong Investment Holding Co Ltd [90.0%]; Fang TongZhou Holding Co Ltd [8.0%]; unknown [2.0%]",
                    "Cambodia Iron & Steel Mining Industry Group Co Ltd [100.0%]",
                    "Cambodia Rongfeng Investment Co Ltd [62.5%]; Hebei Wenfeng Industrial Group Co Ltd [36.4%]; unknown [1.2%]",
                    "Cangzhou Lingang Sanling Metal Co Ltd [100.0%]",
                    "Captain Steel India Ltd [100.0%]",
                    "Carbon Transition Pathways",
                    "Ceylon Steel Co Ltd [100.0%]",
                    "Chadelmu Mining and Industrial Co [43.7%]; Mining and Metals Development Investment Co [20.5%]; small shareholder(s) [18.8%]; Yaran Tube Rolling Mill Co [17.0%]",
                    "Chadormalu Mining & Industrial Co [100.0%]",
                    "Chadormalu Mining & Industrial Co; Ghadir Investment Company PJSC; Iran Alloy Steel Co; Shahrood Steel Co",
                    "Chadormello Mining and Industrial Co [52.0%]; Tajali Mines and Metals Development Co [48.0%]",
                    "Changshu Longteng Special Steel Co Ltd [100.0%]",
                    "Changzhou Dongrun Special Steel Co Ltd [90.0%]; natural person(s) [10.0%]",
                    "Chart and Capstone Integrated Ltd [100.0%]",
                    "Charter Manufacturing Co Inc [100.0%]",
                    "Chelyabinskiy Metallurgicheskiy Kombinat PJSC [100.0%]",
                    "Chengde Shengfeng Iron & Steel Co Ltd [100.0%]",
                    "Chengde Zhaofeng Steel Group Co Ltd [100.0%]",
                    "Chengdu Changfeng Steel Group Co Ltd [100.0%]",
                    "China Baowu Steel Group Co Ltd [100.0%]",
                    "China Baowu Steel Group Co Ltd [100.0%]; Eurasian Resources Group SARL [100.0%]",
                    "China Baowu Steel Group Co Ltd [48.4%]; Kunming Iron & Steel Holding Co Ltd [40.3%]; unknown [4.2%]",
                    "China Baowu Steel Group Co Ltd [70.0%]; Fujian Wugang Group Co Ltd [30.0%]",
                    "China Baowu Steel Group Co Ltd [75.0%]; Guangdong Guangwu Holding Group Co Ltd [25.0%]",
                    "China Baowu Steel Group Co Ltd [79.3%]; Xinjiang Investment Development (Group) Co Ltd [5.2%]; Industrial and Commercial Bank of China Ltd [5.0%]; Bank of China Ltd [3.8%]; Agricultural Bank of China Ltd [3.6%]; unknown [3.0%]",
                    "China Great Wall Asset Management Co Ltd [48.0%]; Beijing Jianlong Investment Co Ltd [45.5%]; unknown [6.5%]",
                    "China Minmetals Corp [14.3%]; Kelachandra Group [14.3%]; Manasara Group [14.3%]; Shanxi HONGDA Iron and Steel Group Co Ltd [14.3%]; The Joinus Venture Capital Co Ltd [14.3%]; Xinxing Cathay International Group Co Ltd [14.3%]; McWane Inc",
                    "China Railway Materials Group Holdings Ltd [49.0%]; Shuangyao Investment Co Ltd [25.0%]; Hebei Xinhua United Metallurgical Holding Group Co Ltd [15.6%]; Sinogiant Steel HOLDINGS Group Ltd [9.4%]; unknown [1.0%]",
                    "China Steel Corp [100.0%]",
                    "China Steel Corp; Formosa Plastics Corp; JFE Holdings Inc",
                    "Chizhou Guichi Guihang Metal Products Co Ltd [100.0%]",
                    "Chongqing Iron & Steel Co Ltd [100.0%]",
                    "Chongqing Yonghang Steel Group Co Ltd [100.0%]",
                    "Chongqing Zuhang Steel Co Ltd [100.0%]",
                    "Chow Steel Industries PCL [100.0%]",
                    "Chubu Steel Plate Co Ltd [100.0%]",
                    "Citic Pacific Special Steel Group Co Ltd [100.0%]",
                    "Citic Pacific Special Steel Group Co Ltd [51.0%]; Tianjin Ngs Hongda General Co [12.0%]; The China Orient Asset Management Co Ltd [9.6%]; Far East Horizon [8.9%]; Tianjin Jincheng State-Owned Capital Investment and Operations Co Ltd [8.6%]; Tianjin Guoxing Capital Operation Co Ltd [3.2%]; unknown [2.4%]; Tianjin Dongjiang Free Trade Port Area Management Committee [2.4%]; Tianjin Teda Investment Holdings Co Ltd [1.6%]; Tianjin Jinzhi State-owned Capital Investment and Operation Co Ltd [0.0%]; Tianjin STATE-OWNED CAPITAL Investment and Management Co Ltd [0.0%]; Tianjin Guoheng Investment Holding Co Ltd [0.0%]; Tianjin Port (Group) Co Ltd [0.0%]",
                    "Civil Pension Fund Investment Co",
                    "Clerbil SL",
                    "Cleveland-Cliffs Inc [100.0%]",
                    "Commercial Metals Co [100.0%]",
                    "Companhia Siderúrgica Nacional SA [100.0%]",
                    "Complejo Siderurgico de Guayana CA [100.0%]",
                    "Corporacion Aceros Arequipa SA [100.0%]",
                    "Corporacion Venezolana de Guayana [100.0%]",
                    "Corporación Siderúrgica de Venezuela SA",
                    "Cristian Lay SL [100.0%]",
                    "DRI d'Italia SpA [100.0%]",
                    "DST Nghi Son Iron and Steel JSC [100.0%]",
                    "Daehan Steel Co Ltd [100.0%]",
                    "Daehan Steel Co Ltd [70.0%]; Yamato Kogyo Co Ltd [30.0%]",
                    "Daido Steel Co Ltd [100.0%]",
                    "Danieli & C Officine Meccaniche SpA [99.9%]; small shareholder(s) [0.1%]",
                    "Dar Al Arkan Real Estate Development Company SJSC [100.0%]",
                    "Daric Investment Holding Co [100.0%]",
                    "Daye Huaxin Industrial Co Ltd [56.3%]; Hubei Xinxin Steel Group Co Ltd [21.1%]; Jin Jun'an Investment Group Co Ltd [18.9%]; unknown [3.7%]",
                    "Dazhou Hangda Steel Co Ltd [100.0%]",
                    "DeAcero SAPI de CV [100.0%]",
                    "Demirsan Haddecilik Sanayi Ve Ticaret AŞ; Longofer",
                    "Deutsche Edelstahlwerke GmbH [100.0%]",
                    "Devki Steel Mills Ltd [100.0%]",
                    "Diler Holding AŞ",
                    "Donelektrostal LLC [100.0%]",
                    "Dongkuk Steel Mill Co Ltd [100.0%]",
                    "Duferco Participations Holding SA",
                    "EIT InnoEnergy SE; Engie New Ventures SA; Forvia SE; Groupe IDEC SAS; Mitsubishi Heavy Industries Ltd; Plug Power Inc",
                    "ETRHB Industrie SpA [100.0%]",
                    "EVRAZ PLC",
                    "EVRAZ PLC [100.0%]",
                    "Egyptian Iron & Steel Co [100.0%]",
                    "Ekinciler Holding AŞ",
                    "Ekoinvest LLC [45.6%]; Lanafinans LLC [45.6%]; Oninvest LLC [8.8%]",
                    "Ekos Steel Mill PLC [100.0%]",
                    "Electrosteel Castings Ltd [100.0%]",
                    "Empresa Siderurgica del Peru SAA [100.0%]",
                    "Empresa Siderúrgica del Mutún [100.0%]",
                    "Emsteel Building Materials PJSC [100.0%]",
                    "Engiana Establishment [100.0%]",
                    "Eregli Demir ve Celik Fabrikalari AŞ [100.0%]",
                    "Ezz Steel Co [100.0%]",
                    "Ezz Steel Co [64.1%]; unknown [35.9%]",
                    "Faizan Steel [100.0%]",
                    "Fangda Special Steel Technology Co Ltd [100.0%]",
                    "Feng Hsin Steel Co Ltd [100.0%]",
                    "Feralpi Holding SpA",
                    "Ferrangoland; Modulax Industria E Comercio Ltda",
                    "Ferrostal Labedy SP zoo [100.0%]",
                    "Fin.Fer. SpA",
                    "Finarvedi SpA",
                    "Finmar SRL; Marfin SRL",
                    "Firm Partner Plus LLP; natural person(s)",
                    "Fortescue Ltd [100.0%]",
                    "Fugian Overseas Chinese Industrial Group Corp [74.0%]; Social Security and National Insurance Trust (Ghana) [26.0%]",
                    "Fuhai Group New Energy Holding Co Ltd [100.0%]",
                    "Fujian Dingsheng Steel Co Ltd [100.0%]",
                    "Fujian Great Dong Hai Industrial Group Co Ltd [100.0%]",
                    "Fujian Hengwang Investment Co Ltd [100.0%]",
                    "Fujian Huaya Group Co Ltd [64.1%]; natural person(s) [32.8%]; unknown [3.2%]",
                    "Fujian Lanming Investment Partnership LP [25.2%]; unknown [14.9%]; natural person(s) [13.9%]; Fujian Lanrui Investment Partnership LP [12.5%]; Fujian Qikun Investment Co Ltd [5.8%]; Fujian Zhongyi Investment Co Ltd [5.0%]; Fujian Taisong Investment Co Ltd [3.3%]; Fujian Qinghe Investment Co Ltd [1.9%]; Fujian Jinkun Investment Co Ltd [1.8%]; Fuzhou Deyu Investment Co Ltd [1.8%]; Fujian Shunle Investment Co Ltd [1.8%]; Fujian Yuheng Investment Co Ltd [1.8%]; Fuzhou Minqiu Trading Co Ltd [1.7%]; Fenghe Investment (Fujian) Co Ltd [1.4%]; Fujian Jingyuan Investment Co Ltd [1.4%]; Fujian Junao Investment Co Ltd [1.4%]; Fujian Yongxinqi Investment Co Ltd [1.4%]; Yuncheng Investment (Fujian) Co Ltd [1.4%]; Pingtan Shengxin Investment Partnership LP [1.4%]",
                    "Fujian Lanyue Investment Partnership LP [25.5%]; Fujian Lantian Investment Partnership LP [16.7%]; Fujian Lanze Investment Partnership LP [14.0%]; unknown [10.5%]; Fujian Jinkun Investment Co Ltd [4.3%]; Fuzhou Deyu Investment Co Ltd [4.3%]; Fujian Taisong Investment Co Ltd [3.8%]; Fujian Honghang Investment Co Ltd [2.0%]; Fujian Xinghan Investment Co Ltd [2.0%]; Fujian Qinghe Investment Co Ltd [1.9%]; Fujian Yinchen Investment Co Ltd [1.9%]; Fenghe Investment (Fujian) Co Ltd [1.7%]; Fujian Jingyuan Investment Co Ltd [1.7%]; Fujian Junao Investment Co Ltd [1.7%]; Fujian Yongxinqi Investment Co Ltd [1.7%]; Yuncheng Investment (Fujian) Co Ltd [1.7%]; Fujian Quanlong Investment Co Ltd [1.6%]; Fujian Shengwei Investment Co Ltd [1.6%]; Fujian Shunle Investment Co Ltd [1.5%]",
                    "Fujian Longgang New Materials Co Ltd [100.0%]",
                    "Fujian Metallurgical Holding Co Ltd [53.4%]; unknown [46.6%]",
                    "Fujian Shangkun Investment Co Ltd [62.5%]; Fujian Kangye Investment Co Ltd [37.5%]",
                    "Fujian Wugang Group Co Ltd [38.2%]; Fujian Kaihang Stainless Steel Products Co Ltd [36.8%]; Tianwei Co Ltd [25.0%]",
                    "Fujian Xinsheng Investment Co Ltd [85.0%]; Pingtan Longxin Investment Co Ltd [15.0%]",
                    "Fujian Yongjianguo Investment Development Co Ltd [50.0%]; natural person(s) [35.0%]; Guangxi Changheng Investment Co Ltd [15.0%]",
                    "Fundacion Jose Luis Gabriel; Industrial Assets Fund LP",
                    "Fushun Special Steel Co Ltd [100.0%]",
                    "G J Steel PCL [100.0%]",
                    "GFG Alliance Ltd",
                    "GFG Alliance Ltd [100.0%]",
                    "GLGH Steel [100.0%]",
                    "GPH Ispat Ltd [100.0%]",
                    "Gallantt Ispat Ltd [100.0%]",
                    "Gansu Jiu Steel Group Hongxing Iron and Steel Co Ltd [100.0%]",
                    "Gaolan County Lanxin Steel Co Ltd [100.0%]",
                    "Georgsmarienhütte Holding GmbH [100.0%]",
                    "Gerdau SA [100.0%]",
                    "Gerdau SA [73.6%]; Grupo Córdova [25.0%]",
                    "Gerdau SA [98.1%]",
                    "Gerdau SA [98.2%]",
                    "Gerdau SA [99.8%]",
                    "Ghadir Investment Company PJSC [65.0%]; Iranian Mines & Mining Industries Development & Renovation Organization [35.0%]",
                    "Godawari Power and Ispat Ltd [100.0%]",
                    "Godo Steel Ltd [100.0%]",
                    "Godo Steel Ltd; Kyoei Steel Ltd; MM Construction Materials Co Ltd",
                    "Gold Geneses Development Ltd [57.2%]; FIRST GLORY SERVICES Ltd [38.0%]; unknown [4.8%]",
                    "Golden Bell Enterprises Ltd [41.5%]; Xuan Gang International Trading (HK) Co Ltd [41.5%]; Yinglong Industrial Co Ltd [16.9%]",
                    "Golgohar Mining and Industrial Co [51.0%]; Iran National Copper Industries Pension Fund [49.0%]",
                    "Government of North Korea [100.0%]",
                    "Government of Uzbekistan [80.0%]; unknown [20.0%]",
                    "Grand Royal Co Ltd [45.2%]; Sichuan Jintong Investment Co Ltd [14.0%]; unknown [11.7%]; Sichuan Chuanwei Group Co Ltd Labor Union [9.5%]; Sichuan Chuanwei Group Co Ltd [8.6%]; Sichuan Yiweili Investment Co Ltd [6.0%]; Weiyuan Tianyue Enterprise Management Co Ltd [5.0%]",
                    "Green & Clean Holdings LLC [100.0%]",
                    "Green Esteel Pte Ltd",
                    "Green Esteel Pte Ltd [100.0%]",
                    "Groupe Industriel Sider SpA [100.0%]",
                    "Grupo Acerero del Norte SA de CV [64.0%]; small shareholder(s) [36.0%]",
                    "Grupo Ferroeste",
                    "Grupo Fonderia SA de CV",
                    "Grupo Simec SAB de CV",
                    "Grupo Simec SAB de CV [100.0%]",
                    "Guang Yang An Tai Holdings Ltd [91.0%]; Jinan Yanshan Investment Co Ltd [9.0%]",
                    "Guangde Xinyuanda Metal Products Co., Ltd. Co Ltd [100.0%]",
                    "Guangdong Guangxin Holdings Group Ltd [48.9%]; Shanghai Decent Investment (Group) Co Ltd [17.0%]; unknown [16.9%]; TSINGSHAN Holding Group Co Ltd [13.4%]; Zhejiang Qingshan Business Management Co Ltd [3.8%]",
                    "Guangdong Jinhai Brilliant Group Co Ltd [100.0%]",
                    "Guangdong Metals & Minerals Import & Export Group Corp; Shengli (Fujian) Investment Group Corp",
                    "Guangxi Beibu Gulf International Port Group Co Ltd [100.0%]",
                    "Guangxi Beibu Gulf International Port Group Co Ltd [50.0%]; Guangxi Shenglong Metallurgical Co Ltd [50.0%]",
                    "Guangxi Guigang Iron and Steel Group Co Ltd [44.0%]; Guigang Helong Investment Partnership LP [41.8%]; Guigang Herun Investment Partnership LP [12.5%]; unknown [1.7%]",
                    "Guangxi Guixin Steel Group Co Ltd [100.0%]",
                    "Guangxi Hezhou Kexinda Metal Products Co Ltd [100.0%]",
                    "Guangxi Liuzhou Iron and Steel Group Co Ltd [100.0%]",
                    "Guangxi Longzhou Yishuo Investment Management Co Ltd [100.0%]",
                    "Guangxi Shenglong Metallurgical Co Ltd [100.0%]",
                    "Guangxi Xingui Steel Group Co Ltd [65.0%]; natural person(s) [35.0%]",
                    "Guiyang Changle Iron and Steel Co Ltd [33.3%]; Qianxinan Prefecture Juxin Industry & Trade General Co [33.3%]; Zunyi County Fuxin Iron & Steel Product Co Ltd [33.3%]",
                    "Guizhou Ganglian Industrial Group Co Ltd [100.0%]",
                    "Gulf Investment Corp; Oman Development Fund Company SAOC; Sultan Special Force Pension Fund",
                    "Guotao Co Ltd (Hong Kong) [61.0%]; Tangshan GUOYI SPECIAL Steel Co Ltd [20.0%]; Yushan (Beijing) Metallurgical Investment Co Ltd [19.0%]",
                    "Guotao Co Ltd (Hong Kong) [76.3%]; Yushan (Beijing) Metallurgical Investment Co Ltd [23.7%]",
                    "HBIS Co Ltd [51.0%]; Cambodia Rongfeng Investment Co Ltd [25.1%]; Hebei Wenfeng Industrial Group Co Ltd [23.9%]",
                    "HBIS Co Ltd [69.1%]; HBIS Group Co Ltd [7.7%]; Hebei Province Jicai Lndustryl Equity Lnvestment Fund Co Ltd [7.0%]; China Everbright Group Ltd [6.5%]; Gansu Provincial State-owned Assets Investment Group Co Ltd [3.0%]; Tangshan City Development Group Co Ltd [2.9%]; Gansu Financial Holding Group Co Ltd [2.0%]; unknown [0.9%]; Gansu Highway Aviation Tourism Investment Group Co Ltd [0.8%]",
                    "HBIS Group Co Ltd",
                    "HBIS Group Co Ltd [100.0%]",
                    "HBIS Group Co Ltd [51.0%]; Hebei Yinshui Industrial Group Co Ltd [49.0%]",
                    "HBIS Group Co Ltd [53.1%]; China Baowu Steel Group Co Ltd [27.7%]; China Huarong Asset Management Co Ltd [8.3%]; HBIS Co Ltd [8.1%]; unknown [2.8%]",
                    "HBIS Group Co Ltd [68.9%]; Metallurgical Corporation of China Ltd [23.9%]; unknown [7.2%]",
                    "HBIS Group Co Ltd [74.7%]; HBIS International Holdings Ltd [24.9%]; unknown [0.4%]",
                    "Habas Industrial and Medical Gases Production Industries AŞ [100.0%]",
                    "Hadeed Metal Manufacturing Co [100.0%]",
                    "Hai Kwang Enterprise Corp [100.0%]",
                    "Halyvourgiki SA [100.0%]",
                    "Hamsho International Co",
                    "Handan Yongnian Shengda Steel Co Ltd [49.0%]; WEALTH GROUP INVESTMENT LIMITED [39.8%]; Wu'an Hongji Investment Co Ltd [6.5%]; unknown [2.1%]",
                    "Hang Zhou Iron & Steel Co Ltd [100.0%]",
                    "Haojun Development Group Co Ltd [49.0%]; natural person(s) [26.8%]; Yunnan Desheng Steel Co Ltd [14.0%]; Yunnan Desheng Logistics Co Ltd [10.2%]",
                    "Haojun Development Group Co Ltd [49.0%]; natural person(s) [29.5%]; Yunnan Desheng Logistics Co Ltd [21.5%]",
                    "Hebei Anfeng Iron & Steel Co Ltd [100.0%]",
                    "Hebei Baoxin Iron and Steel Group Co Ltd [100.0%]",
                    "Hebei Bishi Industry Group Co Ltd [100.0%]",
                    "Hebei Donghai SPECIAL Steel Group Co Ltd [100.0%]",
                    "Hebei Jianen Trading Co Ltd [48.1%]; Xing Steel Fine Wire Holdings Co Ltd [26.0%]; Xingtai Jinglin Trading Co Ltd [25.9%]",
                    "Hebei New Wuan Iron and Steel Group Xin Hui Metallurgy Co Ltd [100.0%]",
                    "Hebei Puyang Industrial Group Co Ltd [45.5%]; Xianghe Hongcheng New Energy Technology Co Ltd [27.6%]; Longxiang Group (Hong Kong) [24.5%]; unknown [2.4%]",
                    "Hebei Puyang Industrial Group Co Ltd [65.0%]; Longxiang Group (Hong Kong) [35.0%]",
                    "Hebei Taihang Iron and Steel Group Co Ltd [100.0%]",
                    "Hebei Tianzhu IRON&STEEL (GROUP) Co Ltd [100.0%]",
                    "Hebei Wenfeng STEEL&IRON Co Ltd [100.0%]",
                    "Hebei Xinfeng High-pressure Flange and Pipe Fitting Co Ltd [100.0%]",
                    "Hebei Xinhua United Metallurgical Holding Group Co Ltd [43.2%]; China Railway Materials Group Holdings Ltd [27.0%]; Shuangyao Investment Co Ltd [21.1%]; Sinogiant Steel HOLDINGS Group Ltd [7.9%]; unknown [0.9%]",
                    "Hebei Xinwuan Iron and Steel Group Co Ltd [100.0%]",
                    "Hebei Yanshan Iron and Steel Group Co Ltd [100.0%]",
                    "Heico Companies LLC",
                    "Hejin Huaxinyuan Steel & Iron Co Ltd [100.0%]",
                    "Hellenic Halyvourgia SA [100.0%]",
                    "Henan Fengbao SPECIAL Steel Co Ltd [100.0%]",
                    "Henan JINHUI Stainless Indutrial Group Co Ltd [83.0%]; Changge Huida Trading Co Ltd [17.0%]",
                    "Henan Jingchang Coal Chemical Co Ltd [90.0%]; Henan Xinlei Group HOLDINGS Co Ltd [6.2%]; Henan LIYUAN Coking Group Co Ltd [1.3%]; Henan Shuncheng Group,coal Co Ltd [1.3%]; Henan Yulong Coking Co Ltd [1.3%]",
                    "Henan Jiyuan Iron and Steel Investment Holding Co Ltd [48.6%]; unknown [35.0%]; Tianjin Jinyuan Guotai Enterprise Management Consulting Co Ltd [10.0%]; Trade Union Committee of Henan Jiyuan Iron and Steel (Group) [6.4%]",
                    "Henan Longcheng Group Co Ltd [100.0%]",
                    "Henan Wugang Huayu Materials Co Ltd [75.0%]; Hongxing (Hong Kong) Co Ltd [25.0%]",
                    "Henan YAXIN Steel Industry Co Ltd [100.0%]",
                    "Hengde International Co Ltd [27.4%]; Jiangsu Shagang Group Co Ltd [21.3%]; Zhangjiagang Free Trade Zone Rongrun Trade Co Ltd [16.8%]; unknown [12.4%]; Zhangjiagang Free Trade Zone Qianxing Investment Trade Co Ltd [10.5%]; Zhangjiagang Free Trade Zone Runyuan Stainless Steel Trade Co Ltd [6.4%]; Ningbo Meishan Free Trade Port Jincheng Shazhou Equity Investment Co Ltd [5.2%]",
                    "Hengde International Co Ltd [28.2%]; Hong Kong Hengde Co Ltd [25.0%]; Jiangsu Shagang Group Co Ltd [22.0%]; unknown [12.8%]; Zhangjiagang Free Trade Zone Runyuan Stainless Steel Trade Co Ltd [6.6%]; Ningbo Meishan Free Trade Port Jincheng Shazhou Equity Investment Co Ltd [5.4%]",
                    "Hengjin Huitong Asset Management (Beijing) Co Ltd [60.0%]; natural person(s) [18.7%]; Jilin Tianpeng Industrial Co Ltd [17.2%]; unknown [4.1%]",
                    "Heping Yueshen Steel Industrial Co Ltd [100.0%]",
                    "Hesteel Group Co Ltd",
                    "Hezhou Xindu Sanyuan Casting Co Ltd [100.0%]",
                    "Hezhou Zhaoxin Hardware Products Co Ltd [100.0%]",
                    "Hilal Al-Tuwairqi [60.0%]; unknown [40.0%]",
                    "Hilal Al-Tuwairqi; unknown",
                    "Hoa Phat Group JSC [100.0%]",
                    "Hoa Sen Group [100.0%]",
                    "Hong Kong Qianlong Co Ltd [67.2%]; natural person(s) [32.8%]",
                    "Houying Group Haicheng Iron and Steel Co Ltd [100.0%]",
                    "Huachuang Jiangsu Investment Co Ltd [80.4%]; natural person(s) [19.6%]",
                    "Huahong Iron and Steel Products Co Ltd [100.0%]",
                    "Huainan Hongtai Steel Limited Liability Co [100.0%]",
                    "Huasheng Jiangquan Group Co Ltd [100.0%]",
                    "Huaxin Special Steel Holdings Co Ltd [75.0%]; Walsin Lihwa Holdings Ltd [4.6%]; Concord Industries Ltd",
                    "Hubei Jinshenglan Metallurgical Technology Co Ltd [62.6%]; Yuncheng Investment (Fujian) Co Ltd [9.1%]; Fujian Yongxinqi Investment Co Ltd [6.8%]; Fujian Taisong Investment Co Ltd [4.9%]; Fujian Jinkun Investment Co Ltd [4.2%]; Fuzhou Deyu Investment Co Ltd [3.6%]; Fujian Qikun Investment Co Ltd [2.5%]; Fujian Hongyao Investment Co Ltd [2.4%]; Fujian Shunle Investment Co Ltd [1.9%]; unknown [1.9%]",
                    "Hubei Lijin Steel Group Co Ltd [100.0%]",
                    "Hubei Rongfu Real Estate Group Co Ltd [50.0%]; natural person(s) [50.0%]",
                    "Hubei Tiangang Recycling Industry Group Co Ltd [50.8%]; natural person(s) [49.2%]",
                    "Hubei Xinxin Steel Group Co Ltd [100.0%]; natural person(s) [100.0%]",
                    "Hunan Valin Steel Co Ltd [100.0%]",
                    "Hunan Valin Steel Co Ltd [51.0%]; Hunan Valin Iron & Steel Group Co Ltd [24.7%]; unknown [14.1%]; Hunan Development Investment Group Co Ltd [3.6%]; Hunan Caixin Financial Holding Group Co Ltd [3.5%]; Hunan Xingxiang Investment Holding Group Co Ltd [3.1%]",
                    "Hunan Valin Steel Co Ltd [85.9%]; Hunan Valin Iron & Steel Group Co Ltd [10.0%]; Hunan Development Investment Group Co Ltd [1.4%]; Hunan Caixin Financial Holding Group Co Ltd [1.4%]; Hunan Xingxiang Investment Holding Group Co Ltd [1.3%]; unknown [0.0%]",
                    "Hung Ha Mon Goods Group Co [100.0%]",
                    "Hyundai Steel Co [100.0%]",
                    "Industrial Development Corporation of South Africa Ltd [74.0%]; Main Street 510 Pty Ltd [21.0%]",
                    "Industries Qatar QPSC [100.0%]",
                    "Industries Qatar QPSC [40.4%]; Saudi Pan Kingdom for Trading Industry and Contracting Co Ltd",
                    "Industries Qatar QPSC [49.0%]; unknown [5.0%]; Groupe Industriel Sider SpA",
                    "Ingenieria e Inversiones Ltda; Inversiones Los Andes SA; Inversiones Reyosan SpA; Matco Cables SpA",
                    "Inner Mongolia (Naiman) Jingan Non-ferrous Metal Materials Co Ltd [100.0%]",
                    "Inner Mongolia BaoTou Steel Union Co Ltd [100.0%]",
                    "Inner Mongolia Desheng Industrial Group Co Ltd [57.2%]; natural person(s) [42.8%]",
                    "Inner Mongolia Yaxinlongshun Special Steel Co Ltd [100.0%]",
                    "Interpipe Holdings PLC [100.0%]",
                    "Iran Alloy Steel Co [100.0%]",
                    "Iranian Alborz Steel Co [100.0%]",
                    "Iranian Mines & Mining Industries Development & Renovation Organization",
                    "Iranian Mines & Mining Industries Development & Renovation Organization [100.0%]",
                    "Iranian Mines & Mining Industries Development & Renovation Organization [44.0%]; Development and Equipment of Relief Mines Co [20.0%]; Sabanour Mining and Industrial Development Co [20.0%]; Sepahan Mines Kimia [16.0%]",
                    "Iranian Mines & Mining Industries Development & Renovation Organization [8.5%]",
                    "Isatis Sponge Iron Co [100.0%]",
                    "Iskenderun Demir ve Celik AŞ [100.0%]",
                    "Ittehad Steels Pvt Ltd [100.0%]",
                    "Izmir Demir Celik Sanayi AŞ [100.0%]",
                    "Içdaş Çelik Enerji Tersane Ve Ulaşim Sanayi AŞ [100.0%]",
                    "JFE Holdings Inc [100.0%]",
                    "JFE Holdings Inc [50.0%]; JSW Steel Ltd [50.0%]",
                    "JSW Green Steel Ltd [100.0%]",
                    "JSW Ispat Special Products Ltd [100.0%]",
                    "JSW Projects Ltd [58.5%]; natural person(s) [41.5%]",
                    "JSW Steel Ltd [100.0%]",
                    "JSW Steel Ltd [100.0%]; POSCO Holdings Inc [100.0%]",
                    "JSW Steel Ltd [83.3%]; JSW Shipping & Logistics Pvt Ltd [16.7%]",
                    "JSW Steel Ltd [98.8%]; unknown [1.2%]",
                    "Jahan Profil Pars Co",
                    "Jai Balaji Industries Ltd",
                    "Jai Balaji Industries Ltd [100.0%]",
                    "Jayaswal Neco Industries Ltd [100.0%]",
                    "Jiangsu Delong Nickel Industry Co Ltd [100.0%]",
                    "Jiangsu Feida Co Ltd [65.0%]; Metallurgical Corporation of China Ltd [18.0%]; natural person(s) [15.0%]; unknown [2.0%]",
                    "Jiangsu HONGTAI Metals Ware Co Ltd [100.0%]",
                    "Jiangsu Longyuan Steel Co Ltd [100.0%]",
                    "Jiangsu Shagang Co Ltd [63.8%]; Hengde International Co Ltd [13.6%]; Jiangsu Shagang Group Co Ltd [10.6%]; unknown [6.2%]; Zhangjiagang Free Trade Zone Runyuan Stainless Steel Trade Co Ltd [3.2%]; Ningbo Meishan Free Trade Port Jincheng Shazhou Equity Investment Co Ltd [2.6%]",
                    "Jiangsu Xicheng Sanlian Holding Group Co Ltd [100.0%]",
                    "Jiangsu Xingda Steel Group Co Ltd [100.0%]",
                    "Jiangsu Xusteel Group Co Ltd [100.0%]",
                    "Jiangxi Taixin Iron & Steel Co Ltd [100.0%]",
                    "Jiangxi Yuanxing Iron and Steel Co Ltd [100.0%]",
                    "Jiangyin Changqi Investment Partnership LP [65.0%]; Changhong International Investment Co Ltd [25.0%]; Jiangyin Changjiang Village Federation of Trade Unions [9.5%]; Jiangsu New Yangtze Industrial Group Co Ltd [0.5%]",
                    "Jilin Jingang Lron and Steel Co Ltd [100.0%]",
                    "Jilinjigang Steel Group Co Ltd [51.0%]; natural person(s) [49.0%]",
                    "Jilinjigang Steel Group Co Ltd [98.8%]; unknown [1.2%]",
                    "Jinan Iron & Steel Group Co Ltd [100.0%]",
                    "Jinan Iron & Steel Group Co Ltd [51.0%]; natural person(s) [49.0%]",
                    "Jinan Iron & Steel Group Co Ltd [85.1%]; Wuan Yuhua Steel Co Ltd [11.5%]; unknown [3.5%]",
                    "Jinan Iron & Steel Group Co Ltd [88.1%]; natural person(s) [11.9%]",
                    "Jincheng Industry Development Pte Ltd",
                    "Jindal Group",
                    "Jindal Stainless Ltd [100.0%]",
                    "Jindal Steel & Power Ltd [100.0%]",
                    "Jinghua Rigang Holding Group Co Ltd [50.0%]; natural person(s) [30.4%]; unknown [19.7%]",
                    "Jinghua Rigang Holding Group Co Ltd [50.4%]; Shandong Zibo Fushan Enterprise Group Co Ltd [25.0%]; natural person(s) [24.0%]; unknown [0.6%]",
                    "Jinghua Rigang Holding Group Co Ltd [98.8%]; unknown [1.2%]",
                    "Jingye Group Co Ltd [100.0%]",
                    "Jingye Steel (Uk) Holding Ltd",
                    "Jingzhou Chuhang Special Steel Products Co Ltd [30.0%]; Jingzhou Daren Metal Products Co Ltd [30.0%]; Jingzhou Youyuan Metal Products Co Ltd [30.0%]; natural person(s) [5.2%]; unknown [4.8%]",
                    "Jinye Steel Group Co Ltd [100.0%]",
                    "Jinzhou Jinxing Special Steel Co Ltd [100.0%]",
                    "Jishan Mingfu Steel Products Co Ltd [100.0%]",
                    "KAM Holding Ltd",
                    "KG Chemical Corp",
                    "KIC Metaliks Ltd [100.0%]",
                    "KISCO Corp",
                    "KISCO Corp [100.0%]",
                    "KMK Tempo JSC [100.0%]",
                    "KSRM Steel Plant Ltd [100.0%]",
                    "KVV Liepājas metalurgs AS [100.0%]",
                    "Kaavian Steel Co [100.0%]",
                    "Kalyani Steels Ltd [100.0%]",
                    "Kalyani Steels Ltd [61.0%]; Mukand Ltd [39.0%]",
                    "Kaptan Demir Celik Endustrisi Ve Ticaret AŞ [100.0%]",
                    "Kardemir Karabuk Demir Çelik Sanayi Ve Ticaret AŞ [100.0%]",
                    "Kaveh Pars Mining Industries Development Co",
                    "Khorasan Steel Complex Co [100.0%]",
                    "Khouzestan Oxin Steel Co [100.0%]",
                    "Khouzestan Steel Co [100.0%]",
                    "Kishiwada Steel Co Ltd [100.0%]",
                    "Kobe Steel Ltd [100.0%]",
                    "Kobe Steel Ltd; Mitsui & Co Ltd",
                    "Koc Metalurji AŞ [100.0%]",
                    "Kocaer Çelik Sanayi ve Ticaret AŞ [100.0%]",
                    "Konsortia Etiqa Sdn Bhd [99.9%]",
                    "Kunming Iron & Steel Holding Co Ltd; Laocai Mineral Exploitation and Processing JSC; unknown; Viet Nam Steel Corp",
                    "Kurum International ShA [100.0%]",
                    "Kyoei Steel Ltd [100.0%]",
                    "Kyoei Steel Ltd [45.0%]; Viet Nam Steel Corp [40.0%]; Mitsui & Co Ltd [9.0%]; Marubeni-Itochu Steel Pte Ltd [6.0%]",
                    "Kyoei Steel Ltd [73.8%]; Thai Hung Trading JSC [20.0%]; unknown [6.2%]",
                    "LITAT Holding Co Ltd",
                    "LNM Group [100.0%]",
                    "Leggett & Platt Inc [100.0%]",
                    "Lengshuijiang Xingbo Enterprise Management Co Ltd [49.6%]; unknown [28.6%]; Shanghai Baoke Enterprise Development Co Ltd [15.0%]; Shanghai Zhenchang Metal Resources Group Co Ltd [5.4%]; Shanghai Zhenchang Waste and Scrap Metal Recycling Co Ltd [1.4%]",
                    "Lianyungang Ganyu Zhongcheng Investment Co Ltd [87.4%]; natural person(s) [12.6%]",
                    "Lianyungang Huale Alloy Group Co Ltd [100.0%]",
                    "Lianyungang Xingxin Iron and Steel Co Ltd [100.0%]",
                    "Lianyungang Yaxin Iron and Steel Co Ltd [100.0%]",
                    "Liaoning Jiachen Holding Group Co Ltd [84.6%]; The China Orient Asset Management Co Ltd [14.3%]; unknown [1.2%]",
                    "Liaoyang United Steel Co Ltd [100.0%]",
                    "Liaoyang Xinyi Special Steel Co Ltd [100.0%]",
                    "Libya United Steel Company for Iron and Steel Industry; Tosyalı Holding AŞ",
                    "Libyan Iron and Steel Co [100.0%]",
                    "Licheng Taihang Iron & Steel Co Ltd [100.0%]",
                    "Lingyuan Iron & Steel Co Ltd [100.0%]",
                    "Linyi Investment Development Co Ltd [74.4%]; Gangfa International [16.7%]; Shandong Caixin Asset Operation Co Ltd [8.3%]; unknown [0.7%]",
                    "Lion Industries Corporation Bhd",
                    "Liuzhou IRON&STEEL Co Ltd [100.0%]",
                    "Liuzhou IRON&STEEL Co Ltd [45.8%]; Guangxi Liuzhou Iron and Steel Group Co Ltd [45.6%]; China Baowu Steel Group Co Ltd [8.6%]",
                    "Lloyds Metals and Energy Ltd [100.0%]",
                    "Lodestone Holdings Group (Namibia) Pty Ltd",
                    "Longnan Fuxin Steel Co Ltd [100.0%]",
                    "Longxiang Group (Hong Kong) [66.8%]; Hebei Puyang Industrial Group Co Ltd [33.2%]",
                    "Lucheng Xingbao Iron & Steel Co Ltd [100.0%]",
                    "Luli Group Co Ltd [49.0%]; unknown [39.6%]; natural person(s) [11.4%]",
                    "Luossavaara-Kiirunavaara AB [33.3%]; SSAB AB [33.3%]; Vattenfall AB [33.3%]",
                    "Luoyang Luogang Group of Steel and Iron Co Ltd [100.0%]",
                    "Luzhou Chengkun Industry Co Ltd [70.0%]; Sichuan Luzhou Jiangyang Iron and Steel Co Ltd [30.0%]",
                    "MSP Steel & Power Ltd [100.0%]",
                    "Ma'anshan Jiatong Enterprise Management Partnership (General Partnership) [65.0%]; natural person(s) [32.3%]; unknown [2.7%]",
                    "Ma'anshan Jiatong Enterprise Management Partnership (General Partnership) [96.0%]; unknown [4.0%]",
                    "Maanshan Iron & Steel Co Ltd [100.0%]",
                    "Maanshan Iron & Steel Co Ltd [55.0%]; natural person(s) [37.2%]; unknown [7.8%]",
                    "Maegma Minerals [100.0%]",
                    "Maghreb Steel SA [100.0%]",
                    "Magnitogorskiy Metallurgicheskiy Kombinat PJSC [100.0%]",
                    "Malaysia Steel Works (KL) Bhd [100.0%]",
                    "Mass Group Holding Ltd",
                    "Matesi [100.0%]",
                    "Max Aicher GmbH & Co KG [100.0%]",
                    "Max Aicher Stahl AG [92.6%]; unknown",
                    "Meghna Group of Industries Ltd",
                    "Meijin Energy Group Co Ltd [50.0%]; China New Energy Group Ltd [48.0%]; unknown [2.0%]",
                    "Meranti Steel Pte Ltd [100.0%]",
                    "Mescier Demir Celik AŞ [100.0%]",
                    "Mesco Kalinga Steel Ltd [100.0%]",
                    "Meski Invest",
                    "Metalfer doo [100.0%]",
                    "Metallus Inc [100.0%]",
                    "Metinvest BV [100.0%]",
                    "Metinvest BV [47.0%]; Global Steel Investments Ltd [36.8%]; Eastrade Ltd [11.2%]",
                    "Millcon Steel PCL [100.0%]",
                    "Mindong Saiqi Economic Development Zone Fuhua Steel Rolling Co Ltd [100.0%]",
                    "Minerfin AS",
                    "Moldova Steel Works JSC [100.0%]",
                    "Mono Steel (India) Ltd [100.0%]",
                    "Montan-Stiftung-Saar [49.0%]; ArcelorMittal SA [28.7%]; unknown [13.1%]",
                    "Montan-Stiftung-Saar [74.9%]; unknown [26.1%]",
                    "Mount Zynai 0304 Mining Corp [100.0%]",
                    "Mughal Iron & Steel Industries Ltd [100.0%]",
                    "Myanmar Economic Corp [100.0%]",
                    "NMDC Steel Ltd [100.0%]",
                    "NR Ispat and Power Pvt Ltd [100.0%]",
                    "Nakayama Steel Works Ltd [100.0%]",
                    "Nanjing Iron & Steel Co Ltd [100.0%]",
                    "Natanz Steel Co [100.0%]",
                    "National Service Products Organization [24.0%]; Beshay Steel",
                    "Nezavisimaya Registratorskaya Kompaniya R.O.S.T. JSC",
                    "Nilachal Iron & Power Ltd [100.0%]",
                    "Ningbo Haoyang New MATERIALS Techonology Co Ltd [100.0%]",
                    "Ningbo Meishan Free Trade Port Jincheng Shazhou Equity Investment Co Ltd [42.8%]; Wuhu Yinsheng Special Steel Investment Management Partnership LP [31.4%]; unknown [15.9%]; Bengang Steel Plates Co Ltd [9.9%]",
                    "Ningxia Boyu Hongxing Special Steel Group Co Ltd [100.0%]",
                    "Ningxia Haofeng Weiye Steel Co Ltd [79.0%]; natural person(s) [21.0%]",
                    "Nippon Steel Corp",
                    "Nippon Steel Corp [100.0%]",
                    "Nippon Steel Corp [60.2%]; small shareholder(s) [12.8%]; natural person(s) [12.4%]; UOB Kay Hian Pte Ltd [7.5%]; Superior Overseas (Thailand) Co Ltd [7.0%]",
                    "Nithia Capital Resources Advisors LLP [55.7%]; AB CarVal Investors LP [44.3%]",
                    "Nokomis Select Inc [33.0%]; Tretiy Kod CJSC [32.8%]; Satelait JSC [17.7%]; Assets-M JSC [17.0%]",
                    "Novolipetsk Steel PJSC",
                    "Novolipetsk Steel PJSC [100.0%]",
                    "Novostal LLC [98.9%]",
                    "Novostal-M LLC",
                    "Novostal-M LLC [100.0%]",
                    "Nucor Corp",
                    "Nucor Corp [100.0%]",
                    "Nucor Corp [51.0%]; Yamato Kogyo Co Ltd [49.0%]",
                    "OLIFIN SpA",
                    "ORI Martin Holding SRL",
                    "Omid Investment Management Co [26.8%]; Ghadir Investment Company PJSC",
                    "Osaka Steel Co Ltd [100.0%]",
                    "Ozkan Demir Celik Sanayi AŞ [100.0%]",
                    "Ozmert Algeria SARL [100.0%]",
                    "POSCO Holdings Inc [100.0%]",
                    "POSCO Holdings Inc [50.0%]; PT Krakatau Steel (Persero) Tbk [50.0%]",
                    "POSCO Holdings Inc [82.5%]; Hengde International Co Ltd [6.6%]; Jiangsu Shagang Group Co Ltd [5.1%]; unknown [3.0%]; Zhangjiagang Free Trade Zone Runyuan Stainless Steel Trade Co Ltd [1.5%]; Ningbo Meishan Free Trade Port Jincheng Shazhou Equity Investment Co Ltd [1.2%]",
                    "PT Gunung Raja Paksi Tbk [100.0%]",
                    "PT Jakarta Prima Steel Industries [100.0%]",
                    "PT Krakatau Steel (Persero) Tbk [100.0%]",
                    "PT The Master Steel MFG [100.0%]",
                    "Pakistan Steel Mills Corp Pvt Ltd [100.0%]",
                    "Panhua Group Co Ltd [100.0%]",
                    "Pasargad Financial Group; small shareholder(s)",
                    "Pasargad Steel Complex Co [100.0%]",
                    "Pavgord doo [100.0%]",
                    "Perwaja Holdings Bhd [100.0%]",
                    "Ping An Life Insurance Co Ltd [49.9%]; Suzhou Riyisheng Environment Protection Technology Co Ltd [22.8%]; Zhuhai HUAFA Real Estate Investment Holding Co Ltd [10.5%]; Zhuhai Gree Group Co Ltd [6.2%]; Zhuhai DA HENG Qin Investment Co Ltd [4.3%]; unknown [4.2%]; Suzhou Textile Stock Holding Group [2.1%]",
                    "Pittini Group SpA",
                    "Pomina Steel JSC [100.0%]",
                    "Port Hedland Iron Pty Ltd [100.0%]",
                    "Prakash Industries Ltd [100.0%]",
                    "Prakash Sponge Iron and Power Pvt Ltd [100.0%]",
                    "Premium Steel and Mines Ltd [100.0%]",
                    "QazSpetsSteel LLC [100.0%]",
                    "Qazaqstan Steel Group LLP [100.0%]",
                    "Qeshm Steel Development Co [100.0%]",
                    "Qian'an City Jiujiang Wire Co Ltd [100.0%]",
                    "Qian'an City Jiujiang Wire Co Ltd [51.0%]; British Asia Pan Ruogen International Co Ltd [49.0%]",
                    "Qian'an Zhayi Steel Group Co Ltd [100.0%]",
                    "Qianxinan Prefecture Juxin Industry & Trade General Co [100.0%]",
                    "Qihe Zhongxin Investment Co Ltd [47.2%]; Shandong Iron and Steel Group Co Ltd [28.4%]; Yongfeng Group Co Ltd [12.2%]; Shandong Guohui Investment Co Ltd [8.1%]; Shandong Caixin Asset Operation Co Ltd [4.1%]",
                    "Qihe Zhongxin Investment Co Ltd [55.5%]; Shandong Iron and Steel Group Co Ltd [24.1%]; Yongfeng Group Co Ltd [10.1%]; Shandong Guohui Investment Co Ltd [6.9%]; Shandong Caixin Asset Operation Co Ltd [3.4%]",
                    "Qinhuangdao Hongxing Iron & Steel Co Ltd [100.0%]",
                    "RSL Group JSC",
                    "Radius Recycling Inc [100.0%]",
                    "Rashmi Cement Ltd [100.0%]",
                    "Rashmi Green Hydrogen Steel Pvt Ltd [100.0%]",
                    "Rashmi Metaliks Ltd [100.0%]",
                    "Rashtriya Ispat Nigam Ltd [100.0%]",
                    "Rio Tinto PLC [100.0%]",
                    "RiseSun Real Estate Development Co Ltd [99.8%]; unknown [0.2%]",
                    "Riva Forni Elettrici SpA",
                    "Rungta Mines Ltd [100.0%]",
                    "SGIS Songshan Co Ltd [100.0%]",
                    "SMS Holding GmbH; Vitkovice Heavy Machinery AS",
                    "SSAB AB [100.0%]",
                    "SUE DPR UMP [100.0%]",
                    "Sa Machado Lda",
                    "Sabzevar Pars Steel Complex [100.0%]",
                    "Salzgitter AG",
                    "Sanbao Group Co Ltd [100.0%]",
                    "Sanyo Special Steel Co Ltd",
                    "Sanyo Special Steel Co Ltd [100.0%]",
                    "Saudi Arabian Oil Co [100.0%]",
                    "Saudi Iron and Steel Co [100.0%]",
                    "SeAH Besteel Holdings Corp [100.0%]",
                    "SeAh Steel Holdings Corp [100.0%]",
                    "Serajuddin & Co",
                    "Severstal PJSC [100.0%]",
                    "Shaanxi Coal and Chemical Industry Co Ltd [85.8%]; Hanzhong Investment Holding Group Co Ltd [8.9%]; unknown [5.3%]",
                    "Shaanxi Coal and Chemical Industry Co Ltd [95.9%]; unknown [4.1%]",
                    "Shaanxi Hanzhong Iron & Steel Group Co [100.0%]",
                    "Shaanxi Huaxin Special Steel Group Co Ltd [100.0%]",
                    "Shakambhari Group",
                    "Shandong Chuanyang Group Co Ltd [100.0%]",
                    "Shandong Iron and Steel Co Ltd [100.0%]",
                    "Shandong Iron and Steel Co Ltd [50.6%]; Shandong Iron and Steel Group Co Ltd [34.0%]; Shandong Guohui Investment Co Ltd [9.7%]; Shandong Caixin Asset Operation Co Ltd [4.9%]; unknown [0.8%]",
                    "Shandong Iron and Steel Group Co Ltd [35.0%]; Qihe Zhongxin Investment Co Ltd [34.7%]; Yongfeng Group Co Ltd [15.3%]; Shandong Guohui Investment Co Ltd [10.0%]; Shandong Caixin Asset Operation Co Ltd [5.0%]",
                    "Shandong Iron and Steel Group Co Ltd [70.0%]; Shandong Guohui Investment Co Ltd [20.0%]; Shandong Caixin Asset Operation Co Ltd [10.0%]",
                    "Shandong Minyuan Steel & Iron Co Ltd [100.0%]",
                    "Shandong Xiangxin Investment Holding Co Ltd [93.3%]; unknown [6.7%]",
                    "Shandong Xinhua Special Steel Group Co Ltd [100.0%]",
                    "Shanghai Decent Investment (Group) Co Ltd [34.7%]; TSINGSHAN Holding Group Co Ltd [30.5%]; unknown [26.1%]; Zhejiang Qingshan Business Management Co Ltd [8.7%]",
                    "Shanghai Decent Investment (Group) Co Ltd [36.4%]; unknown [20.4%]; TSINGSHAN Holding Group Co Ltd [19.8%]; Zhejiang Qingshan Business Management Co Ltd [15.6%]; DELIXI Group Limited Co [7.8%]",
                    "Shanghai Decent Investment (Group) Co Ltd [51.6%]; unknown [23.1%]; TSINGSHAN Holding Group Co Ltd [19.7%]; Zhejiang Qingshan Business Management Co Ltd [5.6%]",
                    "Shanghai Lingtuo Enterprise Management Center LP [52.1%]; Hanzhong Investment Holding Group Co Ltd [18.6%]; DongLing Group Incorporated Co [17.6%]; Lueyang County Economic and Trade Bureau [11.1%]; unknown [0.5%]",
                    "Shanghai Xuantong Technology Development Co Ltd [66.0%]; Shanghai Juhang Industrial Co Ltd [32.8%]; unknown [1.2%]",
                    "Shanxi Antai Holding Group Co Ltd [100.0%]",
                    "Shanxi Changxin Industry Co Ltd [100.0%]",
                    "Shanxi Dongfang Hengliu Precision Casting Co [100.0%]",
                    "Shanxi Gaoyi Steel Co Ltd [100.0%]",
                    "Shanxi HONGDA Iron and Steel Group Co Ltd [100.0%]",
                    "Shanxi HUAQIANG Iron and Steel Co Ltd [100.0%]",
                    "Shanxi Jianbang Group Co Ltd [51.4%]; natural person(s) [48.6%]",
                    "Shanxi Jincheng Steel Holdings Group Co Ltd [60.0%]; natural person(s) [40.0%]",
                    "Shanxi Jinnan Holding Group Co Ltd [100.0%]",
                    "Shanxi Liheng Iron and Steel Co Ltd [100.0%]",
                    "Shanxi State-Owned Capital Investment and Operation Co Ltd [28.7%]; Datong Qijun Trading Co Ltd [26.0%]; Tianjin Bohai Runde Steel Group Co Ltd [25.0%]; China Cinda Asset Management Co Ltd [14.8%]; Jinneng Holding Group Co Ltd [3.2%]; unknown [2.3%]",
                    "Shanxi Taigang Stainless Steel Co Ltd [100.0%]",
                    "Shanxi Zhongsheng Iron and Steel Co Ltd [100.0%]",
                    "Shanxi Zhongyang Iron & Steel Co Ltd [100.0%]",
                    "Shiheng Special Steel Holding Group Co Ltd [54.7%]; Hong Kong Wing Tai Holdings [22.0%]; unknown [15.9%]; Trade Union Committee of Shiheng Special Steel Group [7.4%]",
                    "Shiu Wing Steel Ltd [100.0%]",
                    "Shyam Metalics and Energy Ltd",
                    "Shyam Metalics and Energy Ltd [100.0%]",
                    "Shyam Steel Industries Ltd",
                    "Shyam Steel Industries Ltd [100.0%]",
                    "Shyeh Sheng Fuat Steel & Iron Works Co Ltd [100.0%]",
                    "Siam Cement PCL [100.0%]",
                    "Sichuan Jinguang Industry (Group) Co Ltd [63.9%]; unknown [29.8%]; Sichuan Shiting Ecology Agriculture Technology Co Ltd [6.2%]",
                    "Sichuan Shehong Chuanzhong Construction Materials Co Ltd [100.0%]",
                    "Sichuan Shengquan Iron and Steel Group Co Ltd [100.0%]",
                    "Sichuan Ya'an Anshan Iron and Steel Co Ltd [100.0%]",
                    "Siderurgica Investimenti SRL",
                    "Siderurgica del Orinoco Alfredo Maneiro CA [100.0%]",
                    "Siemag Weiss GmbH & Co KG",
                    "Sinosteel Corp Ltd [100.0%]",
                    "Sirida (Hong Kong) Group Co Ltd [42.7%]; Zhangjiagang Yongrun Investment Development Co Ltd [18.5%]; Suzhou Yongyuan Holding Co Ltd [14.5%]; Yonglian Village Stock Economic Cooperative, Nanfeng Town, Zhangjiagang City [9.3%]; unknown [4.3%]; Hengde International Co Ltd [3.4%]; Zhangjiagang Yongfeng Investment Development Co Ltd [3.2%]; Jiangsu Shagang Group Co Ltd [2.7%]; Zhangjiagang Free Trade Zone Runyuan Stainless Steel Trade Co Ltd [0.8%]; Ningbo Meishan Free Trade Port Jincheng Shazhou Equity Investment Co Ltd [0.6%]",
                    "Slovenska industrija jekla dd [25.0%]; Dilon doo",
                    "Solidium Oy [15.5%]; small shareholder(s)",
                    "Southern Mining and Metallurgical Complex LLC",
                    "Southern Steel Bhd [100.0%]",
                    "Sribir Group of Companies",
                    "Star Infrastructure Development Corp [100.0%]",
                    "State Company for Iron and Steel (Iraq) [100.0%]",
                    "State-owned Assets Supervision and Administration Commission of Yunnan Province [76.5%]; Yunnan Provincial Department of Finance [8.5%]; unknown [0.0%]",
                    "StavStal' LLC [100.0%]",
                    "Steel Authority of India Ltd [100.0%]",
                    "Steel Dynamics Inc [100.0%]",
                    "Steel Dynamics Inc [88.0%]; unknown [12.0%]",
                    "SteelAsia Manufacturing Corp [100.0%]",
                    "Sun Metal Casting LLC [100.0%]",
                    "Sunflag Iron and Steel Co Ltd [100.0%]",
                    "Sunningwell Steel Polska SA",
                    "Surjagad Ispat Pvt Ltd [100.0%]",
                    "Swadesh Metallics Pvt Ltd [100.0%]",
                    "Swiss Steel Holding AG [100.0%]",
                    "Südwest Beteiligungen GmbH",
                    "Sıddık Kardeşler Haddecilik Sanayi Ticaret LŞ [100.0%]",
                    "TSINGSHAN Holding Group Co Ltd [40.3%]; unknown [24.5%]; Shanghai Decent Investment (Group) Co Ltd [23.7%]; Zhejiang Qingshan Business Management Co Ltd [11.5%]",
                    "TT Iron Steel Company Ltd [100.0%]",
                    "Ta Chen Stainless Pipe Co Ltd [38.8%]; Tycoons Worldwide Group (Thailand) PCL [19.4%]; Tycoons Group International Co Ltd [5.9%]",
                    "Taiwan Steel Group",
                    "Talleres y Aceros SA de CV [100.0%]",
                    "Tangshan Donghai Iron and Steel Group Co Ltd [100.0%]",
                    "Tangshan Donghai Iron and Steel Group Co Ltd [70.0%]; natural person(s) [30.0%]",
                    "Tangshan Donghua Iron & Steel Enterprise Group Co Ltd [100.0%]",
                    "Tangshan Donghua Iron & Steel Enterprise Group Co Ltd [84.2%]; natural person(s) [15.8%]",
                    "Tangshan Fengnan District Jing'an Iron and Steel Co Ltd [100.0%]",
                    "Tangshan GUOYI SPECIAL Steel Co Ltd [100.0%]",
                    "Tangshan Jiaqi International Trade Co Ltd [90.0%]; Chifeng Yuanjian Iron and Steel Industry Co Ltd [10.0%]",
                    "Tangshan Jinma Iron & Steel Group Co Ltd [100.0%]",
                    "Tangshan Jinma Iron & Steel Group Co Ltd [83.7%]; Hainan Mingbo Investment Co Ltd [16.0%]; unknown [0.3%]",
                    "Tangshan RUIFENG Steel and Iron (GROUP) Co Ltd [100.0%]",
                    "Tangshan Songting IRON&STEEL Co Ltd [100.0%]",
                    "Tangshan Universal Industrial Development Co Ltd [100.0%]",
                    "Tangshan Xinfengsheng Trade Co Ltd [72.6%]; Hebei Xinda Iron and Steel Co Ltd [27.4%]",
                    "Tangshan Xinfengsheng Trade Co Ltd [72.6%]; natural person(s) [27.4%]",
                    "Tangshan Xinglong Steel Co Ltd [100.0%]",
                    "Tangshan Zhengfeng Steel Co Ltd [100.0%]",
                    "Tangshan Zhengfeng Steel Co Ltd [100.0%]; Tianjin Rongcheng Group Tangshan Special Steel Co Ltd [100.0%]",
                    "Tanshan Iron and Steel [100.0%]",
                    "Tata Metaliks Ltd [100.0%]",
                    "Tata Steel (Thailand) PCL [100.0%]",
                    "Tata Steel BSL Ltd [100.0%]",
                    "Tata Steel Long Products Ltd [100.0%]",
                    "Tata Steel Long Products Ltd [92.7%]; Tata Steel Ltd [5.2%]; small shareholder(s) [2.1%]",
                    "Tata Steel Ltd",
                    "Tata Steel Ltd [100.0%]",
                    "Tekhnologicheskiye Investitsii LLC [100.0%]",
                    "Tembo Steels Uganda Ltd [100.0%]",
                    "Templar Investments Ltd",
                    "Tenaris SA [100.0%]",
                    "Ternium Argentina SA [100.0%]",
                    "Ternium SA [100.0%]",
                    "Tianjin Jiangtian Industrial Development Co Ltd [100.0%]",
                    "Tianjin Rongcheng Group Tangshan Special Steel Co Ltd [100.0%]",
                    "Tianjin Rongcheng Xiangtai Investment Holdings Co Ltd [77.8%]; natural person(s) [17.9%]; unknown [4.2%]",
                    "Tianjin Tianfeng Steel Co Ltd [100.0%]",
                    "Tianlong Investment Co Ltd [58.3%]; Huayang Investment (Hong Kong) Ltd [41.6%]",
                    "Tokyo Steel Manufacturing Co Ltd [100.0%]",
                    "Tongling Fuxin Iron & Steel Co Ltd [100.0%]",
                    "Tongshan Liguo Iron and Steel Co Ltd [100.0%]",
                    "Topy Industries Ltd [100.0%]",
                    "Torbat Heydarieh Steel Co [100.0%]",
                    "Tosyalı Holding AŞ",
                    "Tosyalı Holding AŞ [100.0%]",
                    "Tourism Financial Group",
                    "Triangul Metals Tebinbulak JSC [100.0%]",
                    "Triton Trust; Virgo Trust",
                    "Trubnaya Metallurgicheskaya Kompaniya PJSC [100.0%]",
                    "Trubnaya Metallurgicheskaya Kompaniya PJSC [96.0%]; small shareholder(s) [4.0%]",
                    "Trubnaya Metallurgicheskaya Kompaniya PJSC [98.2%]; small shareholder(s) [1.8%]",
                    "Tuchuan Capital Co Ltd [99.0%]; unknown [1.0%]",
                    "Tung Ho Steel Enterprise Corp [100.0%]",
                    "UMC Metals Ltd [100.0%]",
                    "Unitex Steel Mills Ltd [100.0%]",
                    "Ural-VK JSC [100.0%]",
                    "Usinas Siderurgicas de Minas Gerais SA [100.0%]",
                    "Ussuri Capital [100.0%]",
                    "Uttam Galva Ferous Ltd [100.0%]",
                    "Vale SA [100.0%]",
                    "Vallourec SA [100.0%]",
                    "Valsabbia Investimenti SpA",
                    "Van Company for Industrial Investment and General Trading [100.0%]",
                    "Van Merksteijn International BV [100.0%]",
                    "Vanir Green Industries AS",
                    "Vardhman Special Steels Limited [100.0%]",
                    "Vedanta Ltd [100.0%]",
                    "Vedanta Ltd [95.5%]; small shareholder(s) [4.5%]",
                    "Viet Nam Steel Corp",
                    "Viet Nam Steel Corp [65.0%]; Thai Hung Trading JSC [20.0%]; small shareholder(s) [15.0%]",
                    "Viet Nhat Advanced Steel JSC [100.0%]",
                    "Vietnam Advance Sprint Group JSC",
                    "Vietnam Advance Sprint Group JSC [100.0%]",
                    "Vina One Steel Manufacturing Corp [100.0%]",
                    "Vina Roma Quang Tri Steel JSC [100.0%]",
                    "Viohalco SA",
                    "Viohalco SA [100.0%]",
                    "Viohalco SA [28.6%]",
                    "Voestalpine AG [100.0%]",
                    "WEALTH GROUP INVESTMENT LIMITED [100.0%]",
                    "WEALTH GROUP INVESTMENT LIMITED [78.0%]; Wu'an Hongji Investment Co Ltd [12.7%]; unknown [4.1%]",
                    "WEALTH GROUP INVESTMENT LIMITED [95.0%]; unknown [5.0%]",
                    "WISCO Group Kunming Steel Co Ltd [100.0%]",
                    "WMA Participacoes SA [80.0%]; Aço Cearense Industrial Ltda [20.0%]",
                    "Weglokoks SA",
                    "Weiao (Shandong) Investment Co Ltd [100.0%]",
                    "Welspun Corp Ltd [100.0%]",
                    "West Alborz Steel Co [100.0%]",
                    "Wing Fung International Ltd [100.0%]",
                    "Wu'an Yongcheng Zhuye Co Ltd [100.0%]",
                    "Wuhu Fuxin Iron & Steel Co Ltd [100.0%]",
                    "Wuxi Xinsanzhou Special Steel Co Ltd [100.0%]",
                    "Wuxi Zhongbang Equity Investment Partnership LP [77.8%]; Jiangsu Huaxi Group Co Ltd [22.2%]",
                    "Wuzhou Yongda Steel Works Co Ltd [100.0%]",
                    "Xiangfen County Xingyuan Steel Group Co Ltd [100.0%]",
                    "Xining Special Steel Co Ltd [100.0%]",
                    "Xinji AOSEN Steel Group Co Ltd [100.0%]",
                    "Xinjiang Da'an Special Steel Co Ltd [100.0%]",
                    "Xinjiang Ka Steel Group Co [100.0%]",
                    "Xinjiang MINXIN Steei (GROUP) Co Ltd [100.0%]",
                    "Xinjiang Xin'an Special Steel Co Ltd [100.0%]",
                    "Xinjiang Yili Iron and Steel Co Ltd [100.0%]",
                    "Xinxing Ductile Iron Pipes Co Ltd [100.0%]",
                    "Xinyu Iron & Steel Corp Ltd [100.0%]",
                    "Xiwang Special Steel Co Ltd [99.6%]; unknown [0.4%]",
                    "Xuan Thien Group JSC [100.0%]",
                    "Xuanhua Iron and Steel Group Co Ltd [100.0%]",
                    "Xuzhou Jinhong Iron and Steel Group Co Ltd [100.0%]",
                    "Xuzhou TaiFa Special Steel Technology Co Ltd [100.0%]",
                    "Yamato Kogyo Co Ltd [100.0%]",
                    "Yamato Kogyo Co Ltd [49.0%]; Gulf Investment Corp [25.5%]; Industries Qatar QPSC [12.8%]; Gulf Cables & Electrical Industries Co KSC [5.1%]; National Industries Group Holding KSCP [5.1%]; Kuwait Foundry Company KSCP [2.6%]",
                    "Yamato Kogyo Co Ltd [64.2%]; Mitsui & Co Ltd [20.0%]; Siam Cement PCL [10.0%]; Sumitomo Corp [5.8%]",
                    "Yangzhou Hengrun Ocean Heavy Industry Co Ltd [100.0%]",
                    "Yangzhou Qinyou Special Metal Materials Co Ltd [100.0%]",
                    "Yenakiieve Metallurgical Plant Branch PJSC [100.0%]",
                    "Yesilyurt Demir Celik Endustri Ve Liman Isletmeleri AŞ [100.0%]",
                    "Yieh United Steel Corp [100.0%]",
                    "Yildizlar Yatirim Holding AŞ [100.0%]",
                    "Yucel Boru ve Profil Endustrisi AŞ",
                    "YueSeM Holding Company LLC",
                    "Yun County Rongfeng Rolling Mill Factory [100.0%]",
                    "Yunan Qujing Shuangyou Steel Co Ltd [25.0%]; Yunnan Qujing Chenggang Iron and Steel (Group) Co Ltd [25.0%]; Fujian XINPENG Investment Co Ltd [16.6%]; Xuanwei Laibin Fenghuang Steel Co Ltd [16.0%]; Qujing Julida Steel Co Ltd [8.0%]; Qujing Wuyue New Energy Technology Co Ltd [5.5%]; Yunnan Tongyanbao Trading Co Ltd [1.7%]; unknown [1.0%]; Yunnan Qujing Yaochang Trade Co Ltd [0.9%]; Qujing Botong Trading Co Ltd [0.4%]",
                    "Yunnan Yuxi Iron and Steel Group Yukun Iron and Steel Co Ltd [100.0%]",
                    "Yunnan Yuxi Xianfu Iron and Steel (Group) Co Ltd [100.0%]",
                    "Zagorskii Trubnyi Zavod JSC",
                    "Zenith Steel Group Co Ltd [100.0%]",
                    "Zhangjiagang Free Trade Zone Qiande Investment Co Ltd [37.0%]; Huasheng Holdings (Hong Kong) Co Ltd [25.0%]; Hengde International Co Ltd [14.3%]; Jiangsu Shagang Group Co Ltd [11.1%]; unknown [6.5%]; Zhangjiagang Free Trade Zone Runyuan Stainless Steel Trade Co Ltd [3.4%]; Ningbo Meishan Free Trade Port Jincheng Shazhou Equity Investment Co Ltd [2.7%]",
                    "Zhejiang Wantai Special Steel Co Ltd [100.0%]",
                    "Zhejiang Yuanli METAL PRODUCT Group Co Ltd [81.5%]; Zhejiang Yuanli Metal Products Group Co Ltd Trade Union Committee [18.5%]",
                    "Zhejiang Yuxin Industrial Co Ltd [100.0%]",
                    "Zhenshi Holding Group Co Ltd [70.3%]; Tongxiang Wushi Trading Co Ltd [23.9%]; unknown [4.5%]; Huakai Investment Co Ltd [1.3%]",
                    "Zhongxin Iron and Steel Group Co Ltd [100.0%]",
                    "Zunyi County Fuxin Iron & Steel Product Co Ltd [100.0%]",
                    "natural person(s) [36.1%]; small shareholder(s) [28.8%]; Mahanada Suppliers Pvt Ltd [22.6%]; Sunrwoth Stocks Pvt Ltd [12.5%]",
                    "natural person(s) [38.4%]; unknown [23.2%]; Thailand Huihua Industrial Co Ltd [20.7%]; Labor Union Committee of Xiaojiao Rolling Mill of Sanming Iron and Steel Works, Fujian Province [17.7%]",
                    "natural person(s) [44.0%]; Guigang Helong Investment Partnership LP [41.8%]; Guigang Herun Investment Partnership LP [12.5%]; unknown [1.7%]",
                    "natural person(s) [44.4%]; unknown [15.3%]; Shouguang Zhirun Investment Co Ltd [13.4%]; Shouguang Shengda Investment Co Ltd [10.4%]; Shouguang Shanyue Qingfeng Economic and Trade Co Ltd [8.3%]; Shouguang Zhitao Trading Co Ltd [3.2%]; Shouguang Xingchen Dahai Trading Co Ltd [2.5%]; Shouguang Yunxin Economic and Trade Co Ltd [2.5%]",
                    "natural person(s) [45.0%]; Guizhou Jinshengan Investment Group Co Ltd [41.9%]; unknown [6.7%]; Jin Jun'an Investment Group Co Ltd [6.4%]",
                    "natural person(s) [48.8%]; Zjmc (Beijing) New Energy Technology Co Ltd [41.5%]; Beijing Global Jierui Investment Management Co Ltd [7.3%]; unknown [2.4%]",
                    "natural person(s) [49.0%]; Hebei Puyang Industrial Group Co Ltd [33.2%]; Longxiang Group (Hong Kong) [17.8%]",
                    "natural person(s) [49.0%]; Minyuan Iron and Steel Group Co Ltd [34.0%]; Fujian Mingfa Investment Co Ltd [17.0%]",
                    "natural person(s) [50.0%]; Sortoprokat-Tsentr LLC [49.0%]; small shareholder(s) [1.0%]",
                    "natural person(s) [51.0%]; Inner Mongolia Jiyu Holding (Group) Co Ltd [49.0%]",
                    "natural person(s) [56.3%]; Hubei Xinxin Steel Group Co Ltd [21.1%]; Jin Jun'an Investment Group Co Ltd [18.9%]; unknown [3.7%]",
                    "natural person(s) [62.6%]; Yuncheng Investment (Fujian) Co Ltd [9.1%]; Fujian Yongxinqi Investment Co Ltd [6.8%]; Fujian Taisong Investment Co Ltd [4.9%]; Fujian Jinkun Investment Co Ltd [4.2%]; Fuzhou Deyu Investment Co Ltd [3.6%]; Fujian Qikun Investment Co Ltd [2.5%]; Fujian Hongyao Investment Co Ltd [2.4%]; Fujian Shunle Investment Co Ltd [1.9%]; unknown [1.9%]",
                    "natural person(s) [65.0%]; Guizhou Mindong Economic and Trade Co Ltd [35.0%]",
                    "natural person(s) [65.2%]; Henan PROVINCE HENGCHANG Trading Co Ltd [15.8%]; unknown [10.4%]; Henan State Owned Capital Operation Group Co Ltd [8.6%]",
                    "natural person(s) [66.2%]; Fujian Wugang Group Co Ltd [33.8%]",
                    "natural person(s) [66.7%]; Fujian Mingfa Investment Co Ltd [33.3%]",
                    "natural person(s) [83.0%]; Hubei Jinshenglan Investment Group Co Ltd [17.0%]",
                    "natural person(s) [89.3%]; Shandong Chaote High End Equipment Technology Co Ltd [10.7%]",
                    "natural person(s) [89.6%]; Xuzhou Haijin Trading Co Ltd [10.0%]; unknown [0.5%]",
                    "natural person(s) [90.1%]; China Development Bank Corp [9.9%]",
                    "natural person(s) [98.0%]; small shareholder(s) [2.0%]",
                    "natural person(s); RKV Participacoes Ltda; Skv Participacoes Ltda; Viena Administracao e Participacoes Ltda",
                    "small shareholder(s)",
                    "small shareholder(s) [2.3%]; Drampisco Limited",
                    "small shareholder(s) [21.7%]; Parsan Makina Parçaları Sanayi AŞ [20.1%]; Güriş Inşaat ve Muhendislik AŞ [19.5%]; Omtaş Otomotiv Transmisyon Aksamı Sanayi ve Ticaret AŞ [5.5%]; Diler Holding AŞ",
                    "small shareholder(s) [28.7%]; Cimmco Vinimay Pvt Ltd [16.6%]; Rashmi Iron Industries Pvt Ltd [9.1%]; Newera Commotrade Pvt Ltd [6.6%]; Rashmi Infrastructure Pvt Ltd [6.0%]; Bholebaba Consultants LLP [5.8%]; Rashmi Cement Ltd [5.7%]; Daffodil Plaza Pvt Ltd [5.7%]; Optimist Commosale Pvt Ltd [5.5%]; Rashidhan Sales Pvt Ltd [5.2%]; Rashmi Metaliks Ltd [5.0%]; Orissa Metaliks Pvt Ltd [0.1%]",
                    "small shareholder(s) [28.7%]; Cimmco Vinimay Pvt Ltd [16.6%]; Rashmi Iron Industries Pvt Ltd [9.1%]; Newera Commotrade Pvt Ltd [6.6%]; Rashmi Infrastructure Pvt Ltd [6.0%]; Bholebaba Consultants LLP [5.8%]; Rashmi Cement Ltd [5.7%]; Daffodil Plaza Pvt Ltd [5.7%]; Optimist Commosale Pvt Ltd [5.5%]; Rashidhan Sales Pvt Ltd [5.2%]; Rashmi Metaliks Ltd [5.0%]; natural person(s) [0.1%]",
                    "thyssenkrupp AG [15.0%]; Finarvedi SpA",
                    "thyssenkrupp AG [40.0%]; Vallourec SA [20.0%]; EP Group AS [10.0%]; Salzgitter AG",
                    "thyssenkrupp AG [80.0%]; EP Group AS [20.0%]",
                    "unknown [10.8%]; Ternium Argentina SA; Ternium SA",
                    "unknown [100.0%]",
                    "unknown [100.0%]; natural person(s) [87.0%]",
                    "unknown [32.4%]; TSINGSHAN Holding Group Co Ltd [30.0%]; Shanghai Decent Investment (Group) Co Ltd [23.0%]; Zhejiang Qingshan Business Management Co Ltd [8.6%]; natural person(s) [6.0%]",
                    "unknown [5.0%]; SCM Holdings Ltd; Smart Holding (Cyprus) Ltd",
                    "unknown [6.0%]; Riva Forni Elettrici SpA",
                    "unknown [70.0%]; Government of Angola [30.0%]; Tosyalı Holding AŞ",
                    "Çebitaş Demir Çelik Endüstrisi AŞ [100.0%]",
                    "Çolakoğlu Metalürji AŞ [100.0%]"
                  ],
                  "lat": {
                    "bdata": "ec2rOqtfQkBDAkaXN78tQLow0ovaZTHA73A7NCxYQ0BUVz7L82A4QEtzK4TVeDZAbIywu1PaRkCIhO/9DbpCQDFhNCvbyznA6fF7m/4UPkCMhSFy+tY1QL68APvo7CJA2hoRjIPXOEA5Y5gTtIVBQOARFaqbCx5Ad6BOeXQtSUCBlUOLbAc4QJ8ih4ibHz9AEXAIVWpmPUB2pWWk3kc6QEM6PITxNz5AHTwTmiTKOECEMX0K26w9QNqSVRFuQkdAc7osJjZxQ0DzcW2oGJVCQHQjLCrizDhAsaKrGb5ERkDDPhTfY39EQL/zixL0hz5AmPc404S1PkCJDKt4Iz8/QD6V056Swz9AXfxtT5DYEECKlGbzOJZEQAso1NNHdTRAa9eEtMacREDPaRZodyA3QFRyTuyhD0JA2SPUDKmuQEDQRxlxAYgzwCgQdopVVklA6s9+pIhIOEB8Yp0q3xdJQJ/J/nka3kZAVZk+SgdqQ0AdaE8Tx+8zQEtywK4mQURAnyEcs+zvR0Ab17/rM8sywBAJ3/sbxUVA9iwI5X2WRUDVNW3ZNB09wPJEEOfhQDTAkC42rRRISUD4+8VsyYI+QGeAC7JlgT5AUMJM278yKUANVMa/zypKQO8AT1q4MDVAVmZK62+7QECcKWiDeX87QJaWkXpPzTVALGfvjLZsSkCorRHBOJFKQFkYIqev3zZAJ92WyAWzP0Axz0pa8ctGQLpm8s02N0RAQlw5e2dcRECvQPSkTKouQOARFaqbSytAP+JXrOHeNkCx+iMMA0o9QGqkpfJ2fDVA0AoMWd1yL8D4i9mSVRkyQERN9Pko5z9Abm5MT1gONUA4MSQnE+1FQE3zjlN0rkRA5l5gVihYRECWIY51cXNEQMOdCyO9DkJAd7temiK4NkDq0VRP5phEQAyQaAJFtjxAKjqSy38wP0B4eqUsQ+5DQIapLXWQ7UNATtL8Ma3rRECRm+EGfJhHQCh4HYSTaUVAZ1p1MHUkRUBUVP1K5yMRQN3T1R2Lu0NAfT81XrrjREB7oYDtYJg6QBcMrrmj3zpA8BRypZ4tQkDu68A5IypJQI0kQbgClkdA2/y/6shzRkB8KxIT1MJGQL9k48EWo0RA73GmCds7SkC38ScqGw4zwBl0QuigYz5A2ZdsPNiiBsCMZmX7kJ5EQKzhIvd0bQNAFakwthAIREDbFmU2yIwgQMfUXdkFi0JAXXQNju0IQ0BHBOPg0vtDQJC8cyhD/TxAGAYsuYpfQsD5LxAEyKhDQBZPPdLgtgrAVOV7RiIqQEBosn+eBlxCQBmuDoC4uypA9kIB28GSQ0DRdeEH5ydDQL38TpMZ2zZAl/xP/u4NP8CrevmdJoMYQDwx68VQMkBAnGnC9pMxQED8GHPXEjJAQCRens4VOT9A/MOWHk25P0DxEpz6QJo/QC5W1GAaxh5AhBJm2v41RUDmBdhHp6JLQJxvRPesT0RAvHSTGARMREA9DoP5Kwg/QAAz8oyQBDlAi2DSzh99SkCWCFT/INw3QPfHe9XKfDpAE7h1N09lPkD2CDVDqipFQI20VN6OvEJAU+v9RjuWLkCAKJgxBSVDQFOxMa8jZDdA/MOWHk0JMkBExM2pZIg+QN6QRgVOyj1AECBDxw7WPUCYaJCCp3A9QE1LrIxGJixAMsueBDaPQUD13EJXIkxAQNL/ci1ahENAYHXkSGcwO0AYfJqTF51FQGuTnZEbm0RANGQ8SmX5QUBo5V5gViQsQB+GVidnmCBA7s9FQ8aTK8BeZAJ+jZQgQCVATS1bqyBAsHJoke2WRUBLcsCuJkFEQLg81owMXjNArIxGPq+MQUDeAgmKHwBCQAXDuYYZgkFANsmP+BUBR0DD8BExJYY1QLJ+MzFd/kJAvi7Df7oBP0AZ48PsZW8/QCANp8zNAzdAZ9XnaivAQECop4/AH3ZJQCv7rgj+Nw7AFXKlngVeQ0Ccw7Xaw95HQLjkuFM6X0JA6E6w/zq9RkCNYOP6d21KQOqxLQPOakJA1ouhnGgvRkDQnPUpx/NLQCUgJuFCxj1AUb01sFVYQkDD1QEQd6lLQLk2VIzzjyFA1Cr6QzNvK0CqmbUUkB4iwFfsL7snIzPAlzszwXBSOEAGhxdEpHJNQHv18dB3oURAzjeie9ZhPkA+XHLcKbE9QGIwf4XM5ThAX38SnzulPEBH5pE/GFA4QDX5U9DasEdAOfHVjuJMLcCALESHwC1JQJRqn47Ht0VAJPHydK6SRkC3CIz1DTZIQEKklTH08UhAuynltRJmNsCDghPfHK4WQItrfCb75/i/RrQdU3c5O0CyvRb03rw5QOUFfY40K0VAvCTOiqj3QUC9AWa+g+M2QLDHREqzizdAmgewyK8qQEAdbRyxFv85QGO5pdWQgD9Ak1fnGJD1OUBm22lrRIA9QBkBFY4gyTZA2uIan8l2LEAYXknyXOtEQIRGsHH9GypAQTI8q9kCQEAVGohlM4FAwJ7RViWRpUZAJAwDllyJNkAVx4FXy8E6QE5C6Qsh9kJALBA9KZM+QkA4D8x2KhtKQKSutfepuDXAXYyBdRyxM0AiWRu+4H5AwPUwtDr5GENAuFonLscDN8D84ee/Bys9QNO+ub96eDVApwcFpWiHQUDlfRzNkVlBQIOhDivcGkRAhBJm2v71NUDB4nDmVyM9QNC0xMpoJkRAgeuKGeEdREDO/kC5bbs9QKw3aoXp10FAqYjTSbZqGEC4zVSIR9IKQP4Mb9bgZUJA3jgpzHvgOkCKBb6iW38TwGwGuCBbFjZA2m/tREmQREDgzK/mAEHcv/GAsilXHEJAgeRCiqYMP0AwDi4dc7I1QLvW3qeqhDdAZ4F2hxSnNEDPZ0C9GYU1QNZz0vvGBxBANe1imukWN0DZBu5Anfo3QO4jtybd+jdAavZAKzCsNUByMnGrICg3QAGFevoIsDVAMqoM426sOEBpVrYPeZc7QIY7F0Z6nTtAucX83NBoOEDT9UTXhaVDQJUnEHaKF0RA3UWYolyiQ0AMlBRYAKFDQFdCd0mcTUZAFSF1O/tyQ0Ck5NU5BrdDQBo2yvrNpEBA3pTyWgm5Q0BMamgDsAhDQOcXJegvYENA323eOCnQQEDPEI5Z9ow2QLUWZqGdBUNAN6eSAaAuQUCW6ZeIt2RCQIZZaOc06z1AS3ZsBOJlPUAgKLfteyQ5QBxfe2ZJ1ENAsMka9RBHQkDqIoWy8JUbwBXj/E0ozkNAtAJDVreEQkCUL2ghAVVCQNR/1vz4UUJAR3L5D+ldQkAeotEdxFRCQCybOSS1xENAdF5jl6hSQkDmBdhHp7Y9QMyZ7Qp9nENA8yA9RQ6xDEDbF9ALd/ZDQDZWYp6VzkZAEcR5OIHNQUAaFw6EZLFDQGH/dW7aEEJA0Jm0qbohQUAuqdpughNCQKtALQYPi0FAkgN2NXmiQEDTTWIQWKVAQKH18GWi8EFAWMudmWASQkB3Mc10r/s/QDY8vVKWKUVAVrd6Tnp/OEDGo1TCEwJFQE7soX2s/DdA4fHtXYP6N0CfAIqRJUc6QMeEmEuqPjpAigJ9Ik8yMkDU8ZiByjAlQMMPzqeOA0BAATW1bK19RECUTE7tDJtAQF1vm6kQFzxAhA66hENPQEC31awzvnlBQO9Z12g5xkJAd/S/XIs6PkDUfmsnShBAQCiZnNoZlj5A5rLROT9TQEBrfvylRRE+QG+df7vsxztAsky/RLwVNkAVNgNckN06QJ1Hxf8dvTVAGLX7VQCgQUA6eZEJ+EU6wKlKW1zj8zhAcayL22hMMUDPukbLgWBCQGUXDK65pUDAbvdynxzZRUD7c9GQ8VJEQBsS91j67kNACcA/pUpYREAewvhp3D9IQPzFbMmq8D9AHZJaKJlOQkBxMRmhsiVAQB2vQPSk9kBAnMO12sMeQkAEGhExynI5QEQX1LfMqT9AnUoGgCpeQkBnZfuQt6Q/QE8g7BSrXkNAOj3vxoI4REBGlzeHa7dBQLSQgNHlFS5Axvtx++WHMkDnx19a1Ps1QEn0MorlVi5ANlRe8KU0NkA0vcRYpj80QECjdOlfqjZA93R1x2KTNkDoTNpU3S9AQCYbD7bYFTZAAxipCiBvN0B0mC8vwFo1QPBt+rMfO0BA+6wyU1oNQEBnf6DcthFAQJqV7UPeREFAWqFI93PIQEDmQA+1beQ/QFAb1elAQEFAZqIIqdtJQUA0ETY8vZo8QC6SdqOP4ThA7rJfd7rzP0DL1voioZlFQEYkCi3rAkZA0erkDMURRkBosn+eBlxCQHnOFhBaX0JATpfFxOZDQkAsZK4Mql1CQHheKjbmD0FARIts5/spIkAV/3dEhQo5QDuAWEk+8zRACMcsexJyQkDrdCDrqXFCQPVjk/yI9UJAko1R6AZwP0AacJaS5QpLQH0/NV66WT5AC0Pk9PUSQkCtTWN7LZhEQKX3ja891UFA/89hvrzoIEC1p+Sc2J1CQM5xbhPugTdAeoocIm56QkAT8db5t5tBQGYwRiQK3UtAym37HvV/NkBkPEolPENMQELQ0aqWSD9AhhxbzxCaNEAvF/GdmK0uQAEXZMvygURAEvbtJCL7Q0ATQ3IycSs7QGq8dJMYLEJAG0ZB8PhGP0BXlX1XBOs+QG7DKAgePUFATkLpCyFbQUBnKO54k4czQKeufJbngUJAv9alRujtQkAVNgNckB0XQOogrweTTjZAwmuXNhyMRECFGS0aRU9BQNofKLftMyVAyQT8GknyNEC9cyhDVew9QHVSztamax3AXk2esprkREAuILQevrA7QCNnYU87jEFAm5Ksw9FNQUBa8KKvIDFBQFdAoZ4+NkFAeSCySBNVREDjjcwjf5hEQD5A9+XMnERAOkAwR48PQEANjpJX5ypAQL5muWx0PEJAt9Jrs7GiREBHA3gLJJRBQKesFHA9KAdAmwRvSKNiOED2CDVDqpQ1QNGTMqmh2TNAEeFfBI0VNsA5Y5gTtOk4QEUPfAxWXEJAQEtXsI0qQkCDwMqhRXxCQHzzGyYazFBA2c2MfjRmQUBqa0QwDto8QA1slWBx4DVAYthhTPpZQUC69ZoeFBA/QJqy0w/qsj9AT7LV5ZSAP0BI6B1dW/YQQBwmGqTgy0BAK9zykZSMRkCP39v0Z58IQNEi2/l+1EFAPDPBcK6ZIECPq5FdaXFIQCpxHeOKQUhAsDvdeeKVN0DIl1DB4RNDQOtunuqQYylAQ+GzdXDIREBF1hpK7fk0QAHChxItlUBA7xzKUBV9RkCvtfepKmJEQOw1PSgoc0dAEEBqEyfvR0AcRGtFm6MpQKuUnukl9jpA+BqC4zLYSEDQRq6bUuRHQHmvWpnwTzdA8UknEkytSEDgY7DiVOlIQIC21awz3h5AsyRATS2nP0DvTLIfcxQ1QF+5OfDFIzFAFAmmmlkDNkCES8ecZ1BBQEURUrezGUBAsyWrIty2QECQvknToGQ+QIm1+BQAsUtA/3qFBfffNkAhVn+EYUQ+QKoqNBDLmENAlExO7QyjQ0CdD88SZMBCQEUPfAxWTkhACUY4QEMkQkCaC1wea5YpQOwRaoZUszRA0GG+vAAtTUBEFmniHdBEQOBGyhZJ80lAEYyDS8feR0B+4ZUkz/dJQMGMKVjjcEZAKnPzjejIR0CgqEtKaoRBQEFiu3uA+EFAt7WF56XSRkCP4hx1dMhGQHCVJxB2Ij1AFOgTeZJMQUCH/gkuVl5DQIVCBBxCvUFAJScA7MkpO0CiKTv9oP4XwENU4c/w+j9AJcRvHfY1AMB3MGKfALoYwHaKVYMwBxjAeGLWi6G8GMAfgxWnWs84QCOHiJtTyRxAvdGh5r5jPkAl6gWf5jA9QOjbgqW6HEZAf/W4b7UOEUCwVu2akGY/QHTv4ZLjtkZAEr2MYrktJUDUtfY+VWU0wMh8QKAzATZA+FROe0pOLED+fjFbsswxQAmocASpJElA94+F6BAESUAZV1wcldM6QEAD1wJoVTxARkJbzqWYQ0A8FtukogVEQGdfeZCeJjlATkcAN4uRQUCu2F92T2ZCQGpPyTmx2UNA5q4l5INgSEDzqzlAMJ1GQF3+Q/rtWzZA1/uNdtxUNkAyzXSvkwg3QAN8t3njnDFAxQJf0a0FR0AAqyNHOpdDQJ4lyAhoTEdAMppLYCnpNUAN+z2xTrU4QEpATMKFgDtAq0g7JGshSkCm0k84u/1HQHxhMlUwKiHAQSswZHVLQkCQMAxYch5KQIXP1sHBojhAJPHydK5sTkD5adyb32RBQFYRbjKqgDtAMsozL4cnOEAiizTxDstBQEFK7Nre/kFAC170FaTtNEA/WMaGbpJNQF8Lem8MkUBAc+/hkuN6L0A2PpP985BAQK9bBMb6QkFANEqX/iWdN0D2fThIiHJCQJT3cTRHC0JAmnrdIjCYQUDUf9b8+HNCQITZBBiWDUJAWI6QgTxdQkBQxvgweydCQMKGp1fKIEJAqRPQRNjEOkCiRbbz/cQ6QHe9NEWAxzpApDfcR26pQEDHnGfsS1ZFQHDSNCiaiUJA3h0Zq80pQkCMgXUcPwpCQNl5G5sdy0FA6xwDstfZQUAjS+ZY3tVBQIj2sYLf2EFAiV5GsdzUQUBh/3Vu2tZBQM3mcRjM2UFASaEsfH0XREDoTrD/OvdCQCdok8Mn3UFAar5KPnavQkBD5zV2iShEQPrvwWuXXjZAmpfD7jv6NkDOVIhH4q82QDrP2JdskDdA7rQ1IhiXN0A/raI/NI82QA2K5gEs6ixAWvCiryDNOEDY74l1qtQ+QCwN/KiGQT9ARx0dVyMPPkBiokEKnrxEQKCNXDelhCBAIm+5+rHJOkDwUuqScYzdPy1gArfu2j9Aodl1b0U2R0AlXTP5Zi1KQM5twr0yPUhABygNNQqZFUCPGhNiLiU4QIfboWExxjZAp8S/GUY/PkDMme0KfWw1QNQK0/caWEZApSwC4QaXNkBT4eK7p21CQAd5PZgUsUdAaNQc/ljhKkAwoYLDC6I2QDxKJTyhOzVACcIVUKjBRkAYlGk0uXwzQDbptkQuoDVAHFVg27ULR0CRnEzcKkxIQF5HHLKBZkRAhLhy9s7wMsARAYdQpc4kQIVDb/HwtilAA+rNqPkqOEAZVBuciN4yQM4avK/K30NASWQfZFnoNkB4R8Zq87tDQJ63sdmR1kNA4CpPIOzMQ0C4ByEgX9RDQHbDtkWZI0VAu/CD86nZQ0CuYvGbwupEQH5WmSmtv0NAxanWwiz4Q0BckC3L199DQGzu6H+58ENADfyohv3yQ0A82c2MfuxDQHB87Zkl7UNAcHztmSXtQ0C8eapDblZEQFX6CWe3YjZA7Lsi+N+6KUD44SAhyss0QPkUAOMZ0DZA2nHD76b/NEDVsyCU9z1KQOxJBbqbhDlAptJPOLv9R0D3Bl+YTJXjP4WB1BOD4TZAyLH1DOG4MkBAE2HD069AwFz/rs+c6TbAoGtfQC/AQ0COBYVBmcZDQJ8gsd09fENAVaNXA5RqQ0DeWibD8Xg4QN7NUx1ydEFABCDu6lXoPkDl7QinBUdBQJ5haksdXEFAUn3nFyXMQUCfWKfK9z5CQHJTA83nI0BA95Fbk261QkDMGZtnNoxEQFmHo6t0iztA6x7ZXDVtSkBYj/tW655HQM++8iA9PUxAONcwQ+PVREBrgqj7ALA0QGthFto5jSpAk8SScvfxNkBXYMjqVn9LQK7boPZbrTXAM6g2OBERRkA51VqYhV4uQLKEtTF2ohXAWeAruvWKJECqtwa2StJGQF2Kq8q+C0JAlx5N9WS4SkAK16NwPQJOQE0SS8rd4z5Aqb9eYcENL0DTaHIxBqI3QITx07g3JyVAEwt8RbeONUAAjGfQ0Oc0QPGfbqDAGyZAD4KOVrVwLkB15bM8D0YlQJV+wtmtwTBA6rMDritaREBMxjGSPUxFQHMtWoC2lUNA5Xyx9+LpR0ASLuQR3Bg+QEz8UdSZW0JAqB5pcFtXPkDEsplDUvM4QL6h8Nk6qBXA8z0jERolSUCWJM/1fVJCQDScMjffHDdA2LlpM04PQkDYR6eufFJBQFciUP2DVEJAkuhlFMsxP0CYaftXVq4/QCXwdNS+bkJAZOPBFruFN0Ak8fJ0rvBBQPa0w1+TVUJAcw6eCU3gQkAPf03WqFlFQIs2x7lNkkNA3q0s0VkKRkDfh4OEKCVGQLaizXFuw0VAG+Hadsf7PUAykGeXb8k7QFrxDYXPdkJAN+Dzwwg9NEAKgse3d0tEQEsBaf8DQEFAKuYg6Gg5QUDvqgfMQ2RBQBKj5xa6MjpAqB3+mqxhKUATglX18h9AQE8Hsp5aa0BA71nXaDkcSED5adyb355EQBanWguz1DZAltBdEmdvREB+5UF6imZEQODA0XtQy0lADXIXYYpeQECjh7SgCq45QMu6fyxEdzhAS3LAriYDOECuZp3xfZtJQEj+YOC56z9AvVZCd0n8P0A+PbZlwPE+QHkEN1K25DxAhlj9EYbJPEC8rfTabLg+QMRb598uL0FALSRgdHmXO0DqCOBm8U42QF9DcFzGfTpAixh2GJMWN0CR7Xw/NXhCQPjFpSptnTtAWDfeHRl9REDYZmMl5lNCQPfN/dXjFEJAjfmm1ui0S0AF3smnx1REQM6OVN/5ET5Ad0tywK7qPUCRfvs6cII6QFK2SNqNPkBAhjdr8L7+OUDe40wTtgFBQDNuaqD5ZD5AXFoNiXtuQkDxnC0gtC5BQICfceFAWkJAiSmRRC9dQ0B8e9egL40TwGwGuCBbO0HANh/Xhoo9SEBmMbH5uDZEQHrE6LmF3jVAm4IPOCUzNkDgLCXLSUhFQIZY/RGGr0lAOQ68Wu6+SUBTXcDLDBg4QC3zQ5JGkjtAVYUGYtkiRUDNHf0v1yI8QJsxFpf0kUdApGsm32xDSkANGY9SCYcuwGZrfZHQXkNA3XniOVtiREA=",
                    "dtype": "f8"
                  },
                  "legendgroup": "",
                  "lon": {
                    "bdata": "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",
                    "dtype": "f8"
                  },
                  "marker": {
                    "color": {
                      "bdata": "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",
                      "dtype": "f8"
                    },
                    "coloraxis": "coloraxis",
                    "size": {
                      "bdata": "AAAAAAAAAAAAAAAAAAAAAAAAAAAAAAAAAAAAAAAAAAAAAAAAAAAAAAAAAAAAAAAAAAAAAAAAAAAAAAAAAAAAAAAAAAAAAAAAAAAAAAAAAAAAAAAAAAAAAAAAAAAAAAAAAAAAAAAAAAAAAAAAAAAAAAAAAAAAAAAAAAAAAAAAAAAAAAAAAAAAAAAAAAAAAAAAAAAAAAAAAAAAAAAAAAAAAAAAAAAAAAAAAAAAAAAAAAAAAAAAAAAAAAAAAAAAAAAAAAAAAAAAAAAAAAAAAAAAAAAAAAAAAAAAAAAAAAAAAAAAAAAAAAAAAAAAAAAAAAAAAAAAAAAAAAAAAAAAAAAAAAAAAAAAAAAAAAAAAAAAAAAAAAAAAAAAAAAAAAAAAAAAAAAAAAAAAAAAAAAAAAAAAAAAAAAAAAAAAAAAAAAAAAAAAAAAAAAAAAAAAAAAAAAAAAAAAAAAAAAAAAAAAAAAAAAAAAAAAAAAAAAAAAAAAAAAAAAAAAAAAAAAAAAAAAAAAAAAAAAAAAAAAAAAAAAAAAAAAAAAAAAAAAAAAAAAAAAAAAAAAAAAAAAAAAAAAAAAAAAAAAAAAAAAAAAAAAAAAAAAAAAAAAAAAAAAAAAAAAAAAAAAAAAAAAAAAAAAAAAAAAAAAAAAAAAAAAAAAAAAAAAAAAAAAAAAAAAAAAAAAAAAAAAAAAAAAAAAAAAAAAAAAAAAAAAAAAAAAAAAAAAAAAAAAAAAAAAAAAAAAAAAAAAAAAAAAAAAAAAAAAAAAAAAAAAAAAAAAAAAAAAAAAAAAAAAAAAAAAAAAAAAAACIo0AAAAAAAAAAAAAAAAAAAAAAAAAAAAAAAAAAAAAAAAAAAAAAAAAAAAAAAAAAAAAAAAAAAAAAAAAAAAAAAAAAAAAAAAAAAAAAAAAAAAAAAAAAAAAAAAAAAAAAAAAAAAAAAAAAAAAAAAAAAAAAAAAAAAAAAAAAAAAAAAAAAAAAAAAAAAAAAAAAAAAAAAAAAAAAAAAAAAAAAAAAAAAAAAAAAAAAAAAAAAAAAAAAAAAAAAAAAAAAAAAAAAAAAAAAAAAAAAAAAAAAAAAAAAAAAAAAAAAAAAAAAAAAAAAAAAAAAAAAAAAAAAAAAAAAAAAAAAAAAAAAAAAAAAAAAAAAAAAAAAAAAAAAAAAAAAAAAAAAAAAAAAAAAAAAAAAAAAAAAAAAAAAAAAAAAAAAAAAAAAAAAAAAAAAAAAAAAAAAAAAAAAAAAAAAAAAAAAAAAAAAAAAAAAAAAAAAAAAAAAAAAAAAAAAAAAAAAAAAAAAAAAAAAAAAAAAAAAAAAAAAAAAAAAAAAAAAAAAAAAAAAAAAAAAAAAAAAAAAAAAAAAAAAAAAAAAAAAAAAAAAAAAAAAAAAAAAAAAAAAAAAAAAAAAAAAAAAAAAAAAAAAAAAAAAAAAAAAAAAAAAAAAAAAAAAAAAAAAAAAAAAAAAAAAAAAAAAAAAAAAAAAAAAAAAAAAAAAAAAAAAAAAAAAAAAAAAAAAAAAAAAAAAAAAAAAAAAAAAAAAAAAAAAAAAAAAAAAAAAAAAAAAAAAAAAAAAAAAAAAAAAAAAAAAAAAAAAAAAAAAAAAAAAAAAAAAAAAAAAAAAAAAAAAAAAAAAAAAAAAAAAAAAAAAAAAAAAAAAAAAAAAAAAAAAAAAAAAAAAAAAAAAAAAAAAAAAAAAAAAAAAAAAAAAAAAAAAAAAAAAAAAAAAAAAAAAAAAAAAAAAAAAAAAAAAAAAAAAAAAAAAAAAAAAAAAAAAAAAAAAAAAAAAAAAAAAAAAAAAAAAAAAAAAAAAAAAAAAAAAAAAAAAAAAAAAAAAAAAAAAAAAAAAAAAAAAAAAAAAAAAAAAAAAAAAAAAAAAAAAAAAAAAAAAAAAAAAAAAAAAAAAAAAAAAAAAAAAAAAAAAAAAAAAAAAAAAAAAAAAAAAAAAAAAAAAAAAAAAAAAAAAAAAAAAAAAAAAAAAAAAAAAAAAAAAAAAAAAAAAAAAAAAAAAAAAAAAAAAAAAAAAAAAAAAAAAAAAAAAAAAAAAAAAAAAAAAAAAAAAAAAAAAAAAAAAAAAAAAAAAAAAAAAAAAAAAAAAAAAAAAAAAAAAAAAAAAAAAAAAAAAAAAAAAAAAAAAAAAAAAAAAAAAAAAAAAAAAAAAAAAAAAAAAAAAAAAAAAAAAAAAAAAAAAAAAAAAAAAAAAAAAAAAAAAAAAAAAAAAAAAAAAAAAAAAAAAAAAAAAAAAAAAAAAAAAAAAAAAAAAAAAAAAAAAAAAAAAAAAAAAAAAAAAAAAAAAAAAAAAAAAAAAAAAAAAAAAAAAAAAAAAAAAAAAAAAAAAAAAAAAAAAAAAAAAAAAAAAAAAAAAAAAAAAAAAAAAAAAAAAAAAAAAAAAAAAAAAAAAAAAAAAAAAAAAAAAAAAAAAAAAAAAAAAAAAAAAAAAAAAAAAAAAAAAAAAAAAAAAAAAAAAAAAAAAAAAAAAAAAAAAAAAAAAAAAAAAAAAAAAAAAAAAAAAAAAAAAAAAAAAAAAAAAAAAAAAAAAAAAAAAAAAAAAAAAAAAAAAAAAAAAAAAAAAAAAAAAAAAAAAAAAAAAAAAAAAAAAAAAAAAAAAAAAAAAAAAAAAAAAAAAAAAAAAAAAAAAAAAAAAAAAAAAAAAAAAAAAAAAAAAAAAAAAAAAAAAAAAAAAAAAAAAAAAAAAAAAAAAAAAAAAAAAAAAAAAAAAAAAAAAAAAAAAAAAAAAAAAAAAAAAAAAAAAAAAAAAAAAAAAAAAAAAAAAAAAAAAAAAAAAAAAAAAAAAAAAAAAAAAAAAAAAAAAAAAAAAAAAAAAAAAAAAAAAAAAAAAAAAAAAMByQAAAAAAAAAAAAAAAAAAAAAAAAAAAAJCqQAAAAAAAAAAAAAAAAAAAAAAAAAAAAAAAAAAAAAAAAAAAAAAAAAAAWUAAAAAAAAAAAAAAAAAAAAAAAAAAAAAAAAAAAAAAAAAAAAAAAAAAAAAAAAAAAAAAAAAAAAAAAAAAAAAAAAAAAAAAAAAAAAAAAAAAAAAAAAAAAAAAAAAAAAAAAAAAAAAAAAAAAAAAAAAAAAAAAAAAAAAAAAAAAAAAAAAAAAAAAAAAAAAAAAAAAAAAAAAAAAAAAAAAAAAAAAAAAAAAAAAAAAAAAAAAAAAAAAAAAAAAAAAAAAAAAAAAAAAAAAAAAAAAAAAAAAAAAAAAAAAAAAAAAAAAAAAAAAAAAAAAAAAAAAAAAAAAAAAAAAAAAAAAAAAAAAAAAAAAAAAAAAAAAAAAAAAAAAAAAAAAAAAAAAAAAAAAAAAAAAAAAAAAAAAAAAAAAAAAAAAAAAAAAAAAAAAAAAAAAAAAAAAAAAAAAAAAAAAAAAAAAAAAAAAAAAAAAAAAAAAAAAAAAAAAAAAAAAAAAAAAAAAAAAAAAAAAAAAAAAAAAAAAAAAAAAAAAAAAAAAAAAAAAAAAAAAAAAAAAAAAAAAAAAAAAAAAAAAAAAAAAAAAAAAAAAAAAAAAAAAAAAAAAAAAAAAAAAAAAAAAAAAAAAAAAAAAAAAAAAAAAAAAAAAAAAAAAAAAAAAAAAAAAAAAAAAAAAAAAAAAAAAAAAAAAAAAAAAAAAAAAAAAAAAAAAAAAAAAAAAAAAAAAAAAAAAAAAAAAAAAAAAAAAAAAAAAAAAAAAAAAAAAAAAAAAAAAAAAAAAAAAAAAAAAAAAAAAAAAAAAAAAAAAAAAAAAAAAAAAAAAAAAAAAAAAAAAAAAAAAAAAAAAAAAAAAAAAAAAAAAAAAAAAAAAAAAAAAAAAAAAAAAAAAAAAAAAAAAAAAAAAAAAAAAAAAAAAAAAAAAAAAAAAAAAAAAAAAAAAAAAAAAAAAAAAAAAAAAAAAAAAAAAAAAAAAAAAAAAAAAAAAAAAAAAAAAAAAAAAAAAAAAAAAAAAAAAAAAAAAAAAAAAAAAAAAAAAAAAAAAAAAAAAAAAAAAAAAAAAAAAAAAAAAAAAAAAAAAAAAAAAAAAAAAAAAAAAAAAAAAAAAAAAAAAAAAAAAAAAAAAAAAAIBrQAAAAAAAAAAAAAAAAAAAAAAAAAAAAAAAAAAAAAAAAAAAAAAAAAAAAAAAAAAAAAAAAAAAAAAAAAAAAAAAAAAAAAAAAAAAAAAAAAAAAAAAQI9AAAAAAAAAAAAAAAAAAAAAAAAAAAAAAAAAAAAAAAAAAAAAAAAAAAAAAAAAAAAAAAAAAAAAAAAAAAAAAAAAAAAAAAAAAAAAAAAAAAAAAAAAAAAAAAAAAAAAAAAAAAAAAAAAAAAAAAAAAAAAAAAAAAAAAAAAAAAAAAAAAAAAAAAAAAAAAAAAAAAAAAAAAAAAAAAAAAAAAAAAAAAAAAAAAEBvQAAAAAAAAE5AAAAAAAAAAAAAAAAAAAAAAAAAAAAAAAAAAAAAAAAAAAAAAAAAAAAAAAAAAAAAAAAAAAAAAAAAAAAAAAAAAAAAAAAAAAAAAAAAAAAAAAAAAAAAAAAAAAAAAAAAAAAAAAAAAAAAAAAAAAAAAAAAAAAAAAAAAAAAAAAAAAAAAAAAAAAAAAAAAAAAAAAAAAAAAAAAAAAAAAAAAAAAAAAAAAAAAAAAAAAAAAAAAAAAAAAAAAAAAAAAAAAAAAAAAAAAAAAAAAAAAAAAAAAAAAAAAAAAAAAAAAAAAAAAAAAAAAAAAAAAAAAAAAAAAAAAAAAAAAAAAAAAAAAAAAAAAAAAAAAAAAAAAAAAAAAAAAAAAAAAAAAAAAAAAAAAAAAAAAAAAAAAAAAAAAAAAAAAAAAAAAAAAAAAAAAAAAAAAAAAAAAAAAAAAAAAAAAAAAAAAAAAAAAAAAAAAAAAAAAAAAAAAAAAAAAAAAAAAAAAAAAAAAAAAAAAAAAAAAAAAAAAAAAAAAAAAAAAAAAAAAAAAAAAAAAAAAAAAAAAAAAAAAAAAAAAAAAAAAAAAAAAAAAAAAAAAAAAAAAAAAAAAAAAAAAAAAAAAAAAAAAAAAAAAAAAAAAAAAAAAAAAAAAAAAAAAAAAAAAAAAAAAAAAAAAAAAAAAAAAAAAAAAAAAAAAAAAAAAAAAAAAAAAAAAAAAAAAAAAAwHJAAAAAAAAAAAAAAAAAAAAAAAAAAAAAAAAAAAAAAAAAAAAAAAAAAAAAAAAAAAAAAAAAAAAAAAAAAAAAAAAAAAAAAAAAAAAAAAAAAAAAAAAAAAAAAAAAAAAAAAAAAAAAAAAAAAAAAAAAAAAAAAAAAAAAAAAAAAAAAAAAAAAAAAAAAAAAAAAAAAAAAAAAAAAAAAAAAAAAAAAAAAAAAAAAAAAAAAAAAAAAAAAAAAAAAAAAAAAAAAAAAAAAAAAAAAAAAAAAAAAAAAAAAAAAAAAAAAAAAAAAAAAAAAAAAAAAAAAAAAAAAAAAAAAAAAAAAAAAAAAAAAAAAAAAAAAAAAAAAAAAAAAAAAAAAAAAAAAAAAAAAAAAAAAAAAAAAAAAAAAAAAAAAAAAAAAAAAAAAAAAAAAAAAAAAAAAAAAAAAAAAAAAAAAAAAAAAAAAAAAAAAAAAAAAAAAAAAAAAAAAAAAAAAAAAAAAAAAAAAAAAAAAAAAAAAAAAAAAAAAAAAAAAAAAAAAAAAAAAAAAAAAAAAAAAAAAAAAAAAAAAAAAAAAAAAAAAAAAAAAAAAAAAAAAAAAAAAAAAAAAAAAAAAAAAAAAAAAAAAAAAAAAAAAAAAAAAAAAAAAAAAAAAAAAAAAAAAAAAAAAAAAAAAAAAAAAAAAAAAAAAAAAAAAAAAAAAAAAAAAAS0AAAAAAAAAAAAAAAAAAAAAAAAAAAAAAAAAAAAAAAAAAAAAAAAAAAAAAAAAAAAAAAAAAAAAAAAAAAAAAAAAAAAAAAAAAAAAAAAAAAAAAAAAAAAAAAAAAAAAAAAAAAAAAAAAAAAAAAAAAAAAAAAAAAAAAAAAAAAAAAAAAAAAAAAAAAAAAAAAAAAAAAAAAAAAAAAAAAAAAAAAAAAAAAAAAAAAAAAAAAAAAAAAAAAAAAAAAAAAAAAAAAAAAAAAAAAAAAAAAAAAAAAAAAAAAAAAAAAAAAAAAAAAAAAAAAAAAAAAAAAAAAAAAAAAAAAAAAAAAAAAAAAAAAAAAAAAAAAAAAAAAAAAAAAAAAAAAAAAAAAAAAAAAAAAAAAAAAAAAAAAAAAAAAAAAAAAAAAAAAAAAAAAAAAAAAAAAAAAAAAAAAAAAAAAAAAAAAAAAAAAAAAAAAAAAAAAAAAAAAAAAAAAAAAAAAAAAAAAAAAAAAAAAAAAAAAAAAAAAAAAAAAAAAAAAAAAAAAAAAAAAAAAAAAAAAAAAAAAAAAAAAAAAAAAAAAAAAAAAAAAAAAAAAAAAAAAAAAAAAAAAAAAAAAAAAAAAAAAAAAAAAAAAAAAAAAAAAAAAAAAAAAAAAAAAAAAAAAAAAAAAAAAAAAAAAAAAAAAAAAAAAAAAAAAAAAAAAAAAAAAAAAAAAAAAAAAAAAAAAAAAAAAAAAAAAAAAAAAAAAAAAAAAAAAAAABAj0AAAAAAAMByQAAAAAAAAAAAAAAAAAAAAAAAAAAAAAAAAAAAAAAAAAAAAAAAAAAAAAAAAAAAAAAAAAAAAAAAAAAAAAAAAAAAAAAAAAAAAAAAAAAAAAAAAAAAAAAAAAAAAAAAAAAAAAAAAAAAAAAAAAAAAAAAAAAAAAAAAAAAAAAAAAAAAAAAAAAAAAAAAAAAAAAAAAAAAAAAAAAAAAAAAAAAAAAAAAAAAAAAAAAAAAAAAAAAAAAAAAAAAAAAAAAAAAAAAAAAAAAAAAAAAAAAAAAAAAAAAAAAAAAAAAAAAAAAAAAAAAAAAAAAAAAAAAAAAAAAAAAAAAAAAAAAAAAAAAAAAAAAAAAAAAAAAAAAAAAAAAAAAAAAAAAAAAAAAAAAAAAAAAAAAAAAAAAAAAAAAAAAAAAAAAAAAAAAAAAAAAAAAAAAAAAAAAAAAAAAAAAAAAAAAAAAAAAAAAAAAAAAAAAAAAAAAAAAAAAAAAAAAAAAAAAAAAAAAAAAAAAAAAAAAAAAAAAAAAAAAAAAAAAAAAAAAAAAAAAAAAAAAAAAAAAAAAAAAAAAAAAAAAAAAAAAAAAAAAAAAAAAAAAAAAAAAAAAAAAAAAAAAAAAAAAAAAAAAAAAAAAAAAAAAAAAAAAAAAAAAAAAAAAAAAAAAAAAAAAAAAAAAAAAAAAAAAAAAAAAAAAAAAAAAAAAAAAAAAAAAAAAAAAAAAAAAAAAAAAAAAAAAAAAAAAAAAAAAAAAAAAAAAAAAAAAAAAAAAAAAAAAAAAAAAAAAAAAAAAAAAAAAAAAAAAAAAAAAAAAAAAAAAAAAAAAAAAAAAAAAAAAAAAAAAAAAAAAAAAAAAAAAAAAAAAAAAAAAAAAAAAAAAAAAAAAAAAAAAAAAAAAAAAAAAAAAAAAAAAAAAAAAAAAAAAAAAAAAAAAAAAAAAAAAAAAAAAAAAAAAAAAAAAAAAAAAAAAAAAAAAAAAAAAAAAAAAAAAAAAAAAAAAAAAAAAAAAAAAAAAAAAAAAAAAAAAAAAAAAAAAAAAAAAAAAAAAAAAAAAAAAAAAAAAAAAAAAAAAAAAAAAAAAAAAAAAAAAAAAAAAAAAAAAAAAAAAAAAAAAAAAAAAAAAAAAAAAAAAAAAAAAAAAAAAAAAAAAAAAAAAAAAAAAAAAAAAAAAAAAAAAAAAAAAAAAAAAAAAAAAAAAAAAAAAAAAAAAAAAAAAAAAAAAAAAAAAAAAAAAAAAAAAAAAAAAAAAAAAAAAAAAAAAAAAAAAAAAAAAAAAAAAAAAAAAAAAAAAAAAAAAAAAAAAAAAAAAAAAAAAAAAAAAAAAAAAAAAAAAAAAAAAAAAAAAAAAAAAAAAAAAAAAAAAAAAAAAAAAAAAAAAAAAAAAAAAAAAAAAAAAAAAAAAAAAAAAAAAAAAAAAAAAAAAAAAAAAAAAAAAAAAAAAAAAAAAAAAAAAAAAAAAAAAAAAAAAAAAAAAAAAAAAAAAAAAAAAAAAAAAAAAAAAAAAAAAAAAAAAAAAAAAAAAAAAAAAAAAAAAAAAAAAAAAAAAAAAAAAAAAAAAAAAAAAAAAAAAAAAAAADAYkAAAAAAAAAAAAAAAAAAAAAAAAAAAAAAAAAAAAAAAAAAAAAAAAAAAAAAAAAAAAAAAAAAAAAAAAAAAAAAAAAAAAAAAAAAAAAAAAAAAAAAAAAAAAAAAAAAAAAAAAAAAAAAAAAAAAAAAAAAAAAAAAAAAAAAAAAAAAAAAAAAAAAAAAAAAAAAAAAAAAAAAAAAAAAAAAAAAAAAAAAAAAAAAAAAAAAAAAAAAAAAAAAAAAAAAAAAAAAAAAAAAAAAAAAAAAAAAAAAAAAAAAAAAAAAAAAAAAAAAAAAAAAAAAAAAAAAAAAAAAAAAAAAAAAAAAAAAAAAAAAAAAAAAAAAAAAAAAAAAAAAAAAAAAAAAAAAAAAAAAAAAAAAAAAAAAAAAAAAAAAAAAAAAAAAAAAAAAAAAAAAAAAAAAAAAAAAAAAAAAAAAAAAAAAAAAAAAAAAAAAAAAAAAAAAAAAAAAAAAAAAAAAAAAAAAAAAAAAAAAAAAAAAAAAAAAAAAAAAAAAAAAAAAAAAAAAAAAAAAAAAAAAAAAAAAAAAAAAAAAAAAAAAAAAAAAAAAAAAAAAAAAAAAAAAAAAAAAAAAAAAAAAAAAAAAAAAAAAAAAAAAAAAAAAAAAAAAAAAAAAAAAAAAAAAAAAAAAAAAAAAAAAAAAAAAAAAAAAAAAAAAAAAAAAAAAAAAAAAAAAAAAAAAAAAAAAAAAAAAAAAAAAAAAAAAAAAAAAAAAAAAAAAAAAAAAAAAAAAAAAAAAAAAAAAAAAAAAAAAAAAAAAAAAAAAAAAAAAAAAAAAAAAAAAAAAAAAAAAAAAAAAAAAAAAAAAAAAAAAAAAAAAAAAAAAAAAAAAAAAAAAAAAAAAAAAAAAAAAAAAAAAAAAAAAAAAAAAAAAAAAAAAAAAAAAAAAAAA=",
                      "dtype": "f8"
                    },
                    "sizemode": "area",
                    "sizeref": 8.5,
                    "symbol": "circle"
                  },
                  "mode": "markers",
                  "name": "",
                  "showlegend": false,
                  "type": "scattergeo"
                }
              ],
              "layout": {
                "coloraxis": {
                  "colorbar": {
                    "title": {
                      "text": "ISO 14001_avg"
                    }
                  },
                  "colorscale": [
                    [
                      0,
                      "#000011"
                    ],
                    [
                      0.1111111111111111,
                      "#000012"
                    ],
                    [
                      0.2222222222222222,
                      "#000013"
                    ],
                    [
                      0.3333333333333333,
                      "#000014"
                    ],
                    [
                      0.4444444444444444,
                      "#000015"
                    ],
                    [
                      0.5555555555555556,
                      "#000016"
                    ],
                    [
                      0.6666666666666666,
                      "#000017"
                    ],
                    [
                      0.7777777777777778,
                      "#000018"
                    ],
                    [
                      0.8888888888888888,
                      "#000019"
                    ],
                    [
                      1,
                      "#000020"
                    ]
                  ]
                },
                "geo": {
                  "center": {},
                  "domain": {
                    "x": [
                      0,
                      1
                    ],
                    "y": [
                      0,
                      1
                    ]
                  },
                  "projection": {
                    "type": "natural earth"
                  }
                },
                "legend": {
                  "itemsizing": "constant",
                  "tracegroupgap": 0
                },
                "template": {
                  "data": {
                    "candlestick": [
                      {
                        "decreasing": {
                          "line": {
                            "color": "#000033"
                          }
                        },
                        "increasing": {
                          "line": {
                            "color": "#000032"
                          }
                        },
                        "type": "candlestick"
                      }
                    ],
                    "contour": [
                      {
                        "colorscale": [
                          [
                            0,
                            "#000011"
                          ],
                          [
                            0.1111111111111111,
                            "#000012"
                          ],
                          [
                            0.2222222222222222,
                            "#000013"
                          ],
                          [
                            0.3333333333333333,
                            "#000014"
                          ],
                          [
                            0.4444444444444444,
                            "#000015"
                          ],
                          [
                            0.5555555555555556,
                            "#000016"
                          ],
                          [
                            0.6666666666666666,
                            "#000017"
                          ],
                          [
                            0.7777777777777778,
                            "#000018"
                          ],
                          [
                            0.8888888888888888,
                            "#000019"
                          ],
                          [
                            1,
                            "#000020"
                          ]
                        ],
                        "type": "contour"
                      }
                    ],
                    "contourcarpet": [
                      {
                        "colorscale": [
                          [
                            0,
                            "#000011"
                          ],
                          [
                            0.1111111111111111,
                            "#000012"
                          ],
                          [
                            0.2222222222222222,
                            "#000013"
                          ],
                          [
                            0.3333333333333333,
                            "#000014"
                          ],
                          [
                            0.4444444444444444,
                            "#000015"
                          ],
                          [
                            0.5555555555555556,
                            "#000016"
                          ],
                          [
                            0.6666666666666666,
                            "#000017"
                          ],
                          [
                            0.7777777777777778,
                            "#000018"
                          ],
                          [
                            0.8888888888888888,
                            "#000019"
                          ],
                          [
                            1,
                            "#000020"
                          ]
                        ],
                        "type": "contourcarpet"
                      }
                    ],
                    "heatmap": [
                      {
                        "colorscale": [
                          [
                            0,
                            "#000011"
                          ],
                          [
                            0.1111111111111111,
                            "#000012"
                          ],
                          [
                            0.2222222222222222,
                            "#000013"
                          ],
                          [
                            0.3333333333333333,
                            "#000014"
                          ],
                          [
                            0.4444444444444444,
                            "#000015"
                          ],
                          [
                            0.5555555555555556,
                            "#000016"
                          ],
                          [
                            0.6666666666666666,
                            "#000017"
                          ],
                          [
                            0.7777777777777778,
                            "#000018"
                          ],
                          [
                            0.8888888888888888,
                            "#000019"
                          ],
                          [
                            1,
                            "#000020"
                          ]
                        ],
                        "type": "heatmap"
                      }
                    ],
                    "histogram2d": [
                      {
                        "colorscale": [
                          [
                            0,
                            "#000011"
                          ],
                          [
                            0.1111111111111111,
                            "#000012"
                          ],
                          [
                            0.2222222222222222,
                            "#000013"
                          ],
                          [
                            0.3333333333333333,
                            "#000014"
                          ],
                          [
                            0.4444444444444444,
                            "#000015"
                          ],
                          [
                            0.5555555555555556,
                            "#000016"
                          ],
                          [
                            0.6666666666666666,
                            "#000017"
                          ],
                          [
                            0.7777777777777778,
                            "#000018"
                          ],
                          [
                            0.8888888888888888,
                            "#000019"
                          ],
                          [
                            1,
                            "#000020"
                          ]
                        ],
                        "type": "histogram2d"
                      }
                    ],
                    "icicle": [
                      {
                        "textfont": {
                          "color": "white"
                        },
                        "type": "icicle"
                      }
                    ],
                    "sankey": [
                      {
                        "textfont": {
                          "color": "#000036"
                        },
                        "type": "sankey"
                      }
                    ],
                    "scatter": [
                      {
                        "marker": {
                          "line": {
                            "width": 0
                          }
                        },
                        "type": "scatter"
                      }
                    ],
                    "table": [
                      {
                        "cells": {
                          "fill": {
                            "color": "#000038"
                          },
                          "font": {
                            "color": "#000037"
                          },
                          "line": {
                            "color": "#000039"
                          }
                        },
                        "header": {
                          "fill": {
                            "color": "#000040"
                          },
                          "font": {
                            "color": "#000036"
                          },
                          "line": {
                            "color": "#000039"
                          }
                        },
                        "type": "table"
                      }
                    ],
                    "waterfall": [
                      {
                        "connector": {
                          "line": {
                            "color": "#000036",
                            "width": 2
                          }
                        },
                        "decreasing": {
                          "marker": {
                            "color": "#000033"
                          }
                        },
                        "increasing": {
                          "marker": {
                            "color": "#000032"
                          }
                        },
                        "totals": {
                          "marker": {
                            "color": "#000034"
                          }
                        },
                        "type": "waterfall"
                      }
                    ]
                  },
                  "layout": {
                    "coloraxis": {
                      "colorscale": [
                        [
                          0,
                          "#000011"
                        ],
                        [
                          0.1111111111111111,
                          "#000012"
                        ],
                        [
                          0.2222222222222222,
                          "#000013"
                        ],
                        [
                          0.3333333333333333,
                          "#000014"
                        ],
                        [
                          0.4444444444444444,
                          "#000015"
                        ],
                        [
                          0.5555555555555556,
                          "#000016"
                        ],
                        [
                          0.6666666666666666,
                          "#000017"
                        ],
                        [
                          0.7777777777777778,
                          "#000018"
                        ],
                        [
                          0.8888888888888888,
                          "#000019"
                        ],
                        [
                          1,
                          "#000020"
                        ]
                      ]
                    },
                    "colorscale": {
                      "diverging": [
                        [
                          0,
                          "#000021"
                        ],
                        [
                          0.1,
                          "#000022"
                        ],
                        [
                          0.2,
                          "#000023"
                        ],
                        [
                          0.3,
                          "#000024"
                        ],
                        [
                          0.4,
                          "#000025"
                        ],
                        [
                          0.5,
                          "#000026"
                        ],
                        [
                          0.6,
                          "#000027"
                        ],
                        [
                          0.7,
                          "#000028"
                        ],
                        [
                          0.8,
                          "#000029"
                        ],
                        [
                          0.9,
                          "#000030"
                        ],
                        [
                          1,
                          "#000031"
                        ]
                      ],
                      "sequential": [
                        [
                          0,
                          "#000011"
                        ],
                        [
                          0.1111111111111111,
                          "#000012"
                        ],
                        [
                          0.2222222222222222,
                          "#000013"
                        ],
                        [
                          0.3333333333333333,
                          "#000014"
                        ],
                        [
                          0.4444444444444444,
                          "#000015"
                        ],
                        [
                          0.5555555555555556,
                          "#000016"
                        ],
                        [
                          0.6666666666666666,
                          "#000017"
                        ],
                        [
                          0.7777777777777778,
                          "#000018"
                        ],
                        [
                          0.8888888888888888,
                          "#000019"
                        ],
                        [
                          1,
                          "#000020"
                        ]
                      ],
                      "sequentialminus": [
                        [
                          0,
                          "#000011"
                        ],
                        [
                          0.1111111111111111,
                          "#000012"
                        ],
                        [
                          0.2222222222222222,
                          "#000013"
                        ],
                        [
                          0.3333333333333333,
                          "#000014"
                        ],
                        [
                          0.4444444444444444,
                          "#000015"
                        ],
                        [
                          0.5555555555555556,
                          "#000016"
                        ],
                        [
                          0.6666666666666666,
                          "#000017"
                        ],
                        [
                          0.7777777777777778,
                          "#000018"
                        ],
                        [
                          0.8888888888888888,
                          "#000019"
                        ],
                        [
                          1,
                          "#000020"
                        ]
                      ]
                    },
                    "colorway": [
                      "#000001",
                      "#000002",
                      "#000003",
                      "#000004",
                      "#000005",
                      "#000006",
                      "#000007",
                      "#000008",
                      "#000009",
                      "#000010"
                    ]
                  }
                },
                "title": {
                  "text": "Global Steel Companies by Total Capacity and Environmental Metrics"
                }
              }
            }
          },
          "metadata": {},
          "output_type": "display_data"
        }
      ],
      "source": [
        "# Create company-level visualization\n",
        "\n",
        "fig = px.scatter_geo(\n",
        "    company_agg,\n",
        "    lat='Latitude_centroid',\n",
        "    lon='Longitude_centroid',\n",
        "    size='total_capacity',\n",
        "    color='ISO 14001_avg' if 'ISO 14001_avg' in company_agg else 'num_plants',\n",
        "    hover_name='Parent',\n",
        "    hover_data={\n",
        "        'total_capacity': True,\n",
        "        'num_plants': True,\n",
        "        'num_countries': True,\n",
        "        'avg_age': True\n",
        "    },\n",
        "    title='Global Steel Companies by Total Capacity and Environmental Metrics',\n",
        "    projection='natural earth'\n",
        ")\n",
        "fig.show()\n"
      ]
    },
    {
      "cell_type": "markdown",
      "metadata": {
        "id": "aoM0HmD5tP-c"
      },
      "source": [
        "---\n",
        "## Part 6: Streamlit Dashboard Integration\n",
        "\n",
        "Prepare your visualizations for deployment in a Streamlit dashboard.\n"
      ]
    },
    {
      "cell_type": "markdown",
      "metadata": {
        "id": "uvv9_14ntP-c"
      },
      "source": [
        "### Exercise 1: Create Dashboard Script Structure\n",
        "**Task:** Create a Streamlit app file (`dashboard.py`) with the following structure:\n",
        "\n",
        "```python\n",
        "# Import streamlit and other necessary libraries\n",
        "\n",
        "# Set page configuration\n",
        "\n",
        "# Title and description\n",
        "\n",
        "# Sidebar for filters\n",
        "# - Company selector\n",
        "# - Region/country filter\n",
        "# - Capacity range slider\n",
        "\n",
        "# Main content area\n",
        "# - KPI metrics (total plants, total capacity, etc.)\n",
        "# - Interactive map\n",
        "# - Data table\n",
        "\n",
        "# Footer with data sources and notes\n",
        "```\n"
      ]
    },
    {
      "cell_type": "code",
      "execution_count": 19,
      "metadata": {
        "colab": {
          "base_uri": "https://localhost:8080/"
        },
        "id": "x_TITo1yFYw4",
        "outputId": "9d5f673c-9b31-4065-b10a-5f7614f22956"
      },
      "outputs": [
        {
          "name": "stderr",
          "output_type": "stream",
          "text": [
            "2025-10-19 10:30:20.027 WARNING streamlit.runtime.scriptrunner_utils.script_run_context: Thread 'MainThread': missing ScriptRunContext! This warning can be ignored when running in bare mode.\n"
          ]
        }
      ],
      "source": [
        "st.set_page_config(\n",
        "    page_title=\"Global Steel Plants Dashboard\",\n",
        "    layout=\"wide\",\n",
        "    initial_sidebar_state=\"expanded\"\n",
        ")"
      ]
    },
    {
      "cell_type": "markdown",
      "metadata": {
        "id": "f07kHvU4tP-c"
      },
      "source": [
        "### Exercise 1: Prepare Data for Dashboard\n",
        "**Task:** Save your processed data to files that the dashboard will load.\n",
        "- Export cleaned plant data\n",
        "- Export merged environmental data\n",
        "- Export company-level aggregations\n",
        "- Save as CSV or Parquet for efficient loading\n"
      ]
    },
    {
      "cell_type": "code",
      "execution_count": 20,
      "metadata": {
        "id": "kSlglV-mGMf8"
      },
      "outputs": [],
      "source": [
        "# Plant-level dataset\n",
        "df_plants = df.copy()\n",
        "df_plants.to_csv(\"data_cleaned_plants.csv\", index=False)\n"
      ]
    },
    {
      "cell_type": "code",
      "execution_count": 21,
      "metadata": {
        "id": "jxngQAIqGVot"
      },
      "outputs": [],
      "source": [
        "# Company-level dataset\n",
        "df[\"capacity_tpa\"] = (\n",
        "    df[[\"Ferronickel capacity (ttpa)\",\n",
        "        \"Sinter plant capacity (ttpa)\",\n",
        "        \"Coking plant capacity (ttpa)\",\n",
        "        \"Pelletizing plant capacity (ttpa)\"]]\n",
        "    .fillna(0)\n",
        "    .sum(axis=1)\n",
        ")\n",
        "df_company = (\n",
        "    df.groupby(\"Parent\")\n",
        "    .agg(\n",
        "        total_capacity=(\"capacity_tpa\", \"sum\"),\n",
        "        num_plants=(\"Plant ID\", \"count\"),\n",
        "        avg_capacity=(\"capacity_tpa\", \"mean\"),\n",
        "        avg_plant_age=(\"Plant age (years)\", \"mean\")\n",
        "    )\n",
        "    .reset_index()\n",
        ")\n",
        "df_company.to_csv(\"data_company_aggregated.csv\", index=False)\n"
      ]
    },
    {
      "cell_type": "code",
      "execution_count": 22,
      "metadata": {
        "colab": {
          "base_uri": "https://localhost:8080/"
        },
        "id": "Veu-R4GlFxPC",
        "outputId": "8f6044da-77fb-47ab-ed7d-1f38907d93d8"
      },
      "outputs": [
        {
          "name": "stderr",
          "output_type": "stream",
          "text": [
            "2025-10-19 10:30:20.072 WARNING streamlit.runtime.caching.cache_data_api: No runtime found, using MemoryCacheStorageManager\n",
            "2025-10-19 10:30:20.073 WARNING streamlit.runtime.caching.cache_data_api: No runtime found, using MemoryCacheStorageManager\n",
            "2025-10-19 10:30:20.074 WARNING streamlit.runtime.scriptrunner_utils.script_run_context: Thread 'MainThread': missing ScriptRunContext! This warning can be ignored when running in bare mode.\n",
            "2025-10-19 10:30:20.093 \n",
            "  \u001b[33m\u001b[1mWarning:\u001b[0m to view this Streamlit app on a browser, run it with the following\n",
            "  command:\n",
            "\n",
            "    streamlit run /home/grgur1991/Downloads/Medium_Secret/University/Programming/Python/src/venvol/lib/python3.11/site-packages/ipykernel_launcher.py [ARGUMENTS]\n",
            "2025-10-19 10:30:20.094 Thread 'MainThread': missing ScriptRunContext! This warning can be ignored when running in bare mode.\n",
            "2025-10-19 10:30:20.094 Thread 'MainThread': missing ScriptRunContext! This warning can be ignored when running in bare mode.\n",
            "2025-10-19 10:30:20.094 Thread 'MainThread': missing ScriptRunContext! This warning can be ignored when running in bare mode.\n",
            "2025-10-19 10:30:20.111 Thread 'MainThread': missing ScriptRunContext! This warning can be ignored when running in bare mode.\n",
            "2025-10-19 10:30:20.111 Thread 'MainThread': missing ScriptRunContext! This warning can be ignored when running in bare mode.\n",
            "2025-10-19 10:30:20.111 Thread 'MainThread': missing ScriptRunContext! This warning can be ignored when running in bare mode.\n"
          ]
        }
      ],
      "source": [
        "# Assuming your cleaned dataframe is called df_cleaned\n",
        "# Save processed datasets\n",
        "@st.cache_data\n",
        "def load_data():\n",
        "    plants = pd.read_csv(\"data_cleaned_plants.csv\")\n",
        "    companies = pd.read_csv(\"data_company_aggregated.csv\")\n",
        "    return plants, companies\n",
        "\n",
        "plants, companies = load_data()"
      ]
    },
    {
      "cell_type": "code",
      "execution_count": 23,
      "metadata": {
        "colab": {
          "base_uri": "https://localhost:8080/"
        },
        "id": "vjS4sLJpHnqq",
        "outputId": "d43f1c74-e1ec-4176-a872-4fed5a5544f1"
      },
      "outputs": [
        {
          "name": "stderr",
          "output_type": "stream",
          "text": [
            "2025-10-19 10:30:20.116 Thread 'MainThread': missing ScriptRunContext! This warning can be ignored when running in bare mode.\n",
            "2025-10-19 10:30:20.117 Thread 'MainThread': missing ScriptRunContext! This warning can be ignored when running in bare mode.\n",
            "2025-10-19 10:30:20.117 Thread 'MainThread': missing ScriptRunContext! This warning can be ignored when running in bare mode.\n",
            "2025-10-19 10:30:20.119 Thread 'MainThread': missing ScriptRunContext! This warning can be ignored when running in bare mode.\n",
            "2025-10-19 10:30:20.119 Thread 'MainThread': missing ScriptRunContext! This warning can be ignored when running in bare mode.\n",
            "2025-10-19 10:30:20.120 Thread 'MainThread': missing ScriptRunContext! This warning can be ignored when running in bare mode.\n",
            "2025-10-19 10:30:20.120 Thread 'MainThread': missing ScriptRunContext! This warning can be ignored when running in bare mode.\n",
            "2025-10-19 10:30:20.120 Session state does not function when running a script without `streamlit run`\n",
            "2025-10-19 10:30:20.121 Thread 'MainThread': missing ScriptRunContext! This warning can be ignored when running in bare mode.\n",
            "2025-10-19 10:30:20.121 Thread 'MainThread': missing ScriptRunContext! This warning can be ignored when running in bare mode.\n",
            "2025-10-19 10:30:20.121 Thread 'MainThread': missing ScriptRunContext! This warning can be ignored when running in bare mode.\n",
            "2025-10-19 10:30:20.122 Thread 'MainThread': missing ScriptRunContext! This warning can be ignored when running in bare mode.\n",
            "2025-10-19 10:30:20.122 Thread 'MainThread': missing ScriptRunContext! This warning can be ignored when running in bare mode.\n",
            "2025-10-19 10:30:20.123 Thread 'MainThread': missing ScriptRunContext! This warning can be ignored when running in bare mode.\n",
            "2025-10-19 10:30:20.123 Thread 'MainThread': missing ScriptRunContext! This warning can be ignored when running in bare mode.\n",
            "2025-10-19 10:30:20.124 Thread 'MainThread': missing ScriptRunContext! This warning can be ignored when running in bare mode.\n",
            "2025-10-19 10:30:20.124 Thread 'MainThread': missing ScriptRunContext! This warning can be ignored when running in bare mode.\n",
            "2025-10-19 10:30:20.124 Thread 'MainThread': missing ScriptRunContext! This warning can be ignored when running in bare mode.\n",
            "2025-10-19 10:30:20.125 Thread 'MainThread': missing ScriptRunContext! This warning can be ignored when running in bare mode.\n",
            "2025-10-19 10:30:20.125 Thread 'MainThread': missing ScriptRunContext! This warning can be ignored when running in bare mode.\n",
            "2025-10-19 10:30:20.125 Thread 'MainThread': missing ScriptRunContext! This warning can be ignored when running in bare mode.\n",
            "2025-10-19 10:30:20.126 Thread 'MainThread': missing ScriptRunContext! This warning can be ignored when running in bare mode.\n",
            "2025-10-19 10:30:20.126 Thread 'MainThread': missing ScriptRunContext! This warning can be ignored when running in bare mode.\n",
            "2025-10-19 10:30:20.126 Thread 'MainThread': missing ScriptRunContext! This warning can be ignored when running in bare mode.\n"
          ]
        }
      ],
      "source": [
        "st.sidebar.title(\"Filters\")\n",
        "\n",
        "selected_company = st.sidebar.selectbox(\n",
        "    \"Select a Company\",\n",
        "    options=[\"All\"] + sorted(companies[\"Parent\"].dropna().unique().tolist())\n",
        ")\n",
        "\n",
        "selected_country = st.sidebar.selectbox(\n",
        "    \"Select a Country/Area\",\n",
        "    options=[\"All\"] + sorted(plants[\"Country/Area\"].dropna().unique().tolist())\n",
        ")\n",
        "\n",
        "capacity_min, capacity_max = st.sidebar.slider(\n",
        "    \"Select Capacity Range (tonnes per annum)\",\n",
        "    float(plants[\"Ferronickel capacity (ttpa)\"].min()),\n",
        "    float(plants[\"Ferronickel capacity (ttpa)\"].max()),\n",
        "    (float(plants[\"Ferronickel capacity (ttpa)\"].min()),\n",
        "     float(plants[\"Ferronickel capacity (ttpa)\"].max()))\n",
        ")\n"
      ]
    },
    {
      "cell_type": "code",
      "execution_count": 24,
      "metadata": {
        "id": "E-qU9lLQHrX3"
      },
      "outputs": [],
      "source": [
        "filtered_plants = plants.copy()\n",
        "\n",
        "if selected_company != \"All\":\n",
        "    filtered_plants = filtered_plants[filtered_plants[\"Parent\"] == selected_company]\n",
        "\n",
        "if selected_country != \"All\":\n",
        "    filtered_plants = filtered_plants[filtered_plants[\"Country/Area\"] == selected_country]\n",
        "\n",
        "filtered_plants = filtered_plants[\n",
        "    (filtered_plants[\"Ferronickel capacity (ttpa)\"] >= capacity_min) &\n",
        "    (filtered_plants[\"Ferronickel capacity (ttpa)\"] <= capacity_max)\n",
        "]"
      ]
    },
    {
      "cell_type": "code",
      "execution_count": 25,
      "metadata": {
        "colab": {
          "base_uri": "https://localhost:8080/"
        },
        "id": "9Q3APwqCHt29",
        "outputId": "4e60aca0-8d4c-4d90-8e16-2f4aa187c4a5"
      },
      "outputs": [
        {
          "name": "stderr",
          "output_type": "stream",
          "text": [
            "2025-10-19 10:30:20.139 Thread 'MainThread': missing ScriptRunContext! This warning can be ignored when running in bare mode.\n",
            "2025-10-19 10:30:20.140 Thread 'MainThread': missing ScriptRunContext! This warning can be ignored when running in bare mode.\n",
            "2025-10-19 10:30:20.140 Thread 'MainThread': missing ScriptRunContext! This warning can be ignored when running in bare mode.\n",
            "2025-10-19 10:30:20.140 Thread 'MainThread': missing ScriptRunContext! This warning can be ignored when running in bare mode.\n",
            "2025-10-19 10:30:20.141 Thread 'MainThread': missing ScriptRunContext! This warning can be ignored when running in bare mode.\n",
            "2025-10-19 10:30:20.141 Thread 'MainThread': missing ScriptRunContext! This warning can be ignored when running in bare mode.\n",
            "2025-10-19 10:30:20.141 Thread 'MainThread': missing ScriptRunContext! This warning can be ignored when running in bare mode.\n",
            "2025-10-19 10:30:20.141 Thread 'MainThread': missing ScriptRunContext! This warning can be ignored when running in bare mode.\n",
            "2025-10-19 10:30:20.142 Thread 'MainThread': missing ScriptRunContext! This warning can be ignored when running in bare mode.\n",
            "2025-10-19 10:30:20.142 Thread 'MainThread': missing ScriptRunContext! This warning can be ignored when running in bare mode.\n",
            "2025-10-19 10:30:20.142 Thread 'MainThread': missing ScriptRunContext! This warning can be ignored when running in bare mode.\n",
            "2025-10-19 10:30:20.142 Thread 'MainThread': missing ScriptRunContext! This warning can be ignored when running in bare mode.\n",
            "2025-10-19 10:30:20.142 Thread 'MainThread': missing ScriptRunContext! This warning can be ignored when running in bare mode.\n"
          ]
        },
        {
          "data": {
            "text/plain": [
              "DeltaGenerator()"
            ]
          },
          "execution_count": 25,
          "metadata": {},
          "output_type": "execute_result"
        }
      ],
      "source": [
        "total_plants = len(filtered_plants)\n",
        "total_capacity = filtered_plants[\"Ferronickel capacity (ttpa)\"].sum()\n",
        "avg_age = filtered_plants[\"Plant age (years)\"].mean()\n",
        "\n",
        "col1, col2, col3 = st.columns(3)\n",
        "col1.metric(\"Total Plants\", f\"{total_plants:,}\")\n",
        "col2.metric(\"Total Capacity (tpa)\", f\"{total_capacity:,.0f}\")\n",
        "col3.metric(\"Average Plant Age\", f\"{avg_age:.1f} years\")\n"
      ]
    },
    {
      "cell_type": "code",
      "execution_count": 26,
      "metadata": {
        "colab": {
          "base_uri": "https://localhost:8080/"
        },
        "id": "M2UeUxLQH0og",
        "outputId": "d366113d-19df-4979-f40b-b6bdeca56244"
      },
      "outputs": [
        {
          "name": "stderr",
          "output_type": "stream",
          "text": [
            "2025-10-19 10:30:20.150 Thread 'MainThread': missing ScriptRunContext! This warning can be ignored when running in bare mode.\n",
            "2025-10-19 10:30:20.150 Thread 'MainThread': missing ScriptRunContext! This warning can be ignored when running in bare mode.\n",
            "2025-10-19 10:30:20.150 Thread 'MainThread': missing ScriptRunContext! This warning can be ignored when running in bare mode.\n",
            "/tmp/ipykernel_14734/3230964249.py:3: DeprecationWarning:\n",
            "\n",
            "*scatter_mapbox* is deprecated! Use *scatter_map* instead. Learn more at: https://plotly.com/python/mapbox-to-maplibre/\n",
            "\n",
            "2025-10-19 10:30:20.196 Thread 'MainThread': missing ScriptRunContext! This warning can be ignored when running in bare mode.\n",
            "2025-10-19 10:30:20.197 Thread 'MainThread': missing ScriptRunContext! This warning can be ignored when running in bare mode.\n",
            "2025-10-19 10:30:20.198 Thread 'MainThread': missing ScriptRunContext! This warning can be ignored when running in bare mode.\n",
            "2025-10-19 10:30:20.198 Thread 'MainThread': missing ScriptRunContext! This warning can be ignored when running in bare mode.\n",
            "2025-10-19 10:30:20.198 Thread 'MainThread': missing ScriptRunContext! This warning can be ignored when running in bare mode.\n"
          ]
        },
        {
          "data": {
            "text/plain": [
              "DeltaGenerator()"
            ]
          },
          "execution_count": 26,
          "metadata": {},
          "output_type": "execute_result"
        }
      ],
      "source": [
        "st.markdown(\"### Steel Plant Locations\")\n",
        "\n",
        "fig = px.scatter_mapbox(\n",
        "    filtered_plants,\n",
        "    lat=\"Latitude\",\n",
        "    lon=\"Longitude\",\n",
        "    color=\"Country/Area\",\n",
        "    size=\"Ferronickel capacity (ttpa)\",\n",
        "    hover_name=\"Plant name (English)\",\n",
        "    hover_data=[\"Parent\", \"Plant age (years)\"],\n",
        "    zoom=1,\n",
        "    height=600\n",
        ")\n",
        "fig.update_layout(mapbox_style=\"carto-positron\", margin={\"r\":0,\"t\":0,\"l\":0,\"b\":0})\n",
        "st.plotly_chart(fig, use_container_width=True)"
      ]
    },
    {
      "cell_type": "code",
      "execution_count": 27,
      "metadata": {
        "colab": {
          "base_uri": "https://localhost:8080/"
        },
        "id": "OqjVJBKfH2lX",
        "outputId": "6add782f-086a-4330-f3c4-9d0e5b54a4eb"
      },
      "outputs": [
        {
          "name": "stderr",
          "output_type": "stream",
          "text": [
            "2025-10-19 10:30:20.205 Thread 'MainThread': missing ScriptRunContext! This warning can be ignored when running in bare mode.\n",
            "2025-10-19 10:30:20.205 Thread 'MainThread': missing ScriptRunContext! This warning can be ignored when running in bare mode.\n",
            "2025-10-19 10:30:20.206 Thread 'MainThread': missing ScriptRunContext! This warning can be ignored when running in bare mode.\n",
            "2025-10-19 10:30:20.207 Please replace `use_container_width` with `width`.\n",
            "\n",
            "`use_container_width` will be removed after 2025-12-31.\n",
            "\n",
            "For `use_container_width=True`, use `width='stretch'`. For `use_container_width=False`, use `width='content'`.\n",
            "2025-10-19 10:30:20.212 Thread 'MainThread': missing ScriptRunContext! This warning can be ignored when running in bare mode.\n",
            "2025-10-19 10:30:20.213 Thread 'MainThread': missing ScriptRunContext! This warning can be ignored when running in bare mode.\n",
            "2025-10-19 10:30:20.213 Thread 'MainThread': missing ScriptRunContext! This warning can be ignored when running in bare mode.\n"
          ]
        },
        {
          "data": {
            "text/plain": [
              "DeltaGenerator()"
            ]
          },
          "execution_count": 27,
          "metadata": {},
          "output_type": "execute_result"
        }
      ],
      "source": [
        "st.markdown(\"### Company-Level Aggregation\")\n",
        "\n",
        "st.dataframe(\n",
        "    companies.sort_values(by=\"total_capacity\", ascending=False).head(20),\n",
        "    use_container_width=True\n",
        ")"
      ]
    },
    {
      "cell_type": "code",
      "execution_count": 28,
      "metadata": {
        "colab": {
          "base_uri": "https://localhost:8080/"
        },
        "id": "9kmoS8L3H7Gc",
        "outputId": "723b4312-6815-44af-b13c-581b793986d8"
      },
      "outputs": [
        {
          "name": "stderr",
          "output_type": "stream",
          "text": [
            "2025-10-19 10:30:20.224 Thread 'MainThread': missing ScriptRunContext! This warning can be ignored when running in bare mode.\n",
            "2025-10-19 10:30:20.225 Thread 'MainThread': missing ScriptRunContext! This warning can be ignored when running in bare mode.\n",
            "2025-10-19 10:30:20.225 Thread 'MainThread': missing ScriptRunContext! This warning can be ignored when running in bare mode.\n",
            "2025-10-19 10:30:20.226 Thread 'MainThread': missing ScriptRunContext! This warning can be ignored when running in bare mode.\n",
            "2025-10-19 10:30:20.227 Thread 'MainThread': missing ScriptRunContext! This warning can be ignored when running in bare mode.\n",
            "2025-10-19 10:30:20.227 Thread 'MainThread': missing ScriptRunContext! This warning can be ignored when running in bare mode.\n"
          ]
        },
        {
          "data": {
            "text/plain": [
              "DeltaGenerator()"
            ]
          },
          "execution_count": 28,
          "metadata": {},
          "output_type": "execute_result"
        }
      ],
      "source": [
        "st.markdown(\"---\")\n",
        "st.markdown(\n",
        "    \"\"\"\n",
        "    **Data Source:** Global Energy Monitor (2025)\n",
        "    **Author:** Yuhan\n",
        "    **Note:** This dashboard is for educational and analytical purposes.\n",
        "    \"\"\"\n",
        ")"
      ]
    },
    {
      "cell_type": "code",
      "execution_count": 29,
      "metadata": {
        "id": "ma6sc7eiIDe0"
      },
      "outputs": [],
      "source": [
        "df.to_csv(\"data_cleaned_plants.csv\", index=False)"
      ]
    },
    {
      "cell_type": "code",
      "execution_count": 30,
      "metadata": {
        "colab": {
          "base_uri": "https://localhost:8080/"
        },
        "id": "ECrNjwPPIEaN",
        "outputId": "d76c79ff-6161-4f57-9956-c4463aa9aad6"
      },
      "outputs": [
        {
          "name": "stdout",
          "output_type": "stream",
          "text": [
            " Data successfully saved for Streamlit dashboard.\n"
          ]
        }
      ],
      "source": [
        "company_agg.to_csv(\"data_company_aggregated.csv\", index=False)\n",
        "\n",
        "print(\" Data successfully saved for Streamlit dashboard.\")"
      ]
    },
    {
      "cell_type": "code",
      "execution_count": 31,
      "metadata": {
        "id": "ZdxyRMkXIJmn"
      },
      "outputs": [],
      "source": [
        "import os\n",
        "os.makedirs(\"data\", exist_ok=True)\n",
        "df.to_csv(\"data/data_cleaned_plants.csv\", index=False)\n",
        "company_agg.to_csv(\"data/data_company_aggregated.csv\", index=False)\n"
      ]
    },
    {
      "cell_type": "markdown",
      "metadata": {
        "id": "Z0vKypUitP-d"
      },
      "source": [
        "### Exercise 2: Display relevant information from your exploratory analysis into the dashboard"
      ]
    },
    {
      "cell_type": "code",
      "execution_count": 32,
      "metadata": {
        "id": "RCWov3NBtP-d"
      },
      "outputs": [],
      "source": [
        "# This cell is for notes/observations about your dashboard\n",
        "# What works well?\n",
        "# What could be improved?\n",
        "# Any performance issues with large datasets?\n",
        "\n"
      ]
    },
    {
      "cell_type": "markdown",
      "metadata": {
        "id": "0c54WixoIZqc"
      },
      "source": [
        "What works well:\n",
        "- Interactive map and filters work smoothly.\n",
        "- Users can instantly see which regions/companies have the highest capacity.\n",
        "- Data caching makes the dashboard load faster.\n",
        "\n",
        "What could be improved:\n",
        "- Add more environmental indicators (ISO certifications visualization).\n",
        "- Include a time-series view of plant age or capacity growth.\n",
        "- Allow multi-country selection in sidebar filters.\n",
        "\n",
        " Performance issues:\n",
        "- Large datasets (>10k rows) may slow down map rendering.\n",
        "- Consider saving data in Parquet format for faster loading.\n"
      ]
    },
    {
      "cell_type": "markdown",
      "metadata": {
        "id": "M8mhxGzKtP-d"
      },
      "source": [
        "---\n",
        "## Lab Summary and Key Takeaways\n",
        "\n",
        "**What you learned:**\n",
        "- How to perform EDA on geospatial datasets\n",
        "- Creating interactive maps with Plotly for geospatial data\n",
        "- Merging spatial datasets based on geographic proximity\n",
        "- Aggregating geospatial data at different levels (asset vs. company)\n",
        "- Building interactive dashboards with Streamlit\n",
        "\n",
        "**Next Steps:**\n",
        "- Explore other geospatial libraries (GeoPandas, Folium, Kepler.gl)\n",
        "- Learn about coordinate reference systems (CRS) and projections\n",
        "- Practice with other datasets (buildings, utilities, transportation)\n",
        "- Deploy your dashboard to Streamlit Cloud or other hosting services\n"
      ]
    }
  ],
  "metadata": {
    "colab": {
      "provenance": []
    },
    "kernelspec": {
      "display_name": "venvol",
      "language": "python",
      "name": "python3"
    },
    "language_info": {
      "codemirror_mode": {
        "name": "ipython",
        "version": 3
      },
      "file_extension": ".py",
      "mimetype": "text/x-python",
      "name": "python",
      "nbconvert_exporter": "python",
      "pygments_lexer": "ipython3",
      "version": "3.11.2"
    }
  },
  "nbformat": 4,
  "nbformat_minor": 0
}
