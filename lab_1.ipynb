{
  "cells": [
    {
      "cell_type": "markdown",
      "metadata": {},
      "source": [
        "# Geospatial Data Analysis Lab: Steel Plants Dataset\n",
        "\n",
        "by **Ulysse Mace** and **Daniil Notkin**\n",
        "\n",
        "**(15/10/2025) Learning Objectives:**\n",
        "- Perform exploratory data analysis (EDA) on geospatial datasets\n",
        "- Visualize geospatial data using interactive maps with Plotly\n",
        "- Merge environmental data with asset locations\n",
        "- Aggregate data at the company level\n",
        "- Integrate geospatial visualizations into a Streamlit dashboard\n",
        "\n",
        "---\n"
      ]
    },
    {
      "cell_type": "markdown",
      "metadata": {},
      "source": [
        "## Part 1: Setup and Data Loading\n",
        "\n",
        "Import the necessary libraries and load the steel plants dataset.\n"
      ]
    },
    {
      "cell_type": "code",
      "execution_count": null,
      "metadata": {},
      "outputs": [],
      "source": [
        "# Import required libraries\n",
        "# - pandas for data manipulation\n",
        "# - numpy for numerical operations\n",
        "# - plotly.express and plotly.graph_objects for interactive visualizations\n",
        "# - Any other libraries you might need\n",
        "\n",
        "import pandas as pd\n",
        "import numpy as np\n",
        "from plotly import express, graph_objects\n",
        "import nbformat\n"
      ]
    },
    {
      "cell_type": "code",
      "execution_count": null,
      "metadata": {},
      "outputs": [],
      "source": [
        "# Load the steel plants dataset\n",
        "# Expected columns: plant_id, plant_name, company, latitude, longitude, capacity, year_built, etc.\n",
        "\n",
        "plant_dataset = pd.read_excel(\"data/Plant-level-data-Global-Iron-and-Steel-Tracker-September-2025-V1.xlsx\", sheet_name = \"Plant data\", na_values=[\"unknown\", \">0\", \">\", \">2400\"])"
      ]
    },
    {
      "cell_type": "markdown",
      "metadata": {},
      "source": [
        "---\n",
        "## Part 2: Exploratory Data Analysis (15 minutes)\n",
        "\n",
        "Answer the following questions through your analysis:\n"
      ]
    },
    {
      "cell_type": "markdown",
      "metadata": {},
      "source": [
        "### Question 1: Data Overview\n",
        "**Task:** Display basic information about the dataset.\n",
        "- How many steel plants are in the dataset?\n",
        "- What are the column names and data types?\n",
        "- Are there any missing values?\n"
      ]
    },
    {
      "cell_type": "code",
      "execution_count": null,
      "metadata": {},
      "outputs": [],
      "source": [
        "# Display dataset shape\n",
        "\n",
        "print(plant_dataset.shape)"
      ]
    },
    {
      "cell_type": "code",
      "execution_count": null,
      "metadata": {},
      "outputs": [],
      "source": [
        "# Display column information and data types\n",
        "\n",
        "print(plant_dataset.info())"
      ]
    },
    {
      "cell_type": "code",
      "execution_count": null,
      "metadata": {},
      "outputs": [],
      "source": [
        "# Check for missing values\n",
        "\n",
        "print(plant_dataset.isna().sum())"
      ]
    },
    {
      "cell_type": "markdown",
      "metadata": {},
      "source": [
        "### Question 2: Statistical Summary\n",
        "**Task:** Generate descriptive statistics for numerical columns.\n",
        "- What is the average plant capacity?\n",
        "- What is the range of latitudes and longitudes?\n",
        "- What is the distribution of plant ages?\n"
      ]
    },
    {
      "cell_type": "code",
      "execution_count": null,
      "metadata": {},
      "outputs": [],
      "source": [
        "# Display descriptive statistics\n",
        "\n",
        "plant_dataset.describe()"
      ]
    },
    {
      "cell_type": "code",
      "execution_count": null,
      "metadata": {},
      "outputs": [],
      "source": [
        "plant_dataset[\"Coordinates\"].describe()"
      ]
    },
    {
      "cell_type": "markdown",
      "metadata": {},
      "source": [
        "### Question 3: Geographic Distribution\n",
        "**Task:** Analyze the geographic distribution of steel plants.\n",
        "- Which countries/regions have the most steel plants?\n",
        "- What is the distribution of plants by company?\n"
      ]
    },
    {
      "cell_type": "code",
      "execution_count": null,
      "metadata": {},
      "outputs": [],
      "source": [
        "# Count plants by country/region\n",
        "\n",
        "plant_dataset[\"Country/Area\"].value_counts()"
      ]
    },
    {
      "cell_type": "code",
      "execution_count": null,
      "metadata": {},
      "outputs": [],
      "source": [
        "# Count plants by company\n",
        "plant_dataset[\"Owner\"].value_counts()\n"
      ]
    },
    {
      "cell_type": "markdown",
      "metadata": {},
      "source": [
        "### Question 4: Capacity Analysis\n",
        "**Task:** Analyze the capacity distribution.\n",
        "- What is the total global steel production capacity?\n",
        "- Which companies have the highest total capacity?\n",
        "- How does capacity vary by region?\n"
      ]
    },
    {
      "cell_type": "code",
      "execution_count": null,
      "metadata": {},
      "outputs": [],
      "source": [
        "# Calculate total capacity\n",
        "# I have chosen sinter plant capacity, since sinter seems to be closest to the final product of steel\n",
        "print(plant_dataset[\"Sinter plant capacity (ttpa)\"].sum()) "
      ]
    },
    {
      "cell_type": "code",
      "execution_count": null,
      "metadata": {},
      "outputs": [],
      "source": [
        "# Group by company and sum capacity\n",
        "print(plant_dataset[\"Sinter plant capacity (ttpa)\"].groupby(plant_dataset[\"Owner\"], sort=False).sum().sort_values(ascending=False)) \n"
      ]
    },
    {
      "cell_type": "markdown",
      "metadata": {},
      "source": [
        "---\n",
        "## Part 3: Geospatial Visualization with Plotly (15 minutes)\n",
        "\n",
        "Create interactive maps to visualize the steel plants' locations and characteristics.\n"
      ]
    },
    {
      "cell_type": "markdown",
      "metadata": {},
      "source": [
        "### Exercise 1: Basic Scatter Map\n",
        "**Task:** Create a scatter map showing all steel plant locations.\n",
        "- Use latitude and longitude for positioning\n",
        "- Color points by country or region\n",
        "- Add hover information showing plant name, company, and capacity\n"
      ]
    },
    {
      "cell_type": "code",
      "execution_count": null,
      "metadata": {},
      "outputs": [],
      "source": [
        "# Create a scatter_geo or scatter_mapbox plot\n",
        "# Hint: Use plotly.express.scatter_geo() or scatter_mapbox()\n",
        "plant_dataset[[\"latitude\", \"longitude\"]] = plant_dataset[\"Coordinates\"].str.split(\",\", expand=True)\n",
        "plant_dataset[\"latitude\"] = pd.to_numeric(plant_dataset[\"latitude\"])\n",
        "plant_dataset[\"longitude\"] = pd.to_numeric(plant_dataset[\"longitude\"])\n"
      ]
    },
    {
      "cell_type": "code",
      "execution_count": null,
      "metadata": {},
      "outputs": [],
      "source": [
        "express.scatter_geo(data_frame=plant_dataset, lat=\"latitude\", lon = \"longitude\")"
      ]
    },
    {
      "cell_type": "markdown",
      "metadata": {},
      "source": [
        "### Exercise 2: Sized Markers by Capacity\n",
        "**Task:** Create a map where marker size represents plant capacity.\n",
        "- Larger markers for higher capacity plants\n",
        "- Color by company\n",
        "- Include interactive hover details\n"
      ]
    },
    {
      "cell_type": "code",
      "execution_count": null,
      "metadata": {},
      "outputs": [],
      "source": [
        "# making the changes on teh copy of hte dataset\n",
        "plant_dataset_v1 = plant_dataset.copy(deep=True)\n",
        "# replace NaN values for capacity with mean values\n",
        "sinter_capacity_mean = plant_dataset_v1[\"Sinter plant capacity (ttpa)\"].mean()\n",
        "plant_dataset_v1[\"Sinter plant capacity (ttpa)\"]=plant_dataset_v1[\"Sinter plant capacity (ttpa)\"].fillna(sinter_capacity_mean)"
      ]
    },
    {
      "cell_type": "code",
      "execution_count": null,
      "metadata": {},
      "outputs": [],
      "source": [
        "# what if instead of replacing production capacity NaN values with mean values, I just remove the NaN values? How would the graph look then?\n",
        "plant_dataset_b1 = plant_dataset\n",
        "plant_dataset_b1 = plant_dataset_b1.dropna(subset=\"Sinter plant capacity (ttpa)\")"
      ]
    },
    {
      "cell_type": "code",
      "execution_count": null,
      "metadata": {},
      "outputs": [],
      "source": [
        "# first scatter map, based on the idea that factories with NaN values for sinter plant capacity get removed\n",
        "express.scatter_geo(data_frame=plant_dataset_b1, lat=\"latitude\", lon = \"longitude\", size=\"Sinter plant capacity (ttpa)\") "
      ]
    },
    {
      "cell_type": "code",
      "execution_count": null,
      "metadata": {},
      "outputs": [],
      "source": [
        "# another scatter plot, based on the idea that NaN values are replaced with mean values\n",
        "express.scatter_geo(data_frame=plant_dataset_v1, lat=\"latitude\", lon = \"longitude\", size=\"Sinter plant capacity (ttpa)\") "
      ]
    },
    {
      "cell_type": "markdown",
      "metadata": {},
      "source": [
        "### Exercise 3: Density Heatmap\n",
        "**Task:** Create a density map showing concentration of steel plants.\n",
        "- Use Plotly's density_mapbox to show clustering\n",
        "- Identify regions with high plant density\n"
      ]
    },
    {
      "cell_type": "code",
      "execution_count": null,
      "metadata": {},
      "outputs": [],
      "source": [
        "# Create density heatmap\n",
        "# Hint: Use plotly.express.density_mapbox()\n",
        "\n",
        "# I use density map, because density_mapbox is supposedly deprecated\n",
        "express.density_map(data_frame=plant_dataset_v1, lat=\"latitude\", lon = \"longitude\")"
      ]
    },
    {
      "cell_type": "markdown",
      "metadata": {},
      "source": [
        "---\n",
        "## ~~Part 4: Merging Environmental Data with Assets~~ skipped, due to large size of dataset\n",
        "\n",
        "~~Integrate environmental data (e.g., air quality, emissions, proximity to water sources) with steel plant locations.~~"
      ]
    },
    {
      "cell_type": "markdown",
      "metadata": {},
      "source": [
        "---\n",
        "## Part 5: Company-Level Aggregation\n",
        "\n",
        "Aggregate data at the company level to analyze corporate footprints.\n"
      ]
    },
    {
      "cell_type": "markdown",
      "metadata": {},
      "source": [
        "### Exercise 1: Aggregate Metrics by Company\n",
        "**Task:** Group plants by company and calculate aggregate metrics.\n",
        "- Total capacity per company\n",
        "- Number of plants per company\n",
        "- Average environmental metrics per company\n",
        "- Geographic spread (e.g., number of countries)\n"
      ]
    },
    {
      "cell_type": "code",
      "execution_count": null,
      "metadata": {},
      "outputs": [
        {
          "data": {
            "text/plain": [
              "Owner\n",
              "A. Finkl & Sons Corp                              4386.268156\n",
              "ABA Çelik Demir LŞ                                4386.268156\n",
              "AFV Acciaierie Beltrame SpA                       4386.268156\n",
              "AG Siderurgica Balboa SA                          4386.268156\n",
              "AG der Dillinger Hüttenwerke AG                      0.000000\n",
              "                                                     ...     \n",
              "Zibo Qilin Fushan Steel Co Ltd                    4386.268156\n",
              "Zunyi Changling Special Steel Co Ltd              4386.268156\n",
              "Zunyi County Fuxin Iron & Steel Product Co Ltd    4386.268156\n",
              "Çebitaş Demir Çelik Endüstrisi AŞ                 4386.268156\n",
              "Çolakoğlu Metalürji AŞ                            4386.268156\n",
              "Name: Sinter plant capacity (ttpa), Length: 987, dtype: float64"
            ]
          },
          "execution_count": 33,
          "metadata": {},
          "output_type": "execute_result"
        }
      ],
      "source": [
        "# Group by company and aggregate\n",
        "# in this case, I suppose that total capacity means sum total of all capacities\n",
        "\n",
        "sinter_capacity = plant_dataset_b1[\"Sinter plant capacity (ttpa)\"].groupby(plant_dataset_b1[\"Owner\"]).sum()"
      ]
    },
    {
      "cell_type": "markdown",
      "metadata": {},
      "source": [
        "### Exercise 2: Company Headquarters or Centroid\n",
        "**Task:** Calculate a representative location for each company.\n",
        "- Option 1: Use the centroid of all plant locations\n",
        "- Option 2: Use the location of the largest plant\n",
        "- Option 3: Assign actual headquarters coordinates\n"
      ]
    },
    {
      "cell_type": "code",
      "execution_count": null,
      "metadata": {},
      "outputs": [],
      "source": [
        "# Calculate company representative locations\n",
        "\n"
      ]
    },
    {
      "cell_type": "markdown",
      "metadata": {},
      "source": [
        "### Exercise 3: Visualize Company-Level Data\n",
        "**Task:** Create a map showing companies with aggregated metrics.\n",
        "- Show one marker per company at the representative location\n",
        "- Size by total capacity\n",
        "- Color by average environmental impact\n",
        "- Hover information with company summary statistics\n"
      ]
    },
    {
      "cell_type": "code",
      "execution_count": null,
      "metadata": {},
      "outputs": [],
      "source": [
        "# Create company-level visualization\n",
        "\n"
      ]
    },
    {
      "cell_type": "markdown",
      "metadata": {},
      "source": [
        "---\n",
        "## Part 6: Streamlit Dashboard Integration\n",
        "\n",
        "Prepare your visualizations for deployment in a Streamlit dashboard.\n"
      ]
    },
    {
      "cell_type": "markdown",
      "metadata": {},
      "source": [
        "### Exercise 1: Create Dashboard Script Structure\n",
        "**Task:** Create a Streamlit app file (`dashboard.py`) with the following structure:\n",
        "\n",
        "```python\n",
        "# Import streamlit and other necessary libraries\n",
        "\n",
        "# Set page configuration\n",
        "\n",
        "# Title and description\n",
        "\n",
        "# Sidebar for filters\n",
        "# - Company selector\n",
        "# - Region/country filter\n",
        "# - Capacity range slider\n",
        "\n",
        "# Main content area\n",
        "# - KPI metrics (total plants, total capacity, etc.)\n",
        "# - Interactive map\n",
        "# - Data table\n",
        "\n",
        "# Footer with data sources and notes\n",
        "```\n"
      ]
    },
    {
      "cell_type": "markdown",
      "metadata": {},
      "source": [
        "### Exercise 1: Prepare Data for Dashboard\n",
        "**Task:** Save your processed data to files that the dashboard will load.\n",
        "- Export cleaned plant data\n",
        "- Export merged environmental data\n",
        "- Export company-level aggregations\n",
        "- Save as CSV or Parquet for efficient loading\n"
      ]
    },
    {
      "cell_type": "code",
      "execution_count": null,
      "metadata": {},
      "outputs": [],
      "source": [
        "# Save processed datasets\n",
        "\n"
      ]
    },
    {
      "cell_type": "markdown",
      "metadata": {},
      "source": [
        "### Exercise 2: Display relevant information from your exploratory analysis into the dashboard"
      ]
    },
    {
      "cell_type": "code",
      "execution_count": null,
      "metadata": {},
      "outputs": [],
      "source": [
        "# This cell is for notes/observations about your dashboard\n",
        "# What works well?\n",
        "# What could be improved?\n",
        "# Any performance issues with large datasets?\n",
        "\n"
      ]
    },
    {
      "cell_type": "markdown",
      "metadata": {},
      "source": [
        "---\n",
        "## Lab Summary and Key Takeaways\n",
        "\n",
        "**What you learned:**\n",
        "- How to perform EDA on geospatial datasets\n",
        "- Creating interactive maps with Plotly for geospatial data\n",
        "- Merging spatial datasets based on geographic proximity\n",
        "- Aggregating geospatial data at different levels (asset vs. company)\n",
        "- Building interactive dashboards with Streamlit\n",
        "\n",
        "**Next Steps:**\n",
        "- Explore other geospatial libraries (GeoPandas, Folium, Kepler.gl)\n",
        "- Learn about coordinate reference systems (CRS) and projections\n",
        "- Practice with other datasets (buildings, utilities, transportation)\n",
        "- Deploy your dashboard to Streamlit Cloud or other hosting services\n"
      ]
    }
  ],
  "metadata": {
    "kernelspec": {
      "display_name": "venvol",
      "language": "python",
      "name": "python3"
    },
    "language_info": {
      "codemirror_mode": {
        "name": "ipython",
        "version": 3
      },
      "file_extension": ".py",
      "mimetype": "text/x-python",
      "name": "python",
      "nbconvert_exporter": "python",
      "pygments_lexer": "ipython3",
      "version": "3.11.2"
    }
  },
  "nbformat": 4,
  "nbformat_minor": 2
}
